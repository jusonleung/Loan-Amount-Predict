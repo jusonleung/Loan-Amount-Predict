{
  "cells": [
    {
      "cell_type": "markdown",
      "metadata": {
        "id": "LaO4WrJ_9c5j"
      },
      "source": [
        "# COMP4434 Big Data Analytics - Individual Project\n",
        "\n",
        "#20037676D Leung Chun Kit"
      ]
    },
    {
      "cell_type": "markdown",
      "metadata": {
        "id": "ntMVmtD52EIy"
      },
      "source": [
        "#Introduction\n",
        "AlphaMoney is a platform for issuing loans. For people who want to borrow money from the AlphaMoney platform, the platform requires them to provide relevant personal information to decide the Loan Amount. The platform has collected personal information from users, including Gender, Age, Credit Score, Property Age, Profession, Loan Amount Request, Property Price and Income Stability, etc., and determined the Loan Amount based on them.\n",
        "\n",
        "\n",
        "In this project, I will use two model (Linear Regression and DNN) to predict the Loan amount of the providing dataset.\n"
      ]
    },
    {
      "cell_type": "markdown",
      "metadata": {
        "id": "NjUYWEc4mqSZ"
      },
      "source": [
        "# Data preprocessing/analytics"
      ]
    },
    {
      "cell_type": "markdown",
      "metadata": {
        "id": "mlItScI7gyES"
      },
      "source": [
        "##Reading Data set"
      ]
    },
    {
      "cell_type": "code",
      "execution_count": 1,
      "metadata": {
        "id": "KO-BClOanTFi"
      },
      "outputs": [],
      "source": [
        "import pandas as pd\n",
        "import numpy as np\n",
        "import matplotlib.pyplot as plt\n",
        "import random"
      ]
    },
    {
      "cell_type": "code",
      "execution_count": 2,
      "metadata": {
        "id": "EtegZi2pIv4K"
      },
      "outputs": [],
      "source": [
        "train_df = pd.read_csv(\"train.csv\")\n",
        "test_df = pd.read_csv(\"test.csv\")"
      ]
    },
    {
      "cell_type": "markdown",
      "metadata": {
        "id": "Hu5gsU8MN8nT"
      },
      "source": [
        "Drop the rows with 4 or more mssing values"
      ]
    },
    {
      "cell_type": "code",
      "execution_count": 3,
      "metadata": {
        "id": "QYambx9busDF"
      },
      "outputs": [],
      "source": [
        "train_df.dropna(subset=['Loan Amount'], inplace=True)\n",
        "train_df.dropna(thresh=len(train_df.columns)-4, inplace=True)\n",
        "train_df['Customer ID'].drop_duplicates(inplace=True)"
      ]
    },
    {
      "cell_type": "markdown",
      "metadata": {
        "id": "B6brYOH-Q_j4"
      },
      "source": [
        "Merge the traning and testing data set"
      ]
    },
    {
      "cell_type": "code",
      "execution_count": 4,
      "metadata": {
        "id": "0QoL0SVoQ7R7"
      },
      "outputs": [],
      "source": [
        "df = pd.concat([train_df, test_df])"
      ]
    },
    {
      "cell_type": "markdown",
      "metadata": {
        "id": "Yk315Y-ifnW1"
      },
      "source": [
        "Drop the row with duplicate Customer ID"
      ]
    },
    {
      "cell_type": "code",
      "execution_count": 5,
      "metadata": {
        "id": "Gab81p6BLvsc"
      },
      "outputs": [],
      "source": [
        "df['Customer ID'].drop_duplicates(inplace=True)"
      ]
    },
    {
      "cell_type": "markdown",
      "metadata": {
        "id": "23mDEwN4UmKJ"
      },
      "source": [
        "##Function of creating dummy variable"
      ]
    },
    {
      "cell_type": "code",
      "execution_count": 6,
      "metadata": {
        "id": "AktoPK49wSKZ"
      },
      "outputs": [],
      "source": [
        "def creat_dummies(df, column_name):\n",
        "  # get the dummies and store it in a variable\n",
        "  dummies = pd.get_dummies(df[column_name])\n",
        "  # Concatenate the dummies to original dataframe\n",
        "  merged = pd.concat([df, dummies], axis=1)\n",
        "  # drop the values\n",
        "  merged.drop([column_name], axis=1, inplace=True)\n",
        "  return merged"
      ]
    },
    {
      "cell_type": "markdown",
      "metadata": {
        "id": "gRXHR_-9LLQI"
      },
      "source": [
        "##Column - Name\n",
        "Customer name is clearly not related to the loan amount, so drop this column"
      ]
    },
    {
      "cell_type": "code",
      "execution_count": 7,
      "metadata": {
        "id": "MSoL_Pgvmpqt"
      },
      "outputs": [],
      "source": [
        "df.drop(\"Name\", axis=1, inplace=True)"
      ]
    },
    {
      "cell_type": "markdown",
      "metadata": {
        "id": "iD8yKTpWzLn_"
      },
      "source": [
        "##Column - Gender\n",
        "There are 51 missing values"
      ]
    },
    {
      "cell_type": "code",
      "execution_count": 8,
      "metadata": {
        "colab": {
          "base_uri": "https://localhost:8080/"
        },
        "id": "0xz3zE1fGrqv",
        "outputId": "e188b709-405e-43b9-ed13-5d990bccbe5c"
      },
      "outputs": [
        {
          "output_type": "execute_result",
          "data": {
            "text/plain": [
              "M      14881\n",
              "F      14704\n",
              "NaN       51\n",
              "Name: Gender, dtype: int64"
            ]
          },
          "metadata": {},
          "execution_count": 8
        }
      ],
      "source": [
        "df['Gender'].value_counts(dropna=False)"
      ]
    },
    {
      "cell_type": "markdown",
      "metadata": {
        "id": "DZMXFlPrIKwK"
      },
      "source": [
        "The gender distribution is nearly evenly distributed, so fill the missing value from randomly choose from other values.\n",
        "\n",
        "\n",
        "First create a funtion of filling missing data by random choosing from non missing values in column."
      ]
    },
    {
      "cell_type": "code",
      "execution_count": 9,
      "metadata": {
        "id": "vBL_aArqf1y7"
      },
      "outputs": [],
      "source": [
        "def randomiseMissingData(df2, column_name):\n",
        "    \"randomise missing data for DataFrame (within a column)\"\n",
        "    df = df2.copy()\n",
        "    data = df[column_name]\n",
        "    mask = data.isnull()\n",
        "    samples = random.choices( data[~mask].values , k = mask.sum() )\n",
        "    data[mask] = samples\n",
        "    return df"
      ]
    },
    {
      "cell_type": "markdown",
      "metadata": {
        "id": "Z4VLwFdlgUcG"
      },
      "source": [
        "Filling missing data by random choosing from non missing values"
      ]
    },
    {
      "cell_type": "code",
      "execution_count": 10,
      "metadata": {
        "colab": {
          "base_uri": "https://localhost:8080/"
        },
        "id": "_5bNpqZx0Wg2",
        "outputId": "58f16802-84d9-4d03-c409-e9f9c736d7e6"
      },
      "outputs": [
        {
          "output_type": "stream",
          "name": "stderr",
          "text": [
            "/usr/local/lib/python3.7/dist-packages/ipykernel_launcher.py:7: SettingWithCopyWarning: \n",
            "A value is trying to be set on a copy of a slice from a DataFrame\n",
            "\n",
            "See the caveats in the documentation: https://pandas.pydata.org/pandas-docs/stable/user_guide/indexing.html#returning-a-view-versus-a-copy\n",
            "  import sys\n"
          ]
        }
      ],
      "source": [
        "df = randomiseMissingData(df, 'Gender')"
      ]
    },
    {
      "cell_type": "code",
      "execution_count": 11,
      "metadata": {
        "colab": {
          "base_uri": "https://localhost:8080/"
        },
        "id": "ijCA3OwHgMt4",
        "outputId": "7c7e6142-1a24-496e-dabb-6586c194a440"
      },
      "outputs": [
        {
          "output_type": "execute_result",
          "data": {
            "text/plain": [
              "M    14910\n",
              "F    14726\n",
              "Name: Gender, dtype: int64"
            ]
          },
          "metadata": {},
          "execution_count": 11
        }
      ],
      "source": [
        "df['Gender'].value_counts(dropna=False)"
      ]
    },
    {
      "cell_type": "markdown",
      "metadata": {
        "id": "vblChmhygS5z"
      },
      "source": [
        "Replace with dummy variable columns"
      ]
    },
    {
      "cell_type": "code",
      "execution_count": 12,
      "metadata": {
        "id": "oXbTSPx1N6Te"
      },
      "outputs": [],
      "source": [
        "df = creat_dummies(df,'Gender')"
      ]
    },
    {
      "cell_type": "markdown",
      "metadata": {
        "id": "jAQRVrRn2RT_"
      },
      "source": [
        "##Column - Age\n",
        "No missing value in \"Age\", also no extreme value (too young or too old) in both data set."
      ]
    },
    {
      "cell_type": "code",
      "execution_count": 13,
      "metadata": {
        "colab": {
          "base_uri": "https://localhost:8080/"
        },
        "id": "9lrno3zqlk9x",
        "outputId": "2597a1b1-9d1e-4070-d58b-0cbaf8dc6a79"
      },
      "outputs": [
        {
          "output_type": "execute_result",
          "data": {
            "text/plain": [
              "18    4326\n",
              "65    1335\n",
              "64     806\n",
              "61     779\n",
              "62     768\n",
              "60     761\n",
              "63     703\n",
              "47     534\n",
              "57     532\n",
              "23     516\n",
              "44     516\n",
              "45     514\n",
              "58     511\n",
              "28     511\n",
              "50     510\n",
              "26     510\n",
              "34     508\n",
              "41     507\n",
              "27     506\n",
              "42     504\n",
              "21     504\n",
              "38     500\n",
              "53     500\n",
              "24     499\n",
              "39     497\n",
              "56     497\n",
              "30     497\n",
              "20     495\n",
              "43     489\n",
              "33     487\n",
              "32     487\n",
              "36     487\n",
              "29     487\n",
              "59     485\n",
              "55     484\n",
              "48     480\n",
              "19     480\n",
              "52     478\n",
              "51     478\n",
              "46     477\n",
              "31     475\n",
              "37     472\n",
              "35     468\n",
              "25     464\n",
              "22     462\n",
              "49     451\n",
              "40     451\n",
              "54     448\n",
              "Name: Age, dtype: int64"
            ]
          },
          "metadata": {},
          "execution_count": 13
        }
      ],
      "source": [
        "df['Age'].value_counts(dropna=False)"
      ]
    },
    {
      "cell_type": "markdown",
      "metadata": {
        "id": "LvRJLEJL4qFf"
      },
      "source": [
        "##Column - Income (USD)\n",
        "Rename this column with \"Income\"\n",
        "\n",
        "There are no negative value in this column"
      ]
    },
    {
      "cell_type": "code",
      "execution_count": 14,
      "metadata": {
        "colab": {
          "base_uri": "https://localhost:8080/"
        },
        "id": "a2D-HkW-5rBG",
        "outputId": "00fd91cd-0e16-4250-f156-aac453c88be4"
      },
      "outputs": [
        {
          "output_type": "execute_result",
          "data": {
            "text/plain": [
              "(4431, Series([], Name: Income, dtype: float64))"
            ]
          },
          "metadata": {},
          "execution_count": 14
        }
      ],
      "source": [
        "df.rename(columns={'Income (USD)':'Income'}, inplace=True)\n",
        "\n",
        "df.Income.isna().sum(), df['Income'][df['Income']<0]"
      ]
    },
    {
      "cell_type": "markdown",
      "metadata": {
        "id": "6pNVhVFGsONk"
      },
      "source": [
        "Graph of Income againist Loan Amount"
      ]
    },
    {
      "cell_type": "code",
      "execution_count": 15,
      "metadata": {
        "colab": {
          "base_uri": "https://localhost:8080/",
          "height": 279
        },
        "id": "iYxLT0resNpC",
        "outputId": "e559dab7-7019-4069-d1f8-2d13a7ae0e25"
      },
      "outputs": [
        {
          "output_type": "display_data",
          "data": {
            "text/plain": [
              "<Figure size 432x288 with 1 Axes>"
            ],
            "image/png": "[encoded data removed]"
          },
          "metadata": {
            "needs_background": "light"
          }
        }
      ],
      "source": [
        "plt.scatter(df['Income'], df['Loan Amount'])\n",
        "plt.xlabel('Income')\n",
        "plt.ylabel('Loan Amount')\n",
        "plt.show()"
      ]
    },
    {
      "cell_type": "markdown",
      "metadata": {
        "id": "yHVd6b0FcoJ2"
      },
      "source": [
        "From the graph, There is a value with extremely high value.\n",
        "\n",
        "This row the in training dataset, so frop this row"
      ]
    },
    {
      "cell_type": "code",
      "execution_count": 16,
      "metadata": {
        "colab": {
          "base_uri": "https://localhost:8080/"
        },
        "id": "pcBt7gEYrkeM",
        "outputId": "6c9a5fd4-7374-4427-d62f-2d8dc97ff9f0"
      },
      "outputs": [
        {
          "output_type": "stream",
          "name": "stdout",
          "text": [
            "          Income  Loan Amount\n",
            "5822  1777460.21      61415.1\n"
          ]
        }
      ],
      "source": [
        "print(df.loc[df['Income']==df['Income'].max(), ['Income', 'Loan Amount']])\n",
        "df.drop(df['Income'].idxmax(), inplace=True)"
      ]
    },
    {
      "cell_type": "markdown",
      "metadata": {
        "id": "6DbrJXTWtpkz"
      },
      "source": [
        "Graph of Income againist Loan Amount again"
      ]
    },
    {
      "cell_type": "code",
      "execution_count": 17,
      "metadata": {
        "colab": {
          "base_uri": "https://localhost:8080/",
          "height": 265
        },
        "id": "JY2xtaKitoXF",
        "outputId": "9753c204-2516-4ee5-8c36-8a9108dbbfa3"
      },
      "outputs": [
        {
          "output_type": "display_data",
          "data": {
            "text/plain": [
              "<Figure size 432x288 with 1 Axes>"
            ],
            "image/png": "[encoded data removed]"
          },
          "metadata": {
            "needs_background": "light"
          }
        }
      ],
      "source": [
        "plt.scatter(df['Income'], df['Loan Amount'],s=30)\n",
        "plt.show()"
      ]
    },
    {
      "cell_type": "markdown",
      "metadata": {
        "id": "7jZs1sbpIh4m"
      },
      "source": [
        "Fill the missing value with the median of the two dataset"
      ]
    },
    {
      "cell_type": "code",
      "execution_count": 18,
      "metadata": {
        "id": "BY05N_uRH9xE"
      },
      "outputs": [],
      "source": [
        "df.Income.fillna(df.Income.median(), inplace=True)"
      ]
    },
    {
      "cell_type": "markdown",
      "metadata": {
        "id": "0FYlucjlIyn6"
      },
      "source": [
        "##Column - Income Stability\n",
        "There are 2 type of value except \"nan\" \n",
        "Most of them is \"Low\""
      ]
    },
    {
      "cell_type": "code",
      "execution_count": 19,
      "metadata": {
        "colab": {
          "base_uri": "https://localhost:8080/",
          "height": 365
        },
        "id": "2xmgwyf4I5au",
        "outputId": "3a73bec9-ec7d-4daa-bb6a-c817b42811a1"
      },
      "outputs": [
        {
          "output_type": "stream",
          "name": "stdout",
          "text": [
            "Low     25475\n",
            "High     2540\n",
            "NaN      1620\n",
            "Name: Income Stability, dtype: int64\n"
          ]
        },
        {
          "output_type": "execute_result",
          "data": {
            "text/plain": [
              "<matplotlib.axes._subplots.AxesSubplot at 0x7ffb30b6b4d0>"
            ]
          },
          "metadata": {},
          "execution_count": 19
        },
        {
          "output_type": "display_data",
          "data": {
            "text/plain": [
              "<Figure size 432x288 with 1 Axes>"
            ],
            "image/png": "[encoded data removed]"
          },
          "metadata": {
            "needs_background": "light"
          }
        }
      ],
      "source": [
        "print(df[\"Income Stability\"].value_counts(dropna=False))\n",
        "df[\"Income Stability\"].value_counts(dropna=False).plot(kind='bar')"
      ]
    },
    {
      "cell_type": "markdown",
      "metadata": {
        "id": "ABLVlCURKprl"
      },
      "source": [
        "Fill the missing value with the mode of the two dataset"
      ]
    },
    {
      "cell_type": "code",
      "execution_count": 20,
      "metadata": {
        "id": "M8aCwp0dKi0q"
      },
      "outputs": [],
      "source": [
        "df[\"Income Stability\"].fillna(df[\"Income Stability\"].mode()[0], inplace=True)"
      ]
    },
    {
      "cell_type": "markdown",
      "metadata": {
        "id": "a__BPP98OZ0F"
      },
      "source": [
        "Turn the values to numeric by replacing 'Low' with 0 and 'High' with 1"
      ]
    },
    {
      "cell_type": "code",
      "execution_count": 21,
      "metadata": {
        "id": "MUytu-0WOpd6"
      },
      "outputs": [],
      "source": [
        "df[\"Income Stability\"].replace(['Low', 'High'], [0,1], inplace=True)"
      ]
    },
    {
      "cell_type": "markdown",
      "metadata": {
        "id": "lSoAUcK3L5mx"
      },
      "source": [
        "##Column - Profession\n",
        "There are 8 types of categorical values and no missing value"
      ]
    },
    {
      "cell_type": "code",
      "execution_count": 22,
      "metadata": {
        "colab": {
          "base_uri": "https://localhost:8080/",
          "height": 439
        },
        "id": "zxnFgCiVMAk2",
        "outputId": "85f5b09b-a4e3-4a5b-dac2-8072ff0bc289"
      },
      "outputs": [
        {
          "output_type": "stream",
          "name": "stdout",
          "text": [
            "Working                 16736\n",
            "Commercial associate     7860\n",
            "Pensioner                2700\n",
            "State servant            2333\n",
            "Businessman                 2\n",
            "Unemployed                  2\n",
            "Maternity leave             1\n",
            "Student                     1\n",
            "Name: Profession, dtype: int64\n"
          ]
        },
        {
          "output_type": "execute_result",
          "data": {
            "text/plain": [
              "<matplotlib.axes._subplots.AxesSubplot at 0x7ffb30b0a710>"
            ]
          },
          "metadata": {},
          "execution_count": 22
        },
        {
          "output_type": "display_data",
          "data": {
            "text/plain": [
              "<Figure size 432x288 with 1 Axes>"
            ],
            "image/png": "[encoded data removed]"
          },
          "metadata": {
            "needs_background": "light"
          }
        }
      ],
      "source": [
        "print(df[\"Profession\"].value_counts(dropna=False))\n",
        "df[\"Profession\"].value_counts(dropna=False).plot(kind='barh')"
      ]
    },
    {
      "cell_type": "markdown",
      "metadata": {
        "id": "NotkWssOUMbc"
      },
      "source": [
        "Replace with dummy variable columns\n",
        "\n"
      ]
    },
    {
      "cell_type": "code",
      "execution_count": 23,
      "metadata": {
        "id": "JfwoUSOaNtSb"
      },
      "outputs": [],
      "source": [
        "df = creat_dummies(df, \"Profession\")"
      ]
    },
    {
      "cell_type": "markdown",
      "metadata": {
        "id": "wIw64LXEV2Bz"
      },
      "source": [
        "##Column - Type of Employment\n",
        "There are 18 types of of Employment\n",
        "\n",
        "There are 1/4 of rows are missing value\n"
      ]
    },
    {
      "cell_type": "code",
      "execution_count": 24,
      "metadata": {
        "colab": {
          "base_uri": "https://localhost:8080/",
          "height": 613
        },
        "id": "V9NG8NMaWJ4X",
        "outputId": "204c47d2-175e-4349-a7bc-f0eef401d161"
      },
      "outputs": [
        {
          "output_type": "stream",
          "name": "stdout",
          "text": [
            "NaN                      7146\n",
            "Laborers                 5525\n",
            "Sales staff              3698\n",
            "Core staff               3190\n",
            "Managers                 2467\n",
            "Drivers                  1587\n",
            "Accountants              1367\n",
            "High skill tech staff    1297\n",
            "Medicine staff            853\n",
            "Security staff            575\n",
            "Cooking staff             561\n",
            "Cleaning staff            338\n",
            "Private service staff     338\n",
            "Secretaries               158\n",
            "Low-skill Laborers        154\n",
            "Waiters/barmen staff      148\n",
            "Realty agents              85\n",
            "IT staff                   77\n",
            "HR staff                   71\n",
            "Name: Type of Employment, dtype: int64\n"
          ]
        },
        {
          "output_type": "execute_result",
          "data": {
            "text/plain": [
              "<matplotlib.axes._subplots.AxesSubplot at 0x7ffb30a486d0>"
            ]
          },
          "metadata": {},
          "execution_count": 24
        },
        {
          "output_type": "display_data",
          "data": {
            "text/plain": [
              "<Figure size 432x288 with 1 Axes>"
            ],
            "image/png": "[encoded data removed]"
          },
          "metadata": {}
        }
      ],
      "source": [
        "print(df[\"Type of Employment\"].value_counts(dropna=False))\n",
        "df[\"Type of Employment\"].value_counts(dropna=False).plot(kind='pie')"
      ]
    },
    {
      "cell_type": "markdown",
      "metadata": {
        "id": "JuvusGLpZ92q"
      },
      "source": [
        "Filling missing data by random choosing from non missing values\n"
      ]
    },
    {
      "cell_type": "code",
      "execution_count": 25,
      "metadata": {
        "colab": {
          "base_uri": "https://localhost:8080/"
        },
        "id": "kxHlGZkmw9cO",
        "outputId": "ef229597-f89c-4682-bdd2-81389b6446f7"
      },
      "outputs": [
        {
          "output_type": "stream",
          "name": "stderr",
          "text": [
            "/usr/local/lib/python3.7/dist-packages/ipykernel_launcher.py:7: SettingWithCopyWarning: \n",
            "A value is trying to be set on a copy of a slice from a DataFrame\n",
            "\n",
            "See the caveats in the documentation: https://pandas.pydata.org/pandas-docs/stable/user_guide/indexing.html#returning-a-view-versus-a-copy\n",
            "  import sys\n"
          ]
        }
      ],
      "source": [
        "df = randomiseMissingData(df, 'Type of Employment')"
      ]
    },
    {
      "cell_type": "markdown",
      "metadata": {
        "id": "AZ0FncHljyM7"
      },
      "source": [
        "Replace with dummy variable columns"
      ]
    },
    {
      "cell_type": "code",
      "execution_count": 26,
      "metadata": {
        "id": "es6bEsUqjwGd"
      },
      "outputs": [],
      "source": [
        "df = creat_dummies(df,'Type of Employment')"
      ]
    },
    {
      "cell_type": "markdown",
      "metadata": {
        "id": "4ukfRbd_aNWR"
      },
      "source": [
        "##Column - Location\n",
        "There are 3 types of \"Location\", no missing value\n"
      ]
    },
    {
      "cell_type": "code",
      "execution_count": 27,
      "metadata": {
        "colab": {
          "base_uri": "https://localhost:8080/",
          "height": 335
        },
        "id": "09UOII48atki",
        "outputId": "0a260c06-af3d-4fb9-cfe6-d13cc0f5414c"
      },
      "outputs": [
        {
          "output_type": "stream",
          "name": "stdout",
          "text": [
            "Semi-Urban    21309\n",
            "Rural          5273\n",
            "Urban          3053\n",
            "Name: Location, dtype: int64\n"
          ]
        },
        {
          "output_type": "execute_result",
          "data": {
            "text/plain": [
              "<matplotlib.axes._subplots.AxesSubplot at 0x7ffb30973b50>"
            ]
          },
          "metadata": {},
          "execution_count": 27
        },
        {
          "output_type": "display_data",
          "data": {
            "text/plain": [
              "<Figure size 432x288 with 1 Axes>"
            ],
            "image/png": "[encoded data removed]"
          },
          "metadata": {}
        }
      ],
      "source": [
        "print(df[\"Location\"].value_counts(dropna=False))\n",
        "df[\"Location\"].value_counts(dropna=False).plot(kind='pie')"
      ]
    },
    {
      "cell_type": "markdown",
      "metadata": {
        "id": "ldfsRpwSa9Gq"
      },
      "source": [
        "Replace with dummy variable columns"
      ]
    },
    {
      "cell_type": "code",
      "execution_count": 28,
      "metadata": {
        "id": "NZ229xEra8sD"
      },
      "outputs": [],
      "source": [
        "df = creat_dummies(df, \"Location\")"
      ]
    },
    {
      "cell_type": "markdown",
      "metadata": {
        "id": "h3HyNKuabs7h"
      },
      "source": [
        "##Column - Loan Amount Request (USD)\n",
        "Rename this column with \"Loan Amount Request\"\n",
        "\n",
        "There are no missing value\n"
      ]
    },
    {
      "cell_type": "code",
      "execution_count": 29,
      "metadata": {
        "colab": {
          "base_uri": "https://localhost:8080/",
          "height": 298
        },
        "id": "VABQE74BcylT",
        "outputId": "56c715c5-0fb9-49a5-f3a6-c6123ba5f547"
      },
      "outputs": [
        {
          "output_type": "stream",
          "name": "stdout",
          "text": [
            "0\n"
          ]
        },
        {
          "output_type": "display_data",
          "data": {
            "text/plain": [
              "<Figure size 432x288 with 1 Axes>"
            ],
            "image/png": "[encoded data removed]"
          },
          "metadata": {
            "needs_background": "light"
          }
        }
      ],
      "source": [
        "df.rename(columns={'Loan Amount Request (USD)':'Loan Amount Request'}, inplace=True)\n",
        "\n",
        "print(df['Loan Amount Request'].isna().sum())\n",
        "\n",
        "plt.scatter(df['Loan Amount Request'], df['Loan Amount'])\n",
        "plt.xlabel('Loan Amount Request')\n",
        "plt.ylabel('Loan Amount')\n",
        "plt.show()"
      ]
    },
    {
      "cell_type": "markdown",
      "metadata": {
        "id": "B3UMEerSdTLz"
      },
      "source": [
        "##Column - Current Loan Expenses (USD)\n",
        "Rename this column with \"Current Loan Expenses\"\n",
        "\n",
        "There are missing values"
      ]
    },
    {
      "cell_type": "code",
      "execution_count": 30,
      "metadata": {
        "colab": {
          "base_uri": "https://localhost:8080/"
        },
        "id": "DqtfkEe4dscg",
        "outputId": "18ece90c-8665-44b6-b5f0-83235baf2027"
      },
      "outputs": [
        {
          "output_type": "stream",
          "name": "stdout",
          "text": [
            "160\n"
          ]
        },
        {
          "output_type": "execute_result",
          "data": {
            "text/plain": [
              "129    -999.0\n",
              "219    -999.0\n",
              "424    -999.0\n",
              "456    -999.0\n",
              "578    -999.0\n",
              "        ...  \n",
              "2021   -999.0\n",
              "2441   -999.0\n",
              "2660   -999.0\n",
              "2854   -999.0\n",
              "2868   -999.0\n",
              "Name: Current Loan Expenses, Length: 174, dtype: float64"
            ]
          },
          "metadata": {},
          "execution_count": 30
        }
      ],
      "source": [
        "df.rename(columns={'Current Loan Expenses (USD)':'Current Loan Expenses'}, inplace=True)\n",
        "\n",
        "print(df['Current Loan Expenses'].isna().sum())\n",
        "\n",
        "df['Current Loan Expenses'][df['Current Loan Expenses']<0]"
      ]
    },
    {
      "cell_type": "markdown",
      "metadata": {
        "id": "Is0QUoQ0ilvd"
      },
      "source": [
        "There are many '-999', replace them with median of othe positive values\n",
        "\n",
        "Also replace the missing value with the 0"
      ]
    },
    {
      "cell_type": "code",
      "execution_count": 31,
      "metadata": {
        "id": "jiIfmw8pd7hw"
      },
      "outputs": [],
      "source": [
        "df['Current Loan Expenses'].replace({-999, df[df['Current Loan Expenses']>0]['Current Loan Expenses'].median()}, inplace=True)\n",
        "\n",
        "df['Current Loan Expenses'].fillna(0, inplace=True)"
      ]
    },
    {
      "cell_type": "markdown",
      "metadata": {
        "id": "LpX4DQ45lOSC"
      },
      "source": [
        "##Column - Expense Type 1\n",
        "There are 2 types of value, no missing value"
      ]
    },
    {
      "cell_type": "code",
      "execution_count": 32,
      "metadata": {
        "colab": {
          "base_uri": "https://localhost:8080/",
          "height": 317
        },
        "id": "tnCQ7T0WldcU",
        "outputId": "a12fe938-e2e1-4e99-c3a9-1899cb916f19"
      },
      "outputs": [
        {
          "output_type": "stream",
          "name": "stdout",
          "text": [
            "N    18975\n",
            "Y    10660\n",
            "Name: Expense Type 1, dtype: int64\n"
          ]
        },
        {
          "output_type": "execute_result",
          "data": {
            "text/plain": [
              "<matplotlib.axes._subplots.AxesSubplot at 0x7ffb308ac5d0>"
            ]
          },
          "metadata": {},
          "execution_count": 32
        },
        {
          "output_type": "display_data",
          "data": {
            "text/plain": [
              "<Figure size 432x288 with 1 Axes>"
            ],
            "image/png": "[encoded data removed]"
          },
          "metadata": {}
        }
      ],
      "source": [
        "print(df[\"Expense Type 1\"].value_counts(dropna=False))\n",
        "df[\"Expense Type 1\"].value_counts(dropna=False).plot(kind='pie')"
      ]
    },
    {
      "cell_type": "markdown",
      "metadata": {
        "id": "25YpXlRRl_Cg"
      },
      "source": [
        "Turn the values to numeric by replacing 'N' with 0 , 'Y' with 1"
      ]
    },
    {
      "cell_type": "code",
      "execution_count": 33,
      "metadata": {
        "id": "HsN-MPP2lo1I"
      },
      "outputs": [],
      "source": [
        "df[\"Expense Type 1\"].replace(['N', 'Y'], [0,1], inplace=True)"
      ]
    },
    {
      "cell_type": "markdown",
      "metadata": {
        "id": "mf1E5joRmOgJ"
      },
      "source": [
        "##Column - Expense Type 2\n",
        "There are 2 types of value, no missing value"
      ]
    },
    {
      "cell_type": "code",
      "execution_count": 34,
      "metadata": {
        "colab": {
          "base_uri": "https://localhost:8080/",
          "height": 317
        },
        "id": "WzKsoGf6mTDd",
        "outputId": "5de9fa75-4812-4a43-f9d0-e949a772fbb0"
      },
      "outputs": [
        {
          "output_type": "stream",
          "name": "stdout",
          "text": [
            "Y    19933\n",
            "N     9702\n",
            "Name: Expense Type 2, dtype: int64\n"
          ]
        },
        {
          "output_type": "execute_result",
          "data": {
            "text/plain": [
              "<matplotlib.axes._subplots.AxesSubplot at 0x7ffb3087d790>"
            ]
          },
          "metadata": {},
          "execution_count": 34
        },
        {
          "output_type": "display_data",
          "data": {
            "text/plain": [
              "<Figure size 432x288 with 1 Axes>"
            ],
            "image/png": "[encoded data removed]"
          },
          "metadata": {}
        }
      ],
      "source": [
        "print(df[\"Expense Type 2\"].value_counts(dropna=False))\n",
        "df[\"Expense Type 2\"].value_counts(dropna=False).plot(kind='pie')"
      ]
    },
    {
      "cell_type": "markdown",
      "metadata": {
        "id": "ZW1h8bg4mSsQ"
      },
      "source": [
        "Turn the values to numeric by replacing 'N' with 0 , 'Y' with 1"
      ]
    },
    {
      "cell_type": "code",
      "execution_count": 35,
      "metadata": {
        "id": "7P-oLKm2mXoh"
      },
      "outputs": [],
      "source": [
        "df[\"Expense Type 2\"].replace(['N', 'Y'], [0,1], inplace=True)"
      ]
    },
    {
      "cell_type": "markdown",
      "metadata": {
        "id": "4UghUi9lmeZb"
      },
      "source": [
        "##Column - Dependents\n"
      ]
    },
    {
      "cell_type": "markdown",
      "metadata": {
        "id": "cBaVSHIsmv1k"
      },
      "source": [
        "There are missing values"
      ]
    },
    {
      "cell_type": "code",
      "execution_count": 36,
      "metadata": {
        "colab": {
          "base_uri": "https://localhost:8080/",
          "height": 503
        },
        "id": "QFDW6HMrmeC3",
        "outputId": "4f531932-025e-47fb-e716-856a5f5f34e5"
      },
      "outputs": [
        {
          "output_type": "stream",
          "name": "stdout",
          "text": [
            "2.0     12970\n",
            "3.0      5654\n",
            "1.0      5491\n",
            "4.0      2682\n",
            "NaN      2408\n",
            "5.0       370\n",
            "6.0        50\n",
            "7.0         7\n",
            "14.0        1\n",
            "10.0        1\n",
            "8.0         1\n",
            "Name: Dependents, dtype: int64\n"
          ]
        },
        {
          "output_type": "execute_result",
          "data": {
            "text/plain": [
              "<matplotlib.axes._subplots.AxesSubplot at 0x7ffb30847d50>"
            ]
          },
          "metadata": {},
          "execution_count": 36
        },
        {
          "output_type": "display_data",
          "data": {
            "text/plain": [
              "<Figure size 432x288 with 1 Axes>"
            ],
            "image/png": "[encoded data removed]"
          },
          "metadata": {
            "needs_background": "light"
          }
        }
      ],
      "source": [
        "print(df[\"Dependents\"].value_counts(dropna=False))\n",
        "df[\"Dependents\"].value_counts(dropna=False).plot(kind='bar')"
      ]
    },
    {
      "cell_type": "markdown",
      "metadata": {
        "id": "XHi9Ye6ym0J3"
      },
      "source": [
        "Replace the missing value with 0"
      ]
    },
    {
      "cell_type": "code",
      "execution_count": 37,
      "metadata": {
        "id": "Gh_zAhyZnho_"
      },
      "outputs": [],
      "source": [
        "df['Dependents'].fillna(0, inplace=True)"
      ]
    },
    {
      "cell_type": "markdown",
      "metadata": {
        "id": "JDW9imQ0neYh"
      },
      "source": [
        "##Column - Credit Score\n",
        "There are no nagetive value\n",
        "\n",
        "There are missing values"
      ]
    },
    {
      "cell_type": "code",
      "execution_count": 38,
      "metadata": {
        "colab": {
          "base_uri": "https://localhost:8080/"
        },
        "id": "jwsySTlmoWpk",
        "outputId": "0857113c-c6d7-4dc5-fac2-dd79eed4cd18"
      },
      "outputs": [
        {
          "output_type": "stream",
          "name": "stdout",
          "text": [
            "range: 580.0 896.26\n",
            "1637\n"
          ]
        }
      ],
      "source": [
        "print('range:', df['Credit Score'].min(), df['Credit Score'].max())\n",
        "print(df['Credit Score'].isna().sum())"
      ]
    },
    {
      "cell_type": "markdown",
      "metadata": {
        "id": "_VIYG6yjpqbt"
      },
      "source": [
        "Replace missing values with median"
      ]
    },
    {
      "cell_type": "code",
      "execution_count": 39,
      "metadata": {
        "id": "t26Ve95XpZJE"
      },
      "outputs": [],
      "source": [
        "df['Credit Score'].fillna(df['Credit Score'].median(), inplace=True)"
      ]
    },
    {
      "cell_type": "markdown",
      "metadata": {
        "id": "rqvNSktvqDJF"
      },
      "source": [
        "##Column - No. of Defaults\n",
        "There are only 2 type of value [0, 1], no missing value"
      ]
    },
    {
      "cell_type": "code",
      "execution_count": 40,
      "metadata": {
        "colab": {
          "base_uri": "https://localhost:8080/",
          "height": 334
        },
        "id": "pLPWUPS-qKEi",
        "outputId": "7cd033dd-c518-48b8-ac11-ee14aa5246d9"
      },
      "outputs": [
        {
          "output_type": "stream",
          "name": "stdout",
          "text": [
            "0    23884\n",
            "1     5751\n",
            "Name: No. of Defaults, dtype: int64\n"
          ]
        },
        {
          "output_type": "execute_result",
          "data": {
            "text/plain": [
              "<matplotlib.axes._subplots.AxesSubplot at 0x7ffb30b1ea10>"
            ]
          },
          "metadata": {},
          "execution_count": 40
        },
        {
          "output_type": "display_data",
          "data": {
            "text/plain": [
              "<Figure size 432x288 with 1 Axes>"
            ],
            "image/png": "[encoded data removed]"
          },
          "metadata": {
            "needs_background": "light"
          }
        }
      ],
      "source": [
        "print(df[\"No. of Defaults\"].value_counts(dropna=False))\n",
        "df[\"No. of Defaults\"].value_counts(dropna=False).plot(kind='bar')"
      ]
    },
    {
      "cell_type": "markdown",
      "metadata": {
        "id": "vlCORCx-qDCp"
      },
      "source": [
        "##Column - Has Active Credit Card\n",
        "There are 3 types of value excluding the missing values"
      ]
    },
    {
      "cell_type": "code",
      "execution_count": 41,
      "metadata": {
        "colab": {
          "base_uri": "https://localhost:8080/",
          "height": 426
        },
        "id": "e0q3rRcNqcy7",
        "outputId": "bcd1c73a-922a-4c93-abd8-17cfca604b9d"
      },
      "outputs": [
        {
          "output_type": "stream",
          "name": "stdout",
          "text": [
            "Active         9663\n",
            "Inactive       9362\n",
            "Unpossessed    9080\n",
            "NaN            1530\n",
            "Name: Has Active Credit Card, dtype: int64\n"
          ]
        },
        {
          "output_type": "execute_result",
          "data": {
            "text/plain": [
              "<matplotlib.axes._subplots.AxesSubplot at 0x7ffb30bbe3d0>"
            ]
          },
          "metadata": {},
          "execution_count": 41
        },
        {
          "output_type": "display_data",
          "data": {
            "text/plain": [
              "<Figure size 432x288 with 1 Axes>"
            ],
            "image/png": "[encoded data removed]"
          },
          "metadata": {
            "needs_background": "light"
          }
        }
      ],
      "source": [
        "print(df[\"Has Active Credit Card\"].value_counts(dropna=False))\n",
        "df[\"Has Active Credit Card\"].value_counts(dropna=False).plot(kind='bar')"
      ]
    },
    {
      "cell_type": "markdown",
      "metadata": {
        "id": "c1m19Oa6qu4j"
      },
      "source": [
        "Filling missing data by random choosing from non missing values"
      ]
    },
    {
      "cell_type": "code",
      "execution_count": 42,
      "metadata": {
        "colab": {
          "base_uri": "https://localhost:8080/"
        },
        "id": "4YoGAG6KqzRt",
        "outputId": "8be8e50c-a5f9-4811-855f-836c3dfa7632"
      },
      "outputs": [
        {
          "output_type": "stream",
          "name": "stderr",
          "text": [
            "/usr/local/lib/python3.7/dist-packages/ipykernel_launcher.py:7: SettingWithCopyWarning: \n",
            "A value is trying to be set on a copy of a slice from a DataFrame\n",
            "\n",
            "See the caveats in the documentation: https://pandas.pydata.org/pandas-docs/stable/user_guide/indexing.html#returning-a-view-versus-a-copy\n",
            "  import sys\n"
          ]
        }
      ],
      "source": [
        "df = randomiseMissingData(df, 'Has Active Credit Card')"
      ]
    },
    {
      "cell_type": "markdown",
      "metadata": {
        "id": "lW3wdpUezDy5"
      },
      "source": [
        "Replace by dummy variables"
      ]
    },
    {
      "cell_type": "code",
      "execution_count": 43,
      "metadata": {
        "id": "pbXmTqMpyIkD"
      },
      "outputs": [],
      "source": [
        "df = creat_dummies(df, \"Has Active Credit Card\")"
      ]
    },
    {
      "cell_type": "markdown",
      "metadata": {
        "id": "MzNkIHr5zVwX"
      },
      "source": [
        "##Column - Property ID\n",
        "Obviously, Property ID will not affect the loan amount\n",
        "\n",
        "So remove this column"
      ]
    },
    {
      "cell_type": "code",
      "execution_count": 44,
      "metadata": {
        "id": "m82EdwKGznXG"
      },
      "outputs": [],
      "source": [
        "df.drop(['Property ID'], axis=1, inplace=True)"
      ]
    },
    {
      "cell_type": "markdown",
      "metadata": {
        "id": "Ck-bSCjg0NAg"
      },
      "source": [
        "##Column - Property Age\n",
        "There are no nagative value and 4850 missing values\n",
        "\n",
        "\n",
        "Plot the graph of Property Age against Loan Amount\n"
      ]
    },
    {
      "cell_type": "code",
      "execution_count": 45,
      "metadata": {
        "colab": {
          "base_uri": "https://localhost:8080/",
          "height": 314
        },
        "id": "lD1yLv-Q0qhC",
        "outputId": "9ad2667a-7a2a-450a-f09d-a49eec20803e"
      },
      "outputs": [
        {
          "output_type": "stream",
          "name": "stdout",
          "text": [
            "range: 377.7 122966.28\n",
            "4698\n"
          ]
        },
        {
          "output_type": "display_data",
          "data": {
            "text/plain": [
              "<Figure size 432x288 with 1 Axes>"
            ],
            "image/png": "[encoded data removed]"
          },
          "metadata": {
            "needs_background": "light"
          }
        }
      ],
      "source": [
        "print('range:', df['Property Age'].min(), df['Property Age'].max())\n",
        "print(df['Property Age'].isna().sum())\n",
        "\n",
        "plt.scatter(df['Property Age'], df['Loan Amount'])\n",
        "plt.xlabel('Property Age')\n",
        "plt.ylabel('Loan Amount')\n",
        "plt.show()"
      ]
    },
    {
      "cell_type": "markdown",
      "metadata": {
        "id": "F5hBrDXH3YJJ"
      },
      "source": [
        "We can see there is a row with Property Age over 120000, it's twice of the second highest value\n",
        "\n",
        "\n",
        "This row is in training dataset, so drop this row"
      ]
    },
    {
      "cell_type": "code",
      "execution_count": 46,
      "metadata": {
        "colab": {
          "base_uri": "https://localhost:8080/"
        },
        "id": "ylvR5nVYeYdC",
        "outputId": "f9638111-3cb8-43e6-ea90-3ab9a46a559a"
      },
      "outputs": [
        {
          "output_type": "stream",
          "name": "stdout",
          "text": [
            "       Property Age  Loan Amount\n",
            "17305     122966.28    156971.31\n"
          ]
        }
      ],
      "source": [
        "print(df.loc[df['Property Age']==df['Property Age'].max(), ['Property Age', 'Loan Amount']])\n",
        "df.drop(df['Property Age'].idxmax(), inplace=True)"
      ]
    },
    {
      "cell_type": "markdown",
      "metadata": {
        "id": "o_o2Ej4c3YAD"
      },
      "source": [
        "Replace missing value with median"
      ]
    },
    {
      "cell_type": "code",
      "execution_count": 47,
      "metadata": {
        "id": "JBLh-A4B3Sl1"
      },
      "outputs": [],
      "source": [
        "df['Property Age'].fillna(df['Property Age'].median(), inplace=True)"
      ]
    },
    {
      "cell_type": "markdown",
      "metadata": {
        "id": "tT-PP5Su3hSS"
      },
      "source": [
        "##Column - Property Type\n",
        "There are 4 types of value, no missing value"
      ]
    },
    {
      "cell_type": "code",
      "execution_count": 48,
      "metadata": {
        "colab": {
          "base_uri": "https://localhost:8080/",
          "height": 366
        },
        "id": "rrrWOlZr3IqC",
        "outputId": "440e481a-ce51-4ad9-c750-f8657e765858"
      },
      "outputs": [
        {
          "output_type": "stream",
          "name": "stdout",
          "text": [
            "1    7768\n",
            "2    7559\n",
            "3    7218\n",
            "4    7089\n",
            "Name: Property Type, dtype: int64\n"
          ]
        },
        {
          "output_type": "execute_result",
          "data": {
            "text/plain": [
              "<matplotlib.axes._subplots.AxesSubplot at 0x7ffb307b6050>"
            ]
          },
          "metadata": {},
          "execution_count": 48
        },
        {
          "output_type": "display_data",
          "data": {
            "text/plain": [
              "<Figure size 432x288 with 1 Axes>"
            ],
            "image/png": "[encoded data removed]"
          },
          "metadata": {
            "needs_background": "light"
          }
        }
      ],
      "source": [
        "print(df[\"Property Type\"].value_counts(dropna=False))\n",
        "df[\"Property Type\"].value_counts(dropna=False).plot(kind='bar')"
      ]
    },
    {
      "cell_type": "markdown",
      "metadata": {
        "id": "eDmvuACT3y8y"
      },
      "source": [
        "To turn to numerical data, replace with 4 dummy variable columns ( 'Property Type 1', 'Property Type 2', 'Property Type 3', 'Property Type 4' )"
      ]
    },
    {
      "cell_type": "code",
      "execution_count": 49,
      "metadata": {
        "id": "maAPqNKu3_1v"
      },
      "outputs": [],
      "source": [
        "def creat_dummies_Property_Type(df, column_name):\n",
        "  # get the dummies and store it in a variable\n",
        "  dummies = pd.get_dummies(df[column_name])\n",
        "  # rename the dummies columns\n",
        "  dummies.rename(columns={1:'Property Type 1', 2:'Property Type 2', 3:'Property Type 3', 4:'Property Type 4'}, inplace=True)\n",
        "  # Concatenate the dummies to original dataframe\n",
        "  merged = pd.concat([df, dummies], axis=1)\n",
        "  # drop the values\n",
        "  merged.drop([column_name], axis=1, inplace=True)\n",
        "  return merged\n",
        "\n",
        "df = creat_dummies_Property_Type(df, \"Property Type\")"
      ]
    },
    {
      "cell_type": "markdown",
      "metadata": {
        "id": "vEaDYuXO4FrS"
      },
      "source": [
        "##Column - Property Location\n",
        "There are 3 types of value\n",
        "\n",
        "There are 345 missing values"
      ]
    },
    {
      "cell_type": "code",
      "execution_count": 50,
      "metadata": {
        "colab": {
          "base_uri": "https://localhost:8080/",
          "height": 352
        },
        "id": "P9lZ-NXx4WHa",
        "outputId": "dce2437d-7278-4e34-e4db-1bfe5607260a"
      },
      "outputs": [
        {
          "output_type": "stream",
          "name": "stdout",
          "text": [
            "Semi-Urban    10249\n",
            "Rural          9920\n",
            "Urban          9120\n",
            "NaN             345\n",
            "Name: Property Location, dtype: int64\n"
          ]
        },
        {
          "output_type": "execute_result",
          "data": {
            "text/plain": [
              "<matplotlib.axes._subplots.AxesSubplot at 0x7ffb3074cbd0>"
            ]
          },
          "metadata": {},
          "execution_count": 50
        },
        {
          "output_type": "display_data",
          "data": {
            "text/plain": [
              "<Figure size 432x288 with 1 Axes>"
            ],
            "image/png": "[encoded data removed]"
          },
          "metadata": {}
        }
      ],
      "source": [
        "print(df[\"Property Location\"].value_counts(dropna=False))\n",
        "df[\"Property Location\"].value_counts(dropna=False).plot(kind='pie')"
      ]
    },
    {
      "cell_type": "markdown",
      "metadata": {
        "id": "Pxnr2atZ78cQ"
      },
      "source": [
        "Replace the missing value with mode"
      ]
    },
    {
      "cell_type": "code",
      "execution_count": 51,
      "metadata": {
        "id": "qlWNglwi5TYo"
      },
      "outputs": [],
      "source": [
        "df['Property Location'].fillna(df['Property Location'].mode(), inplace=True)"
      ]
    },
    {
      "cell_type": "markdown",
      "metadata": {
        "id": "9_LRF7dV8HEc"
      },
      "source": [
        "To turn to numerical data, replace with dummy variable columns"
      ]
    },
    {
      "cell_type": "code",
      "execution_count": 52,
      "metadata": {
        "id": "GhtJnjFN7mnw"
      },
      "outputs": [],
      "source": [
        "def creat_dummies_Property_Location(df, column_name):\n",
        "  # get the dummies and store it in a variable\n",
        "  dummies = pd.get_dummies(df[column_name])\n",
        "  # rename the dummies columns\n",
        "  dummies.rename(columns={'Semi-Urban':'Semi-Urban Property', 'Rural':'Rural Property', 'Urban':'Urban Property'}, inplace=True)\n",
        "  # Concatenate the dummies to original dataframe\n",
        "  merged = pd.concat([df, dummies], axis=1)\n",
        "  # drop the values\n",
        "  merged.drop([column_name], axis=1, inplace=True)\n",
        "  return merged\n",
        "\n",
        "df = creat_dummies_Property_Location(df, \"Property Location\")"
      ]
    },
    {
      "cell_type": "markdown",
      "metadata": {
        "id": "DyCb0-Ty_ztu"
      },
      "source": [
        "##Column - Co-Applicant\n",
        "There are 3 type of values [1, 0, -999], no missing values"
      ]
    },
    {
      "cell_type": "code",
      "execution_count": 53,
      "metadata": {
        "colab": {
          "base_uri": "https://localhost:8080/",
          "height": 335
        },
        "id": "gdYme8LM_5xc",
        "outputId": "99ea0cfe-9c47-4734-8ee2-b86552c5821f"
      },
      "outputs": [
        {
          "output_type": "stream",
          "name": "stdout",
          "text": [
            " 1      25180\n",
            " 0       4288\n",
            "-999      166\n",
            "Name: Co-Applicant, dtype: int64\n"
          ]
        },
        {
          "output_type": "execute_result",
          "data": {
            "text/plain": [
              "<matplotlib.axes._subplots.AxesSubplot at 0x7ffb306b19d0>"
            ]
          },
          "metadata": {},
          "execution_count": 53
        },
        {
          "output_type": "display_data",
          "data": {
            "text/plain": [
              "<Figure size 432x288 with 1 Axes>"
            ],
            "image/png": "[encoded data removed]"
          },
          "metadata": {}
        }
      ],
      "source": [
        "print(df['Co-Applicant'].value_counts(dropna=False))\n",
        "df['Co-Applicant'].value_counts(dropna=False).plot(kind='pie')"
      ]
    },
    {
      "cell_type": "markdown",
      "metadata": {
        "id": "aOeBnUpzAstq"
      },
      "source": [
        "Replace the nagative value (-999) with 0"
      ]
    },
    {
      "cell_type": "code",
      "execution_count": 54,
      "metadata": {
        "id": "MIAjufPyAhB2"
      },
      "outputs": [],
      "source": [
        "df['Co-Applicant'].clip(lower=0, inplace=True)"
      ]
    },
    {
      "cell_type": "markdown",
      "metadata": {
        "id": "ctLcqvsoA8Tj"
      },
      "source": [
        "##Column - Property Price\n",
        "There are some negative values, no missing values"
      ]
    },
    {
      "cell_type": "code",
      "execution_count": 55,
      "metadata": {
        "colab": {
          "base_uri": "https://localhost:8080/"
        },
        "id": "tBZOXLMVH9xN",
        "outputId": "a7a94eb5-c8da-447a-8e2d-ff36907e3f1d"
      },
      "outputs": [
        {
          "output_type": "stream",
          "name": "stdout",
          "text": [
            "range: -999.0 1077966.73\n",
            "0\n"
          ]
        }
      ],
      "source": [
        "print('range:', df['Property Price'].min(), df['Property Price'].max())\n",
        "print(df['Property Price'].isna().sum())"
      ]
    },
    {
      "cell_type": "markdown",
      "metadata": {
        "id": "hqC8vHr684e2"
      },
      "source": [
        "Plot the graph of Property Price against Loan Amount"
      ]
    },
    {
      "cell_type": "code",
      "execution_count": 56,
      "metadata": {
        "colab": {
          "base_uri": "https://localhost:8080/",
          "height": 281
        },
        "id": "AIUqC0bq9BXW",
        "outputId": "a94139d2-750b-488e-f8f3-4daf015af88d"
      },
      "outputs": [
        {
          "output_type": "display_data",
          "data": {
            "text/plain": [
              "<Figure size 432x288 with 1 Axes>"
            ],
            "image/png": "[encoded data removed]"
          },
          "metadata": {
            "needs_background": "light"
          }
        }
      ],
      "source": [
        "plt.scatter(df['Property Price'], df['Loan Amount'])\n",
        "plt.xlabel('Property Price')\n",
        "plt.ylabel('Loan Amount')\n",
        "plt.show()"
      ]
    },
    {
      "cell_type": "markdown",
      "metadata": {
        "id": "rfWKimZlKSKZ"
      },
      "source": [
        "Replace the -999 with median of other positive values"
      ]
    },
    {
      "cell_type": "code",
      "execution_count": 57,
      "metadata": {
        "id": "l85I0tNsKQ51"
      },
      "outputs": [],
      "source": [
        "df['Property Price'].replace({-999, df[df['Property Price']>0]['Property Price'].median()}, inplace=True)"
      ]
    },
    {
      "cell_type": "markdown",
      "metadata": {
        "id": "t-kHxGMR9Xc8"
      },
      "source": [
        "Split the data back to training data and testing data"
      ]
    },
    {
      "cell_type": "code",
      "execution_count": 58,
      "metadata": {
        "colab": {
          "base_uri": "https://localhost:8080/"
        },
        "id": "xhZb7wohwzig",
        "outputId": "5e27e138-ee97-4a38-b600-811c1b9bf2c8"
      },
      "outputs": [
        {
          "output_type": "stream",
          "name": "stderr",
          "text": [
            "/usr/local/lib/python3.7/dist-packages/pandas/core/frame.py:4913: SettingWithCopyWarning: \n",
            "A value is trying to be set on a copy of a slice from a DataFrame\n",
            "\n",
            "See the caveats in the documentation: https://pandas.pydata.org/pandas-docs/stable/user_guide/indexing.html#returning-a-view-versus-a-copy\n",
            "  errors=errors,\n"
          ]
        }
      ],
      "source": [
        "test_df = df[df['Loan Amount'].isna()]\n",
        "test_df.drop('Loan Amount', axis=1, inplace=True)\n",
        "train_df = df.dropna(subset=['Loan Amount'])"
      ]
    },
    {
      "cell_type": "markdown",
      "metadata": {
        "id": "hF9WsSCKKewx"
      },
      "source": [
        "##Column - Loan Amount\n",
        "\n",
        "There are some -999 in this column"
      ]
    },
    {
      "cell_type": "code",
      "execution_count": 59,
      "metadata": {
        "colab": {
          "base_uri": "https://localhost:8080/"
        },
        "id": "bZ8Z1RhqKeCj",
        "outputId": "0d3ce06c-e99b-4fa4-92b3-c4633aa195d1"
      },
      "outputs": [
        {
          "output_type": "execute_result",
          "data": {
            "text/plain": [
              "59      -999.0\n",
              "320     -999.0\n",
              "349     -999.0\n",
              "505     -999.0\n",
              "620     -999.0\n",
              "         ...  \n",
              "26468   -999.0\n",
              "26728   -999.0\n",
              "26868   -999.0\n",
              "26911   -999.0\n",
              "26985   -999.0\n",
              "Name: Loan Amount, Length: 300, dtype: float64"
            ]
          },
          "metadata": {},
          "execution_count": 59
        }
      ],
      "source": [
        "train_df['Loan Amount'][train_df['Loan Amount']<0]"
      ]
    },
    {
      "cell_type": "markdown",
      "metadata": {
        "id": "O7b3QbMsK7Dr"
      },
      "source": [
        "Loan Amount is the value that we want to predict, it's so important, can't be easily replaced by mean or median\n",
        "\n",
        "So just remove the rows with  value \"-999\" in training dataset\n"
      ]
    },
    {
      "cell_type": "code",
      "execution_count": 60,
      "metadata": {
        "id": "1CheGw6oK6zs"
      },
      "outputs": [],
      "source": [
        "train_df = train_df[train_df['Loan Amount']>=0]"
      ]
    },
    {
      "cell_type": "markdown",
      "metadata": {
        "id": "qRneDuK_-OsJ"
      },
      "source": [
        "##Column - Customer ID\n",
        "This row is clearly not related to the Loan Amount, but for testing data, it use to identify each row, so remove this column from training data, pop out from testing data"
      ]
    },
    {
      "cell_type": "code",
      "execution_count": 61,
      "metadata": {
        "id": "FZ-fkU4E-wEj"
      },
      "outputs": [],
      "source": [
        "train_df.drop(\"Customer ID\", axis=1, inplace=True)\n",
        "test_ID = test_df.pop('Customer ID')"
      ]
    },
    {
      "cell_type": "markdown",
      "metadata": {
        "id": "UeJCRcX52Rnq"
      },
      "source": [
        "#Model design and implementation"
      ]
    },
    {
      "cell_type": "markdown",
      "metadata": {
        "id": "doYWnT5D_EuP"
      },
      "source": [
        "Get the column - 'Loan Amount' from training dataset and let it be y\n",
        "\n",
        "Also reshape it to (len(y),1)"
      ]
    },
    {
      "cell_type": "code",
      "execution_count": 62,
      "metadata": {
        "id": "_ZZYNaBc_BPP"
      },
      "outputs": [],
      "source": [
        "y = train_df['Loan Amount']\n",
        "y = y.values.reshape(len(y),1)"
      ]
    },
    {
      "cell_type": "markdown",
      "metadata": {
        "id": "bKva4KcqySn7"
      },
      "source": [
        "Get the other columns from training dataset and let it be x"
      ]
    },
    {
      "cell_type": "code",
      "execution_count": 63,
      "metadata": {
        "id": "s7zdkbM1yLPC"
      },
      "outputs": [],
      "source": [
        "x = train_df.drop(['Loan Amount'], axis=1)"
      ]
    },
    {
      "cell_type": "markdown",
      "metadata": {
        "id": "ztKyGxt4QZYU"
      },
      "source": [
        "##Linear Regression Model\n",
        "The Linear Regression Model is implemented using Gradient Descent Algorithm:\n",
        "\n",
        "![image.png](data:image/png;base64,iVBORw0KGgoAAAANSUhEUgAAAsMAAAJhCAYAAACkWL2nAAAAAXNSR0IArs4c6QAAAARnQU1BAACxjwv8YQUAAAAJcEhZcwAADsMAAA7DAcdvqGQAAP+lSURBVHhe7N0HfBNlHwfw32V07z1oKW3ZhZZV9t7Ilq2CAjJcoPi6EFQcqIiKiCBLZO8hyBBl77L3pi3Qlu490uSe9y65QpsmpRMo+X/9RNK7jMtzT+5+9+S55zieCQCItzycdBNxeTPy/hVmsLyZ+oTH6M/SPu3hRCbczf9O+YkPMvzChp7xcLkezn30XHH5eOHfvFc0/KrFJbxSgbeQae/qM/apHhEfoXvUozLIv2TC/XwFa7SMRcLTi5pdaGG0D9a9f17ZiMTJea/zqDzz5PucD99MfJBGuEnP1C5k/k8j3Cv8QoJ8r2Vodp6H7/MYRb1GCfHix5DuF0X6xALx0XnPKFgXDC9+XmmLxLqkeyWekxl9X/FVta9V4AHS+4ozjD2xQonL/Ghd5//kBT93/s9bBKNbHd0tr/6Lr6Z7L93jHy2BSPxLWC7hlvfMPOJUEZOerZ338Kl67/3wibpXyZuTvyoX+X3MT3hOgYfm+yPfyz2km61fZobrhjhNvOW9pP4i6f9dFobevzgMLkNxXizvMY/7EPqvpV1Jwk14nm6W7m+xXoh0a1O8r/v30d95N0OMTS8h3QIVxhXzO1JIUcucx+ibSv+Wjlii4v915Zf3HvnfK+97k38Z8+4Xrt+i4iwRLz2XK8ZzHi1N3vvJHj0+/6Lqe/gg/uHD8t6PmA5OzMKG6klxKuqz7FGlfhZV8NIZ++JLb1fku4szi1wscUMjPqCclv0pryhjRWVI2RdRKLu8A4giXqxY71OSBS8n+Ze57GUhfoD8H0JXLvrERzzuvfJepcTLVOonPh2VbHFLJn9VKIlChSG+kPEw/OjfQk8kxaIrX+OobEnlpA3D0n1CCCGEEEJMCv0WQAghhBBCTBaFYUIIIYQQYrIoDBNCCCGEEJNFYZgQQgghhJgsCsOEEEIIIcRkURgmhBBCCCEmi8IwIYQQQggxWRSGCSGEEEKIyaIwTAghhBBCTBaFYUIIIYQQYrIoDBNCCCGEEJNFYZgQQgghhJgsCsOEEEIIIcRkURgmhBBCCCEmi8IwIYQQQggxWRSGCSGEEEKIyaIwTAghhBBCTBbHBNJ9QoiEJR5HzI9/IPl6LDS5wlGjnResuo+F35B60iMIIUTEQ7V/Hu6tOIKs+AwwzhwK7yA4j3sPrnWspMeQisBi9iPq5xVIvRUPjZqDzMEb1j3GosrAupBLjyGkOCgMk4L4TKju3EDWnbtQJQsbdrUcnI09zHyrw6qmH5Tm0uOec/zGl3F04AqoeWmCyHs02t5bIP2RR4XMZRNw/auNSLuTAF5uC7OabeE5cz78OrpJjyGEPL/iENXNBzd25Uh/ixSweOc/NJ3VRvrb1DyZ7aLq9244Nm4XCoSYgHcQfHkWHMykvwkpBgrDBMiMQPKaJXiw8W8kHzmP7CRho16oVnCAhSssQ9vBqd8weI7oBWvH57eXDb/hJRwdtLJgGPYchbZRC6U/JJlbcNW/Px48yP9ADlyTL9HmxGTpb2JcDjI3TsfdVWeRm5O/DPMI9U4mHJCZW0Bm6wgzD29Y1AiCTdNWsKvpJM4lpBR4qA7Ow90/DyMnKQu8Rqh7nAyc0hIKz7pwemMSXGsW88ifj0VUdyEM/6OSJojksHj7XzT9pZ30t4l5IttFYR3O645j4/8puLvyf1sIw7/AwUQabkj5oDBsytRRSJ4zBbe/W4G06PytGo8jRBCnYLh9OhsBE1rB7DnMxMUNwyz8R5yrMQkpudKEPIaCc6XEQ33rOFLP30VulgYyaxeYhzSHXVUbaX4ZpazCJb+XEJ9cws0Qp4Q8sCVcho6E15tDYeemkGaQyqWC65cxOYdxq3473LuulibkJ4O85+9osmU0zIuzbaMwXEiJt4t8MrKOH0P63UThwET4brv4waZ5E1gUWQ0oDJPyQyfQmSgWuQ23OzbC+XcXlzAIi4RNT+JZxE7qgnNvb4PKUIOeieCsbSGTG2iftHOU7lRu7PpMXAhqiQv9B+PqS8NwuW8XnKk3BNEFWnxKj6XHQ51ZiuNxlgvNjX14MG0EztRsiCs/HzbpelhZVXT9MoY/vBJxtwwFYREPzZ5ViL9LFaq0SrZd1CBzZk+EteyOy4NfwtVhg3CpS1OcHLKIvtPkiaEwbILYzaW40mEA7h6IQZl+F2BZyFw0Aw8iNNIEE+TcFW69vMDl3+7LHGD3yiDpj0ouIxUajV4lyU4tXYCtEMJyJF9A7HudcfaVP5BR0uM68nQ9lfqViaTVfyGnqM1W1hHErb9TuLcYKZ4SbRcZNKlp2q/yIwx8ajL0qwYhFYXCsKlJ+g+3+o9D3C0jqUFmBbPGveAx6Qv4/7YQNZf8gRpzZsLvw7FwbVcbCjO9o331XWRHGGthMQEyX3isvoImR3egzuoVqL1uK4Iv3UTI5CbSA0jJKWE98lfUWrpUe6v5x0JU/+U7VJ00Cs4t/CFXGGhxEg7MslaNw8VxG2Cw6zEhedL/Rdzf0dIfRrAcpK5fhywTPs4vE9oukkqGwrBJSULCx2MRdTFL+jsfTgmz1m+jxtE7aBb2F2r+MBU+40fBY8Sr8HzjPVT9dh7q7L2M5hHHUfvLEbD1kjpkcQpwhn4OMyUyW1g27QbXwcPgNqAnHGo504ldZcJB2aAf3F55Be7CzePVUfB6+wP4/bAQQYdvoNnplfDp7FOw1UnEVMhe+iZuLoukFj1ilHrXWiTG5E+5Cpg3agRlgbG4GNip9Yi9YsIH+mVF20VSidAJdCaEPzkVZ1p9hfQcvVXOWcN6zJ8I+uVFWBR3OJq0y4j9cgLurHaAX9gauLsX97iKR+759Yj+YxfS76ZD5lUH9kPGwaOFu+ENJZ+GrON7kHz0LLLuRkMVEwdNjgycvQvMfavDuklbOHZqBHML6fHFooLq1N+I23YA6TfuQ51jBoVXAGw6D4RbtyAoFcLbFnc0iTLSRB5F4t//IfX8TeTEpYIxJWROnrCoFQL7ri/AMci1zDsQFncO8as2IuXibeQk5Aiv7wOrRu3gPLAHbJyLHo2TnZmCU02/Qkb+E2GUreF/bS98qpV9JE92fzbO+7+D5PznHsEMDrPvoP5bXsY/u+Yu4t/qgSu/XwSvvwXzG4t6F+bB6bHnYGUi++gOJP53DOk37yE3NUf4bNZQePrBKqQlnF7oBGvXEpyYp05Axn/bkHjwFDLDY7Q/9cvsHaH0ChTqaRuhnobCwqZ43xOWdB0pu3ch+fhVoV7EC3XUHAp3H1g2aA3n3p1h/Zj1lsfU61dhSYgdXB1X1iZIfwsUgfDeOh3q1wbjQUz+L7wS1lOOo9G0BkWXURlOoNOEH0Hirj1IPXMbqsQ0MPEEwqp1YNe1L5ya+5RyrNwMZB/7B4n7TyLzRqRuiEymEOqiC8yq1oJNiw5wbBsEszINPVbC7XiR1Eib0ghnvjpf4CCWa/0DmuydBEujhVCME+gy7yJl6zokHLyE7JhkwMIJ5jUbwb7vQDjXK1s45+8fQdyKrUi9egeqdAUUPrVg17E/XLrVgdLA15ylXEPiqtVIPiN8F+NzwDn7wiq0E1wHdIGVA7VLPm0Uhk1GMuJG1MXlpVHS33nkUPb+HQ02jipio1NCmXtxp8truH/qPjS5MsjdguA+7x8E9pQh9bvBuPzZv1DlPqp2XMhUNAz7Ajb5cgdLPIPYn2cg6o+/kHo/Q5ggzSiEA+faAC7vz0DApA4wf8xn4MO3IuKNibi36w54/RTFySGvPwx+v82EZ/REHCtWGM5GyvR+uP7LYWTFCTsdmRBavOrBdfpa1BhaVXpMYfytrYj8aArubzkPdb6yKICzgnm7kag6Yxo8Gjka2XBnIunTLrg25xRyUnOF4xo3WL86D/V/7g2lOhIJX4/HzR93Ijtdv++A8GqOwXD/djECxzRAgciXtAlX6wvB4J7+qeBGCOWm6DYbDbeOL3EdKnUYFqkuILJjS9w5lCZNkMgc4LzwCuq+5mHk+dnI2vo9bk/5BQnnE4z3m7eqCoeRU+E/7VXYFjmMYBrSl03Frc8WIDncWF0VlsShFlym/oGa7zYtWN75sITjiJ7yESL/3I8cg/1mhdex8Yfj+K8R8NlgWFtLk/VQ/TKMxS3D5RqvIj453/Jqw9PXyB0diMvLY6WJkjofosGZb2FXVHAsRRhm0ftw7/13EbnunPH1Y4jMFnZfH0bIR/UKry8+EWl/fo3w7xYj8boQ/Iy+rLDN9GoC17e/QLV3u8FCDI2GlGk7/vjtYu6m13By8J8FXqNIcic4zT6JoPHVpM9eVBj+Eoq1n+HWJ/OQfM9Al0C5I6xf/ha1Zo+Bja00rYAi6n3ubcRPfR03Z+9FTpbesnNKKBuPQsCfP8G9ttRCo4lB8k8TcfObDchI0v+lQVgX7s3hNXsp/AcG0E/1TxGVvalI3I7YrTHSH/k4dIbfrFfLLwgLWPo1pIVFQJMtfPE1KmiiLyDtYhQy5gzFpU93F9r4seR45D781VLYwP03FefqNsXVL1ch9V5RQVjEhB3cacR91APnXl9fZH9R/soCXGnzIiJ33C4chEVMA825ZbjVpR2ub7lXvJML+VRk7NuDzJg04enCm+dmQR1xCklH70gP0McjZ8eHONe0HyLWP2ZHyDKRs/dXXG/XGtfXhhsuBj4dWWFhyEnOFu5rwNKikXHiElQJBxDeLRSXvtxuIKiIhFdLOosHb3TD5V8vC0v1CLt1EukPihlUREK5qU+fKNi69ySY1YP3l6/CQj9Z8ilI3vg3cg19bD4aCR92wOl+nyP+XBFBWCSOv/3raJxtPQax4UZ+LhcCSNLHHXH21Z+RfKeouirMSL6C+O/nI0VYVYbwVxbjSvP2uDF3n5EgLBKmp99C0g8v4fzoNQbOtqf6ZRyP3K3rkJSSf2nkMO/WB3bmtnDs06lwi971TYg9UeBIrcy0JzC37obbK8+WLAiLhPWRduQUCnVlTj6Gu30b4syoH5F4raggLBK2mVEnEPtJL5zuMhVJcYbWn/CosmzHH7tdVCP75CnkluTza5KRduJi0R9NpI5G4gTxOznLcBAWaZKQsfQNnB/8GzIMfbWN1fv4fQjv0gyXZuwpHIRFLBe5Yb/jWg9hm3Ff+NyZFxA1tBXOf7DGQBAWCeviwRHcf7k7bmyOefxnIxWGwrCJ0OzfgeQCOwGRsCMY8h7c/coxCRvBLv6Aax/9YzigcPmqoSYcDz7/DikxJdzzsRxkLZ2A25uEgCNNKiDzKCJenoj4u8V43YzLiF12oELOZNYc/QKXhvyA1IQSnJmTfgkxowcjIsxIitKXfhr3+glhaO+Dxwd6TSySpryL6Dv5lqdQZ9ziKM1zyk7e4iW4VtdPwwya4weQWqi40pHyRT9c+eEo1MVeuQz8pcW4PvhrA68n7OP//h+uzTgJcX9fLClJBX9tkLAHf+FG3/GIu2GgP78hQkBUHdqDdL3qTPWrCMKBUPzavQW/13JvOPVtqd0RKjr1gYP+LwDqW0hYc7hAmC8T1VlEvvKm3gnMHDinGrDt1BUOzWoUPkn5cbLP4e6AXri9NaJ4B/B5mBq5B77G5SGzkFHMvF/s7XhxVFQ1iFyPu78LBwyPW2nCdyh312TcXmTkQFCfUO/v9nsREQfihOdK0wwSAm74Stz6cBbuDhVC7vpbj18vqpuIee8LJOn9yEWeHArDJkElHNWeKbwTlleB04ttStkvrSTUSF+zDOlGWrs4B6dHJ6+wVKjT8j2OU0Ae0BouYz9GtVnzUGPxQlSfMRke7f0g098waqKRsHiTgQ21BlnzJ+P+mUzp76ck8wgixn6HtFS9BbTwhf1rk+E/byFq/DodVQY3hlKp9+HSwnDvw9+LdXY7u7QeMYcTpb+KIWUvopdceLh95wKbwNZdKf1VDOLP2I2bwqYETyk3ZsGwb+4q/ZFP8mVk5A9gAs2Rr3DjuxN6O0khiPi2gfvkH1B94QIETn8fro3d9fKaEK7DZuLO7zcL7gP5u4j9ZQ1yCqQrDjL/jvCc+rNQVxejxi/T4TOqF2y8rcRZEDukF96fJyFh8juIuaGXSMRuO3V6w2vaLNRY+DsCpr0Dl0b5li03t+BOlupXkdjdjYg7mCH9JfHsCueW0s/ZDp3h0t5ed/8hDbL/Wo3kctp05G6cjvsn0qW/RDIoO36N4BtX0HD3TgQfvYamx2bB2dvIVllmA7vWTfJts7OR+s1IhO+Jl/7OI9Rrt4ZweWcaAuYt0q33IaEwKxS0eaj3TcNN/bptUAm244+lgGWTJoXrYVHkDrBtaqB7SFnwKUhasMRw67Aesd4/OFLcei8crK54D7f/ui9uPopBeFDEGkRvS5L+Jk8ahWGToELW9Qjpfj6WDWDf2FCHsXRk/rsaD5YtK/q2chNSwouzlxC+6HndEjgzmHf7DHUvxKBl/E2ErJ+HwK9HwDqvcU/hCyt/a+FxljBvPx4BO66g+c0DqDvvG/i+Mxaer42C1/tfoea/x1B7hJ/0pDxCaDl5CKn6rRyqMETPP1i4pZezgEW/r1H37H20TI5G4/9+h3f7KqVruHosHjkrv0HUJb2f7Ryaw3fXGQQv/go+Y0fB882PELD6GBouGwaLAkOICZ/t0CLEnC3GVvshIZjV6Ieqa06gaWIaWlz5BwFDaxU+iGBqZO79D9l5Qci+D2reVaGtkLTanP4U1vohRDzB6bZaO19749VouW0sLCr+qMoAJaxq5vUhzIePRvbdfGXF30fsN78jo8DJozLIm09G/TN7UeurSfAaNRreH81AnWPHUWtYNbH4HmFpSFm0BOn5iz/7OFJO6rXkWrdDtX93ocYXE4S6+ho83/4I/gv/QqPwcDRc8Tk8x78IW72vHLu6AHdXRoqr+BEhAJr1noMGYVtQfco78Bw1BlWmzELdE1fRcOHrsHGQgfOoArOHjeJUv4omhNoN65FS4KdtoYy79oGDcJyi4wjHPu0h198r3v8bcXvyB9jSSkPSpt0FD9YtmqPKnA9g7/ToTRUN3kTglM4oMEiPQ3sEXBLKRJOKkP/VfVg1WeRSRMw+q3cSqbBegt9AndPHUXfWFFQZO1K33lcdQaO/3oWNjd4K4pOR/OtciOePFk14k+Jux4tB0WcRmqt4YR3nouGn9Qt9h8UT6ELVUh0Qb+oE1BvrV+hxRtnUgMtna9AgIhGt4q+g3k9DYWml/2wGdmEfksUuDcUmbDfqvwz/bRfQPDUZTQ8tgEcDO2meIcKBiU9HVFl6RPiepKL5+U2o2sVbnFwQn4rUPcelP8iTRmHYFGhioXpgYEvnURXmD3cEj7CIRbjecxiuDh9e9O2lF3G2xVjEFftgVg5lz9mov+VzuAS5Q+EcAPsXx8Kru3++7YIT3H7dhXoHL6PJnt9QpWug4ZZrmTucxg6Epf7GNzkSOQkFN2z8mc1IuKG/k5dB0f0n1F/7CVyCvaCw94B1hzEI/Ocw6rzdqPAOsaw04Yhd9l/BVklhh2IzYS6qtnHS2y7KYTHwe/h01juzI/cqknYVpwVHJIOy3eeod2Q9/AY1gYWjDZS1OqPKkrXwDbWUHpNH2CHcuoLMkuSgZ4ZQp1ydpPv58OnQpD5q5mTha/DgvxTpL4lZA1SZOwUO+YKIlrwqXL//CE62BdcKu7obiTfzNZ1mJUGdpbcTNfeAuauBGqtwhe3Qz1Dj28F6/fPVyFi1CmnZemvVqSeqzXkd1vrfT5kDbEbOR4Ozh1Bv6YRHJ51S/Sqa5gbi1h8v2JIuc4Nj77YFti/Krr3hYKeXUsRfnNb8I6ypMlLfQub1gqGaq9MJTgH69UUG8/btCgbL5EN4sEa/v6wGWSuX6PWBFpiFoMrCmXDx1t84iuH/G1R/K6jwAf/tvxBX7L7RxdmOP2Wu7VD17yOo8/kg2Pk6Qu5cC04Tl6DOJ6EGflG8iYwrxeyWJxykii359fb9CZ8XgmBmaw+LlqNRY9VU2Fsb+vTCgUnQaNQ+sBMBrzQXvie2MKvXF35r5sHDR3+9a5B746p0nzxpFIZNAcuAxtDQwta2BkMfi74PVbH6VAqPiT+LdKOXNdVTZQiqzx8Nq8cM6cN5hcKppV+BnZQhMn9/WOgvv/BZC3SzAA/V4aOFf/5V1Ibn1JGFw7TCFy4/bUHNEdXLtYWYxf2LpJN6BySKhnAdGmT4SyjzgFPnEL2dixqZ584Vo/+i2DI0EbU3fAoHZ71XN6sL9yFNC3+2xDjxV/dKiZMZKkG12CAp4ZH7726k6Q0pyDV8EW5Bhisj59EFjiF6TZbqa8g4l69fraUDFJZ6BZm0BeETliOjuA2Jmggk/XdZr0+hEDS7vSKEGYM1Q0tWtTkc6z8aGorqV9HYlXWIO6kX9lw7w6WD3vh7zt3h0kbvIEGsPzvXIrGsv2ALB2iFrqzn4GJwGC7Y2xVsGRa3YzF6J1jx95H4zxm9uiOsm9Yj4dnQ2BAR5rB97SXY6l+4Rh2B1EO3i3cgVMzt+FNjFYwqqzYIB4H6Q6eZwfqVIbDV75rBJyI3rjiVU6r3az+AvV7fcq76ILiGGigQ736ovvk3uPrp7WgcOsOth5f0Rz4JcdId8qQZ39qS54v+zknAxD6HBvZ8nLW13oa4CMKWmPGP332KLVpOn34NF49yrHJmSgOBVViWAoujQsblG3o7DEFAdzg3MLI1l3nD+YUmxS+DYmDnTun9RC9wqg2rqsYivxCIPFz1Ph8DLxyoGDx5pQAZzNr0KvDT6yPCvJoBhXfALAd8Mc/derbwUKfr9QMVcWaQPTxSykX6Kf3xiGXC8VCQ8Z/eZW4wc9WrHywTqvv5dlbmjWHXQG+Aa+ExmYuH43Sd1rj6xTKkRD6mG1HOOaQXurCDAtZNmz/2YDA/ql9FUSNj3UZkqPOXj/D5O/WGg/5Y1DIXOPVuXfi7n7gLcdvKGFRkdlDod1GIjTI4Ag67E643nYPC0UG6L1GdQfpF/dZcBazatIO5oVUj4fxawLbQSdMaZF25+vgwXBHb8fLm0QbOrfR/DdHh3GvC0kVv2YWdIJ9VnMop1O3WPQ3Xe2F7YRngIv3xCNegJ1wC9FtcRApYBBbu8sFUj+2rQirIM1yjSbnhbCA30B0CCbEGd3xc7RfhNao/nHv1KnBzCjVw1a/i4pxgUdPYuK9GqOOQ/vcCREwcgYsdmiDM3xuH7a1wQCnHfhmH/Y6jkfjYbYcQYKL0T3oQjvDrBMP6CbZsaCIjC5f1gz9wyVL4HEKhGrodGrZBL8AJsjLKPsqFjY2Bfp3Cixo6Mnrm8ci5/0C6nw/nIISHvA+ZjpxI/SDDI/eP3jhooNx1N2tc2VC4eVeTkS94y6vBfcIQmBe6PLQQKu8ewoPPh+NsoC/Cek9C9KGogsdoEhYfiRz9ocmEwGFe1fDO3BiqX0VQn0HshksFD4hlTnDo06ng+MdaQkju0bvwT97iiVbrthoYyq4EFAGwruso/aHDrm1C7BH9epaClKUbC3YrkdnAOqRWgR02e3Ab2fpdJDhLWNYw0Ic+P4U/LKro7/p5aGIfPL4rSGm2488S7b6wUOUUPj57/IFAkYR9ilVJrvzECcthqPW+rF8+UloUhk2B3A3m7vr9+ASJ15BxX7//gEARBM+5GxD0118FbnU/MNBiUiEykLHmfzhf0x+neo1B+KylSNh7Epl3oqBOzQITh8Uo7jZDkwJ1oXFQZVA4Oz/Byq+BOim1fLZzQogpM05WeXdmhaQg84KBoZFkHjDP6zOpSUKu/ggLpcTplb+y1w+o+UGo8T7muQnI3PojrrethVODZyE1SW85kpIMnNhpCbl+C2KRqH4VhT++BvHX9H4Gd+gAl076I0focO4vwLmFfusBg2bvWsRHl6UeWcNp1FBY5v+ZPvcaol4ehPCNZ5GTkQNN9FnETR2IqwtvSQ+QuL0A1656y5uUjAKN3SIhNMvtDbVE5iOzh8LWQIXNykRxfuSr3ISyp9RDDKBqYRLMYVnbQGuB+jyS/4stl31o+clA6ve9cPalmUi6nV4OO3iNOJxkYYX6TVQspjG0ECXEKWHeuMlTGrXhGZX8HxKPGeiK4FIH1r55BaUWq0HZKavAponeVQVlTnD8+l80WPouHKoZ+vlFwqchc+17ON97OlLz9+rIVRtoMRamlfDXUqpfxuQgde1mZOk3eSauxRUnwy3m++VVcOMfA11vMg4ibuPdMm2S5K0nI+C1QG0m02Fgd3cg4sUGOGZjgUNeDXD5S70LWsic4fjpFLgUbFQWqomhdV6GwxA5bViI6aIwbBLEPoiNDPTjy0DKsuXFGlv0SeHDvsP1qfv0LoogbOAdasDh5XdRdeZvqLFkKWotFW7zxz5+7FGxlc1cfwfBQ52YYPBn64rBQWZp4Cc0l87w/UP6LI+7Ceup9l9HEfJz1xL1JX2+aZC1YiES9UYPEctb3qg5bPO6wXBWkFno1wEZFJ0no6ahsjZ0W74aQUcPI7Croesf28D6pR8RfOUKgue9D5dGnkYaWHloDn+Nm7PyjQpgYV54I8ynIDe+mBfA0KL6ZVT2QcRuCZf+KCOWhZT16x8NEVcKLOkcksOixQxcPApX2H+yBrXG1ywcc60tDdQdcRSVx3R2EOqXJq3wd4azd4SCEgExUVT1TYSszQtw0D9xQNgi80dnIWLDs3IZyGwkL1qidyKQsJGuNQp1zl1C8LIf4ffeeHiOeAXurwi3gU1g9rgaLHOA0kU/KDCwG1cLtxZVGBmU7i6F+1GqnWEzUPosj7u9/BLcejaC+RPs5/ysY5GrcHv6HgPdDGxg17P7o4M/mTPMXPT75wl1wDkYrobK2tDtpcFwFkJukdXN3BcOY2eg7sk7aHp0GXz71YJcf6ULgSpt5QqkSec9cW7uwnLqPyYbmecLXsK4aFS/jNHsWY2Ee+V1tC/UmWPrEXejtK+XiMSPx+Le2bw+wsIKc68LG19xXHVpkpbwh7kLrLqOR+DuM6j/ZUeD2znO3RNK/f7qLBPZtx7Teq2+hay7+rVLDnM/PwoExGRR3TcVtt3gMVD/IhUCTRRiJ4xE1IWnfHU2kSYC6WdjpD8knDkc3pkGF9/H9IMzyhwWAT7S/UfY9d1IvGZkp6a+g7h1hwr3xysDWfWaMNf/COkXkHbpiSXycpQDviQNlxWAj9iCm/3eRLyhPu8efeA5yCtfvjCHZc2qBfOGEBc0F04X68pTJWcO86Yvo9rGE6j/WfPC/exvX0FmXjcI++qw9NTfDKuRtWML0os77KuA6pchaUha8zdU5ZWFRbmnELf2StFh0wh2dxXurbgjVj0dzhKOn+1Cw9v30fTEv6i7ZhVqb9iKeofOo1niAzTZ+Ru823kb30nb1IRVobFq1cg4erjIEUHYzQNIjdArFOEA0rqxkWH4ngj9L4kgR6gH0l1CKhqFYZNhBYeJE+Fgr7/KhS1zzE7c7NoTt/+6/XQ3PppkvTGCRWaQO9gZ2lRCczO8GGd3K2DdqH7hn/9UpxH93ebCz8+5hdhxPXF9rd4VwcqIq9MMtvpjsqqvIW7xv48/g/tpUhi4fLAmHJnXns44WXxUGOKmj8CZxgMQdTpVmpqPsFO3f/djvf6VClg1a1K4Dlxbi5h/k6U/SoFPQsaB48g22r/XFrav9H90YYw8vPrRwArmDWDXUH9cW8GVBQifd8Xw9zHjMh683RLHmn2ONKnyUP0yIHknYnfESn9IODPYfnMFbVi+K5sZubW59j3s9LtYsVxkbFxb8EqExcTOn0ZmgYur8FDHxoGX28OicUe4DBoCt/494dQyCOZW+pXVALNg2DXR70jMwO9dhge3jR0BZCBl/jJh+fU2brYt4NTB8AmFTwIn1AN9LPwqijXiGSHloBjfOPK84ALHIOCjFgbOfBc2jNF7cbdvfZxoPwK3Z61G0tlbyEnMBJ8Rh+zLx5Hwx+e4/p2wYy3HgFiIsFOQ6131S+zXnPqX/pBGGqj2f4NLfb9FejHGSpe17QZ7O/0PrUHOitG48OZipESkCZ/zATL+nYcbnVvj6uLLhYecKiurdnDp5iH9kUeN7MVv4Pr880UEFmGHeWsvoj8fh6vTdpRtaKfScHVFoZHD+HgkfPs54q8lgVclI+vQakStOVUu56jpaJCxcCQu9e6Ni+KtVw+cb98cJwPdcNi3KS5/shTp8YZKTAZ5u88Q+E6dQgFL3q4vnDz0WtHUdxDzxhhEnU+TJhjApyFr72KEjxuJ8B1xBY6PWPRy3OzSAicbD0HE1msGPr9Qx/YfQqb+DNcqMH/Yc8cejv06FA7qfCKSPuiGi58sQ/L1OGhyMpEbfhLxv07E+eBQXP31CHIunn/Uwkz1q5Dc7WuRpN+f3KwxXF6sbvDgWh8XMACuzQv3xWaXNiDuVAma7fOIJ6jlf2OWjbRprXCiYQdc6DcAl18agauvj8ONCZNw65OpiPh+NqLX70X6A2PN5DZwHNCjcBeKjIOIHPsDUvUuuCi2uGetfRvX5+mPuy5e+nskXAr9QvGkyGDmqh/qBfFbEPn5FmQmqcAn30LK6rmIPVXcq9kQUjJPq/aTp8IcNu//ieoDqho+wUcInjn7luLuxKE43yAQx5ytcdDGDcfrNsPFkV/gQVis8BjpsRVB7gfb+m7SH3mE4Lv2dZztPQGRvy1G9JxvcWtwU5zs8imS7heveYZz7QOPfgau9sMnI33eKJz1sxM+pwdOdh6PqIPRFTTQhC2cJoyBjf4Vy3LvIG5cM4S1GIybX/yEqD+WIuaPBbg/80vcHjcI54J9cLRGR1z/4nc8WPgXMp7wVbw4xzqwqqL/UywPzfGZuFTLCQfNHXGi9VDc+OgPpJZwBATjNMg9twsJW7fqbtt2IGnfMWTcigNvdBBcDvKQt1B75XuwMTR8p203VBnTQK9fLQO7sw43mtXBmcETEf7T74hZ+idiFvyGu19+iOuDOuKkjwdOdByFiN+F9fLXuYLVPyEeal4oi4trEN6nHo7V74FrH3+H+wv/QMy8H3D71fY4O36L3k/WMihbd4Tdw2UUgkD/t+EeaOBM0JxIJE0fjnM13XDIwhpHqjXBpbdnIemWNNKBOv9Fc6h+FcDHImGtcPBeoOw5cKH94Fro8sdGyKsKwbm5gb7Y1xG/5oSwlCUja9odDu56781nQHVmLxI3CwF75VJhHfyOqF9+xL3pXyL8w3dwfWAHnPLxQljvjxB7pfAIF4oeE+DZUH/YTOEAZ8/HONegA659OlNY54sR9fPnuNG7MU4PW4Is/Yuz2LeBzyd98LhzkSuODIo6tWFeqBqkIm1mX4Q5meOgYyDODn0bt/8IK3G5E1IcFIZNjcIf7n9uR41hNQpv5EuDU0L22LPYissCDiOGwarQ5TLTkfX3L7jz5ihcf+tj3Ft7CrkqcYMuPM7cohhDo9rDefIncDR4xSwjzHxhE1T4ikJlIQt5H4H/a1y4DynLguroWtz//D3cGDkC10aOwc33p+Lu7+uQfD4KfF4zNa+p0GMRg8xD4dzJW/qjCGkpFfurQVFkNrAcMBP1/vsJzkavjGUmHAj+Ap/GBrokZN1D6tpZiHhvHK6NeBXXxryJ21O/R/S6PciIynx4AMg0egdfZuaPGvpYLtQXdiDm249w8/WRuDb+f7j750HkFPhZXGDVCF6Tehe82INVG/jOGAEL/Xr/OOZWkOULEFS/HmEP/kLcXr2mUc4cdn37l2DoOBnM+w0sfAEOqJG1ZQ1SSnrw59gH/nPGwrrQr1SPkZuEzK3f40qr7og4qvcrhlkD+Mz+H2z1f1ET1iR/Zy9ivn5fWOejcOPdLxC19aLeKD0ChTecZ86Hd+3C3RSeJFnoC3D0ftyKYdCklKFbEyFFoDBsiizqwGPpUQT/+hpsXMrSHsBBVqMzHGqU34ZU1vJjBE4ILkZQ58BVH4zqv44o8tKjebiAsajx+6uwLDTElgE2QfD4cxcCujhJE8qLNeynbkKtiU2gKPHVS4TP6+ENs2LvyMuLFRzfex8OetfiL8TCqlQXZOGUZsLBTCmeKJJZw7z1a6i25QwarXvXyOWB87FujqqbVsBb7GdZ4uKXwczbu8DTOL9msPUpQd0384PLL3/Ct5F+07Xw2r1/Rt2ZPWFW7EAsgzy0NWwLvBTVrzzqf7YhRf/8A4vmcOlf+BK4ReE8+8C1rYEDqMhdSDhR0q4Swnpu0g32gYaG53sc4bMkHkLE2G8KtZDLm01F3ZXvwtaphCvPqgZc52xH7VGBJf46lDurTqjyfvvHDO0mXuWtiLG8CSmDYsQI8lySOcHujcVoePU4ak97VQi0jsVoYRUJO037qrDpPhK+83ag0dHv4aC3feJsasOuWTUoLIWgLb6omR3M6raEbbFGhHCE43e7UO+HIbByMPJ4hSOsh/+CkKMr4Nm6Hqw8rYWsIryP3AzyavVh6Wzog8hgMWA+gv/6HM7izsjQQzgzmLV8C7WOHkXNIdVhXicYFg5mus+gtIV5g3rSA/OR2cCqWTNYOFk+WgbPurBr5Cs9QI/cGy4/HkDDzdPg1sTYeLT5CQ+w8oZN3wmoPudtWOsXiZH3txfe39hLcz4NYVfXU3iosPMUrxZm6Qhz4TWsbAxvDriab6L22slw8DYy7hYnh1nr9o8f89kQ565wf6keFEZ/XRA/kxKclR0U3v6watwOzsPGw/fnlQi+cg9NDyyGb8/AYo+Ny3n3QuCBMARNGwZbTwNj8+oTPpvMuxGcJ/yG6m/XLVimFh3gv205fHrVhqKoEMuZQxk6HP67jqDOqNpGNrrWsHl7Ixpu/wauDVyKqBfCDIeacHp3MYLXvgFL/Q9O9UvAg1k4wsxeWL/iMgvP52w9YfPa23DzLeEuT+YJl3GvwsbTDpyY1MQClSkhc7SDLK8/VXG3Acl7cbvnUESdzte6K3OG3Tu/oMaCeQj85Wf4fz8dfp99BK9h7WBRqLwY2OXliNmn3yQth3nPmQg5sQl+QxpBaWZszUiUjrDq/aGwnTuBOmPqG/3ulGk7XtLtorAUVm8uQ53JHWBmbPnlbrBvH5Kv3gkHhLWbwa6ak7BKxHUjrGc7T1i3alR4ZJU8ch/YtqwrfJS87bolFMJBrV0dm4L1ucT1XlgHjVrC2tNWWAzhEWIdcQ6AfdOCl9B+RFz25rDzc3y07EIdtW7VUJpPnjSOCaT7xKSpoLp8FClHwpBxPRw50fFQZwgbXbmFsF2wgcK1CiwCa8CqXhPYNQmEshjbw7JiyVeQtGkbkk9eQU5sKpi1K8wDGsJx8BA41hA2OtLjSiwnCql/rUfiwXPIjEoCk1lDWa0e7LoNgGt7/2IHq7ITy/wgkvccRfpVocxjk8CLV54SNtByFw9Y+NeCdYNQYYdUD+bWhjepT1TadSSt34jEY5eRE5cGJrcSAmogrFu+ALc+ocJOTHpcZaGKQ8bBf5F8VKgH4feQm5QJnokXsLCHwsMHlrWCYBPaEnb1vIxfblmLhybiBJJ27UXquevIjkkRykZYhw5usKgTAtu2XeDY4DFjFBeQgewjO5Dw3zFk3BSWKy1X2FE6QenhB+vQ9nDqKuykjQTLgqh+PTuykfJBI5z74fKjcxI4JSzHbEaD33oUviCSQHN8Ks62/wrpWfl30UrY/3ANwZMMXFFUwj84h6Sde5B2/hqyoxKgEa8SYmYNhWdVWAY1gUPXzrDzeXZbWNXX/0X8xn+QejlcqPtq4WDNCeaB9WH/wiA4h3qU4HtESPFRGCaEEEIqUvZOXAvsiZj842KbtYH/tb3w8TMS79RncKdRU0Sez39WoxJ2315EyIc1St8YQAgphA6yCCGEkArEYq4gK05vcDileGXEInbBWeHIfqD3HJkNzAMK9l0nhJQdhWFCCCGkIlmIo97oRdisg4hdYuSy25poJEz5EvGxenOdOsGlfWlOwCOEFIW6SRBCCCEVSX0REc0bIfyk3ggUMjtYtusL5w4NYenlABkTL65yDsmb1iPpUkLBMc85W9h9eQDBk0OoFYuQckZhmBBCCKlQPHJ3vYuz/WYjs8AJccXEWcPqtYUI+n0ILJ/AycuEmBo6wCSEEEIqlAzKrj+i/l/T4FzDTgi30uTH4sBVaQPP3/ciZAEFYUIqCrUME0IIIU+KOgHp21cj7u+9SD17Bdl3o6FKTAevUgMKM8jtXGDmGwCrkGZw6P4iXHuHwtzQJcYJIeWGwjAhhBBCCDFZ1E2CEEIIIYSYLArDhBBCCCHEZFEYJoQQQgghJovCMCGEEEIIMVkUhgkhhBBCiMmiMEwIIYQQQkwWhWFCCCGEEGKyKAwTQgghhBCTRWGYEEIIIYSYLArDhBBCCCHEZFEYJoQQQgghJovCMCGEEEIIMVkUhgkhhBBCiMmiMEwIIYQQQkwWhWFCCCGEEGKyKAwTQgghhBCTRWGYEEIIIYSYLArDhBBCCCHEZFEYJoQQQgghJovCMCGEEEIIMVkUhgkhhBBCiMmiMEwIIYQQQkwWhWFCCCGEEGKyKAwTQgghhBCTRWGYEEIIIYSYLArDhBBCCCHEZFEYJoQQQgghJovCMCGEEEIIMVkUhgkhhBBCiMmiMEwIIYQQQkwWhWFCCCGEEGKyKAwTQgghhBCTRWGYEEIIIYSYLArDhBBCCCHEZFEYJoQQQgghJovCMCGEEEIIMVkUhgkhhBBCiMmiMEwIIYQQQkwWhWFCCCGEEGKyKAwTQgghhBCTRWGYEEIIIYSYLArDhBBCCCHEZFEYJoQQQgghJovCMCGEEEIIMVkUhgkhhBBCiMmiMEwIIYQQQkwWhWFCCCGEEGKyKAwTQgghhBCTRWGYEEIIIYSYLArDhBBCCCHEZFEYJoQQQgghJovCMCGEEEIIMVkUhgkhhBBCiMmiMEwIIYQQQkwWhWFCCCGEEGKyOCaQ7hMTlb8KUHUghBBiCjiOk+4VvE9MD4VhE8bzPHJTU3H/p5+QHRkpJmFpDiGEEGIChBBsXqUK3F99FVbVqkEmox/MTRGFYROl0WiQm5uLyy+8gLQ9e6SphBBCiOkxDwxEvZMnYWFjA7lcLk0lpoIOgUyQtkVYCMJpCQlI27tXmkoIIYSYppybN5EkhGFx3yjuI4lpoTBsgsQvukqlQnpqKnWNIIQQQgSZGRnIycmhMGyCqJuEiRFXt7ZVOC0NsRERiG3USJqjk/POO3QiASGEkOeauC80/+UX6S8dp7Vr4dWhA2xtbaFUKmlfaEIoDJsYcXWLrcIpKSmIuXMHSc2aSXOEeebmYDt2aPtL0UaAEELI80jcD4rnzWDsWMhu3JCmAnYrV8K7Y0fY29vDzMyM9oMmhMKwicnrIpEXhpObN5fmCIQw7HD8uHYjQCcQEEIIeR6JQVjcDyYPHgxcuyZNBWxXrCgQhmlkCdNBYdjE5IXh5ORkxISHIyV/GLawQDVhw2BlZUVhmBBCyHNJDMOZmZmI7N4dmsuXpamAzfLl2jDs4OBAYdjEUBg2MY8Lw3Xv3oW1tTUUCoU0kRBCCHl+qNVqZGRk4Fq7dlBfuiRNpTBsyigMm5iiwjAnhOH60dEPwzD1lyKEEPI8ESNPXhi+3Lo1ci9elOZQGDZltKZJIWIIpiBMCCHkeUP7N2IIhWFCCCGEEGKyKAwTQgghhBCTRWGYEEIIIYSYLArDhBBCCCHEZFEYJoQ8V/jo/fh92qf49Iu52Hufl6YS8rzikXz8V7za3A+OFgoorath9OY0aR4hpDgoDBNCKhkNog4uwjdTp+LrBftxXyNNlqiOL8LkL77G1198hHmHs6WphDynUnbg/UHvYumxCCTnaKDJSUeGSu9LQQgpEoVh8hSpceb7DnA3lz0c7ka8yWRyKMys4egRgIadhuF/v+7CrQzpKYSojuKHUeMw+csv8en4kfjukEqaQYjpSf93JTbfU4PJffHyqnBkquKwapCDNJcQUhwUhslTpMK1sDDEqQpe94UxHprcTCQ/uI0z/63CD293R0ijl7HoErXyFZK9DWN8LaBQ2KLRlONCiVZm2dg2xhcWCgVsG03BcaMfRiYcMEl3tQdQ0n1CTI4Gd6/eQCovfCuc2mFA36qwoL06ISVGXxvyVD28/qGyMSau2Y7t24Xb39uwZe2f+GXKSLT3swIHhvRrK/HmoE9xgFqIC+KTEBubA40mCw9iEoWSqsx4JMXGIkejQdaDGCQa+zBmzfDe/N/w1ZQp+Oq3RfigpZk0gxBTo0Fycqr2ey9zdocb7dEJKRX66pBnA+eEmu26onv37uje4wX0Hjgcb09bhH9PbsXE+ubaQJxzdRF+3pggPYGYLhm82ryOydOmYfLrbeEtlyYTYoJUKrX2X05pBjPaoxNSKhwTL9RNTAbP88LGU4Xk5GTEhIcjpXlzaY5QGSwsUD86GjY2NlAoFNLUipSJVQPc8dKGdDCzLph7dwfGFWra4BEz/wUEjNuJTCaHr/Dv9bmdYC7NLSA7CmH/7MLRq3cRn85g7RaAECFgdwxyRUk+DZ90Gbu37cHZ23HItnBH7ZY98EIrP1hL84tUhmVQJVzFsQPHcOF2FGKTs8BZucC3dig6dGoKPxsje7nMZejrNBxbcuTwHr0VtxZ0N1w2TwWPpEs7sXn3GYQnAQ7VGqBTry6o52ysJDKxrK8Thm/Jgdx7NLbeWoDupfgw2ZuHo8qLy5DA7DBodTTWDLKS5pSECrEX92P3/rO4HZsOzsYNVes2Q8cOjeBlIT3EkJwYnN/7Hw6dv4WY1FxhHTrBp2ZjtO/UEgH2JUkqJS278pCNqLB/sOvoVdyNF76T1m4ICGmHrh2D4FqCt025vA2rtpxEDFxRq21v9GvhU7BOZt5H2L+7cOhiJJJyLOEV0gG9uzcpulzzyY4Kwz+7juLq3XikM2u4BYSgXdeOCCrJQpapfEtZN8pp+1RQDva9UwedZt+GrP6nOH7qSzSoyCrynFCr1UhPT8fl1q2Re/GiNBWwWb4c3h07wsHBAWZmZpA97I9FnntiGCamQ6PRsKysLBYdHc3OHD3K9glVIO+238KCJSUlsdzcXOnRFS2DrXzRhnHCe8OsC5v7QCNNLyh793jmKxd/CZQxp5c2sixp+kOaGLZ/xlAW7KzUvVa+GyezYYE9P2M7Ig19pmz234QazEJhxrxH/cWy1OLrDGS17eQFX4cT5neYzLbfV0vPM6DUy8BY2sXV7JN+IczNjCvwPN2NY0qXxmzM0sv5PreGRczpzGzE5vJCj5dunJy5j9gslHAxpG9kr3qZM7nChjWYfJTlSJMLUrOrP3Zgjko5U7r2YQvv6a2r7D1sYg1LJle6ssErE5km8QSb83I95iDP/5k4JndswEYvuyKU/COaiDmss42hz553E57nPoJtfvhhstne92oxK7mcWQS+xXbnfzFB1qZXmLNMeB5nxwatKVYJFJB1eRV7t0NVZlmofDlm5tmcjVl8jqVLj31Ik8COzx3NmgvlqL/+tctvV4P1mrKV3TFUuKUuO6Ee/NaN2ctlTGFTg43flixNN0ATxZYN9mYWwmPNgz5iRwosh4bF7J/BhgY7M6X+Z+ZkzCawJ/tsRyQz+A3aM5HVsBTrxGC2MiGDnZ/bn/mZP1pumecotu1hxc1iV1e9w1obLKOCN862G5unV8c0MfvZjKHBzFmpX1c4JrMJZD0/28EMf81LXzf1la5ulH7b8HjCd+FtfyYXXksZ/Ck7XdqXMTHiPk7c1x0OCiqwDzy5fLl23yjuI8V9JTEdFIZNTGUMwwl/9mV22p2PgtX+n15YE3byW8bV0e2chB23XUBbNvD1Cezdt0ex/i39mI0YioQdlUWtcWxrodfPYptecWYyYb5lr6/ZgpeFYKx9HXPmVK0ea1Dfnzk9DKgcs236OTtuKFuVZRlyz7HPGko7SU7JHPwbsw49+7MB/XuydvU8dMsjzOPMarGJe9OkJ6nZzRmtmJk0z/CNYw4DV7O8ZxQpaSHrYS4+R868X99hJAzksrDJ9ZhSfG1lMzb9qt6BQdYm9oqzTHgNM9bh69Xsf43ttOUqt/ZgNUIaslqeVkyW91nM67JJ+x4tmfrmDNbK4IHAoxvnMJCtfviUvPUmTLcbxPTzblnCcPb5X1h3T4UUWoSA4+TPghs1ZiHV3ZmlTLeMnGUX9ltUvvWoecC2TwxhtnnrQ1yPvnVZoyaNWT0/h0cBU5hedfBSdlv/mKoMZZdz7ANWWyHOkzHnQatYojRdn+beb6yLtbj8MubYfxmLl6YLc1jUlnGsjqU4TwiVdgGs7cDX2YR332aj+rdkfjbicgnva1GLjdv6QHh0QQ/L2qwD+/KP11kNYT1ycmvmVbsBC/K1Z2beo9kObYUS3mf9q8xfG2Q5Zu7VhPUfLX5HXmU9g10LhXDOvC378c6jd9NEbWHj6lhq1wsns2MBbQey1ye8y94e1Z+19LPR1gVwFqzWuK2s8Ne89OWbX+nqRlm2T8WRzXaP89WF4Yafs/MUhouFwjDRR2HYxFS6MJxxhn3VQnqMIpC9sy9/u7Cwg10xiHmKrcacFas7ei27VSDJZbDLiwayqgphR8UpmP/43Xrh8FEY5hRKpuA4pvTpwaZtv/WwRTX96ko2qq6V7v05W9b+5xtCFM2vjMuQe4F93aoKazh4KltxPEoviGaxK38M0j1XCDEO/Zc/Cjs5CSzi2jV29fwPrLOZ8N7CfPfBi9mFq1fZVfF27Qa7n1xES3Z+5RqGZczaxloIF9aszsu/ssMx0uPUUezfj5ozB2nnb9djPnuUGXJYQsQ1du3qefZDZzNhPpjMfTBbfEH6LFevsRv3k/OVewWFYWFdTG9hrVvXMlfWbuoOFvGwMDQs+cpfbPrguszevD2b9bDVUlj/KwcxL+0vF0LIC+jHZu69l68Ms1nkf9NZL1/pgEfmxLrPu12wDpWl7HJPsynButeWOb7IViRI0wvQsMg5nZm1GMiEzzV0bZI0XZgTtYIN8pRrX9eq7mi2tmDlZRmXF7GBVcUAyDGF/3i2Wy8nPixruRNzdZYzzro+e33NDenzZ7P4mERdi3L2QfZeDXE5hRBZZzz7Oybfd10dyda/GiAEYiGgeg9gv5+4yq5FJDw66BUC5YpBntrAx1nVZaPX3ipYRzMus0UDqwrfX2G+wp+NL7yQZaibktLWjTJtn4ojmS3tq9s+mrWfxfR/sCGGURgm+igMm5jKEYZzWUb8bXZi809sTHM37U5ObFWrNnwtu59/+yQGgRDdDlZZ/2N2rFD/CYHmAVv2oi44yZwHs9WPcoDgUagSd4JK/5fYituFP3vWkQ9YkNSipWz0RcHWlzIvw2Oor7LpzZTCe4MpAt5h+/R/Zs9YyvrkBdnR2wuGhOIq1zAsrisb1vC9fwq30OUcYx/WVWgfI3McytYXyqkZbGkfc+18ufdott3oh6mYMJy+/XXmow21cuY1dA3Ln9ceyWZRtyIf/RSee4J9HKQLo5xtK/btecMLnXH0Ixasbf0W6kmdD9mx/OuxTGWXyy5Ma6xrWZU5sH5LH7X5PqSJYL921B3QyTxHsM2p0nThuaenhGifyynrs48NV172YNmLuvKUObPBepX3YVmLyy5zZB1/vqwLv3pyDk9iNcQWbGGd9F5cuIVZc+cn1lbsXiGExo6zIwrMzz09hYWI3z9hG1D/42PC2i9M82AZe1EKvM6DV7OCX/Oy183S1Y0K3jaIkjax4V7iwYyCBU7Yb6SLE9FHYZjoE76DhDwDVP9gvLtcuvCGEtYu/gjt+y7mH42FxswbbSeuxD/zB8IrX41Vn9uAzZdyxT05Ql8ehcaGTl6RueGFXq1gJSQBPvk4Dp7JkWYUxJk3xMdr5mNYtcJnn1iEjsSwhuJ0BvWlQzgU/+gSv+W5DAbJq6J2DQftsC+ahFjE6U4cf4ZxsGzzBdZ+37nwME9mIejW3gfi4A98ejhuRj1LV8nKwZEtO6FdJEUghr7VF+4Gt47m8PT3eXgypSpsLTZdFda/8Km8BnyAN+sZPuPPKvQdvNHBWjsqSu6NXdh+2dCKLE3ZKVB70EA0MRMrVwr2btiGWL0rUPN3t2Dj0SzdMvYcjM620gz1OWzYfAm5QlxThr6MUYYrL9xe6IVWusqL4wfPCCVlCAfblh9j1pu1DZ4Mpo6MQLS2bP1QP8Sp0DBGMs+aqO4iTGU5uHn5BnKl6cIzcW7DZlzKFbNwKF4e1RiGv2IvoFcrcRhG8dLEB2H4K1baulm6ulGx2wYemfcPY864/2G1ULCcTShGjWoBGmSQkNIx+JUm5FnBWdXBqBVHsefHAQgskDN4JISdwA0xU8g8UL9hFe2OzBCrKl5wFms6H4OI8CzdRH3mAahbx8ioA3I/hDby0r4+y72FK9fygkw5L4NBnPasZmFfCeSqKsVFNZTuVeBpsCAU8PR2lzY6GUhPERvinhGauzh9PgZi3pE5NkXrhsWJFTyij4Xhtrj+OVu06NIONroZhQmhp23bIF1QVN/AufPp2sn6SlN28sCBGNjcQqgjDCn7NuDvuPxpmEfklk04miU2avqiz5D2yKvlfEIYTugqLzzqN0QV45UXXrrKi5iIcBisvZw1Oo0Zh7pGRjKQmVtAzOtg2cjM1EvrIlUKUjLE6RzMLcShFCV8AsJO3BAisfgVq4+GxhcSVbycteXDx0TA2FesVHWzlHWjIrcNOTvGoUbV1nhrbTisArvigxUr8X49I4VPCHks3XefkKft4UU3tmHTyrn4YlQbVDEXdu+Zl7F49ABMPZAsPTCPsJOPjIJG3GdpIjG3kxAGpMs5698sOs1FhLgnYzyyMrOEZ5aUAlWqeOq+LCwJCQ9bhstxGTLDsXfBVIzu1w4Nq3vB0dYSZnKZ8FwL9Fh4X7sjrvyEoGMuBXumgVpT8jVRYdT3cC9Gtzxybz9ULVauUCM8/J5uXSq8ERhgqZ1qmBw+1XxhqQ2EKsRGx5ZwnRZRdvKqeHGgrnWRpe7Dhq2xj+qXJgKbNx1FtlBHFQH9MLTVo+ZJPjISUbrKi8i5nWBhoN5qbxadMFdXecFnZSLL4GqTQWlmLO4JX+/gBqgrpmHNHfy7/SwKXkuSx4OtG3EgVVgWIVTXbVDnUQsnH4nIKI3wzuJXbC46WRhYPu3NAp3mRmjLlPFZyDS8kEUoonxLVTcqePukkEOuXVhxrQhLL76W7k9CSClQGCbPhocX3XgBfYeOw9SFe3B87euoLQRiPjkM34/5DHvSpMdq8cjMyNbuCIqHg9y2NprUL/wT7eNxsLKylHaUKmTn5O2uymcZ0s/OxZAG9dBxzJdYtHk/ztyMRnJ6NnL54r8yKSOWgSwxMYosLHWh9bF4pGdkSuHFElbWRT9JZmX18HVVKrFrRXmRwbvfILSzFV6cpWP/hr8gZTchC2/CpmM5wnspUfPFIWiar1GTz8zQhuTi4uS2qN2kPpxKsdeQ+72Et/p7Qc5yceGnVzD8hx24HJuNnPT7OLnqIwx6dyNieQ4Kv0F4vbeT9CwBn4mMki0kbGs3Qf3SLKQxpawbFbl9Mu88B1du78es/r7IvLkL3738Cn6+/HwcMhPyNJTjFoOQ8iSHV+8f8MtIf4jn3eReX4yv/7hdoDXNzFypu6OojokHhB2+7oRQIzce6tSzmN66FFdxEN4/Qwg92h0bZwFrq0dfmzIvQ9IOvD9wAtZeTweU3mj75ixsPHIN0anZ0Gifk43to72N/sRKyglnBkVeU1tOFnKKlWI4mCuVuoMkZAvhp+gn8ZmZEHsriM8TL2xTnhtfmXsfDO5oL7ymUFcPbsCWaDENaxC+aTNOCB+GUwbhxcENdN008piZCxFZpED1iQeEz6xfXwveeHUqzk5vXbqLurBMZIrNwWJez7qOdf/rgbrulrCwrYImw2bgQCwPmUtLfLz4W3S11z1Fx0woY909RfWJOCB8FkPL9vDGq5F6djpK9TU3plR1o6K3TzJY+bTGOwtmYLCHsNZTj2DhHycqRTcqQp5FFIbJM8wW7d97E63EFjeWgYPz5gk7dmmW2MfPw01XgfkExFbomWW5uH37ri6Iyzzg7ZUXKcq6DDwebJyDlbfEk2wsETrlb+z69R30a14DHrbmT+7LqVBAwYk7e+GgQ6XShX5TI3eFu3gCl0ATfQ+RxVqVcrh7uOrWk+Y+wiOKOvlJg8hbEbowLLODbzXpeeVF5oqeg7tqW21Z5iFs2HwPvOYONm0+IYQ3DsqGAzAkqODv+wpPD+lEMh4JsXHafrkVJWnLZ/hky30whw748KePMah1EPxcrKE0t4VbQBP0emMm/j7xL6a102sZVXjCQzrbjX9aJ5CWqm48oe2TY0d0aSaeOKjG7TOnkVCsPhaEEH0FtjuEPGvkgcMxpod4YozYOrwS83emSHNk8KxfBx5ikymfijPHL5StVUR1D7cjjLyC6iz2HdH1w5TZ1EVI7bxQUdZlUOP6hWu6gKSoixf6B5Wq1U3sLygGWQ3Ply7IKmxgo+vMitSYGBTojZJHE4FTZ6ILtMxXCKnvI9PweKK9RBQBqFPDWrtB5BOO48iF4oQXBfzr14aD9kmpOLbvuF5f2Hz4+/hv7wVt4OQsGqJFqKGhBcrGscdgdBeDI8vC0Q1bEH5jIzaFCQc3nDmaDhyMGno/L8g866OOrvIi9cxxXKiwZsUcHN3+H2KEyqNsNhQfTvwGaw5cwJ24dKiyU/Hg5gn8NedddK1moPbLPFG/jof2lxE+9QyOV9xCGlequlHO2yejLODprjuAYMkJFIYJKSXxO0TIM8wZvUe9CB9xp6KJwuYF6xAlbfDNm72ATtq9jRAqV/2GbfpjSpUAyz6KaYMmYqv25+X8eMRunYOV17UxBnZtuqFd3thJgrIuAycTo58oF7mqwumPTzyKPacStUHcIJkVrKQgmxIdbTjIPo7CHwG+4mdgUJ38B/8UGpsrAXs+GYz/7Yg3vhzlQvawbzZLiUZ0qT5MaVmjbZdWsBHfPPcqlv/2t+FgkXISv705GRulMrJu+wLaa/unahCx+kcsvWP4cCF57wzM3i8ObyaDfcfB6O1RAZte2y4Y/IKnEBwZso6twy+/bcRJoU5xli0wcEC1wl1tzJvhhU66oKm+vgq/bct34l25YuB5XbnknlqNWduvIqnYydAczV7opAuV6utY9VvhoeMqXunqRnlun4qiUEoH52phG6K7RwgpIQrD5Jln3X4khtUW+2YKge/fhVhyVQocNl3w9piG2hNaNPdWYOyAT/DX7cJtc5qUm9i7ZBom/bgP+mNSPCIEiIvzMKTDK5hz9IHUAqpB7OEfMOKdVdoxRjmFHwaPH1BwjNEyLYMZaobU1e1k1ZexZv5u5B8VSxWxFR/2fBE/nhFDlBH5gmzO0TVYeVX6qV6dhKiYDN39x1HUQad2VSHuUvnEvzDlrcW4KI38xSefx9I3uqL/D6eRY2OrGx6rwijgH+CrDWcs5yjWrLwqjWmrRlJUDIr5aUpJBo8B4zBQd9SFe8vGYejX/+H+w9Cmwv19P+PlVh3x9oKtOH1XWlFOfTFhZB1tufAJO/B+3zFYfDbpUajk03B148fo+9JcXBfHyrUMxpufDCswXnb5sUbHIb21Q6Sx7CP4bV6Ydgxhm7aD8aKPoTe0QZe3x6ChrvJixdgB+OSv24VbtzUpuLl3CaZN+hH7jH+BimCBti8PRU0LDnzsf/jihdpwtlTC3NoOjq4eqFI1ADXrNUbbXq/iozm7cEtvRdt0eRtjGooHScJ6WTEWAz75C4W/Yhqk3NyLJdMm4cfSLWQRSlk3ynX7VAxP8pcUQp43jJiUSnc5Zi01u/Z9K931/aFgNd49KE0XZJ1hMzu5Mbl2nviLsCur3ao76zdwEBvYrwdr1yiAOZlz2vdQhn7NLhe8Du6jK5lZ1mNtm7tqX4eTWzP3GiGsQW0vZiMXrxomvDZnzmqM2WL4ylNlWYb0fey9Oua6MuAsmW/LQWzcuxPY2CHtWaCtjHFKX9ZjWAfmJhNe17o/W1Hogmo57PjHQborkIFjclsfVr9JI1bDzYJZ9V7CkqVHPY761lzWzUm6Spd4xSxHfxbSsC7zsZeuoFVtMFs4fyTzFpsdi7wCHcfsBq0R1qwhGnbnxzbMTHwPRV320fHC18vKOf6xdLU/cT3YMp/6TVijGm7Mwqo3W/Lww1TQ5ZiF5YvaMJIFaq8UpysHM2d/Fty4MQv2d2JC4NVOU1QZwTbmv+xx2lH2ZStH7fLoltuKedRoyEKbNGA1vWwe1QulN+v56/nCV1Arp7LTyt7PJgTqrqSmvckcWJ8lha/49kgWOzOzE3PLV89da7di3fsNZIMG9mM92jViAU5C/RQ/gzKUfV3wC1SCss5iJ6Y2YlZSWRi/ccwm6HW2LkLvfc7MZJ3c5LrvifAYc9farFX3fmzgoIGsX492rFGAEzPnxM+gZKFfXzZyueuylG8p60aZtk/Fkc32vu2vvVS1sv6n7PST2nRXcnQFOqKPwrCJebbCcDbb8YY/s5TLmbn3K2xtEclNE72KvexnyeQyJXPo+LM0VZJ+ia16rxOrZi2ER+FzFNy5CjdOwWz9WrGRC8/rXWq4YKha/eAsW/haCHOQ5e3wdDfOogrr8MFmdqeoYin1MgilcGUZe72Rs+6y0w+fwzFL3y7s023hLP3wR6yepZyZVXmdbTNwSVdN4j42tZWL3vNlzP21vwoHL6M0LHrnZNbey6zg8gvhqErHT9i2iFyWIy6HlZwpnXqy+ZF6O4rsPezdmuL6sWABb/1T6DPqaNiDPwcwV6WMKRzasx8M7fk1iWzf1FbMRVFwHcjcX2N/Pfww2WzPuzWFeiNjFgFvsn/03ix7z7usplBeMosA9qb+zMfKYbc3fcA6+lgWWo+czIYFdvuQrbtqoFSTz7BFY1swL/GSwnrPE9e9Q60+bOpftw2XS3mVnVYuO/N9R+ZlpRACrFDnao5nfyVKs4xKZ5dWvcc6VbNmMoNhVQh5tn6s1ciFTP9q08Uraw2L3f4mq2MplA1nxeqMWsKOXDjHTp84yg7t38N27/iLrVn4DRvX3kcItOL7yZjboFWFLpmcfmkVe69TNWat9/3Mu3EKW+bXaiRbWHghy6l8S1k3yrBteLwctn9CIFMIr6OsN5mFURguFgrDRB8n/k/4QhITwfM8VCoVkpOTERMejpTmzaU5wi7PwgL1o6O1wz4pFAXPPK8MNEnXcOi/gzh97S4SMjWQWzrAvWp1BDVshtC67gYu45qNzcOr4MVlCWB2g7A6eg0GWakRd347Nm4/hfvZlnD2rYs2L3RFA/d8A7QWoeTLIOGTcX3/Duw+cR2xwvt61G6F3n1awLu4Z9Rp4nB+x1b8ezYCSbkWcKvRDN17t0dg3qV3i4lPu4n9W3fi2LVY5Fh5oE7rXujdwsf4clcIjbAOdmDrv2cRkZQLC7caaNa9N9qX9MOURU40zuzehf3n7iBBZQ4n7wAEt+mCtrUcC/e9zScn5iz2/HsYF27FICVXBitnH9Ru0gGdW/jD1lBPhWeJJgnXDv2Hg6ev4W5CJjRySzi4V0X1oIZoFloX7qWtBKrj+KhBa3x/WQ3r1t/i2L8foK6hr5P6Er5u1RBTjqvAuY3Apogl6F3oPTVIunYI/x08jWt3E5CpkcPSwR1VqwehYbNQ1C31QpZAKetGqbcNRVLh6AfBaDPjKlDzfRw4PwPNi7epMmlqtRrp6em43Lo1ci9elKYCNsuXw7tjRzg4OGiv/CmTPetfWlJeKAybmOc5DJecoTAszSKElAvNla/RIvhTnMg1Q9ufbmDPRF8jJ6tkYt0QbwxekwzO6SWsu78c/Z/sUVglpMHVb1qi/uTj0LgOx8bIP9GHyuyxKAwTfbSmCSGEVBiWm6sdUk44FEdcdJTREQ/4mG3YdChN7DcAs3qNECJds4IURQ6fmoGwE/bkfOI+rN8SKZ10SggpCQrDhBBCKoyiRlu08BF/aVLjyqyh6PvhAuw4dQdxGWrwvAop9y/ivyVTMKD9aKy5rwGnqIqhE1+GX1F9DshD1p2EMq2iAKeJxPIhfrBUumHo2vIeUYOQ5xuFYUIIIRXHoi2mzHsfzZyEdJsTjp3fj0GPxv5ws1FCLjeHQ5V66PTaV9h0NQ3MKhD9f1qPX/qW8xX6nmf23TFjzQ94qYkP7JUcOLkFrJR0JEFISdD2hpgwDg4uLjCXy2Du5gZxX00IKW8yuHWejv0X9mPx1FHo1aIOfFxsYCYXgptMCSsHL9Ro3BWvfPgbdp0/i/VvNYKN9ExSHDI4NpuAZScikazSQJMdiUX9nuDJpoQ8B+gEOhNDJ9ARQggxZXQCHdFHa5oQQgghhJgsCsOEEEIIIcRkURgmhBBCCCEmi8IwIYQQQggxWRSGCSGEEEKIyaIwTAghzwN1LC7sXIF5P32P72bOwZItxxGZIc17UtJvY9+ymVhyJF2aQJ5LfAL2LfwJq45EIlOaREhlRmGYEEIqs5w72PHtq2jlXw0hPV7G+Pc+xEfvv4XX+jZH9Rrt8NG2+9BIDzVMg8hDa7B82TIsK3BbjjWHIqXHPEbGNWz6fCCC/Wqhw6jpWPDfJaikWUbl3MWhxZ9geI/WaFjTD77+ddCs51jM2Bn+TF5SOOfuISz+ZDh6tG6Imn6+8K/TDD3HzsDOcBO8ALLqAnbOmYbhrarDv/HL+HbHHboMNKnUKAwTQkilxCMpbC5eDW2InlN3AT2+wobjtxGbnIg7x5bj/Tau0ETvx/fDBuDbM0VF02w8uHYYq74ajxHDh2O49vYq3pq+HpcTHz8MfcaFxXi1aSgGTNuBzJYfY93ZWzg8pSnMpPmF8Yg78B361q2FNqNn4WBOTfQcMwkTh9ZD1qGF+LB3awxbcusxAf4J4uNw4Lu+qFurDUbPOoicmj0xZtJEDK2XhUMLP0Tv1sOw5NYzs7RPhkU7fHvqNk6teA/B8RvwSa+GaDl+Fa5nS/MJqWzEi24Q06HRaFhWVhaLjo5mZ44eZfuEKpB3229hwZKSklhubq70aELIsyuLbR7uyuTW9dkbmyOZ/rdW82A1G+IpF9KsjDkPWMHipenGZGx6hbnKIKZfJnPoweZHaKQ5xqWd+J51dJMzTuHJukw/zBIe+xQNi/l7Agux4Rjk7qyj8JzEh8/RsDtzOjM7Tnh/z+FsU7I0+WnSxLC/J4QwG2GZ5O4d2fTDicJSSjR32JzOdowTytdz+Cb2LCzu06CJ2cOmtnVhck7JvHv/xi5kSTOeYeI+TtzXHQ4KKrAPPLl8uXbfKO4jxX0lMR3UMkwIIZWSGVp9vBn7w/7F7D4+0L9mpMytD0b09IBcbEH+dzN2p0gzjBB3Brp2YA52HYZhgG/Ruwf+/lqMHzQZe+Kt0ezTjdjwUQs4PWaPor46FyNGzMbZDAWqj1yIlR+0gOPD58jg070rgoUPwj/YgU37nnZvVDWuzh2BEbPPIkNRHSMXrsQHLRwf/Zwq80H3rsFCufN4sGMTnvriPiUy9/b4YtM6TAoxQ9TWdzHgve2I46WZhFQSj9l0EUIIeTbJ4FyrBVrWdjWyITdDw4Z1oeCEcJl+GeeuFdVVgkfM7QikiiGGM0ODtq1hr5thGH8fKydOxKpwNWxbTcHCyc1gI80ySnMdc9/6FLvjeci9BmP6Vz3gprfgclcXXTjmk3H1YoRu4lOiuT4Xb326G/G8HF6Dp+OrHm565SyHq4suHPPJV3ExwsS6SuTn2A7TFvwPjS1UuL7gTXy0LU6oUYRUHoa3oYQQQio5Gew83GErhGHwD3A/qqh4koXTpy9DLd6VByC0qUeRO4e0/77GZ5tjwIstpl++gTr6zdKF8IjbNA3f7ksGz1kg9K2P0Vc/CYtUucjV3mFISU7S3nsq+DhsmvYt9iXz4CxC8dbHfQsFd5EqV7e0YClITjLhMCwwb/QePn/JFzJ1BJZNnonjdEYdqUQoDBNCyHOKs7CAuRiGWSYyMosIw6qLOHFGCKrCXZlDA4QGGT/9DXwEls9cgTtCcjZvOgrjWlpJM4qguY4/ftqIaCEvyhy6Y+xrtSCXZuWniYtH0jPQpKi5/gd+2hgNjbCLdOg+Fq/VMri0iItPohbQh2zR5c0RqKcEci8vwsz1sVQ2pNKgMEwIIZWYJu4kVn4xCj2a1oKPuwtcvfxRv90gvD/vAO5nq6HWdgRWQllE6y0fF4Yw7YgIHJT1QtHEUjfdEM31VVi2Lw2MM0fTFwci0FBO1KM+9SeWnsgCE3Y5Tl2GoLe74V2P+t5dRGsTFAc7B0fttCdPjVN/LsWJLPHcQyd0GdIbhhdXjXt3o3WBj7ODg2MxCuI5pwgaiH71xU7fCdj553rcozRMKgkKw4QQUimpEbn1Q3QIboGXv/gTx7LqYPD73+KnGZMxomEGNk/qhEavb4Z2dDSZDWztjIe1rBPHcT5XfKAc1RqHGgl/Ig3Ct27DKZXwWEVdtO/kY7CFtyAVwtZvxjWxD4bMEZ36d4XhmMsj6foNxIgBilPAw9tTN/lJU4Vh/eZr2i4jMsdO6N/VSCjnk3D9Row2DHMKD3h7UhiGogY6tfeHQjjsyTyyFTseUBomlQOFYUIIqXQ0uLt+DDoPnIEDMQrUfHUZToRtxA//G42XXxqFST/+hW2fN4UqIQnajCtzhZfRsKbCxeOnkSzmFpkdGoQGFTFGcDIOHDirfU25awia1HhsZ2Ehs1/Gjn9uacMlZ90CXdrb6qYXkotzZ6/oWrLl3vAPKEb3iwqgvrwD/9zSLi2sW3SB8cU9h7NX1NoROOTe/nhKi/uMMUP9JiGw4QCWdQL7D9P16UjlQGGYEEIqGfXVORg55k9cz+Fg3/pzrJ03FIHm0kwtOQK7d0ZtKatyCm/4+hgJrnwcwsJ0F7ngFPUR2qSIVJdzAacvZWsDoCyg9sPXLwp/by8OCKFRxHFXsGBYN3Tp0sXArTve3yT20xUep6yBoFpF9FuuMDzu7T0A3eJy4K4swLBuhpZVuHV/H5vETtBi15IaQXgqiyssb+aDCNxP0ZWvUapEREbEoehrYmiQHh2B6DTxM5WeRa2aqCbWCz4NF89c1R4EEfKsozBMCCGVCR+D1Z9+hT1JvBAaa+L16e+gnoEgJrO107bQieQ+NVHL2NhnWSdw/HyuroXTrxFCPYvYLWTcwm1tp14OVp4+cC9Gz4DMsBM4r23uFUKjLA3hly7i4kUDt3OncT1eF8QUNRuj8VPpMpyJsBPnda3TnBKytHBcMrSswu3c6evQLa4CNRs3NtL1oyKl4dAXbeFXpRp8vOth9NpIXf9lPZrrizGoljf8qnkjoOtPOGNolAfhgGjn+03hI7xWFd8meG97nDSj5BQ+vvCUiRVPjcibtx9/WW5CngEUhgkhpBLRXFmE2VvjheDDwbzZKIxtaiHNKYiPjUWCGOqEx1nXawRjA0SoLh7HaV0fCdg2CEX9Ilo4NTExiNNo24Vh5+RUjP7Caty8cAXp2pd3RP8FtxAVFWXwdnPRi3DWhnc5vJq3KVarc7lT38SFK+naUClz7I8Ftwwva1TUTSx60VkoWYHcC83b1C500ZMKl/0P5s46gjghubOMq1j6y1qEF2rUVePsslnYfCcbjOUi6r+fseCggTScvBW/zhW7yjDwyWcx79fN0oxSsHSEo7VYMgxZcQ+eidFBCHkcCsOEEFJpqHF5/SacEU9g48zQpE8/VDOSSFMvXUS4tuurGUJatoDhrq884sLCoBtIQoF6oaEoquurJj0dmVLAtrC00IXBIqlw40aE7qdyeS2EhBgO7uLjTu7er7tymcwV7bo1RYFeHwWokR5zC5eEkB2eWM6D2apu4EaE7od9ea0QGF/ck9i9X3dhCZlrO3RranxptVQpiE0supNCiXEOsNcOIq39A+b29rAqtEI42NvZQdtQK5LZwcHeQIUxs4f9wydzsLJ3kO6XAmcBCwvda7GMNKRq6wshzzYKw4QQUlnwcTh46JIuXCpqoE1bXyOts5k4eugUxNHBOEUQOnSuYmRjn4UTx8/rTrKT+6FRqFfROwWNRtunV8RxhZJXYXws7kZl6voYOwSiZhUjyV0Vhi07daFZ5t4V/dob6tOhQsSOaRjYoApcvGoipGEQ/N1cUK3dOCw89ZhrTRcTH3sXUdq0L4NDYE0YX9wt2KkNzTK4d+0Hg4sr4pNwdsWHeCHIF0ETdz6mz24JmbfHx799iN6NaqNe+9H45duX4FFo5ckROGYmfni5JerWDsWAz3/BxEYG2rBt+mDab++ga3AtBHd5G7992UeaURoyoW5Id4X6wlMYJpUAhWFCCKks1Ddw7Y5uBAPOSghBxvoS5IRh175YbXBV1OuJvrWMPE51CcdP6y62wdmEoGlw0WeBySzMdRfxEJZAlZOjXY4iCeE9Xju2mxDLvP1Q1chiZB9Zgy23xXApR9V+r6BzoWZsHvc3jkeXfl/gX/OXsOpqMrIz7uHA9LbIPTQfY7v2x08Xyt47lY+L1w1FJyyHt19VI10fsnFkzRboFrcq+r3S2UCrew4i/vsRI5vXRugr32P7jQwozcyK0ZJeEjL4vPA1tpy8jPN75uO1ekba9O1D8dbSQ7h4+TjWfdLe4JX0xH7PAQN/ws6zV3B2188YFFiGswFZDlTiLxcic3NIjcSEPNMoDBNCSGXBJyMlTdcJU+7mDW+l9m4hOUc34G+xjwRniSaDh6CukRDKx52QLrYhxKGgJihqIAmRzMkJDlIYTktJKUYYzkF2ju5RnLObkfGLE7F1wVrtFe04y8YYNb5t4a4aSX9j6rt/4gZrgInzv0O/GjaQm3mi1aTf8UUPeyBhH76euhJFXnG6GPicbOgWl4Ozm7vhHWTiVixYewdq4TGWjUdhfNv8S8sj6fwqfNyrPur1mokzlj7w0B09QK4wsrKeN+oUpKSLhchB5uAMJyOt64Q8SygME0JIZcGZQanUhSvOzALmBrfgSdi2cJ32ZCqZS0+8+WoNI10p8l9sQ4GqjZoa7RaQR+bqAy9r8U15pMXEIOVx4VNmCWtLaXktLGFpYHnVl+bj582x4DkFfId9ijeC9JM7j5iN87H+rgaKer3Qv06++TJv9BvYHrYcj8R/VmCz7vJ1pSaztIZuccU+0ZYGdpBqXJr/MzbH8uAUvhj26RsosLh8PHZ98ym2mL2ClRdu4My+7ZjcRmplLU63kueAJioasdrhOGRwqVKlyD7ohDwrKAwTQkhloQhE9aoy7c/tfHoyUvM68OaTc2YWpm94IIRLO7T64HMMMvy7uECFS3kX2+BsENK0fhEX25CY10btAF1i5iNv4qbYVaAoCj/4+Si1y8sy05Ghn1U14Vjy0UwcywTk3gPx3bQeBoYoS8W/fx9AGpPBrnZ9VNfLyvaNGkG89gfLOomDR7KkqRL1JfzxzksYOnQoXpr4Jy4/ZnkVfn7w0R5sMGSmZ2i7j+SnCV+Cj2YeQ6bYjWLgd5jWQ29pZW4Y8uclnNnwKXpqr8KhhEI/2xtTwmV9Vqlv3USktk7JUb1ObaEECHn2URgmhJDKQu6HF3o0gJmQ1/ioMwjTH0sr+SC+GDMTp7M5uHb+EnPermN8yC8+Dieki22Il1YODTV2Flg+8kA0a+ShbWnWRJ7HuYTHtcQ6oG27htp+xpprZ3G6wAXJ0nHy+1fxv+3xYNb18c7i2RjoZWCXpLqGC1fFk/BkcPXwKLTTkvtWg4/4BiwDd27clabmycD1PWuxevVqrFq0FeceN/iEQ1u0a2guhHcNrp09LYTefNJP4vtX/4ft8QzW9d/B4tkDYWhxYW5RxEgYRSnhsj6TNIg4dxGxYqWS+6NxaOH1RciziOopIYRUGgrUfXM63hJPlsoNw+xJP+JAZAbU2XG4vHMWRnXsje9OZcO9/VSsXf4WgopKZfkvtuHTEKE+xencaY7mXdvCWdhzMNUZHDqUIU03Rg7/Ee9jaFUF+Oh1+Pyj1TgXk4y46/sw/41O6DblANIcmuLdVVsxo7Oz4R0SH4OYeG1TI6xtbQs/RukIJ3txKkNKUpJu2kNCMJX67LLcdKQ9bjgHIcCNeH8oqip4RK/7HB+tPoeY5Dhc3zcfb3TqhikH0uDQ9F2s2joDncVCKFclXNZnEZ+AQ4d1o53Ivduja8MynIhHyBNU3t9mQgghFcmhA77/5298NzQY6t0foq2fLcys3FG3x/+wMTUEr83cieM7PkM716I376pLJ3Am72IbjVogpJi5xabzYPT0FIIzn4S92/5DmjTdGJlrH8zeMh+jQm1w8behCPF0hFvNDhi/PA7Bo2Zg28l9mNnLx2i/ZvDZyJJOwpPL5douFwVZwEK77Aw52frNqeLIBrp7MmtnOFvq7hsng2uf2dgyfxRCbS7it6Eh8HR0Q80O47E8LhijZmzDyX0z0atYBw4lVdJlffbwCTuxTThAYsJBW7U+g9G6dE3khDxxFIYJIaSSkbm3w/9WnkLUg9s4c3AP/t13BOduRuPBjb1Y+G5H+D42hGhw/9AR3BB/zuYs0KxjOyMX5TDApgvGjagDJccjdttSbHrwuK4SgHX917Dg2F3E3DyNg3v34eiFO4iLu4H/fp+EbtWMXdlCIjMXwq4uAueqdC3ZBfHQaBeBg7ml3gdX3ce9GPFDymDfpgtaPeatdKxR/7UFOHY3BjdPH8TefUdx4U4c4m78h98ndcPjFrfUSrWszxINItYsxe4UXqhSjTFyTKtSdhch5MmjMEwIIZWU3MEPIS3boUObZqjv7/z4E+Dy8FHYvuOk9mIbnEUTdOnsWoKdgRkavTMZL3rIwSdtx0+/nkLxurcq4OjfAK3atUWzoKpwMjwURmGcvXSlNd1wboWiN8tApnh1ESEMu7i566ZJ0g/uwIEkIZzZNMaEyYONDO1mhMIR/g1aoV3bZgiq6mRk5I7yU6ZlfRakH8BPs/cjQxyZ5OVPMa5uRbSeE1IxKtvXjZBnWs7dQ1j8yXD0aN0QNf184V+nGXqOnYGd4ZXybJhykIO7hxbjk+E90LphTfj5+qNOs54YO2MnTLZIngHqi0uw5GCWEC9lcO7xOl7yK1lwkbkPwPRvesODy8G5X97FzLMV2MFVGYDAquLyaRB3/z4KXVojLRoxKUIYljmjRi0vaaIg5SC+mbwCd+XVMGjOCkxu/Aw3tVamZTUoHYe/noSFNzSQ+wzFjC+7GxgVhJBnF4VhQsoDH4cD3/VF3VptMHrWQeTU7IkxkyZiaL0sHFr4IXq3HoYl0sUNTAUfdwDf9a2LWm1GY9bBHNTsOQaTJg5FvaxDWPhhb7QetgQmViTPhowz+HHiTzidw8BZNcAbH7xo5KpkRZHDb/hcLBxXBxZpRzBtyFvYEFlBK1PmgaahAVAI0T3j0mlc1EvDOefO4YpaiPV2zdGueV6I1ODOiq8w91YNjF3xL5YODxSe/6yqTMtqiAo3l47GyzPPItu6ISb9OQsDCl8XmpBnGyMmRaPRsKysLBYdHc3OHD3K9glVIO+238KCJSUlsdzcXOnRpFg0MezvCSHMhgOTu3dk0w8nMo00i2nusDmd7RgHGfMcvoklS5Ofd5qYv9mEEBvhc8uZe8fp7HDiwxIRimQO62zHCenFkw3fZCol8nTlXl7FPv/wY/bhO8NZx+q2TIgqjDP3Z4MWXWE50mNKJfcOWzc2mNnJOGYR0J/NPPTgUd0vR7lhn7JgM6HOKGqxSYeypKmiNLZzbDUmF+qZz8itLEmaqqV+wO5EpEl/PCXC939mGzOx2Zq5vfoXy7/kBTwLy1oauffZf191Zz5KjskcQ9mkv6MqZP2XN3EfJ+7rDgcFFdgHnly+XLtvFPeR4r6SmA4KwyaGwnB5y2VXfu3KXGRCuFBWZ69v1Q8Danb7h9ZMKZSvzHU425whTX6e5V5hv3Z1EQIXx5TVX2dbH+jtVNS32Q+tldqA4Dp8szSRVBw1u/Nze2YpHKyBUzBr95qs1aAP2R8n4sspuCSzM4vGsFBXpfAdcGdNXv6CrTxZXq8t0cSyrWNrMHOOYzbB49iqy6nCtiyZXVo2itWxFOpZwAi27t4zEl40uSwj6QGLvBrGdvz6CqttIYR44fsv9+rOvtpygl29F8uS0nMqRWg0ShPDji75lA0KcWYKzox5tZnAVlxKl2Y++ygME330WwYhZaC5Phdvfbob8bwcXoOn46sebnp9j+RwdXHUTuOTr+JixPPeL0CD63Pfwqe748HLvTB4+lfoof8bvNwVLo7aEkHy1Yu6aaQCyeE3YQ9SM9ORnpWN9JirOLjmW7zaxMi4viVmj5CRv+Po1TCs/qwn7E/9jnm74wyM+lAGMlf0nPU3VkzqBLfbCzCsrhMsLV0Q9Np6qNp+gNU7f8cA7/L5NGWlOjQJ9V3d4VurCbq/tQxXsnUloYnagU/7hKJWFTc4OnXGrPDHj8LxzOLvYuvsxbjiMQBfbzyDy/t/xrA61tJMQiqfZ2PrQUhlxMdh07RvsS9ZHEooFG993Ndg30tVbq7uDktBctLzHYb5uE2Y9u0+JPMcLELfwsd99Q8ORCo8KpJk3R1S4RQW1rA2r7gz/GVOwRg0eSF2X76LvR/UMj5ucGmZB+LFGf/gRnQkLhz9Dzt3H8bFyPu4seNb9A98dgbxMmszCzdztb+6Gr/l7Me7fpV496tojC9P3MX5HfPwQd86wuEQIZUbhWFCSklz/Q/8tDEaGuFr5NB9LF6rZWj3r0FcfFLh4aCeSxpc/+MnbIwWAr/MAd3HvgbDRRKH+CTTKJE86pQoXL9wFuevxyDjuf/oMsgqcM8is/ZC3aZt0L5NKOp4Umvk0yKryJVMyBNGtZmQUlHj1J9LcUIc31TmhC5DehsZF1SNe3ejdWGYs4ODY8W1zD116lP4c+kJ6IqkC4b0dje8gVHfw91oXSLk7By0/z6fMnBt81cY3iYALq5VULN+AwTX8oZ7YDdM3RklHDroJGwcheqO9rC3d0TwB4cKDx1GCCGkQnFM/M2GmAye56FSqZCcnIyY8HCkNG8uzREqg4UF6kdHw8bGBgpF5Rrc54lTHcUHwW0w46oaMuchWHVrFQYZ+q2Qj8Hcbn54c3cOYNkLi6P+wqvlnv/UuLRpNrbfVEt/lwUH2/ov4vWu1Ur8M7fq6AcIbjMDV9UyOA9ZhVurBhn8+ZSPmYtufm9CVySLkfnXq9Kc50j2VSx9YwDe+vMysj3b4s3PpmB0tzqwursFU157B6vi2uPXsL8xvupFTGveDJ+fzAbn3gu/H96E0QHP8QETIc8AtVqN9PR0XG7dGrkXH523YLN8Obw7doSDgwPMzMyo9duUiGGYmA4aTaJ85J6ZwoKV4jlCHLPttZjFGjvxOHsnG1NFLh5wMkXgBHagTONYGZPGlvQ2175H2W9y5j16O8uWXrn4ctmZKcHaUTPA2bJei2ONni2fvXMMqyIX30vBAicckKY+R9S32bLBVZmS45jSZwD740bBlR77Zz/mIFOykKlnWNTqIcxDHIlE4cOGrb5fuUcYIKSSoNEkiD5qGTYx1DJcHniE/9QBNSfth4rJYBfYFKHVbCBeMLYQdTTOHriIOA0Hyx7zEfH3aLhKs8pPDvZNH45fwqSz0sqEg1OnTzHvjQYlG/ifD8dPHWpi0n4VmMwOgU1DUc3GYIkIRXIWBy7GQcNZosf8CPw9uvxL5OnR4Pqv3dFswm4kywMx9q8TmNut4LW4NFe+QYvgT3Gh4ySMezAbP5/lETBqI4783hOu1BBFSIWjlmGij8KwiaEwXB7SsW6oL4asTgLPmcPBzQmWRraZmswExKUIARFKhEw9gbAvQirZ1aWKKX0dhvoOweokHpy5A9ycLI2ckKBBZkIcUlTCZkcZgqknwvBFSHmWCI+Eaydxo1xO0ONg7l4TwdUcin1yBZ+wDi8HDcGqGMCx13xc2DwK+iN+8VG/onO1t7GXV0KuUUNW8y38ffQXdCpG95mIiAjk5g3FQUgl4+vrqw2ZTxuFYVKIGIaJ6aBuEuUg9wybEixeNAJM5jSUrTM61nwG2zrSU3u1L8irsvH/Gul8kHWE/frGaDZq9Hg262DlGbg+v0fdRmTMaeg6ZrxItrKRnjJt2cmrjmfGi+RX9sboUWz0+FmsZEXyNLuMqNmtH9vqLm4h92Kv/ZUqTS9IffN71lJbVmCcRTD74IDhxxkSEBCQb/noRrfKdbtx44ZUk58u6iZB9NFhDyElpbqBGxG6k9XktUIQYqG9W5jqJHbvj9OOJCFzbYduTQ2Phao6vQGz5y/EoiX7cF+hlKZWLqobN6ArEjlqhYTAeJHsxv44bYnAtV03GC4SFU5vmI35Cxdhyb77KFmRcLBy9ISnZ3ncPODmYOyTGKC5hfXrj0G8xoLMpRP6dLCVZhSkiY5GnBgNOCs0fH8eprY2/DhCCCFPBnWTMDHUTaLs+PAf0b7mJBxQCYFu+EZE/tnHYPhTHZ6Eeu1+xHW1DJ4jNuLakj4oHHt4RM7pgeAPD0LtNATLryxCn0o3dCqP8B/bo+akA1DJXDF8YyT+7GOwRHB4Uj20+/E61DJPjNh4DUv6GAiCfCTm9AjGhwfVcBqyHFcW9UFlKBI+diF6+Y/B9gzAsvvvCN/2uoGLsPC4/1s31HhrN3I8R2Lz9UXoWYIP98MPPyAxMVH6i5DKZdKkSXB2dpb+enqomwTRR2HYxFAYLjt12Cdo0HI6LuYW1Q84G/veCULn2begllfDG7suYk5HK2leecvAqiHVMG5HjvR3WcjgMWIdzv/SCcW/ppcaYZ80QMvpF5FbVD/g7H14J6gzZt9SQ17tDey6OAcVViRPgerABNTp+AtuqRWoPnEPLv7UGoV6R6pOYkpoC3x9LheKpt/gwuGPUZNGUiPkiaIwTPTRmiakhPicbORoDyE5OLsZubBE4lYsWHtHiIkcLBuPwvi2FZn6GFRZqUhNLY9bGjKySnqCFo+c7Bxtp0BwznAzfPURoUgWYO0dtfAYSzQeNR4VWiRPgToqCg+0V9IQ6oW7m4FxmnncXfYl5l7IFcqKg9KjCrwoCBNCyFNHYZiQEpJZWsNSO2oYBwtLQ6MmqHFp/s/YHMuDU/hi2KdvIKhQQ2kitkzqhFbNm6BRcBBq126Hz46U9tpjVug7+wwuXrxYDrfz2DOtTQlahUUyWFpbCqUh4CxgaWhoDfUlzP95M2J5DgrfYfj0jaDCremJWzCpUys0b9IIwUG1UbvdZyh1kTwFuVnZyJV+Z1MqC58xz8esx0df7IfaRi6UlQyOri6FW44JIYQ8cRSGCSkhhZ8ffJRi9GPITM+A/iBemvAl+GjmMWRCDu+B32Faj4LjzOrYod3E7zDSPx7nzl/CtUgrVAksbdcUGex9a6Nu3brlcKuDGp4l7aGrgJ+fD3RFkon0jEIlgvAlH2HmsUxA7o2B302D4SJph4nfjYR//Dmcv3QNkVZVUOoieQrM7exgpd2iMsQ/ePDwcstaqqv4ffRE7G3wBd5roftQ5sKBFCGEkKePwjAhJeXQFu0amoMT4s61s6eF0JtP+kl8/+r/sD2ewbr+O1g8eyC8DH7LFLD3CUbDAHvtl1BRvTGaOFXer6ND23ZoaC6kYc01nD1doESEIvker/5vO+KZNeq/sxizB3oZ3vAo7OET3BAB9toSQfXGTVCZikTZoCGCtEcEGtzcuQmnMnTT+aQw/Dr0BXx0uw/mzx8KdybGZYak2FiIDd984iFM69oMr62JLBigCSGEPBGVd+9LyNMi98eI94eiqoJH9LrP8dHqc4hJjsP1ffPxRqdumHIgDQ5N38WqrTPQ2bmor1gazl+4DbXwNXQMaYQalagVVJ/cfwTeH1oVCj4a6z7/CKvPxSA57jr2zX8DnbpNwYE0BzR9dxW2zuiMoovkPC7cVgtbJkeENKph4MTEZ5fcbyCGd3YU1iZD7sUf0bNZNwzo3xkhtVrhgwvNMHvzLPR0FwJ/FWfIwSN566d48ZXBaN+wK76/WwddQ70M9DMmhBBS0SgME1JiMrj2mY0t80ch1OYifhsaAk9HN9TsMB7L44IxasY2nNw3E718HhNtcs7h5PlMME6JoMaNjY7NWynIXNFn9hbMHxUKm4u/YWiIJxzdaqLD+OWICx6FGdtOYt/MXnh8kZzE+UwGThmExo0rWYnIfPHanAUY38hRCLVqJF7chY3bL8Ki23TsPLAUw2uIPYTN0W7UaDSwFSJz5g38u2YPUptPw459CzGkWiU+GnpmqBF7YSdWzPsJ3383E3OWbMHxSKmJnhBCjKCh1UwMDa1WztRJuH3hEiJTFXDxq4HqPk4wL+YhpubWDLSt/QEOs1r438Fz+L7Z83E6lTrpNi5cikSqwgV+NarDx8m8mEfdGtya0Ra1PzgMVut/OHjue1TKItGk4PbpMwjPskHVeiEIcCz8Xcq+fxYnbmbDtWYIantU6sOgZ0QO7uz4CV98/RvWHb2HTP7Rbo0z80Kbd3/Hiq97wrskTe85d3FoxVzMX38QF2/dRXyuFbzqtMaLb32Md7r5lfAkU/IsoaHViD5a04SUhcIR/g1aoV3bZgiqWvwgLMoMC8MlsUeAbTAaBz0/4wooHP3RoFU7tG0WhKrFDsKiTISFXdJ2G7ENboxKWyRye/g3aYcObRobDMIiC+8QtBHqDAXhshP7ZM99NRQNe07FLvTAVxuO43ZsMhLvHMPy99vAVRON/d8Pw4Bvz2j7aD8ej7gD36Fv3VpoM3oWDubURM8xkzBxaD1kHVqID3u3xrAlt6h/NyHPEQrDhDwVKpw9fhbpTMhOdRujMQ0sIBTJWRw/mw4GOeo2bgwqElIcqgO/4rPlt+A7bh1O7JuHd/s2QTVXezj6NcVL363DLwM9IGdpOPHTN1ifID3JKB4Ptr+HLi98jC3htujwzW6c3r0Q0ya9jfe+XoUt33SErfoeNn8yDVtTpKcQQio9CsOEPA2a+zhxKgIaIfj5NGiCKnTmlFAkJ3AqQiMcHfigQZMqdDIZKRazVh9j8/4w/Du7D3z0G+Jlbugzoic8hMrEJ/2LzbuLTrDqq3MxYsRsnM1QoPrIhVj5QQs4PtxLyuDTvSuChffgH+zApn0FR00hhFReFIYJeRoyT+DEBTUYZ4XgJsF08QVB5okTuKBm4KyC0SSYSoQUj8y5Flq0rA1XI3szs4YNUVfBCQk2HZfPXZOmGqC5jrlvfYrd8TzkXoMx/asecNN7Tbmriy4c88m4ejFCN5EQUulRGCbkKVCdO46z6TygqIVGjW2lqaZMhXNitxFtkTQCFQkpLzI7D7jbiuM/83hwP0o3sRAecZum4dt9yeA5C4S+9TH66idhkSoXuouVM6QkJ2nvEUIqPwrDhDxxPKJOnEK42CPAvSFC/alDAPgonDgVru024t4wFFQkpNwI4dZCvCCMEGAzM4x0bdBcxx8/bUS08J2UOXTH2NdqGeymo4mLR5L+BRYJIZUehWFCnrhkHDx0DrlMBrsW7RFKYzQJRXIQh87lgsns0KJ9KA1bRUpGE4eTK7/AqB5NUcvHHS6uXvCv3w6D3p+HA/ezoVbrhlpTKg2P7qE+9SeWnsgS4rIMTl2GoLe74V2j+t5dRGvDMAc7B0PXFCeEVEYUhgl5wvi47di8P00Ifq7oPrAL7KXppotH3PbN2J8mRBHX7hjYhUqEFJ86cis+7BCMFi9/gT+PZaHO4Pfx7U8zMHlEQ2RsnoROjV7H5kQxDMtgY2une1IBKoSt34xrauGuzBGd+neF4ZjLI+n6DcSIYZhTwMPbUzeZEFLpURgm5IlKwoFvZ+DvJAabpu/gg97UuoSkA/h2xt9IYjZo+s4HoCIhxaW5ux5jOg/EjAMxUNR8FctOhGHjD//D6JdfwqhJP+KvbZ+jqSoBSbm6MOzqZSDAqi9jxz+3IGZhzroFurQ31mE9F+fOXoG2kVnuDf8AK91kQkilR2GYkAqnwe01kzF61HD0b90IvX6+CPO6IzF/+Qcw2UETNLexZvJojBreH60b9cLPF81Rd+R8LP+ARtYgxaS+ijkjx+DP6zng7Fvj87XzMDSwYAcbeWB3dK4tdY3gFPD29dHdz4e/txcHrohRWHgIdwULhnVDly5dDNy64/1N0dqLbXDKGgiqRTWVkOcFhWFCKpwGcTH3kJiUBata/fHJH/twIWwhhvob7r9oEjRxiLmXiKQsK9Tq/wn+2HcBYQuHwpSLhJQEj5jVn+KrPUngOSVqvj4d79QzEE5ltrCzEU+eE8h9ULOWje5+PplhJ3Be29zLQSlLQ/ili7h40cDt3Glcj9ddd05RszEa0y8YhDw3KAwTUuHM0HTCn9i4cR2WL/gBHw9vDV9TvwqvWVNM+HMjNq5bjgU/fIzhrX1BFyYmxaa5gkWztyKeFyKseTOMGtvUcP3hYxGboDt5jrOuh0aFrvGtxs0LV7RD+on9hfsvuIWoqCiDt5uLXoSzNlfL4dW8DfIanAvKxtE5b+L10a/jjV8OIUOaSgh5tlEYJoQQUqmoL6/HpjMqMHAwa9IH/aoZGYsv9RIuhmt7A8MspCVaFOoOrMKNGxHa/sKQ10JIiLFDMhVO7t6POG1odkW7bk0Nj3iiOo0Ns+dj4aIl2HdfAaU0mRDybKMwTAghpBLhEXfwEC5pE6wCNdq0ha+RLJx59BBOZTEhCysQ1KEzqujv8fhY3I3KFEK1sDN0CERNY9dFV4Vhy05daJa5d0W/9oW7W4j4mDO4+MAcVjaeaN6iHvV/J6SSoDBMCCGkElHjxrU7ulEdOCvUrldbiMSG5CBs1z7Eit18FfXQs2+two/j4xCvHXZNHCDCD1WN9FnPPrIGW26LUViOqv1eQWcjA07IfN/EzqR0ZKRFYlEfa2kqIeRZR2GYEEJIJcIjOSVN+L9A7gZvbyOdEXKOYsPf4UJ05mDZZDCG1DWQdPkcZOdIfYqd3WD4WhuJ2LpgLe4IWZizbIxR49uCBlUj5PlCYZgQQkglwsFMqRT+L941g4W54d1Y0raFWCde81zmgp5vvooahnpAyCxhbakbbYKzsISlgZdSX5qPnzfHgucU8B32Kd4IKhyqE7dMQqdWzdGkUTCCatdGu8+OQCXNI4Q8+ygME0IIqUQUCKxeFTIxw/LpSE7VDXdWQM4ZzJq+AQ94DnatPsDng9wM7+wUfvDz0QVrlpmODG1zcz6acCz5aCaOZYrdKAbiu2k9DF6dzq7dRHw30h/x587j0rVIWFUJNNJ1gxDyLKIwTAghpBKRw++FHmhgJkRYPgpnwsK1F8J4JBkHvxiDmaezwbl2xpdz3kYdo8nUAW3bNYS58FKaa2dxWgi9j6Tj5Pev4n/b48Gs6+OdxbMx0MvwLlNh74PghgGwF2crqqNxEyfauRJSidD3lRBCSKWiqPsmpr9VD1bIRdjsSfjxQCQy1NmIu7wTs0Z1RO/vTiHbvT2mrl2Ot4IMDoImkcN/xPsYWlUBPnodPv9oNc7FJCPu+j7Mf6MTuk05gDSHpnh31VbM6Oxc5A4z7fwFiOfYyRxD0KgGtQsTUplQGCaEEFLJOKDD9//g7++GIli9Gx+29YOtmRXc6/bA/zamIuS1mdh5fAc+a+f62J2czLUPZm+Zj1GhNrj421CEeDrCrWYHjF8eh+BRM7Dt5D7M7OUjxOai5ODcyfPIZByUQY3RmK4gQ0ilwjGBdJ+YAJ7noVKpkJycjJjwcKQ0by7NEU8gsUD96GjY2NhAoaCWDUJIJaBJRviFSwhP1MDCpQqq1/KHc6kG+FUj6fYFXIpMhcLFDzWq+8DJyMl5hWhuYUbb2vjgMEOt/x3Eue+b0RjDzzC1Wo309HRcbt0auRcvSlMBm+XL4d2xIxwcHGBmZgaZjNoLTQWtaUIIIZWX3AF+IS3RrkMbNKtf2iAsUsDRvwFatWuLZkFVix+ERZlhCBOvAiKzRXDjIArChFQyFIYJIYSQMlCdPY6z6UwI5nXRuLGlNJUQUllQGCaEEEJKTYP7J04hQiNkYZ8GaGLsks6EkGcWhWFCCCGk1DJx4sQFqBkHq+AmCKY+EoRUOhSGCSGEkNJSncPxs+ngoUCtRo1hK00mhFQeFIYJIYSQUuKjTuCUeNlnuTsahvo/Zgg2QsiziMIwIYQQUkrJBw/hXC6DzK4F2ocWdYEPQsizisIwIYQQUhp8HLZv3o80JoNr94HoYi9NJ4RUKhSGCSGEkFJIOvAtZvydBGbTFO980BuO0nRCSOVCYZgQQggpJs3tNZg8ehSG92+NRr1+xkXzuhg5fzk+oGEkCKm0KAwTQgghxaSJi8G9xCRkWdVC/0/+wL4LYVg41B90AXtCKi8Kw4QQQkgxmTWdgD83bsS65Qvww8fD0drXQppDCKmsKAwTQgghhBCTRWGYEEIIIYSYLArDhBBCCCHEZFEYJoQQQgghJovCMCGEEEIIMVkUhgkhhBBCiMmiMEyeDk04fu/jAUuFEpbOgWg7dhHOZUjzCCGEEEKeEArD5ClRIzMtEypejezEWziwYDyGTD2AbGkuIYQQQsiTQGGYPB3yQLy7JxW5aVfwW08XyFgubmxYjcM50nxCCCGEkCeAwjB5qmTWtTCkf3NYcIAm+gauJfHSHEIIIYSQikdhmDx1lq6usBPCMFgKkhKZbiIhhBBCyBNAYZg8dZy5EgoxDEMNVS6FYUIIIYQ8ORSGydPHcdBmYfBglIUJIYQQ8gRRGCaEEEIIISaLwjB5JuhahgkhhBBCniwKw+Sp48wtYK49gS4HWVk0mgQhhBBCnhwKw+SpU1T1g7dcSMOae7h8MREUhwkhhBDypFAYJk+dzLs3BrWzh4xlYPdXY/D9jitIVEkzCSGEEEIqEIVh8vTJq2HM4rX4YkBDuMb/jU961IVH48k4QYGYEEIIIRWMwjB5Jsg96qN5XQ9Y6QYcBo2xRgghhJAngcIweQbwuL98PIZ9+TduZXmh18z9CA/7BqFm0mxCCCGEkApCYZg8fZpr+HPO34jjZXDu/Q3mT2wNLwtpHiGEEEJIBaIwTJ46PuEgDl7IBeOs0LL3C3CnWkkIIYSQJ4RiB3nq+PA7uJvLxI7D8KtmLU0lhBBCCKl4FIbJU6dJT0OGeL4cZwUbK6qShBBCCHlyKHmQp4/XQKO9w0Em194hhBBCCHkiKAwTQgghhBCTRWGYPH0aHrpRhWXgpGGGCSGEEEKeBArD5KljublQa9OwEuZmlIYJIYQQ8uRQGCZPXVZcHFLFMCxzgLMLdRomhBBCyJNDYZg8VXz6ZaxYfwzZQhhW+NRGbXtpBiGEEELIE0BhmDwdmjuY3ckeSrsgvL09HjxnjjqDhqIZXYKZEEIIIU8QhWHydHAymFtZQCkT/nUMQNux87FyclNQFiaEEELIk0RhmDwdsqoY89cDZKvVyE68iX1zh6OulTSPEEIIIeQJoTBMCCGEEEJMFoVhQgghhBBisigME0IIIYQQk0VhmBBCCCGEmCwKw4QQQgghxGRRGCaEEEIIISaLwjAhhBBCCDFZHBNI94kJ4HkeKpUKycnJiAkPR0rz5tIcHZexY6FUKMDJ6DiJEELI84cJ+8FctRrxv/8uTdGxWb4c3h07wsHBAWZmZpDRftBkUBg2MY8Lw4QQQogpojBsumhNmzLhi05HQoQQQgjA2dpK94ipoTBsojiOg8zCAqxHD2kKIYQQYppYnTpQ+Plp943E9FA3CRMjrm6xm0RKSgoePHiAuJgYZB89Cvndu5DJ5VAIN/ppiBBCyPNM7DKo1mjACzdmawuzbt3g6ukJd3d32Nvba7tJUDA2HRSGTYy4unNzc5GWloa4uDjEx8dr72uEDYJILoRhEW0ECCGEPI/yYk/+/Z6tEIhdXFzg6uqqva9UKmk/aEIoDJsgtVqNzMxMJCUlaW/p6enagExVgRBCiCkRA68YfG1sbODo6Ki9WVlZQaFQSI8gpoDCsAnKG1FCDMRiEM7KytIGZHE6IYQQYirEboFi8LW0tIS1tbX2RiNJmB4KwyZK/HlIbA0WQ7EYhMW/xapA1YEQQogpEFuFxZvYTUIMxGIIFluJ87oLEtNBYdiEiS3BeTeqBoQQQkyRGIjFluC8GzE9FIYJBWFCCCEmjU6WM20UhgkhhBBCiMmi3wMIIYQQQojJojBMCCGEEEJMFoVhQgghhBBisigME0IIIYQQk0VhmBBCCCGEmCwKw4QQQgghxGRRGCaEEEIIISaLwjAhhBBCCDFZFIYJIYQQQojJojBMCCGEEEJMFoVhQgghhBBisigME0IIIYQQk0VhmBBCCCGEmCwKw4QQQgghxGRRGCaEEEIIISaLwjAhhBBCCDFZFIYJMXnpuLhsIrrU8YCTZ2OMX38XPNSI2PE1hrUIhJuDE6q1eReb7vIA/wAHfh6N9rU84ehYBaGjl+OmWnoZQgghpBKiMEyIKeMTsPfTruj1UzyaD2oDl/jTWLJoK44vGIreUy4iYNB4DKgLRB6cg68X7caq17vjjd026DbmZTSyiEHYn59j9hGV9GKEEEJI5cMxgXSfEGJycnBzx3bEN+2DZmwhunuPw39eddC41lDMWPExWjoCsfO6w2f8vzD38EP9IXOwYWY3uMsysaK/K17ZYofX/rqDRS9YSK9HCCGEVC7UMkyISTNHYPd+aOYkg+rSZdzUMGgyamDs72IQFjcPPGJjE8DE/wJGY+53YhAWJmuicf9BLpg8ELVrK7WvRAghhFRGFIYJIQIN7h4/iQi1EnVGf4yhPnmbhgxcOH8Tarkvhk5+G/XMpMnpJxB2WQ1F1cZoWkUuTSSEEEIqHwrDhBBBGo4dvQi1ohq6vhCMvMwL1XmcOJ8BzqU9era1kSYC2Sf243gaB/vQlmjw8MGEEEJI5UNhmBAC5JzGkTPp4GxC0KT+o3SruXsMYeEaKIMao/HDbsEqnPvvIKJ5CzRu0wpW0lRCCCGkMqIwTAiB5tZRhN3XQF5XCL2W0kRB2tGjuKCWo1rDhnDJ21rwiTh16hY0ikA0aewCGZ+EO7cTwEuzCSGEkMqEwjAhBMnHj+GyEHqrNGiCR12Ac3Dy8ClkwAb1GwU96jrBkpGcxoOxXCTcPoClE3ug65trcEMjzSeEEEIqEQrDhJi8bJw4ckb4vxWCmwTDXJoK9Q0cCYuGRlEHjRrl6wwh90ePvk3hwF/FvJcGY1b6a1iz+g3UpPPoCCGEVEI0zjAhpBTUSIq4hQQLHwS6U69hQgghlVclDMM80q7vxoqlG7D/UjQyOAdUbdQdI8YNQWPn8m/oVkUfx9oFC7E5vTt+/7Y/inoLTXoMbl67iZhsW/jVD0JV26fdVKZBesxNXLsZg2xbP9QPqoqnvkjlKOPfzzFyJY+ur43GsNa+oMs+EEIIIaSkKlU3CT7hOOaOboqABq9g7qks2HtXgXXiISye8jJaNnkJy24b7rSoufknRndojmZNm6Kp9tYMLbpMxq406QGGaGKw7/tBaFC7NSZsSEGt+lXBSbP08bGHMHtMB1T3rIZm/UdhVP/mCPCqg/4/HUeK9Jgni0fsodkY06E6PKs1Q/9Ro9C/eQC86vTHT8efzhJVBOYVjHqaXfikUx0E9foMOyLV0pznQ074TkwfXA/urb/DdeqPSwghhFQMsWW4UlDfZrPaWzOzav3YrOMJTCNNZppYtu31QKbgZMx98Cr24OGMgrIvTGOhSo6JjeGK6qPY5vtqaY4B2VfYH0MDmYXCjbX5ZDuLzJGmG5B9cQEbFGjJ5A6hbOL6GyxdnJhxjn3bxo7JlNXZ23u0U56gbHZxwSAWaClnDqET2fobuvfPOPcta2MnY8rqb7MnvkgVSs0eHPiW9fBRMqVPbzb77HPw4bJus+1fD2R17GVMOABjZu1+ZpFG6jUhhBBCyqbyhGGWzM5tXcX23MqW/n5EffkrIeiCcXZ92JJ4aaK+5D9YLwsxDCtZoy8usFxpciFCuP57fC1mLrNnzT87wlKlyYZoYrezN+tYME5RjY3YEPUooAv3YuZ1YRZCQPccuY1lSVMrnobFbn+T1RE+p6LaCLYhKl+C0sSweV2EZZV5spHbntwSPSlZF2axrq5ypvR7ma25V1mTYxa7/feX7MXawoEUB7H7kvZm1mE2y78qCSGEEFJ+KlE3CXvU7zkE7f0fnuv+kNy/EYLd5GCZl3DmkkqaWpD6zm1EaoRsoaiKVu1qQCFNL4hHwraP8MaCazBvPQWLPm0OW2lOIXwCtn00Hr9fyYXHi9/g276e+fqcyGDv4gJLjkf8lYvC+0qTKxifsA0fjf8dV3I98OI336KvZ77VK7OHi4slOD4eVy5G4nn71d0i6C3M//YF2EeuwoSJK3G/sg16q7mKP15qiAYvrQQbtADHbx7D1CZK3TyZnIZ9IYQQQirI87GPlbvCzUn4KJp4xMYa7jeacuYsbgqzZDYN0dzY9WNVp/Hz1OWIhD9emToOtQ0nZi31uV/wxQohVCrqYfSHA+ChV5KanGyoxHa9jHSkif9WODXO/fIFVgjJW1FvND4c4KG3cjXIyVZpmxoz0tO0/z5fZPB9eQrG1ZPhweZp+O5ApjS9kpD7oHbncVh+6jQ2fD4Ijf3roZavudF+6sWmyUBCTDSio5/CLeYBkrOl5SCEEEKeUZUvDGsScfnfVZj34/f4/qffsXrvdaTxcsi1oyTkQpWrfZSeHJw+fgbZjIMiKBRNjIwElbbrNyy+qIKi7jCMamMtTTUkHbvmLMK5HMCi1asYWV8/NfOIexCPXDFxmlvAqsyJphjSd2HOonPCJ7VAq1dHovAixeFBfK42BJtbWJU9ZD2LzBrg1VeawVxzCyt+3YQ4aXLlYI1mr76Dnv7lOyaG+uqP6OrrBS+vp3ELxOhNleyghBBCiMmpREOr8YjZ+z3efGM6ttzgUDW0FZoIweHBiT24bNcQvnf34WS8E4ZvjMSfffQCheYSvmzWAFNPMgRO2INLP7d+dDWth9KxaXgABixLRM0PDuLsd80MPEaSsh4vVR+MlfEW6DT7Kna96aN3VJGDPW/WRJffIqHsPh/3to+GszSnoqSsfwnVB69EvEUnzL66C2/66B3n5OzBmzW74LdIJbrPv4ftoyt6iZ4OzdVv0KL+ZIRZ9cEfNzZjhKs0o9LJxKoB7nhpQzqUnX5D5K7xcC/NoWvKHkxs3gO/XMl59GuAzBY12nVBfadyPCTic5AUcRbHztxDBi+9E2eDF1c8wPqhNA4xIYSQZ5i25/AzT8PubXyd1bbkmMypBXt/y2328DS61H1sYm2l9qx7KGqx948YGPohfvH/2bsPgCauPw7g3yxAhuAABRQFGYICiiDuvetE60TrVkRbba11Vfuve++9rXtTV63WLcpwA4IiiooCigtQArn8/pcQlREQNUDQ92nPhHch3OVd3v3u3RvUzlBAEJhQl20vVYlZpJyk4dYigrA0ee9LViWql+T3A/GBCQl06tLsSDWjUnDRtLCRDr9NIrIaevzDtuabJPL7oQwJ+WsbnbqzSf0mLaRGOvxnILKiocfzf4sKDZ+PvhUV+WhKvffnno/aLZm2dTZMH02i2XKK/YIOdEkBk8nTSNF5VBkP84uQSrdaRuE59iL9XFK6t28IOfPfU+XfERhS521FOQ8YhmGYb0GRaCbBRa7CwEHrcCvVAt2W78Gs9tYfpow1qoX2TSyVNbMCkSUqVsze0Fd6JQBX3/LnZ3EV1KxpqErNTP7kGm7EcMqpZitXzt5J74NUXDnljwRlB60obOrdAHXr1s281GuHOQFpfLQshm0VR6i6QeWf1Cs45Z+A9E3ahN4NsmwPv9RrNwcBaXx8IrZFFcd83yIk3r2A42cj8EJtRzYOT0NP40RANJJVKZlJERN8Aievx+KTRw6WVIZjJRGfoS8RcjXy03//K2RQcyI2TG+O0u+/7XI8+3cc+s+6DM026dVBxU4LsWqEEyQF1A7n/Pnz6NWrl+KiXpXCaD8ZUtX3c35Pzr+AfXcLgCyVP6PlRs7nFcsJRr20tDR06dIF165dU6UUXUUgGH6Bg1On4XgCoVjtnzC5S8ZRGxQEkOjoKNvACi0qw0nRkS4TDpGXLiNOEeeWd4NHOfVTsKXdj8JD/jUCUVmUy+E1SvLHCL4SzRfUQhg7eqKWkyMcHTMvlUvK8CqFPzmLKsHDwzTfP2T542BciVb0DjSGo2ctOGXZHkfHyigpe4X0TfKAh2n+bpHs8p9oWq0+WjSqjobjz2cLuF4e8UVttyZoXqcaOiwOzzKyBYfo9d3gVqsFmnl4oN/ueFV6HglLwMLckP/MOTy8F8VOqEpiOA5bi8Vdy0P8LkiVv8bFaf3x+xlNT8Kih5pD+qO2bv5Gw4rgd+HChWjUqBFMTU0hlxe14UO+QfwF6vW/xqBDDRd0XhWuSkz35tivqOPsjFqjDvMXyDKELe0AF3cvjNsRgtzmRmI+j/zldfw1pgNquHTGqvCMJfAbHPu1Dpyda2HU4WS+MA/D0g4ucPcahx0hLCeYzDiOg4GBAWrXro2//vpLlVpEKeuHtRj3eC19V1zRxMGQWq/KOJbvOy9pSycjEkBAxp3+oueq1A8SaEM7xe1mARXvtIVeqFKzeru7B5kIQMKSvWhfbsPwphylQZYifnt0qenSGDXbI6Nb0z1Jwr+XqPxg+kfNe72+dZAWjfehH3p504BR02lLQBz/W58v5eggshSBBLpNaWmMmvvpsls03VPRlERE5Qf/o37cY1k8BW6cTH/uvvtF26IQv6ol8bGQ8la5ToN5dC/TJqXR1UnVSKK8Xc/nyfc7KPON9Ld0aIC54pYFv15MdiPPqtLzKoX+G1aB+MsZ0v1uXY75rf0010ziHe7ZURpWWdF8Jz1vFJ+/xHYA+eU0U83nkoXR1JqSfG0mMXLkSOU+TJ8+XZXCaLW3obS+hz2ZOvehVUHPs5SbUgoYW4XEkJDn9Fuq8oejZ5eWUU8nU3Lsu4UivuKWXQXtbeh66mFvSs59VlHQ8yzffWkAja0iJkg8afot1ZmAe0aXlvUkJ1NH6rslogCa/TFFiVwup1GjRinL4xkzZqhSix6tD4ZfbuuiDFIFOg1ofuaoKl3KKRphowhO9ajxwnvZg9OUf2lIeX49X9DWmhGRY6CXvK0zGSiCYbO+5JdbMPxsNbXSVbS9tabhJ9UUC7Iomt9QTxl4Wg44lD4j3XscPdg7iKoYlaAa/abT2g1LaUyL8iTRKUcdlod8diHzbHUrZfApsh5O6jdpPjVUTDgisqQBh7LO0JZMdw/PpF5upUkskFDV8UE5T0iSR7L7W6mPvQGJillTl7XZP/OUq/OppaUOiYxdaPjfsdny7MWJseRRUkwSs4Y0xf9TZ5ST0pkfK/EnVj6IbK6ZILJwaD4YVki6OIk8FO3nlcEwvwj447TzZrr/pVdAmaTQ0UGWJMqnYHjx4sXKbVcUwEwRoJgldIg96dv2o33qLtb5EuLBxf20e/cBuvQo84Eoi95J3tYGVOWn42oqOphPxcUfoiH2+mTbbx+pz4oHdHH/btp94BJlzgoZRe/0JmuDKvTTcZYTTGaKgNjb21tZLu/YsUOVWrRoeTCcRlcmuihrEUU2I+iUmkAvLWgCOStmn9OtT3PvZj+jy0L+JHd+PUQVyfe/nMPN5N3d02uGS/SkPbkEw7LQKeSheL8cgnNZxGyqqwyWbfi/l/mNuJjN5GUmIuOWK+j+u19NPE4+lcQkMGpMC+98TkQio9ApHsrPSKfB/Cy1sAoyiphdNz1YtvGlD5vEUULwJvqlpS2VqVCNqpgragwlVG3S1S8OhtNJSZrLNNbE8etz+0Myfv1nBWgpdNzHKr1muM3aInwCzZ9gWJEvoYuaUymhKhhWLMJS1HxRGL9GUzh6tHccdf++N807r7l3Vbhw4QIJhUKqXLkyvX2b21Uroy1eHBlEFSWW1HtvfPbKio/iKHZHdzLXsacR/yWq0pjP84KODKpIEsvetDf+MwoULpZ2dDcnHfsRxLKCyer58+dkYWFBurq6FBYWpkotOvK7OesX4vDyZaKyY5iwjCUssvWNk+HqPj+Epwlg1Kgnvq+Yva3vq6AghMsAgX411Kyec8c4UYmSMFbcm3/7Gq9z6VVEb1Mg5R8F4lIwy9b2VoqgdRsRmAoU8xgInwYZh3jjELllJQ4/1UGtTp3wfuQzwwbo0c4aoqTz2LbztirxUxDepii3COJSZsi+SUFYtzEQqSgGj4E+eL9J8ngcW7UVL9puwLXIYPiN8lDOyifQ2AjEOtDJcWw6npBfn72v4wcifn0uTbdzRnj1SjGpiBAGJUrwe81kpgOn4WuxqEu5DO2HE3BiYn/MDNLUmMBCWHpNx/Zdm/Fz3dwOgk8jk8ng4+OjfL5hwwbo6Wl2TGYmH3D3sWXedsTYecO3bdb+EzKErOiJOtWd4ehgC4du6/A4W9NvIcp09EWPivewWfE+rGn4Z+Pub8G87TGw8/ZF26wnClkIVvSsg+rOjnCwdUC3dY/TO2RnJCyDjr49UPHeZuX7sKwowvKh42QJ/ny7evVqSKVSDB8+vMh1as4aOmkZEYyKG6RvpEiUfQrlV/9g1ZZbkIkrosfIXrDKtjdSXL50DcqBJBw9ULO4KlkNccWKKMf/Pn/1i0eKUSVyIDAygnI6DrEkW495+cNtmLk+nN+eSuj7hw+qZNrg5zhz+ipSRZao7FQiwwevAxe3KtDlTwyhwUGqNBU5xwcA/EEr43IpePgLAaP0CULEEkmWUFaOh9tmYj1/NSCu1Bd/+FT58BkKy6LH6mNYN7weyvKJQuHHDwU5J+O/Q6mQcVpcDPKBXcyTZH7PRShXsUIO024XFe8KE3r/TCOEVuixfDUG2ad3PFWgxADM6D8RJ1+qErTQ8uXLcePGDfTr1w+1atVSpTLaTP7wAPZeSEGF5m2QfeJPMar6rMWsxmmIvB0NsrDPMOJJBroeaNPMAsmnd8HvCQvBPg9/LjiwFxdSKqB5m+rZx9AXV4XP2llonBaJ29EEC/vSaoMDXY82aGaRjNO7/MCyoujJ746T3333Hdq1a4eTJ09i165dqtSi4eMRUKESo3KNajDht5JiY5A5Rk3GxdmTsPURYPH9DExuYaRKz4CLxKXLseD4wMjcrSasc6lpFJVzQZUy/Au4KISH51w1LLKqCke+xKaUp4hNH18tHfcA20dPwqEEPbj8uArTmpuoVqik3sHtKMVwayYoXSrzhuhZmPMnAUJqzANVSjrpyeGw0dOFrn5DzLubU4AuglVVR+XvpzyNVQ35lo57sB2jJx1Cgp4Lflw1DVk36dNIcXK4DfR0daHfcJ4qTQul3UK44rMSGsLJ1aHoBsPyV3j+Mn3GQEp6hVcavsgWlmqNORt+Qw3D9+EwUkKXYuCo/YjVwpNcSkoKpk+frnzu6+urfGS0X6L/eVxN1YOzu5oATEmEtFQpXy4aoppntRxeows3d2dIUi7j/MW3qjTm0yTC//xVpOo5wz37VUk6URpSpYp+r9XgWS2H1+i6wd1ZgpTL58GyomhJCdsAb8/mmBP3HVZd8MOIyhnikNQQnD4ahJAIwKySnvLi6OfD57Cs2QNMaeKJfltvK++I58WwYcOUj3/88UeRGuVHy4NhwLDNcAytpg/u3n6s9ovhA1te6hOcmd0D3ebcgEGdCdi2vBvM1e3JqyAEKdtIFOMLWrcPYxOro+uJxrWLQyh/jSsBN3K+haDXGL272kKSFohta4OgHJgqMRRbfTtg2J4XsPNeiV3Tm6BE1u2h13iVpIho+OA2y4YIDAxRTBGTvM1cugiK6aen0zPEKcaGy4Fe497oaitBWuA2rA1KHyorMXQrfDsMw54XdvBeuQvTm2Ssjf4cAhTTL6asSaRncelJWoiLCkDwE47/7DzRqF4RnPlMLsXLmBCcWDUWyy+kzy0uu7IRf644jpDHiRodKs6g9kRsnNoE70cjpDTc+8sXwzbdS/+eaZEdO3bw34E4eHh4oHr16qpURrvJEH37Ht4IzVGhQg6lr/wJrt98DLnEGZ6eOX9f9StYwUyQhLu3H2jdsVkkyKJx+94bCM0rIOesuI6bj+WQOHsi56zQRwUrMwiS7uL2A5YTRYX86WGM7DQcQXVX4Z8Ng+GeNUARmaPD1O3YvXsR+tipgmRhKXgO24yjS2vgzBAv/HbiRXr6R7Ro0QLW1tYIDw/HP//8o0rVfl8WHxUEPU9M2rcD45pL8Hevyihna48KZa3Rat4DuP+6A+eO/Q8NcqjxlF6+hGvKNhJO8KxlrErNiQladmmJUkIZ7v57FGE5Rh36aDRlKxZ0t8HtGfVhZVEeZczd4HvKDL2Xn8D5jb1hr/aiWgShshJOhrT0GCcT5aqsUfK7NjcCQxgrGjTnRL8RpmxdgO42tzGjvhUsypeBuZsvTpn1xvIT57Gxt30ONS6f5sPmfOyzLCwc7h85hpsyAYwaeqHdZ81fXHhSDg2EpV4xlCznjOZ8IRSmGBiaR6m3sW1ECzhbGkNXxxhemzTVlkEHVYavwyIvS4iUByCPewK/XwZicWjuLcoK2ooVK5SPPXv2VD4yRQGHhIQXkAsMUNwoh+9icgAu3ZRBVNEdnpY537oTGRaHYhCUl88SWDD8ObgEJLyQQ2BQHDlnxSW+7BShorsncs4KEQyLG0JAL/EsgeVE0fASxyYMx/rkzpg1qwMs1OW/qDxqdeyCLh2y5r0IVl3mYka751jhOxknk1TJuVA0uezevbvy+btyuygoEtGCuEI7TDt6B3EPL+PItq34+2IU4h9fw75pXeCY3lxWDRlunbuEWP77KrZrjKY2ORe075Ro74NethLIQndgw4VcOhMZucN32w08iQnDWb+/cfpWHOIjjmHpkFp8MK16TVYCY5Qw5iMORQ3xq8yFCCUnIZkE/IWYmSolnfTRI8RzAkgq8dtvl/sNfyN3X2y78QQxYWfh9/dp3IqLR8SxpRhSq5SGMlmKR4/iwQkkqNS4qSpNy8huYvPWAEiFlugytKv6L70W02u7FjGpcsjTR3lRs8jBpb7Cvh++qL1LZqIK6KloP2z3of2w/MUpTOo3DZfUTw9Y4KKjoxEYGKh87uXlpXxkigY5pyjrhBDk8F1MveKPy4mAYTVPuOZ2xc6fYAX8AcomV/lcfNmhzAr+PJOekEUqrvhfRiIUzVVcc608EfLvIeDfj2VF0VAYHSc7d+6sfDx27Bhev36tfK7tilS4oFfGHtVresDVwQJGH4ttZWE4cDgMMsWUyN91UNN5Qw29evh1UgeUkd/F5qnrEfmRC19dU1u4elSHY3mTj9e86tjC3kYXAu4Jf3LPXOuWHP0Qz+QiVKhSVZXCkz+B3+7TeC22QZ8Zo1ErT1W7ujC1dYVHdUeUN8nTL+SZ/Ikfdp9+DbFNH8wYrY2dl+R4vGMqVl2XwaTpOIxvo62119pHaNoGczb8CjeDd+EwISl4FvqPO4683RjLX4cOHVI+urm5wcrKSvn8k3FJiI24jPNnLuB6dOJXXLvIISk2ApfPn8GF69FILNQdFahqEZORnKTuFMrhYUAwHnBiuHh6pndMzoE8OQlvSQCD4sWLyElLm/KBJzBEcUMBKDkZ6rPiIQKCH4ATu8DTM9ec4PPyLUhR21+8SIUP36jC6TipKKvLly+vnK7533//VaVqt6/0aJYj/u95WH89DTBqAJ8hNfPYTEAIix7zMb9bOSSdnIzBC65DU4NNAcZo1MQDevy1d+DZwAxTFCfjov9VSEUV0LK9hyqNQ8TqgRh9tDg6L/fD0o5l8j2j3tW4KGols+EisHrgaBwt3hnL/ZaioxY2P5BFboDvbwfwlA/sZi4ZgkofvxHAZGBYZxI2Tmmcof2wFOErBuGnPU/yVBOQn94Fw5/VVlgej/NLBqOJnTmsa3lhwAAv1K5kASevBQjQ9EzUhYov884vweAmdjC3rgWvAQPgVbsSLJy8sKDQdlSMihXLQSyPw8MYde3O0nAzJAKc0ALO1RXT7L9BdFSM2v4a0kcPEcdJUK6ilZZ3itXGfOCJK6JiOTHkcQ+hPituIiSCg9DCGdUVHXDeRCMqRm1O4NHDOHCScqhoVbTH6vk2FE7HSYFAgGrVqimfHzx4UPmo9egr8vrWWTp69CBtmT2A3EsKSSA2p9ZLbn76zG6JQTS3pTlJJOXouzn+lKCpCQ8S/Kh/BTEJSzShudfTZ+ZKDJ5GDYxFZNZ+LUVlmGQi+eZu2vBfDH3WvBOfKukWLW9nSkIIqWSbpRSebdKwZLq5ewP9F1MgW/PJXl9bRd3s9EhUqj5NPpPwGQP7M0qy+7S5s2LmuPRBLBSLsEw7WhNZePmumNmoePHiym2ZPXu2KjWPUkJoTVdbKiYyoZoj99Ad5WSGyXR9ZgMqLpSQ3YiTWWaILKpSKGRNV7ItJiKTmiNpT/qOUvL1mdSguJAkdiPoZCHtaFrQeKoqyWkynxe0vq0eCUSW1H3Nado3uSXZe0ykC9nKHyld+s2JxBI3mnxdM1MC5Q/tzQfFBFZB46vy57RqNOmqms/wxXpqqycgkWV3WnN6H01uaU8eEy/w35YspJfoNycxSdwmk1ZnBZMu7TpNdpOQ2G4knc1h/iPu3nxqoCMgnfpzM8UgmaXQf8MqkEhSk6aF5e18MHr0aGW5bWdnp0rRbl9RMJxMB/ub8ydyAYn1y1DlRn1o6sG79NlzVKVE0r4xjamcnh6VaziUFh69o5ETZ+KVldTHrTTpFDMjOyc7MjMqRa7dF5C/xiLuvEveO5DsLE2puA5/4aAKfvhrOhLpmlDZ8vbUa1Os6pXaKeX+KVoxqiXZGEioTG1f2hJSaGearwYXf5AG20syHA9CMmk0m65/7lzhX+jhw4eq7QAdOHBAlZoHXDwd8XUiPYGYrH/YS48zfL242JXUgj/xC83706ECncQumXZ1L8EHdda5zob5aTiKP+JLTvz+iK1/oL2Zd5RWtuCDTaE59S/YHf1A6k+jK4tJlz/RZp8gVEZR6zuRpUTAb6MR2XecQafj1JSDsjCaVlNCEufxFKSRAOwbzAee1H80VRbrUv25d7NXssiiaH0nS5Lw50+hkT11nHGa1GfFNKrJX9w4a2DafoXkXd2phFhC1r7/fXqlFfNxKSdpuLWIJNUmkbprIIXXO7pSCaGY7Eedy2UW0jQKGFuFxGJ7GnUub7OKrl69WlluK2YMLQqzhX5VNcOKAiktJU2jNYOvbx2k+SM6UeOhO+iZKu3LSSkh6joFBV2nu89YEfC5Eg//Qs3aDqEZe27Qc01m+jcu8fx4qqEveB+EQqBPNcafp8KYgfWff/55vx23bt1SpX4MR8/8+lMFMX9hZ96Ntj/JcnC83UM9SwgJkto0M6Iga72TaWfX4iQQWZHPCc1877ln6XebBCJz6rb9SZay7y3t6VmChJBQ7ZkRBXOXKRsZhc9rSIY61ej3YHUnURm9fhRO4Y9e57h9Kf6/kpPEmJovVRPEfZZvMR94snCa19CQdKr9Tuqz4jU9Cg+nR69zzAny/9WJJMbNaWn2K5vPkryzKxUXiMjK5wQLhvNDygnyseKD4Rxr8qV0+sdKJBaaUNcdr1Vp6qjuLIht6aczeQuGT58+/b7svnr1qipVe31lbYaFEOuKNdq+1qhyW4xavA8nV3RDKVXal9NBSWsXuLu7wKZUrqMfM7kwbDMXxw+uxNjOztnHdWY+m2HdSdgwpdGHz5Te4MrcARhzNKHA2w+HhoYqH0UiEWxsbJTPP0p2HYv/t1XZMct54G/oUjbLwcFJkZKqKKOTkZSoeCyqZLi++H/Y+oCD2HkgfutSNkvZx0Gakqo8GyUnKaYoLwwiOAydjV+qRWHZ+NWIyNZeVQQjSwc4WBrxz9RIDcWScWvwuOYYzBpgo/41ha4o5ANP5IChs39BtahlGL86gt/qLERGsHRwgGUOvdNTQ5dg3JrHqDlmFgbkYXQmRgsUYsdJB/5YeuddOa7N8rZXDMN8Q3Th/NN6LOho8X78YcVYx2uGjMCumIINh98VoopB3HV08tYNNunYMqy7LlWODtO3v0u2Dlfyp3F4lqYISXShp/9uBI0iKOkYlq27Din0UK9vf7hk31HEPUufxVBXT//90HmfTo6XN3di6rDe6OY9Eiv8s14UvcLNHf+DT59eGDD7VPYRSPRrYuJfi9Hy3iR0HrodEXntlZwchk0DvDDtSXss2zwG1fVU6dqmwPKBJ3+JmzunYljvbvAeuQL+GaccVXh1Ezv+54M+vQZg9qnsY8Ho15yIvxa3xL1JnTF0e0SeO4gnh23CAK9peNJ+GTaPqc7vKVNQUu6fwNKxA+HdaxD+2BuRofN9Otmt/ZgzdQqmTOGXqfOw/1aGjo+F2HGyTJkyMDJKnxm4KATDX1kzCYb5XFKKDQugixcvft5yKZAinn1dbTW4uL9poF3m9sOmbVZQRAF2nGnatKnybzdp0kSV8jEvaXdPRWdQAek3W0oP1GRJyn/DqIIIJNBrTWs01/YpDzR7e/7l7p5kKuT3Q78ZLVW/ozSsgogg0KPWn72jHMUf/5XcSxQn09IGJBSARJb9yO/lu9VxdHRUdTLitwMQkcWAwzn205DFnKAZ3zuTVdUONPlIjCpVHRlF/z2B2jpakWuPOXTqsaYbFhTFfOBx8XT8V3cqUdyUShso+nmIyLKfH3/Eq1bHHaVR1Y0Ut3sJIgsacDjHnKCYEzPoe2crqtphMh2JyaXckkXT3xPakqOVK/WYc4o0nRWsmUTukgLnUHMLIypV2kjZsVmg50aTgjI3U5A9CaSNA51JR9HxWVCMGi+6n6GZTuF2nKxataqy/O7Ro4cqRXuxYJhhFLhHtLixjiro+4xFYEBeW7MVIUXe63NjqXrG9sNCE2o0L7TA2j3WrVtX+XfbtGmjSvmIJD/6oYyQzw8dqjs7Us12chS9sJHyxCGyGkrHC/QMrMkgLIn8fiijDPp16s4mdQN+cNELqZEOn3f83xv6mTvKxe+h3tYO1Hd3NKU9/5v6l+eDOqEpee9TdFaVUtiSlmSqa0WtxkylwQ0cqNdf8Vnay2bF0cvwk3QqJPcW6C9v8K+58/oj7/W5il4+KD63+D29ydqhL+2OTqPnf/en8vwFndDUm9KzIoyWtDQlXatWNGbqYGrg0Iv+iv/Ip8e9pPCTpyj3rHhJN/jX3HmdTznBguGcJZ2hX6pWoA6rwuht0mn60V7Ml4Visht5NltHt7cH+1NZxQWZ8Xe0JsvFTWF2nKxRo4ay/Pby8lKlaC+B4h9+YxnmG/cSZxb/gd231d1LygOBLqr9MAMD3fN2K7/okOLG3FZo+NtpvFTekRWiVO+9eLS5Y4HcKvXw8EBwcDA6dOiAAwcOqFJzlnpuFKo2WYg7nA7MnWrAWjHrYyaEpOhruBmTAp0mi3H3+HBYFlhjsTfY1c0c3feaYOix21je9Av6C6Sew6iqTbDwDgcdcyfUsDbOdvudkqJx7WYMUnSaYPHd4xj+WTuagvu3HqO0ow0M+e3/u18ldNr4DA5jzsHf6yhatFgD0+nHsde3ShG6dV4U84GXch+3HpeGo40hvwt/o1+lTtj4zAFjzvnD62gLtFhjiunH98K3ShHKiV3dYN59L0yGHsPt5U3xpT1oEu9ewKWY0nCv56CmHwmHp6HncD3JGrU9K6iZ5EWKmOBziJBURQPXslownrUMT27dhY6DA0oJU3H+56povOAOBLWm4+b5cXB432xbjpglzVDpp7Mw7X8AYWvbIr1xggoXgflN3THu1Sj4B/yJGllPUVwiYiIfAxa2ObQXl+LiGDc0XG2JBVeOwvcT2ovXrl0bly5dQps2bXD48GFVqnbS2mBYMWgzw2iCth3i+Xls58u+cvewpmNNDD30DHKBEerN9MepMVUL5GTh4uKCmzdv4vvvv8euXbtUqTmR4/6CxnD4+SxkJq5o39k9e6dXisXFXUcQliSC02/ncXWmZx4n5MmrRFxaPxeHotRNOcbhtt8C7AkrBndvH7QoryYoEkhQ5fsJ6JGt4Wlm8vsL0NjhZ5yVmcC1fWe4Z99RxF7chSNhSRA5/YbzV2fCUwM7+nRdW1gPOgJ5vX7o9nwfrjTfjZPzmuU8DX2h+brzgc8JrGtrjUFH5KjXrxue77uC5rtPYl4zTU2/rzmJl9Zj7qEo/lPPjrvthwV7wlDM3Rs+Lcqr2XYBJFW+x+QeLqqfcya7/CfqNPoDQcl6cB7zLwJn1st0gfbyyFC4d1qNuzJjNF1wEcd+rJyhQyaH6PWdUXPw33gqtESvrZfx1/dmqnVqJF7C+rmHoPbwygOBpAq+n9Aje/vyXCTt7oEK3XfgpXEP7Hy4DV3eR/MJ+MvLFn2PVMLkgEuY5Jr9Td8E/oHGzZfAZJo/Dg93+KSyOzV0LlrUmwbZrydxYvyntRdv2LAhzp49i6ZNm+LEiROqVC2lCIa1kWLT2MIWTSzaRt02amrJD1ycHw20VbQdFlKp5osoLG8j62jEuzZnfDCsSslNCh0dZEki/hpft+lSUtcUUnZrOnlKFLesy9Pgf9S0qXx9iw4uGk8+P/Qi7wGjaPqWAIr7lDYhBdTcJuXoILJUtHvWbUpL1e8oTfdU5JmIyg/+J4d2vDKKD9xIk//crWYMYPXSQv6kGhLFtgqpNH8shBTgsfBJikA+cIn36eK+VTR9rC/19+5J3v19acLCvXQtT30P0ijkzxokUWyrsDQ1XxSS7da5duDo0eLGxMf/6j/njy4CMvDaqnqv3MWvakm6inaz/O/pNJhH9zJ9jGl0dVK19M+Lf8/i3+/I0i72LR0aYJ7e3lrVFCE33KPF1Fjn3TZ++iIw8KJPbVXH3ZunnBwDkhr0v5sfGitwT9ZTexMRle2+Q20Th3RpFLGxB9mVqEIDtoVnbxOcg6TQjeRtb0L2fbbS3c/oK8IHw8r9zXufj8LDmkkwDJMzLhp/dauLfvsUt9G8sOHCTvSuUHDDKrm7u+Py5cvo2LEj9u/fr0rNSQLWtLbEkH9kqDj8OG4taZzltiuHewuawumXM0izGAC/iLX4LsO9UvnDfRjaui/26HXBrz4NUPz2dsxacBrUZiH+2emDKnm6hytFdOBphGXt5a+UhotzemLqGUO0n7kGQ6qqqZ8RiGHu2hTVFD27c5GwpjUsh/wDWcXhOH5rCRpn2Tbu3gI0dfoFZ9IsMMAvAmsz7ijvTdQRLJn0O+buvIpXlcfB/+o0uOeluijlMAbYtMf6eAsMORqJlc2/9MZ2ftHufEg6NAIe3itxm7PBd0OGoH0VfcScXINF264i2ao71p/+C70+8j1LOTwANu3XI95iCI5GroS2ZoU0OhCnw9QPy5h2cQ56Tj0Dw/YzsWaIurtNAojNXdG8mrnq55xx0dvQv8VgbH1ohk5L/sGOAfaZhuKTXluADm3H4kRSZfj89S8WtSuTqSb65X/j0KLrXFwT18WkA4cxsXb2hhTvSaMReDoMag+vPBCIzeHatBo+cnhllnoWPzk1xeJ7hui+4xG2f6/YPg5hM+vDfQphYsA5jFd3LL/H4fF/czBy1ArcsumH2csnobVFDhvAPcDByb747a+HqDZiIeaNagTzzyj269Spg4sXL6J169Y4cuSIKlVLKUNihvnWcXG0Y0gtZYP/z1vq0a9Hv7YuIFIKW9SMSio6ZkhsaYBfXD51aMoZX5gqaxa+++47VUouZKE0xUPCv16HGsy/l31bZRE0u66uspbOxve/zLWlXAxt9jIjkXFLWnH/3W8m0nGfSiQWGFHjhXc00GlQUx23ZBQ6xUNZy6XTYH6WGjAFGUXMrqusJRPZ+NJ/GXaUSwimTb+0JNsyFahaFXNlR8LcZqfK6u2VaVTPOL2DYsMFGXutFyWFnw/P17QmXWFZ6rQp+sNnyB+Da9uakGJyjhp/3PhIR6W3dGVaPTJWfDd1GtKC98ds0aL5DnRSkuZWRc7x63P7YGX8+i//oueTF7S5oxFffmU4Pl4cpAFWOmTr8+/7UUU+qgA7Trq7uyvL706dOqlStNenXJcwzFdMhucPwnHr1q3PW8IjEPP6MxuQaak3gTPQb+J/eE7F4PzTWsxrb1bg7RF1ddOru6RSqfIxV/QWKYqXCcQoZWaabVulQeuwMTAVKOaBgT4NMrV94yK3YOXhp9Cp1Qmd3rchNUSDHu1gLUrC+W07cVtrspfwNn1HIS5lBtPsO4p1GwORimLwGOiDBu93VI74Y6uw9UVbbLgWiWC/UfBQVCQJlP9/lDz+MEb1WoBX1jaQ8N+XkOBgvFWtyxX3FEGb/sCUPerbjRZdn5sPgFHrP+F37CiW9bL6cJwKzeDhZg0Rn0/P4uNz+az4fDw8Cr0WvIK1DR+Ky0IQHJxbTsiRFH0J+1fPwLjhA9C7V28MGD4Ri/Zd/+yaTe2lg1yHIxfy63OrPBXx6wvuxtcnMoSrqx3E/JFxPzKS/wam4vqSKdiR2h5/TGwKY9WrPkpoDIfGjVDFUPWzWsZw5l9ja5T1oP40qanpYxa/K8e12ZftKcN8LYQW8DnyAsnJyZ+3JMVja1d91Zt9BV78hwn9ZyAwUYDitSdg/ZSGeS9sNcjS0lL5+PjxY+VjrgRGMFLe2RRDIskS3skfYtvM9QiXiVGp7x/wqZL5jPj8zGlcTRXBsrJTpl7oOi5uyuYRstBgBCWpEgudAEbpOwqxRJIlkJXj4baZWB8ug7hSX/zhUyXDrWchyvZYjWPrhqNeWT5VKMz7CUAaiuU/DMSecpOwZU4rlBPK8SrIH9fUjc//3htEHZkF75pOqNNvOnZdfa5sMPn1+Nx84F9v6Y6WzaplufUsRfTDWHACfTi6VOYvONSThi7HDwP3oNykLZjTqhyE8lcI8r/Gh0bqJOHQiCooZ1sXfeZdRJpNbTSpb4vUi8vxc5eacPfeiuiv6wrlKyaGrasTjPnv3uuoO4iOWIMxCyNR7/eZ6J5Tc4dCFhMTo3x8V45rMxYMMwyTmTwW+0YNwrIwKQSlW2DG+t9Q41O6EGtQlSpVlI+RkZHguI+ctUVWqOpYGkJKwdPYjG0UOTzYPhqTDiVAz+VHrJrWHCaqNelSced2FNJIAJPSpTJP+atnAfPSQlBqDB7EaEvUIIJVVUeUFhJSnsZmqt3jHmzH6EmHkKDngh9XTUPzzDv6aV6F4vihYMRJ72OXjxd+u1kP89cMg0sND7jqCyC7dxL/3lIMRZiKkJU/YbzfQ1VtphzPL2/G6FauqDNsB649eQ2Oj4LF4tyq5IoizeZDaugKzNsbB10XH4zvZZnp5Pwq9DgOBcdBen8XfLx+w81687FmmAtqeLhCXyDDvZP/Ij0rQrDyp/Hwe/juWE1D7N17SCzdAcuOH8Dcnwei39DJ2HRwDtoYy3B/zwJsDPvM4SSZAqfr6orKfAEljzqNKT/+iUCXCZg/uFLmMktLJCQkKBeFd+W4NmPBMMMwGXCI2jgUvlvuQSYqh+8XrcZQh8ILYt4VoorbbdHR0crnOdND495dYStJQ+C2tQh6pUhLROhWX3QYtgcv7Lyxctd0NMk2ACnh9askZa1lttt5AgMYFlPU+b3F2zfaU6+p17g3utpKkBa4DWvTdxSJoVvh22EY9rywg/fKXZjepMQXFfBvTs9Gr07N4G7vBu+duhi8YWV6p67iDdCwhi4EaTexbuI0rJrZF92m3kQpG7P0k7I8HsdWbcWLthtwLTIYfqM8lLWigix1p18DTeWD/Olx/NZrMvyN2mHh9imon+kW9hucnt0LnZq5w97NGzt1B2PDyl5Iz4qGqKErQNrNdZg4bRVm9u2GqTdLwcbsXXhkhNZ/+uHY0WXoZfVhK4RmHnCz5l8jf4b4eFY1XFSILKuiMp+3XOxRbA90xIQlw+GkpdeYt2/fVj0rGsEw60CnBbjXEfTPigk0qHtHatuuE3kPn0pbg559YucUGSU+Cafgc6fp/LX79FprOwEw2izlxhxqbKLoICUh+yGH6GOTWOW3u3fvKjtgKJajR4+qUnPzmoKW9iDnEhKSFDencmYGpGNsTy18V9LFHIesSqF/h5QjESTkOe0W/03KQHqRfnUUZxvO6PNodhrg10FLqYdzCZJIipN5OTMy0DEm+xa+tPJi3soOWdRcqi8BSapPomvZdk01jSsEJC7lTr677mbo0MVRnN9gstdTzEwoIL1yzWjSiZw6V8ooam59/n0kVH3StY90Ciso2pUP9OIC/dmgJEnMW9PCq4rp5LJIC6LxVSX8d1JMpdx9aVfGMa64OPIbbE96iiHFBHpUrtkkOpHz+FofJP1N/cyFJDBqRSsf5Wkr8wWbge4TcQ9ooWLIQGFJarb4lpZ8n9TbuHHj+7I7MTH3GSe1AQuGCxP3jC4tH0Dupvpk6tKKvIf40tDuDamivoAEOtbUfbOa6ROz4U9M5xbToMbWZKhnQlb2lcismIgM7TvR/Et57l/KMESJ/jSxhgEJ+ABHv/pYOvdalV6IOI4jfX19ZYG6cOFCVWoepMTTnWuBdCXsAb346ACsUgoYW4XEEJPjmEuZx2tNOUE+ViIS6LagFbFfGjSk0MnJralho+9pfrCmTmMpFH/nGgVeCaMHH9/RTHIPhhUf4R26diWEol+qL4WSY0Io+FokPcs1itHGYFiL8iExkGY1NSNJ2ZY0LzingCH9va+ERJP6rEimmJBguhb5jH9lXkgpZE5DKi4sRq5jzlJhhikpJydT64aN6Pv5wVod2GkL2b2N1MlCQuYd11OUlld4jRs3TlluV6hQQZWi3VgwXGj4k8SixmTAB72dFgVQwvvzLEfxhwaRrVhAwjLdaHuuV/kpFLKmK9nywa9JzZG05056rULy9ZnUoLiQJHYj6KSaigaGyYZLoKO+lZVDbQlN6tPMa9pTT9OgQQNloTps2DBViuYlrG9HBgIBmXTbmTk4SFhHbfmLU7H9KDr3abGm1vtYMKwZ2hgMa4m0CFrbyZIkpk1oVmBBhaT8+eXfkeSqLyHLDqsKdAId5gslX6GZDU1I124g+X3xhXn+69y5s7LcztuESYWPtRkuNCKUbPQz1v5zAtt/rImS73NCCNNWo9DXTQx5/FHsOPpClZ6VHE+P/oKuI3bjfllvrDswD51t03s261fti561dCC7uwdbTqco0xgmZ3LE7B6BwasikCowQ5tZ6zHaVXuGwmnbtq3y8caNG8rH/GDcqAk89IDEwLMIzPCVSb7oj6tSESq0bA8Pzc7bXPjk8vROhnJS3stkCtIbBE7tjVHHzfDTjt0Y7fGhkXDisbFo3n8zYvJh2LOX/tPQpfsyxDecg0NbB8PxazumvyZyDjJOdRCkRmJTPy9Muu6MSVsXon0Z7Q/d3pXX78pvbceC4UJk7NIW3RvbZJkliyeyQQ1XM4joDUKvhqoSM5MnHMJYn1W4lVYWnafPRMeMU9kIjVG6dDEI5M9wK+RBLuNVMgwgu70GQ37cgYecCFY9lmDVQFut6p3crl075aO/vz+ePn2qfK5pIus+GNXDCoLobZi27AYfqvCSLmPR7D2ILdUG40bVz/49LdKSceffc8qxk7mHl3HhrnKPmQKSenk2hs0JRlrZkoj96xcM6NcP/RRLby807Tcf555Ioafhs3NS0Gx06TQFtz1m4uCun1Atve6E0UoyhEz1RPHqP2Lr/hX4qUV9DDpsiAGbdmKsh/ZnXHh4OO7cuQOBQIA2bdqoUrWcqoaY0SppFDzBWdl5xaTHblVaRml0ZZIb6QoEJKn2O13Jdu8xibZ6Kdp+SshlImuLxeTi7VWaUd+YhPyxplPZl/750F5Ha8jlcqpcubLyltu6detUqfkg8Qqt7ONGpXWKkZmdE9mZGVEp1+60wD8hbx2hioLkvTTQzpJMi+uQUNHpiv9MFYtApEsmZcuTfa9NqhdqCmsmkV0y7e9dWnFb9v3nn3nhy/3uu/hXaU5axFrqZCkh0yazqMBaZDBf4Bmta6s4h6cfD+IyDWjckUd56EOkHaZPn648lhVN3IoKVjNc6Dg8DzuB7SvnY/bsBVi14xRuJ8ohEqXXzaWlpikfM0k6hmXrrkMKPdTr2x8uWYdWkT9F3LM0Zcmqq6f/FQ5o9DVIRczZ1ZgwuBe69/8duyM+zLDGxV3C5qmjMKBXbwyd/Bcuv/hwv5R7GoxtM37GQO9eGDhuDfzjv+ReaiLOTe6HP8+/Ahm4Ycz6WWj5ob2O1lDULgwePFj5fOfOncrHfGFYHUM2XUbMk1Ac37YJey7eQ8y17RhZu+TXcwtN3wtrbj9C/CspOEXziPR+I5DLUvDiyQNEbOmjeqHm8Bcz6Y/832EU9NFx81PwF1jvP//Mixwvtn/Pv0pD3gRiau9ROG72E3bsHo0PLTIScWxsc/TfnD4xAqNFuNcwdGqPTl16w/fPzbhw4ySmt7bUyvGEs1Icwzt27FA+HzJkiPKxSOA3nCkk3JOTNMOrMhUXicjYpjZ9160XdW5kRyXMalBTdzMSQUimfQ6oXv3By909yVQxJ71+M1r6QE2dVcp/NKyCSDnUTus1z1SJjNbgYun47w2prFFpMi+hoxy9waDJYronk1HM4dFUy1SfTEoZKzuzgT8GSrdfR9EcR7EnfqeGZfTIqFQJKiZKH9aqeOP5dOuzqgs4ij84iOwk/PsITajx3BuZR1HQMi9fviQjIyPiA2OKiopSpTJaL+kWLW9nSkL+OC7ZZimFa7K6k8kDKQVPrkH6Qj2ybepNffv2fb94d/Igc4kutVrNzhGM5gQEBChrhS0sLEgqLTo9NFkwXEi4R/tokGMxEghLUp3RfhT1vvP+azo90pEkykBITJVH+6vS30kivx/KpN/WrjubItUEQlz0Qmqkwwc5IisaepyN3qhdZBQ6txFZuA6mnZFvKeXkcLIWgcSVR9ORgz9SjaqdacGFOP5VyXR1sgfp8seBwKA9LTsygTxtm9Dvh+/RW0qju4ubkZFinW4zWvbk02/ic9Fb6HtLER+Ii6hsh7V0twjcf3s3VM/48eNVKYy2St47kOwsTam4jlB1qzf9dq9I14TKlrenXptiVa9k8lXyfuqtmCLvfR5kWQQm1H0Xu0JhNKd///7KY2vBggWqlKKBBcOFQXaHlrcqxQe0IrLssYMeZ4llUk76UkU+QIJAl5oufaxKVZGepZF2Yv5g44Nh8ypUu04dqpNlqe1iScWUgVITWlKIA6oz6nHP71DEk/ToM+WED1mJBKTn1ppaVG9PyzOMdZTy7xAqpzgO+Asmswq16ffzH8aNll78lSqL+XU6TWlp1gPoY9LCaHELxfEnIHHFH2jPZwTTH5VyhqZ2akEt2v1BJzV0PaYYuN3S0pIMDAxY7TDDMIyWuXz5MolEIqpSpQqlpqaqUosG1ma4ELw4OBXTjieAitXGT5O7IONAEAoCiQ50FA19hRao7FQyPVFF/jgYV6JlyhEjHD1rwcnREY6ZlsooKXuFFD5cFlXygIcpy2JtIyxhC/uyitZfcsSF3EKsnJBy/TpMfl2BIRnGOkp7loDXiuaWJIPj8LWYWNc4fQVPHv8Uz/l1ojL8e31SO983CJreHxMUx5+uE3zXLkDnspo/RmSRZ7D/0L84EXAPiYp6Ag0wNDTEggULkJycjIEDByrbpjEMwzCFTzFlvmJEFI7jsHTpUkgkEtWaooFFSgVN/gT71u7HY04Ag0a94W2XvUn82+j7eMLxQbFhNdSqlnlAp7TwW7irWCepgUHLVmPt2rWZl1W/oq6RojOWCOb1GsM16ziSieE4tHgChvX1Ru+BP2PG1kCwqekLyxsEBtyAjATQ8/wR/+tqkeELmYqwG7fwho/3xPYDMXW4Ez5kpQwRl6/jhVwAfbfaqPEJY369PDUR/WcEIBGG8Bi7HtObllCt0axXQcG4rbxmK4ESGixlunTpgmHDhuHkyZNYtWqVKpVhGIYpTNOnT1eOLfznn3+iUaNGqtSigwXDBS3xNP65kAgSSODWvAWyj50txdWA63wQJICuW0PU+1AZqJT08CGeyfmMs3CEU6ns2cc9OIpj12UgUVm0aF8Peqp0BfnDfRhcuyb6bH6C8vWboVapUKzoVx81Oq9A6IfBDJiCknodFy+/hlygh7o9e8I+43WRPAHBwXfBQYKq3fqgVqaMjMd5/1uQ8ceQa/36yHKI5Egeux8/D1yK0BQBSjaZgvXja2qux3omiTh7MgDJisY8xTUbDCtGlli0aBFatWqFH3/8EQcPHlStYRiGYQrDhg0blEGwt7c3Jk6cqEotWlgwXMBkUWG4rYgShOXgWt08ewbIbuLE6YfgBDrw+K4dymd6AYe4uATFhFEQlbeBdba7EBzu7tmLS1KCqEJH9GyaYXBu+WNsHemD9Y/qYPretRg3oC98Z+3F+oHlEfv3bxixMpJNzlHAuJhLCLrPf+piZzRpkrFWmJcSiIAbqfxFTTnUa1QZmUbPSzyHs5cV6+xQr365vA23w93DpmG+2ByVxl9IdcD8tSNQJZ9mn5I/3oe/jjxVzm4mMC6ZYXZFzRCLxdi/fz968hcQnTt3VhbErMkEwzBMwVIMmzhv3jwMGDAAP//8s7IsVlRYFEUsGC5g3MuXSFRECcIysLTIOkAwHwtf3Qe/8DQIjBqh5/cVswQ6hLcpiipcAcSlzJCtObA0COs2BiIVxeAx0AcNMtQmcpFbsPLwU+jU6oRO7yNsQzTo0Q7WoiSc37ZTORsVU3CSLl3CzTT+wsW8BjxtMud0asglXH4uh0DfFR5ZmspIg07j0ms5RGVqob5LXiLaVIQsGoBf/J5ALqmEvstXoHfFPIXQn4jDy3A/TPb+DX8rGjQrjlPjEjDOh1JGT09PWfAuXrwYCxcuVLZTYxiGYQrO27dvsXr1amzfvh1z585VVlQUVSwYLmAio+IwUH7qIoiyHTev8M+qLbglE6Nij5HoZZU1ewQwMkqv7RVLJFkm05Dj4baZWB8ug7hSX/zhUyVTbeLzM6dxNVUEy8pOmW5b67i4oQofa8lCgxGUpEpkCoAUVy9eQSIJUKyaJ6pninfliAsIQKSi0ti+OtyMVMlKMtzxD8ITTgDdarXhkbH5RA6SL01Fv0mnoZy7Q/4QO/rYo4SxMYw1vRgaoLRTR0w9FQdOWVErQPESJvk2ULyiBmLo0KG4evVqkS6EGYZhiiIDAwPcunUL3bp1U6UUXSwYLmDiyjVQzYT/2CkWMTGZa7OSL87GpK2PAIvvMWNyC2SKgZREsKrqCMWwkSlPY5GgCG5UuAfbMXrSISToueDHVdPQ3ES1QikVd25HIY0PvExKl8ocnOhZwLy0EJQagwdZtofJR9x9XAp6CI6/ZKns4ZGl3e9bZce6NBLCtJo77DLFeakID7/Lh8RClLWxVf5easQm/PLrDkSpyT7582MY2382Liua5vCIS0Xy69d4nR9LslQVBL8j5IPhEvleyAiFrBhjGIYpDF9L+cvOIgXNsA2GD60Gfe4e9q/2Q3r8mYonZ2ajR7c5uGFQBxO2LUe3rOOtqeg17o2uthKkBW7D2qBXyrTE0K3w7TAMe17YwXvlLkxvkjUAIbx+lcT/C+jqZhl6QGAAw2KKOua3eKsYuoApGK8DEBAq469vysDNo1LmC5TUG7gU/ApygQ6qurshc9NwobJGVAA54gP3YeOK39Cu1QRcNbFCyWxVsFKcmeyDleFSZd4XPAGM87FmmGEYhmE0QaAYbFj1nCkosmgcnDwUPy/9D7H6VjDXeY4H8RJUbj0QE6eNRxfHDB3f1EgMXoYh/X/HnnAOpcvo4XW8FJaNvPHz//6HQbVKqbnCkeL4UFu0XhUH92k3cGF85Q8BSuoljKlWH3MiXfG/K5cwqSq73VwQpCd8YNdqJR7ptcXa6IPoX0q1giePXogm9j/jjNwJYy9cwYyamdsFvzwxGo28FuB6IkHXvBb6zVqDub2rIPtRk4K/fT0w+t+UQgqGJagz+TQ2eJuxq26GYRhGa7FguDClxOH2rWi8EhrD0sYWFkafUocmxdPIcNxP1EFZ60oob5JbR6pUBI5zQ92ZEbAbcx7XZnl+GLNW+h+G2bfEyrimWB59FEOzj/XGaCHp09sIjxWjnL0NSn3COMMMwzAMw2TGIp/CpFcG9tVrwsPV4RMDYQVdmNq6wqO640cCYQUd2PJBk66Aw5PoaD40ziA5Gg+fySGqUAVVNTkgLJOvdE3t4erMAmGGYRiG+VIs+vlGGDdqohx5IDHwLAJTVIm85Iv+uCoVoULL9vDIyyhdTBH3Bsd+rQNn51oYdThZlcYwDMMw3y4WDH8jRNZ9MKqHFQTR2zBt2Q0+JOIlXcai2XsQW6oNxo2qD1bJ+A1IDcHpo0EIiQDMKuVhXLZPxD0NwqY/pmCPuqEtGIZhGEYLsTbD35Kkq1jlOxATd9yCsII1jF89xHPz7zBxxTL8WLskuzL6FnAPcelgAB4JyqN2W09YamqohzdROLJkEn6fuxNXX1XGOP+rmObOOmMyDMMw2o8Fw9+g1Of3EB6VAJS0hoNNKVYjzHw++XNc3jIdE6ZsQbhhaaSGheEJuWJSYBD+V40FwwzDMIz2Y5WB3yAdPgh2cXeHCwuEvx2yEKzoWQfVnR3hYOuAbuseI8OcLZ9NHn8Mq7a+QNsN1xAZ7IdRHooAWKD8n2EYhmGKAlYzzDDfijfn8LNbEyy4a42RJ0OwoP67HpNS+C8ZifXX01Q/50aIkg1/wuzeVVQ/Z8Ddw7zGDhh9qSomBQXif66sZphhGIbRfiwYZphvhfQkhldugeUvvbDtwS50fz/fdxJ2eDvix3+lqp9zI4JFn224Nrex6ucMWDDMMAzDFEGsmQTDfCPkT67j5mM5JM6e8NRXJSoZovuWh4iPj8/D8kR9IMwwDMMwRRQLhhnmG5EccAk3ZSJUdNfgKBIMwzAMU8SxZhIM801IxZmfnNBsaQK8tj3Azm7v20jwZLj73zacfZCXsYEFMHBoga51LFQ/Z8CaSTAMwzBFEAuGGeZbwN3F7AaOGBtcG3MjTuHnihlvCiViY3tT9DuYtzbDloMO4dHqVqqfM2DBMMMwDFMEsWCYYb4FKQfQp1xnbDPywfHwpWjMRSPqhTlsLBUjSsjx4l4oHrzOy2BrAkhK28DJ0lD1cwZ8wD2noSPGBDrh98Bg/MnGGWYYhmGKABYMM8y34OUGtDMfgKOlumHl1q54NGMsjnhswOkpdZCpL90XSA5fgR4NhuNgggnaLPbHbl8Hjb03wzAMw+QXFgwzzLeAu4cN39fHkAOPwRnaof341Vg1piHMvrgL7RvsG1QNP/rF4WlCIlLlquJEIIKusSnMzJpi6tnN6FOG9dVlGIZhtBMLhhnmW8ElIibyMWBhC0sjNpwEwzAMwyiwYJhhGIZhGIb5ZrF7lwzDMAzDMMw3iwXDDFNEJIX8hZEtnFC2pDncffbgoRyQRR/FtJ51YGtmgpLWDTBq/0PI+f/izi7EwMaVYV6iBMrVHIgtkTLVuzAMwzAMkxELhhlG68mRcGoiWrZbgGe1u6JB6We4snEdDgasQY/2vyOkUlf4dKkCPDiHZdPW4fj2QWg97DgMWw2Gdw09xAZtwh9L/JGqejeGYRiGYT5gbYYZpgiQRh7FkWee6FCLsLa1JYb+ZwEn98roMWcrxtUtAcSvROvyPjihWxYVXbpj2d55aFVGiDdbvWDa2w/F+/2Ne+u+g57q/RiGYRiGScdqhhmmCNC1bY1OtUpCmBqKsEgOxCXDfsgqZSCs+BLL4+ORwF/WElXCwBWzlIEwwOFJTBzSSARbR0dIlO/EMAzDMExGLBhmmCKEexiA4GgZJE4DMa5H+fdf4OSbNxApE8GqxwSMcFbMKqeQhMCgMMjEFeDuWQ5sMDWGYRiGyY4FwwxThCReuogQmRjWLb+D67uYF6m4EXgDyYLSaNy2Id5PlJwSiDMBiRAY10Td6u9fzDAMwzBMBiwYZpgiQ4or/leRJDBENQ8XvA9vuYe4FHQfnKQq3N0/tApOvf4fzj2RQ8+9AeqxeZEZhmEYRi0WDDNMUcHdxcWgGHCiKnzQW0yVyEu8iIs3ZRBZu8Gt9LuvtBzPL1/GXU4MWw93lBbK8eJeFBLkqtUMwzAMwyixYJhhioqXAbgUxge95arDo9yHFsDS4Au4nAwYutRA1ffVxYSXLxMhJ0JaQhTObh6JNi19sfMOp1rPMAzDMIwCC4YZpohICfTH1RRA39UDrrqqRMhwxz8ITzgxnGrUwIfWECLYtOkITxM5wlf2QrdFSei3cweGObBudAzDMAyTUf6NMyxPxO3jW7F57xmEPkmGwKQCarT+AUO7u6OUxkPwVDwJ2IU1aw8gqfUqzPQqlUuUzyEpNhIRkbFIMaoIl6oVYFTY8QGXhNjICETGpsCooguqVjD6inr+J+PEH/2xTd4S/Qb2RH0rNtJtQZK9iMbdBD2Uty2TIVBmGIZhGOadfKgZliMhYAUGelZC9d4rcPmtMSzLGeD5+fX43bsuPHr9hSi1d2o5RG4aiCa1a8HT0zN9qVUHLSYcQ6LqFepwsacxu2t1ONb/CXtfVYZLBYFqTVZyxJ9fgsFN7GBuXQteAwbAq3YlWDh5YUHAK9VrCpg8HueXDEYTO3NY1/LCgAFeqF3JAk5eC1BYm6R5BAtXZ3DHxqOZU1W0m3wUD76qmYGluP/PDHRzLoP6s27zR7F2EZeoAAcWCDMMwzBMzhQ1w5oki1pEjQ10yLrTIgpI4FSpRFz8IRpkKyaBsAx12x6nSs0qhW7+WZMkAj6CEojJbsABipGpVqmRcmsD9bDVI7FZAxp/5AFJVenZpVDImq5kW0xEJjVH0p47ScrU5OszqUFxIUnsRtDJ9KSCkxJCa7raUjGRCdUcuYfSNymZrs9sQMWFErIbcZIKepPylSyOzs5sQ+UlEirffgld+wp27m3UEZr2vRMZCwUE6FCjhQ/owxHPMAzDMExRoPFgmF5ep4PbT9LdFNXP78kobCof6EJAxTtsVKVl93JDO9JTBMOSGvS/m2mq1Oy4+MPkU1mXhMa1abL/a1WqOhzFH/ElJz0Bia1/oL2PM4QrXCytbKHHB+jm1P/QW1ViAeDi6YivE7+fYrL+YS9l3qSV1ILfVqF5fyrITSoYb+nmopZkKpJQRe+d9KioRo5vo+jwlM7kyF9ICRRV38pFh5osecyCYYZhGIYpYjTfTMLYBW27N4bN+w4+74hgU8MVZiLCm9CrqrSsZLgX9QAcH1qIK9RDI3uxKj0LeQIOjR2GNRG6qP/7OkysbaRakZ084RDG+qzCrbSy6Dx9JjqaZ9hloTFKly4GgfwZboXwf1eVnL/kSDg0Fj6rbiGtbGdMn9kRmTepNEoXE0D+7BZCHnxtPf/1UHX4asz8zhgPtv+Ekdti+E+jaOHCN6CXW3X02kbouiYAkZcmwUM1z7FQlA+tjhiGYRiGyVcFevYWmZqhJP8XuWfxqpSsXuHqtUg+JBbC0K02cpo0K/XKQkza8gCw6Y1JQx2RQ8jMk+H64v9hKx9Uip0H4rcuZbPsMAdpSqqyai85KVH5mO9k17H4f1vxgBPDeeBv6FI2SxZwUqSkKrcISYkFskUFS2gF79+HwlkYhwN/zsLZN6r0IkJU3hHNh27B5St78UdXd9g4V4aVbk7t1POOS05A7JMneFIIS2zcS6SotoNhGIZhvjX5Fgxzz8NwYvtKzJ89GwtW7cCp24mQi0TpoySkpSpfk430CgKupoAEYlSt6ZFDp59EHFu+HiGpYlTpOQANDFTJ6iQdw7J11yGFHur17Q+XrFGz/CninqUpg2BdPX18eUjzcUnHlmHddSmgVw99+7tkC+TlT+PwLE25RdDTL4gtKng61fuidy1dcHe3Yun+p6rUIsKgFvr+2BY2Gh0UQ4bw+S1hZWEBi8JYbAdifxG7KGEYhmEYTdH80GryWJya7YthM/xwR1ABNet58IFDHAJPhqG4mxUeng7Gs5J9wMVvUv3CB1zoFNSqPgnBZIufToZiYX01VcNJ+9GnUhf89dwBY85dw6xaOVQf817t6QW7btvwTK8ZloQfg2/5LLG/9CR8HVpg+QMJWq9+hCMDS6lW5JdX2NPLDt22PYNesyUIP+aL7JvkC4cWy/FA0hqrHx1Bvm9SoeAQPr0OXCYEQb/DBtw58ANMVWuKnDfb0aVML+xNkqDZ8gc45lPms64wX50cidptFuOW9MPXUWhkj0YtXFBSg9dEcukLRF+7hKuPkiFX/SmBYWdsjduDHmzICYZhGOZbpGw5rCncI9o3yJGKCYRUss5o8ov60Ivu9emR5ChR9LoHiSuPVqVm9mx9OzIUgAQmXWjbS1ViFiknh5O1CCQs7U37klWJaiWR3w9lSMjH+zp1Z1OkmlEpuOiF1EiH3yaRFQ09nq3Hn+Yl+dEPZYQEgQ7VnR1J2TeJo+iFjUiH/wxEVkOpIDapsKSc9KWKinw07U37c81HLZe8jTobpo8m0Wx57Bd0oEuigMmeZKToPPquU56wNLVaFk45dyP9TNJ7tG+IM/89Tf87fDBM24pyHjAMwzDMF9BgMwkOkasGYtC6W0i16Ible2ahvfWHXnRGtdqjiaXizwkgsqyYnpiJFFcCruItf3oWV6mJmoaq5EzkeHLtBmI4QGRTGZWzddLLIPUKTvknpHfQitqE3g3qom7dzEu9dnMQkKYYxc0WVRxVvaDyUeqVU/BPSO8yFrWpNxpk2Z66deuh3ZwApJEAYtsqyP9NSsTdC8dxNuKF+o5s3FOEnj6BgOhkVUIW0hgEnziJ67GfPnCwpLIjKon4HH0ZgquRX9XAw5/JADUnbsD05qU/1CzLn+Hfcf0x67KGW/TqVESnhaswwklSIE2DFPiyBq9efTWDZzMMwxQZb9++RUoK6xmSG80Fwy8OYuq040igYqj902R0yThEgoJAAh0dxalXCIvKTulpGXGRuHQ5jg+pRSjv5oFyaqdgS8P9qIf8a/iAumy5HF6TTv44GFei+SBLaAxHz1pwcnSEY6alMkrKXiGFD75FlTzgYarB6wK15HgcfAXpm+QIz1pOWbaHXyqXhOxVCoj/DCp5eCB/N0mGy382RbX6LdCoekOMP5/1i/ISR3xrw61Jc9Sp1gGLw7OMbMFFY303N9Rq0QweHv2wO/7TxoUQlrCAuSG/g9xD3ItiwbCS2BHD1i5G1/Li90Gq/PVFTOv/O85oOo7Uq4kh/WtDA33/Pur+/fvKi72xY8eqUpgiQZaKHHp3qMiRmsq+uwVBlpp7TkDO5xXLCiYHe/fuhYODA86cOaNK0SYyvhxRPc2BnH9Bfh/eGgq35Hiyby32P+bDVING6O1tl3064bfRuP+ED6gEhqhWq5oqMYNXQQgK53dXYABXz2pQX+lLeJagqMUUQN+oOHKrOE0Lv4W7ij8nqYFBy1Zj7dq1mZdVv6KukZR/pQjm9RrDNeemxxqShvBbd5WBvKTGICxbnWV7+GXVr3WRvknmqNfYFfm7SS9w2f8GkvmLAXobgYuBsZlrh2X3ERDwAIqBLeR83pxXdPrLKC0E/oHPwBEhLTYA/hGfeKgKjFHciI/E5Il4/pxdsb4jLN8NS1cPhoPywlGB8PbmIgz85W984vXGR4hQoXWL7J1KNezkyZNwd3eHWCzGn3/+qUpltJn85XX8NaYDarh0xqpMF8FvcOzXOnB2roVRh5P5MiIMSzu4wN1rHHaE5DZPKPN55Hh5/S+M6VADLp1XIXNWHMOvdZzhXGsU0rNiKTq4uMNr3A6wrGCy6tq1K7777js0a9YMS5cuVaUWMvlLXP9rDDrUcEHnVeGqxHRvjv2KOs7OqDXqMJL5MDhsaQe4uHth3I6QXGck/hIaCoYTcfqfC0gkPtBza44WZbK/rfRqAK6/IQh03dCwnrEq9QPp5Uu4pmwj4YSaHjmNGyxHWmqa8plYkku1MC/p4UM844MHoYUjnEpl3x7uwVEcuy4DicqiRft6yD44QCLCDy3GhGF94d17IH6esRWB8VlqRz9JEh4+fMbvgRAWjk7IvkkcHhw9husygqhsC7Svp364Au5pEDb9MQV71M9p/QlKomWfbrAzEKGYdXv0aVs+88EgdkSnPk1gqSOCsXMf9G6UZXv06qLHDzVQUiyBWd0+6Or2iaG7QMwHSIqAj5AqzRJof9OEKNVqNjaMdYfh+3g4DXc3DsOwrdH8UaI5IpsacDXL/Xv0JS5cuIDWrVujatWqOHLkCExNi2w3yW9GStgGeHs2x5y477Dqgh9GVM5wfKSG4PTRIIREAGaV+PJAXBU/Hz6HZc0eYEoTT/Tbehvsm6wpKQjb4A3P5nMQ990qXPAbgcxZcRpHg0IQATOkZ8XPOHxuGZo9mIImnv2w9TbLCeYDHR0dLFu2DMOHD8eIESOwZMkS1ZpCkhKGDd6eaD4nDt+tugC/EZVVKxRSEXL6KILSCxo+NhOj6s+HcW5ZMzyY0gSe/bYiXw7v9KbDXyjtCk10kSgaHJDNiFOUvd9XGgVNcFbOPqdbfy7dzdZzTEYhf7rz6/nYtKIv/Zdjx7Fk2t3dhA+5hVSi5x7KeYI2GYVO8VC+n06D+XQvW68mGUXMrku6io5qNvzfy/pG3APaO6gKGZWoQf2mr6UNS8dQi/IS0inXgZaHfGavNlkoTfFQfEY61GD+vewdrWQRNLuuLr9v/Gfo+1/2fUu+S4dn9iK30mISSKrS+CANdauSSnOZxpr/KPj1uf0lGb8+lxmzc5ZynHysRPznoUtt1j5XJRZBGutAl4U0lBY1L6Vo1M+/d/oiLNWcFoXlllufiHtEe8d1p+97z6PzGnxbhbt371Lp0qWpTJky9OzZM1Uqo80UU+YPsdcn2377KEbdgSx7QBf376bdBy7Ro0xfehlF7/Qma4Mq9NPxIvxd1hocxR8aQvb6ttRvX4zaMkX24CLt372bDlx6lLn8lUXTTm9rMqjyE7GsYLLiOI6aNGlCQqGQDh06pEotYFw8HRpiT/q2/Wif+oKGHlzcT7t3H6BLmQsa/vDeSd7WBlTlp+Ok6cNbM8Fwykkabq0IbCRUe2ZE9uAoLZDGVeUDQUFxarkiWs2XO4E2tDPkA0EBGXXclMtOptCJYRVIxL9Or+16eqFKzS6Ngie4KINv/U5bKEmV+l7KRRrjJCGBoBjVmh6SJdjjKGazF5mJjPltvf9+WxOP+1AlMb99jRfSnc+J/tKCaYLigkGgT522ZNsifpPGkJNEQIJitWh6SIYt4hIoeNMv1NK2DFWoVoXMFaNfSKrRpKsaH2OgYL3dQz1LCAnCktRrbxGedzq/gmEeF72FupbjL37eB8T88VfrfxSo5SM/yOVyqlevnnKbDxw4oEpltNsLOjKoIkkse9Pe+M84irlY2tHdnHTsR9B/iao05vO8OEKDKkrIsvde+rys2EHdzXXIfsR/xLKCySoqKooMDAyoVKlShVJR8eLIIKoosaTee+M/43zJUeyO7nwcZE8jNFzQZG8/8DlERihukP5WIlH2Roiv/lmFLbdkEFfsgZG9rLK3zZBexqVrb/mzvRiOHjVRXJWcnRgVK5bjf5/AxT5SjiqhngBGRumzcYglWXvMy/Fw20ysD+e3p1Jf/OFTJfPEF1wktqw8jKc6tdCp04emA4YNeqCdtQhJ57dh5+3Mf1jOyZQdHGRcLo06BUZI3yQxJJLMWwT5Q2ybuR7hMjEq9f0DPlU+bJE8/hhWbX2BthuuITLYD6M8FOv438/yFh/IwckUDdJlyG1zCps8IQZPkvkNFJVDxQr53HA1vynCPuXjuyeaIbTqgeWrB8E+Q/vhxIAZ6D/xJF6qUrTR5s2bcf78efTs2RMdOnRQpTLajLu/BfO2x8DO2xdts/bclYVgRc86qO7sCAdbB3Rb95gvZbIQlkFH3x6oeG+z8n20uOjRchzub5mH7TF28PZtm60TtSxkBXrWqQ5nRwfYOnTDusfZP2lhmY7w7VER9zYr3oflRFGWHx0nra2tMWfOHCQkJGDcuHGq1ALC3ceWedsRY+cN37amWWJBGUJW9ESd6s5wdLCFQ7d1yH54C1Gmoy96VLyHzYr30eDhnS0u/SziyqhRzUQZpMbGxGRu15h8EbMnbcUjWOD7GZPRQk1zYC7yEi7H8r8lModbTevsne/eE6GcSxWU4V/ARYUjPMd+VyJYVXVEaSEh5WksVKOZKXEPtmP0pENI0HPBj6umobmJasU7z8/g9NVUiCwrw6lEho9HxwVuVXT5/ApFcFCSKlFBipPDbaCnqwv9hvNUaWqIrFDVsTSElIKnsaoh35Q4PNg+GpMOJUDP5UesmtYcGTdJWLYHVh9bh+H1yvJhtBDCj+WY9CSG2+hBV1cfDefdVSVqn7Rb4coOjkJDJ7g6FN1gWP7qOV4qZwwkJL169T4u1gwhSrWegw2/1cjQfjgFoUsHYtT+LB0etURycjLGjBkDgUCAKVOmqFIZ7SbHwwN7cSGlApq3qZ694664KnzWzkLjtEjcjiZY2GcY/i8DXY82aGaRjNO7/PBEGw/OokD+EAf2XkBKheZoUz17PwxxVR+sndUYaZG3EU0WsC+tNifg0aYZLJJPY5ffE3ZhUuTkf8fJwYMHo3z58sqO+1evXlWl5j/5wwPYeyEFFZq3QfbDW4yqPmsxq3EaIm9Hgyzs+RhOtSojXQ+0aWaB5NO74KfBguZjoVUeGaLN8KGops/h3v7V8FNV2aY+OYPZPbphzg0D1JmwDcu7mav9g6+CgqAcSKJYNXi65TZ4MP85eDZG7eJCyF9fQcCNnK+a9Br3RldbCdICt2FtUPq4VImhW+HbYRj2vOCvulfuwvQmJbJtT+qd24hSjD1sUhqlMkXlerAwVwSzqYh5EKNKUxCgmH4xZUUtPYtLT1JLD417d4WtJA2B29YifZMSEbrVFx2G7cEL/kpp5a7paJIxAP8cgmLQL6bcGjyLy217ChOHqIBgPOH4z86zEeoVwZnP5NKXiAk5gVVjl+OCsk+nDFc2/okVx0PwOFGTg8AYoPbEjZjapOT7Y5XS7uEv32HYdC/TZadWWL9+PeLj49GyZUvY2NioUhntlgj/81eRqucMdzUBmJIoDalSvlw05Mvoajm8RtcN7s4SpFw+j4tvVWnMp0n0x/mrqdBzdlcTLKQTpaVCSgIYVvNEzlnhDmdJCi6fvwiWFUVJwXScFIlEyoCYiDBr1ixVav5L9D+Pq6l6cHZXc9GtJEJaqlQxExSqeVbL4TW6cHN3hiTlMs5rsKDRUDDMh3qek7Bvxzg0l/yNXpXLwda+Aspat8K8B+74dcc5HPtfg0w1nh9IcfnStfTJNpw8USv7QBOZmbREl5alIJTdxb9Hw3Iee06/EaZsXYDuNrcxo74VLMqXgbmbL06Z9cbyE+exsbe92g+aXr9CkqJ6T1c3y/BuAhgYpge9b9++SU9SeXd3XGCY+8brN5qCrQu6w+b2DNS3skD5MuZw8z0Fs97LceL8RvS2z6Fk+ySkqp3kC0vjj32YhYS7jyPHbkImMEJDr3ZQM/iIFkvBoYGW0CtWEuWcm2PY5jDlWNWKzz319jaMaOEMS2Nd6Bh7YZOm2jLoVMHwdYvgZSlSHn8K3BM//DJwMUI/chetIMnl8ve9lAcNGqR8ZIoAWTRu33sDoXkFVMihLkL+5DpuPpZD4uwJzxwvXvVRwcoMgqS7uP1A+y7UigJZ9G3ceyOEeYUKOQwvKseT6zfxWC6Bs6cn/4nnQL8CrMwESLp7Gywrigo5nh4eiU7Dg1B31T/YMNgdWevGROYdMHX7buxe1Ad2qiBZWMqTPw8dxdIaZzDE6zeceJGe/jH9+/dX3sHbs2cPYmIyVvDlFxmib9/DG6E5KuRc0OD6zceQS5zhmXNBwx/eVjATJOHu7QcaG2FJg2GIGBXaTcPRO3F4ePkItm39Gxej4vH42j5M6+KI9Ba8ashu4dylWH6HxLBr3BQ2ObeRUCmB9j69YCuRIXTHBlzIHJdmYuTui203niAm7Cz8/j6NW3HxiDi2FENq8cG06jXZiITpAYcsDemDuGWUHoro6mYcZkyKR4/iwQkkqMRvf+6M4O67DTeexCDsrB/+Pn0LcfEROLZ0CGqpGf7ts0gf4VE8B4GkEho3tVMlahfZzc3YGiCF0LILhna10ORBWAD00HZtDFL5wE9xVa12kXNIfbUPP6i/+vssogo9le2H7d63H5bjxalJ6DftEnKYH7DAnTt3Dnfu3IGBgYFySDWmiOASkPBCDoFBcRjl8GVMDriEmzIRKrp7gr8my4EIhsUNIaCXeJbAIrDPwSUk4IVcAIPiRjmUi8kIuHQTMlFFuHta5tykUGSI4oYC0MtnYFlRRLw8hgnD1yO58yzM6qD+vCgqXwsdu3RBh6x5L7JCl7kz0O75CvhOPomMDTlzYmFhgfr164PjOGzatEmVmp84JCjmiRAYoHjOBQ0u3ZRBVNEdnjkXNPzhXRyKfusvnyVoYzD8jh7K2FdHTQ9XOFgY5fxlVZGFHcDhMJlySuTvOuRUdZ6ZXr1fMalDGcjvbsbU9ZEf+TB0YWrrCo/qjihv8vF3FxiXgDEfbyhqiF9lemNCclIySCBEKbMP46XKn/hh9+nXENv0wYzRtVSpH6FrCltXD1R3LI88bNInkOOJ326cfi2GTZ8ZGF1Lo2+uGfLH2DF1Fa7LTNB03Hi00dLKa+0jhGmbOdjwqxsM3sXDlITgWf0x7ngeqwLymZ+fn/KxTZs2KFasmPL5p+KSYhFx+TzOXLiO6MSv+CzOJSE24jLOn7mA69GJGivQP4+cPyHyD0JBDieEVFzxv4xEKG5d5j4ZkJB/DwH/fvy1YtGgVfnA4y+k07Mih1Nz6hX4X04EFM1Vcp0pSsi/B19Q8BnB2gwXBYXTcdLLy0v5+K7szm/y9IIGOR/e/kg/vD1znwhNyL+H8vDWujbDn0kej7/nrcf1NMCogQ+G1Mxj8Ca0QI/589GtXBJOTh6MBddzqR7+RDq29rDRFYB7Eo3oTLegkxGtmDRDVAFVqpZIT+IisHrgaBwt3hnL/ZaiYyHf7+ciVmPg6KMo3nk5/JZ21MLmBzJEbvDFbwee8oHdTCwZUumjF0tMRoaoM2kjpjTO0H5YGo4Vg37CnkLusaSoET948KDyeatWrZSPn0Iefx5LBjeBnbk1ankNwACv2qhk4QSvBQHQ9EzUhYov884vGYwmduawruWFAQO8ULuSBZy8FiCgsHZUoKpFTE5GkrrDiHuIgOAH4MQu8PTM8R4fT47kpLcgRc1Pca0rfDLTxnzgCVQ1XsnJSWqDWO5hAIIfcBC7eCL3rODz8i0pa/u1PSsYXiF1nFRUXCgEBgYiNjZW+Tz/CFR3jpL5ckLt0Y2HAcF4wInh4umZc2sCnpz/frwlxR2U4hoLYgvha5KI8HP/4J9DWzFn8HcYtOURBOatMG3REFT6hMhIWL4HVu+diea65zG+bVfMvfhcM1fAxo3QxEOP38xAnA3MMFxF8kX4X5VCVKEl2nuoDlZRedTrNxOHzm7HwCoZm07kl3c1Lopb9MqETETl66HfzEM4u30gCmRzPkkirq/2RpvhByGt8zt2bRoIexYJfzqdqvhx/UJ0et9+mCCL3orhQ9YrR+coLJGRkcpFwcnJSfmYV9LQtehRtwVG7U5Gh4038Sg6ApH3LmGaWyz8fuuN309pS0OQLyQNxdoeddFi1G4kd9iIm4+iERF5D5emuSHW7zf0/v1U4TR5EVdExXJiyOMeIkZdJ4y0mwiJ4CC0cEZ1c/6U8SYaUTHqGqtL8ehhHDhJOVS00uIRYrQ1H3jiihVRTixH3MMYtf1h0m6GIIITwsK5OtKzIgrqs+IRHsZxkJSrCG3OCkalkDpOKjo5SyQS5fOjR48qH/NP+tC4YnkcHqovaHAzJAKc0ALO1RWDLbxBdFQM1B/eDxHHSVCuohX/rhpCBS35IPU3F5FAICb9MpWpUZ+pdPDu50+6kBK5j8Y0Lkd6euWo4dCFdPRO9gktPlWCX3+qIBZSiSZz6bpygoNECp7WgIxFZtR+bdTnzbimAUm3llM70/SJKtosDSctn3tBJYXun1pBo1rakIGkDNX23UIhX55F3ziO4g8OJnuJYrIPZX9J/pgwoUazr6uZ/bFg7Nix4/22JCQkqFI/jos/Qr5OeiQQW9MPex9nGISdo9iVLUhPICTz/odymW0yHyTvou4lxCSxzm02zE/ExdMRXyd+f8Rk/cNeepxhtHkudiW10BOQ0Lw/HSqU+WfSKGh8VZLkNJnPi/XUlt8+kWV3WnN6H01uaU8eEy9kL3+kl+g3J/5zc5tM1zUxJ9A3lw+8tCAaX1VCkmqTSH1WtOW3XUSW3dfQ6X2TqaW9B028kP1MIL30GzmJJeQ2+XquM4jmTTLt6l6CxBJr8tVYRjAZpV2fTG4SMdmNPJvDjLAc3ZvfgHQEOlR/bi4xSMp/NKyCiCQ1p1FYHgMVR0dHZbk9YsQIVUr+SQsaT1UlEqo26aqa4/IFrW/LnwtEltR9zWnaN7kl2XtMpOyHt5Qu/ebEH49uNFkjBU26gg+GFbg0Skn7jKl1cvSabh2cTyM6NaahOzQxo0oiXVnZh9xK61AxMztysjMjo1Ku1H2BPyVocrPzJJn2DrQjS9PipCPMEPzwBaKuSVkqb9+LNsUW+EZ9gkQ6/EszajtkBu258TxDsMN8mUQ6P74G6QtUxwO/CPRr0PjzhTPn1O+//67cBsUUzHnGPSO//hVIzB/L5t2205MsB8fbPT2phBAkqT2TIgryCjR5J3Utzgd/Vj50QiPnfo6eKS+w+fc070bbs+9o+myMkto0s0B39AOp/2iqLNblT7R3s59oZVG0vpMlSQR8oGhkTx1nnKY4NV9kWdg0qsmf6JzHB2kgAON9g/mgONH7j65MYt36NPdu9m2QRa2nTpaK2VOFZGTfkWacjlNTpsoobFpN/uLGWUPT9ifTzq7F+SDFinw0kxFMFiknh5O1KKcgUeE17ehagoRiexp1Lpe589MCaGwVMYntR1FuL8uoY8eOyrJbMU1zvpP60+jKYtKtP5eyH94yilrfiSwVM/EKjci+4ww6rb6goWk1+QtG5/GkkcNbpXCC4aJCmkBR14Mo6PpdesbKAEbbpNygeY35AlIVDAMC0nHwoSPP1BQg+czLy0u5DXXr1lWlfFzalUnkpssXfJJq9PuV7KVa0lYvMuCDfYnLRArWYKH3UZoOwtKu0CQ3XT6A4U92v1/JfrJL2kpeBvyFrsSFJhbojmYgC6d5DQ1Jp9rvFKzuJCp7TY/Cw+nR65yCxBTy/9WJJMbNaamaIO6zfIv5wJOFz6OGhjr8NgarrSWUvX5E4eGPKOes8KdfnSRk3HypmoDjc7BgOL+lnPAhKz4YzrEmX3qafqwkJqFJV9rxWpWmjurOgtj2JzqTx2B4zJgxyrK7TJkyqpT8JKPweQ3JUIcv89UXNPT6UTiFP3qd/aJcJcX/V3KSGFPzpWou3L9AIbQZLkJ0SsLaxR3uLjYolcOweAxTaHSd8dP6Beho8aH9cOrtNRgyYpdGp6nMi9DQUOWjvb298vHjknBs2TpclypGh+mL/i5ZW37J8TTuGZST++nqQf/dCBpFUNKxZViXvqPo298lWxs3+dM4PEvfUeh9yY7KX+LmzqkY1rsbvEeugH/GqTcVXt3Ejv/5oE+vAZh9KssIJCIHDJ39C6pFLcP41RHZ26uKjGDp4ABLI/UN/VNDl2DcmseoOWYWBnx8fMxCUWD5wJO/vImdU4ehdzdvjFzhn2kWVIVXN3fgfz590GvAbGTPiqGY/Us1RC0bj9UR2dtWiows4eBgCfVZkYrQJeOw5nFNjJk1IA9DlTKakYL7J5Zi7EBv9Br0B/ZGZJ0eV4Zb++dg6pQpypk5p87bj1sZGsMWZsfJd2V2XFyccormj5Pj5c2dmDqsN7p5j8QK/4wz6iq8ws0d/4NPn14YMPsUMh/eIjgMnY1fqkVh2fjVyH54i2Bk6QAHyxxGIksNxZJxa/C45hjMGmCj2Q74qqCYYYoGaSyFBVykixc/b7kUGEGFUHGajziK+3sg2WVqP2xKbVZEaOZWdR6kpKSQSCRS/u0ZM2aoUj/i5W7qqWj/LtCnZksfqLnVm0L/DatAfJhPeq3XkCYaP+WZRmskX9LunqYk5PdDv9lSeqDm2Ev5bxhVEIEEeq1pzefuKBdPx391pxLFTam0gZAEEJFlPz/+r6tWxx2lUdWN0u8iiCxowGF1jWLTKGJjD7IrUYUGbMt7n4Sk0I3kbW9C9n220l1NHnRFMR94XPxx+tW9BBU3LU0GiqZtIkvq5/c+Jyju6CiqbsQf+3xeiCwGkPqsiKCNPeyoRJUBtC08zzlBoRu9yd7EnvpsvavB7z+rGc5dEgXOaU4WRqWotJGI/+7xZZbbJArKVPEpoyeBG2mgsw6/nj/GijWmRfc/HIRc7ApqoSckk2671H7v3u7vTaWEIqroe1LZLyT5/l16pK5i9fUW6sRH1frfraO89tw4d+7c+3PHmTNnVKk54Sj++K/kXqI4mZY2IKGAP4Yt+9GHwzuOjo6qTkZCxfuJyGLAYbX9PdIiNlIPuxJUZcA2yvvhHUobve3JxL4PbdVoQZOOBcNMkcI9WkyNdVRB32csAgMv2prXL1+R8ZrOja2eqf2w0KQRzQvV5E2knMXFxb3/u+vWrVOl5i7J7wcqwxeYAp26NDtSzXZy0bSwkeLEISKroccLtmOgJoOwJD/6oYwi6NehurMj1dzW4yh6YSPSUZxUrIbS8c/6e/wJak9vsnboS7uj0+j53/2pPB/UCU29aZ+is6o0jJa0NCVdq1Y0ZupgauDQi/6Kz+mKUEYxJ2bQ985WVLXDZDoSk9PreLJo+ntCW3K0cqUec07RY00fbkUuH3j8Rcme3tbk0Hc3Rac9p7/7l+cv6IRk6r2PD5kUWbGEWprqklWrMTR1cANy6PUX5ZwVMXRixvfkbFWVOkw+Qrlnxd80oa0jWbn2oDmnHqvZvy/BguHcJJ35hapW6ECrwt5S0ukfyV7Ml4ViOxp5Nmu0+pYO9i+rvCAz/m5N5vwsxI6T4eHh78vvvXv3qlLV4+L3UG9rB+q7O5rSnv9N/cuLlJUv3ukFDYUtaUmmulbUasxUGtzAgXr9Fc9/s9STxZygGd87k1XVDjT5SIwqVR0ZRf89gdo6WpFrjzl0SuMFTTqB4h/+Q2CYouHlGSz+YzduqxuZJQ8EutXww4yBcM/jkNZFhvQG5rZqiN9Ov0y/ZSUshd57H2Fzx/wfY+/hw4ewsrJSPv/rr7/g7e2tfJ6zVJwbVRVNFt4Bp2MOpxrWyoluMqEkRF+7iZgUHTRZfBfHh1sW3DiQb3ahm3l37DUZimO3l6PpFzSRSj03ClWbLMQdTgfmTjVgnX1HkRR9DTdjUqDTZDHuHh8Oy8/Z0ZT7uPW4NBxtDPnt/xv9KnXCxmcOGHPOH15HW6DFGlNMP74Xvnkdc1H+ChFnrkLm0QhV+LdU7xVunrqKYu4NYJvTjFJfoijmAy/l/i08Lu2I9Kzoh0qdNuKZwxic8/fC0RYtsMZ0Oo7v9c3z8JfyVxE4c1UGj0ZVkHNW3MSpq8Xg3sA2x1kEP98b7Opmju57TTD02G0s/5KMUErE3QuXEFPaHfUcSmT/XnNPEXruOpKsa8Ozgpo2AdIYBJ+LgKRqA7iW1YJx42RPcOuuDhwcSkGYeh4/V22MBXcEqDX9Js6Pc/hwK18egyXNKuGns6bofyAMa9saqVYopOLir65osMQUM8NO4Zcs7Vu4exvwff0hOPCYg6Fde4xfvQpjGppl+ew43JpeB65/vMWv/lcwzT1vn829e/eUQ6wpbNu2DT169FA+Vy8F9289RmlHG/5YfIO/+1VCp43P4DDmHPy9jqJFizUwnX4ce32rIG+HtxyvIs7gqswDjXIuaPjD+xSuFnNHA9ucZmb8ciwYZpivBHdvDTrWHIpDz+QQGNXDTP9TGFM1/08WivGF7ezSp/7esWMHunXrpnyeI/l9LGjsgJ/PymDi2h6d3UupVnxAsRex60gYkkRO+O38Vcz01PDVS+IlrJ97CFHqxmbmbsNvwR6E8YWvt08LlFdT+gokVfD9hB7I1tQ5EznuL2gMh5/PQmbiivad3ZFtTykWF3cdQViSCE6/ncfVmZ55moUzd0+xrq01Bh2Ro16/bni+7wqa7z6Jec1ymYa+sHzV+cB7ug5trQfhiLwe+nV7jn1XmmP3yXlopqnp9zUmEZfWz8Uh9RmB234LsCeMD7a9fdBCfUagyvcT0CP3jODJcPnPOmj0RxCS9Zwx5t9AzKyXMWx6iSND3dFp9V3IjJtiwcVj+LFyhsCQi8b6zjUx+O+nEFr2wtbLm/C9Wc6fZeKl9Zh7KEo5q9+nE0BS5XtM7uGi+jkvkrC7RwV03/ESxj124uG2Lh8mj0j4C162fXGk0mQEXJoE1ywfFRcxH03dx+HVKH8E/Fkj2/HHJcYg8jFgYZtDe3HpRYxxa4jVlgtw5ahvntuLP3r0COXLl1c+37BhA/r27at8nhdP17WF9aAjkNfrh27P9+FK8904Oa8ZtO7wzgtFMPylFG/DFrZoYtEW6rZNU0v+4CjObyDZKtoOC0tR80VhOYxXqXkhISHv9+1jt9mUUo7SIEsRQaBLTZfGqLmNJqNb0z1JorhlXX4w/ZMPY74WTHObFDo6yFLZ7lm36VK1t7llt6aTpyLPROVpsMZ2NI1C/qxBEsW2Ckvzx0JIgR0Ln+rrzgdeWgj9WUOi3FZh6ea0KERLc4J7RIsb62T7fPO8CAzIK0/tz+JpVUtdZbtZQIcazLuX+fufdpUmVUv/vCAoTt/vyPKebw/RAPP09tbqmyJkxNGjxY2JDyo/bOcnLQIy8Nqqeq+84ujePMV4wCBJjf/RzfdtFTh6sr49mYjKUvcd6obDU0imgMk1qXjJFrQk/FPbxEopZE5DMjGpS9OufNrxGxsb+36fV65cqUrNm7SQP6mGRPG7QirdfBFp6+GdFxqpGRYoJolmGA3QwOGoEfl5TOfHPnLRf6Fb3X7Yp6g58NqACzt7o0Ieawa+VHh4OBwdHZXPd+/ejS5duiif5yhhDVpbDsE/sooYfvwWljTOctuVu4cFTZ3wy5k0WAzwQ8Ta77JNzZkYfggb/jqCK9GJEJs5oXH3Aehe0yzvvYul0Qg8HZatl79S2kXM6TkVZwzbY+aaIVBXuS4Qm8O1aTXlLGA5S8Ca1pYY8o8MFYcfx60ljZF5TzncW9AUTr+cQZrFAPhFrMV36nqKc08RtGUZ/jHog/Fd8taDOuXwANi0X494iyE4GrkSzb/0znZ+0fp8kCMpOhDHj51C4I1IPHqRCp0SFeDS5Ht4d3TNQw1YCg4PsEH79fGwGHIUkSubZ/nb2kKK6MDTCFOfEbg4pyemnjFE+5lrMER9RsDctSmq5Z4RPA7R2/qjxeCteGjWCUv+2YEBmaYileLagg5oO/YEkir74K9/F6FdmYzv+RL/jWuBrnOvQVx3Eg4cnoja6r4zKlI+71mzjp0AAG47SURBVE6HZR3tIK8EEJu7onk1c9XPeZN69ic4NV2Me4bdsePRdnyv2D4uDDPru2MKTUTAufFqj2Ul2W1s6tMWo240wLK9i9HDQV+1IjfJCNs0FJ1GBqLWsqNY19Pmk2Zle/LkCSwsLJTP165diwEDBiif50nKYQywaY/18RYYcjQSK7W2oMkDRTDMMEUFF7eDhtSqQTVqfOZS71c6+rX1AZGG0aJmJZUdMyS2A8hP3UDl+SgqKkpZq6BYtm3bpkrNmSx0CnkoahN0GtD8e9m3VRYxm+rqKmrpbMj3v6y1HBw92DuIqhiVoBr9ptPaDUtpTIvyJNEpRx2Wh2imo52mOm7JQmmKh6KWS4cazM9SA6Ygi6DZdRW1ZCKy8f1PTa/rZLp7eCb1citNYoGEquZ5Mou3dGVaPTJWdlBsSAsy9FovUgo9HxLp4PDKZCwWkqF9O/pl3hpav+IP8nYrQUKBDlXssYXuf6wvz9srNK2esfK7qdNwARXNrMiHDnRSaa53Kzh+fW7Huoxfnz/dqDTgxWbqaMSXX5Ia9MeN9L14cXAAWenYks+/74ZdyEUBd5yMjo5+X37/9ddfqtS8eXtlGtUzTu+Y2nDB/RxqvIsGFgwzRQoXs5xam+iTvv7nLQamPWlnXu7mFRnJFPCHJxkJ+MCnmAuNPp2HwlbDYmJi3hemGzduVKXmLC14ArnwwbBAvxNtyTY1dwpdHOOknO2sWK3pFJLljMjFbCYvMxEZt1zxIbBIPE4+lcQkMGpMC+9o4BSpqSAsLZgmuPBBmECfOmXfUUq5OIacFLMtFatF0zPtKEcJwZvol5a2VKZCNapirhhVI7fZqTLiKO7QUHIs7UzVbCUkEJaiXnuy/211ZPGBtHHyn7RbU5NmfKlCz4fntKa1LgnLdqJN0R9O81zMWmprwgcAGYIdtbg4OjTUkUo7V1M2XxKW6kW5ZgWXSPcv7qNV08eSb39v6undn3wnLKS9154VcpDBRpP4JGnXabIbf7zx3z3vffyllfQa/VnTgMp22ZJrYJsV9zKcTp4K4S/JcvHyBv+aO/T6Cw6QO3fuvC+/d+3apUr9OC7uEA11LE3O1Wz58lpIpXrtUY6Y8lGyeArcOJn+3K3ZSTO+1Edv8jCMNhFa+ODIi2QkJ3/ekhS/FV3zcuepiHjx3wT0nxGIREFx1J6wHlMaGqvWFBz+IkP1DMrP+GMERkbpzR7EEkiytEaRP9yGmevDIRNXQt8/fFAl0/0+DpFbVuLwUx3U6tTpQ4cqwwbo0c4aoqTz2LbztipRCwiMYJS+o5Bk31Fsm7ke4TIxKvX9Az4Zd1Qej2OrtuJF2w24FhkMv1EeytueAtXUKrmRhi7HDwP3oNykLZjTqhyE8lcI8r+GDOP7Z/cmCkdmeaOmUx30m74LV58rzotfkc/NBxih9Z9+OHZ0GXpZfThVCs084GYt4n/3GeLjc+qaJUXo8h8wcE85TNoyB63KCSF/FQT/aznkRNIhjKhSDrZ1+2DexTTY1G6C+rapuLj8Z3Sp6Q7vrdGf2QmMKXBiW7g6GfPfvdeIuhONiDVjsDCyHn6f2R0WnxBxCY0d0Di3EUQUjJ3513zZCCJv3rxRPctcludKGorlPwzEnnKTsGVOK5QTyvEqyB85Hd7p3iDqyCx413RCnX7Tsevqc2UEri1YMMwwRZQ8dh9GDVqGMKkApVvMwPrfauRxOBvNMjY2RqlS6f3zFcP0fIzIqiocSwtBKU8Rm7GNIvcA20dPwqEEPbj8uArTmpuoVrzzHGdOX0WqyBKVnTIOyaQDF7cq0IUMocFBqjQtILJCVcfSEFIKnsZmbLfI4cH20Zh0KAF6Lj9i1bTmyLSnwrLosfoY1g2vB8XIUUJh7sX0q9DjOBQcB+n9XfDx+g03683HmmEuqOHhCn2BDPdO/otbiqEIU0Ow8qfx8HuoCqvkz3F582i0cq2DYTuu4clrjj85iSHOdAHyFfjcfOA/C0v3lmhWzTxzO21pNB7GchDoO8KlskSVqPAKoccPIThOivu7fOD1203Um78Gw1xqwMNVHwLZPZz895Zydr/UkJX4abwf3mUF0mJx914iSndYhuMH5uLngf0wdPImHJzTBsay+9izYCPCPnM4Saag6cLVtTJ/zMgRdXoKfvwzEC4T5mNwpTz3aChQUVFRqmeAra2t6pkar0Jx/FAw4qT3scvHC7/drIf5a4bBpYYHXPUFkN07iX/TCxqErPwJ4/0eqi7g5Hh+eTNGt3JFnWE7cO3Ja3B8FCzWsoKGBcMMUxRxUdg41Bdb7skgKvc9Fq0eCodCKlsUnQ2rVKmifH77dh5qZvUao3dXW0jSArFtbRAfQvASQ7HVtwOG7XkBO++V2DW9CUpkLZ1S7+B2VBpIYILSpTKfWPQszFFaSEiNeaBK0QZ6aNy7K2wlaQjcthZB6TuK0K2+6DBsD17YeWPlrulokm1HP8UbnJ7dC52aucPezRs7dQdjw8peys6TxRs0RA1dAdJursPEaasws283TL1ZCjZm6Z+dPP4YVm19gbYbriEy2A+jPBQHkED5/9dFk/mQitAV87A3ThcuPuPRK+NgxG9OY3avTmjmbg83753QHbwBK3tV4IOi4mjQsAZ0BWm4uW4ipq2aib7dpuJmKRuosgIwao0//Y7h6LJe+FAJLYSZhxvSK6HjkWMlNKNlRLCsWpnPWw6xR7cj0HEClgx3Ut7d0UbvymwdHR1UqlRJ+VydN6dno1enZnC3d4P3Tl0M3rASvdILGjSsoQtB2k2smzgNq2b2RbepN1HKRtWh+QvudBUoVXMJJg+41xH0z4oJNKh7R2rbrhN5D59KW4M+tT2XjBKfhFPwudN0/tp9eq21vQAY7ZVCN+Y0JhNFBymJPQ05lPMsPwXFx8dH2ebMwcFBlfIRr4NoaQ9nKiGRUHHzcmRmoEPG9i3Id+XFnKfLfjckmyT7rHXSi79SZTFIUnW8KuULaHLmM3pNQUt7kHMJCUmKm1M5MwPSMbanFr4r6WKe5gWXUdTc+iSBhKpPupa9zbBq5ioIxFTK3Zd2ZZymlIsjv8H2pCcAv16PyjWbRCdy6lwpi6K59fn3kVSnSdc+3jK5QGhVPihwFP/vSHLVl5Blh1UUlqUHWFrQeKqqaAsvLkXuvrsyTU3NxfnRYHs95ZBiAr1y1GzSCcpLP9ekv/uRuVBARq1W0qO8bqbGsTbDn4p7sFA5ZKCwZDNafEtLvk856N+/v7LsdnFxUaWok0ZB46vy5ZCAxKXcyXdXxum+FcN6DiZ7PQH/PgLSK9eMJp3Iafi4j5RnhYgFw3nBPaNLyweQu6k+mbq0Iu8hvjS0e0OqqC8ggY41dd+cl4bg/AFzbjENamxNhnomZGVficyKicjQvhPNv1TwnZ6YoivRfyLVMOALHoE+VR97jj/NF76lS5cqC1SxWExpaXkv4lLi79C1wCsU9uDFx8fCTfmXhpRTBMOeNO1W9mDYUREM1/ifKuULpJykya0bUqPv51OwpkrrlHi6cy2QroQ9oBefNBbnx04eKRR/5xpdCYmml2oLoWSKCQmma5HPch9pQxuDYa3KB6IXF/6kBiUlZN56IV1V11NI+d5XKCT6pfrzQXIMhQRfo8hneQwopSE0p2FxEhZzpTFnc+1Glc9S6OTk1tSw0fc0X2MZ8TWT0b2NnchCYk4d10flITYoXPXq1VOW3T169FClqKcsq6+EULT6goY/vEMo+Fok5X54s2C4COMzb1FjMuCD3k6LAijh/eUOR/GHBpGtWEDCMt1oe66X+SkUsqYr2fLBr0nNkbTnTnpJmnx9JjUoLiSJ3Qg6madumMy3jks4Sr6VFaMLCMmk/ky6piUVNadPn1YWqIpF0Ts5X0gDaGwVMUHsSGMuZY5kUk74kJVIQLotVqhSvhYFdPLQxmBYiyQGzqKmZhIq23IeBRdEXMrF078jXUlfYkkdVhXcBDrMl0u+MpMamuiS3UA/ii202vy8MzMzU5bbU6dOVaXkJ+0Nhr+ksdo3QoSSjX7G2n9OYPuPNVEyQ3su01aj0NdNDHn8Uew4+kKVnpUcT4/+gq4jduN+WW+sOzAPnW3TRwnXr9oXPWvpQHZ3D7acTlGmMUyO5DHYPWIwVkWkQmDWBrPWj4arloxxXrNmTRQrVkz5PCIiQvmocTq2sLfRhYB7gujozN2Wk6Mf4plchApVqqpSGEYzZLfXoU+nibhRdSr+3vMzauTavV8TXsJ/Whd0XxaPhnMOYetgR81MDc3kCzknA6fqlZkauQn9vCbhuvMkbF3YHpnmC9FCL1++RHx8vPJ548aNlY/fKhYM54GxS1t0b2yTfeYgkQ1quJpBRG8QejVUlZiZPOEQxvqswq20sug8fSY6ZpyhR2iM0qWLQSB/hlshD9jQOUwuZLi9Zgh+3PEQnMgKPZaswkDbd71vCp8iEG7WrJny+cWLF5WPmmeMRk08oIdEBJ4NxIfLx2Rc9L8KqagCWrb3UKV9PeTy9DOtXEtmZ/ymvAnE1N6jcNzsJ+zYPRoe7wPhRBwb2xz9N8eoftaUJATN7oJOU27DY+ZB7PqpWrbZFxktIgvBVM/iqP7jVuxf8RNa1B+Ew4YDsGnnWHgUgYx7V1aXLl0anp6eyuffKhYMfxERTM1K8h8ih2eqq6vMZLi++H/Y+oCD2HkgfutSNssHzkGakqq8t5yclKhVY+4x2iXl2lwM/O0o4kkHDkNWY3EXC6378rZt21b5eODAAeWj5olg3WcUelgJEL1tGpbdSB8fM+nyIszeE4tSbcZhVP0iPB2oOsl38O+523xJweHh5Qu4+2FIUCbfpeLy7GGYE5yGsiVj8dcvA9CvXz/l0turKfrNP4cnUk0OZshf8K7rg04Tb6Dq1L+x5+cauY8xyxS+V4EICk/BzWXe8PJdjnD70dj9zxK0/+i01Nph//79ysc2bdpAJNKeypVCoWouwXyUjBJCj9O2FfNo1qz5tHL7SYp4LaWrk6qRooelQWc109AmHqIBit7vgmLUeOE9/h2y4O7R/AY6fAwsIY+pYdnXM4VP+ojOrBpPg3p2o34Td1H4+za6Moq9uImmjOxPPb2H0KTNwfT8ffswGcUHbaXpowZQr54DaOzqC3nqOZ6j12dpTLViJFAcZzUmkr+Wti+Pj+dDdR3F8Qy6ffu2KlXzEq+spD5upUmnmBnZOdmRmVEpcu2+gPw/NOgv8pL3DiQ7S1MqriNUjkCg+EwVPbVFuiZUtrw99doUq3qlhsgiaXZdRZthV/r9KmszrJS8n3orxut7//lnWQQm1H2X5qazTA6YTDWNDKn66P8y9E3hvf6HfmvWjzYV3nASTA5kUTtpTA8v6tLbl/78K4DiitBJXCaTvW8vfOTIEVVqfpNR5Oy6yjbDrr/nZUbNgsOC4TzgnpykGV6VqbhIRMY2tem7br2ocyM7KmFWg5q6m5EIQjLtc0D16g9e7u5Jporhr/Sb0dIHagqylP9oWAVFsKxHrdc8UyUy2oKLPU6/NyxLRqXNqYSOYvQGA2qymL+okcXQ4dG1yFTfhEoZKzqz8SdGYWlqvy6aOC6WTvzekMroGVGpEsVIpBzWqjg1nn/r8y52uHg6OMiOJPz7CE0a09wb2t2VplevXsrC9ffff1el5BcpJURdp6Cg63Q3r73zmRwl3VpO7Uz5wE9YktosDaevasbyokAaTJNr6JNQz5aaevelvn3fLd7UycOcJLqtaDU7RTAapAiAFWW1tbU1f94qoAutpFu0vJ0pCfmYqWSbpRSuRQUNC4Y/gnu0jwY5FiMBf5KoM9qPot6fd1/T6ZGOyiAFEFPl0f6q9HeSyO+HMnymC0in7mzKMiyqEhe9kBopgiyRFQ09zk7oWkUWSnMbWZDr4J0U+TaFTg635i96FPl8hA7+WIOqdl5AFxTVAMlXabKHbnqtbftldGSCJ9k2+Z0O33tLlHaXFjczUq7TbbaMnnxyecNR9JbvyVKkOEbKUoe12jWXuzqXL19WFrAWFhafNMQaUxiSae9AO7I0LU46QsUYoe9qPEWka1KWytv3ok1FoTv8VyB5f29STMr4Pg+yLAKT7qTBSmiGoY4dOyqPrcWLF6tS8k+B3+n6DCwYzo3sDi1vVYoPaEVk2WMHPc5yXkg56UsVRXymCnSp6dLHqlQV6VkaaSdWZriOeRWqXacO1cmy1HaxpGJ8MC3QbUJL2C0wLcPR8zsR9EQZfabQCR8rEgn0yK11C6refnmGAfdT6N8h5fhAWTHAuhlVqP07nX8/bLSULv5amcT8Op2mS7MdPx+TFraYWpQS8seXmCr+sOczgumPSzkzlTq1aEHt/jipSvlynTt3VhZ2O3fuVKUwDMMw2iIqKopEIhFVrFiR3rx5o0r9trEOdLl4cXAqph1PABWrjZ8md0HWNvECiQ50FDMKCi1Q2alkeqKK/HEwrkTLlCNGOHrWgpOjIxwzLZVRUvYKKXzYIKrkAQ9TlhXaRYgStvYoq+hTII9DyK1YyCkF16+b4NcVQ+D4fqyjNDxLeA1Ff3+SOWL42omoa5y+hv9FxD99zv8rQhn+vT4My5cHb4Iwvf8EHE8g6Dr5Yu2Cziir8UNEhsgz+3Ho3xMIuJeoSvty8+fPh76+PkaNGoUXL3IacpBhGIYpaHzch0GDBoHjOCxevPj9kJjfOhaB5UT+BPvW7sdjTgCDRr3hbZe9p+Xb6Pt4wvFBsWE11KqWuRd7Wvgt3FWsk9TAoGWrsXbt2szLql9R10jKv1IE83qN4coGktRebwIRcEOmmEcVnj/+D10tMnxtUsNw49YbEMSwHzgVw50yZKQsApevv4BcoA+32jWyD82Xo5c4NbE/ZgTwAaqhB8aun46mJVSrNOoVgoJv8yGxEMYlNPcHrKys8Oeff+Lx48f4+eefVakMwzBMYVuzZg3+++8/dOrUCe3atVOlMiwYzkniafxzIZEPgCRwa95CzeDZUlwNuI43JICuW0PUe18bmC7poWISAEWlsSOcSmX/mLkHR3HsOh9gicqiRft6UDtAD/cUQZv+wJQ9UWwM4kKUev0iLr+WQ6BXFz172vOXLx/IE4IRrLjqkVRFtz61MuWjPP48/G/J+AsiV9Svn+UAyZEcsft/xsCloUgRlESTKesxvqa+ap2GJZ7FyYBkRTsfFNdgMKygCIK9vb2xceNG7Nu3T5XKMAzDFJbbt29j9OjRcHFxwaZNm1SpjAILhnMgiwrD7WTiP6FycK1unv2Dkt3EidMPwQl04PFdO5TP9AIOcXEJkCuaQJS3gbVElfweh7t79uKSlCCq0BE9m2YdnfsNoo7MgndNJ9TpNx27rj5XtjhnCgOHmEtBuM/Hu2LnJmiSsVaYlxIYgBupfD6Wq4dGlcWq1HSJ587ismKdXT3UL5e3MRy5e5swzHczotKEsOgwH2tHVMmn2afkeLzvLxx5qmjgIYBxyczNfL6UQCBQ3gFRTMTRvXt3HDx4ULWGYRiGKWiKmUEbNWqEUqVKKctjIyMj1RpGgQXDOeBevkSiIk4QloGlReYgR0F2dR/8wtMgMGqEnt9XzFRbCD50fZuiaAIhgLiUGbI1B5YGYd3GQKSiGDwG+qDB++pEOZ5f3ozRrVxRZ9gOXHvyGhwfBYvF2f8+U1CScOnSTaSRCOY1PGGTKaNTEXLpMp7LBdB39UDmljJSBJ2+hNdyEcrUqg+XvES0qSFYNOAX+D2RQ1KpL5av6I2KeYuhPw33EuF+k+H929/8tvM/C8QwLpHXmuu809XVxZEjRzBs2DB4eXlh9erVqjUMwzBMQfH390e9evXg5OSE4OBgZVM2JjMWDOdAZFQcBspPRwRRtlj0Ff5ZtQW3ZGJU7DESvayyfowC/qorvbZXLJHwP2Ukx8NtM7E+XAYxH/D84VMF799eHo9jq7biRdsNuBYZDL9RHsp1gizvwBQg6VVcvKJoLlMM1TyrZ273K49DQEAkOEV74epuyHSdLbsD/6An4AS6qFZbMYXwxyTj0tR+mHT6BX+E8G/9cAf62JeAsbGxxhdDg9Jw6jgVp+K49DsOguIoYZIfUTcg4Y//hQsXKmc6Kqnh2meGYRjm4wwMDDBp0iT8888/ypphJjsWDOdAXLkGqpnwHw/FIiYmc4vd5IuzMWnrI8Die8yY3CJzEKQkglVVRygmL0p5GosERXSjwj3YjtGTDiFBzwU/rpqG5iaqFQrCsuix+hjWDa+HsnwULBSy7Cls3P1LCHqoaCNRGR4eWWpP3yo61qWBhKao5m734aJGITUc4XcVo4mUhY2t4vdSEbHpF/y6Iyp9fSZyPD82Fv1nX4aiZY7izgKXmozXr1/ny5IsVQXB7wj5YLhE/h5riqmau3TpovqJYRiGKSiurq4YMWIEu8ucCxZt5cSwDYYPrQZ97h72r/ZDejyciidnZqNHtzm4YVAHE7YtR7cc5iDXa9wbXW0lSAvchrVBr5RpiaFb4dthGPa8sIP3yl2Y3qQEywAt9zogAKF8TCsq4waPSplrT1NvXELwKzkEOlXh7palYbhQoGw3q6jtD9y3ESt+a4dWE67CxEpN7aj0DCb7rES4tJBahguM861mmGEYhmG0nUAx2LDqOZOVLBoHJw/Fz0v/Q6y+Fcx1nuNBvASVWw/ExGnj0cUxa8e3zBKDl2FI/9+xJ5xD6TJ6eB0vhWUjb/z8v/9hUK1SHwmEOdyb1xgOoy+h6qQgBP7PNXPNI1MApDjhY4dWKx9Br+1aRB/sjw83mOSIXtgE9j+fgdxpLC5cmYGamdoFv8SJ0Y3gteA6EkkX5rX6YdaauehdRc0xk/I3fD1G41/FoNOFQVIHk09vgLcZuzRjGIZhvj0sGM6LlDjcvhWNV0JjWNrYwsLoU2rRpHgaGY77iTooa10J5U3yOjYAC4aLPj7vb4cjVlwO9jalPmGcYYZhGIZhCgqrCsoLvTKwr14THq4OnxgIK+jC1NYVHtUdPyEQZr4OfN7bu8KZBcIMwzAMo7VYMMww2ujNMfxaxxnOtUbhcLIqjWEYhmEYjWPBsBaTy9OHoZCzlizfnNSQ0zgaFIIImKHSx8dl+0QcngZtwh9T9iAq80ApDMMwDPPNYcGwtkq+g3/P3ebDFg4PL1/A3TeqdOabIDLvgKnbd2P3oj6w0+BAD2+ijmCWd0041emH6buu4jm7zmIYhmG+cawDnZZ5s28Qqv3oh7inCUhMlavGgxVApGsMUzMzNJ16Flv6lFGmMkxeyZ9fxpbpEzBlSzgMS6ciLOwJyHUSAoP+h2qsZybDMAzzDWM1w1pG32sNbj+Kxyspp2weobhWIZJDlvICTx5EsED4KycLWYGedarD2dEBtg7dsO5xhhlbPpsc8cdWYeuLtthwLRLBfqPgoQiABcr/GYZhGOabxmqGGUbLvDn3M9yaLMBd65E4GbIA9d8NQiL1x5KR63E9TfVzboQl0fCn6ehdJXu1L3dvHho7jMalqpMQFPg/uLKaYYZhGOYbxoJhhtEy0pPDUbnFcrz02oYHu7p/mO47aQe8HX/Ev1LVz7kRWaDPtgDMbZx9UDcWDDMMwzDMB6yZBMNoFTmeXL+Jx3IJnD09oa9KVTLsji0P4xEfn4flyTW1gTDDMAzDMJmxYJhhtEoyAi7dhExUEe6eltDgQBIMwzAMw6jBmkkwjDZJPYOfnJphaYIXtj3YiW7v20jwZHfx37azeJCXsYEFBnBo0QV1LLJf77JmEgzDMAzzAQuGGUaLcHdno4HjWATXnouIUz+jYsZYNnEj2pv2w8E8tRm2xKBDd7G6FWszzDAMwzC5YcEww2iRlAN9UK7zNhj5HEf40sbgoqPwwtwGlooRJeQvcC/0AV7nZbQ1gQSlbZxgaaj6OQPu7hw0dByDQKffERj8JxtnmGEYhvmmsWCYYbTIyw3tYD7gKEp1W4mtXR9hxtgj8NhwGlPqZOpK9wWSEb6iBxoMP4gEkzZY7L8bvg6aem+GYRiGKXpYMMwwWoS7twHf1x+CA485GNq1x/jVqzCmodmX93R9sw+Dqv0Iv7inSEhMhVz1rReIdGFsagazplMRsaVPeiLDMAzDfENYMMwwWoZLjEHkY8DC1hJGbDgJhmEYhslXLBhmGIZhGIZhvllsnGGGYRiGYRjmm8WCYYZhGIZhGOabxYJhhmEYhmEY5pvFgmGGKSKSQv7CyBZOKFvSHO4+e/BQDsiij2JazzqwNTNBSesGGLX/IeT8f3FnF2Jg48owL1EC5WoOxJZImepdGIZhGIbJiAXDDKP15Eg4NREt2y3As9pd0aD0M1zZuA4HA9agR/vfEVKpK3y6VAEenMOyaetwfPsgtB52HIatBsO7hh5igzbhjyX+SFW9G8MwDMMwH7DRJBimCJBGHsWRZ57oUIuwtrUlhv5nASf3yugxZyvG1S0BxK9E6/I+OKFbFhVdumPZ3nloVUaIN1u9YNrbD8X7/Y17676Dnur9GIZhGIZJx2qGGaYI0LVtjU61SkKYGoqwSA7EJcN+yCplIKz4Esvj45HAX9YSVcLAFbOUgTDA4UlMHNJIBFtHR0iU78QwDMMwTEYsGGaYIoR7GIDgaBkkTgMxrkf591/g5Js3ECkTwarHBIxw1lGlJiEwKAwycQW4e5YDm7+DYRiGYbJjwTDDFCGJly4iRCaGdcvv4Pou5kUqbgTeQLKgNBq3bQhDVSpSAnEmIBEC45qoW/39ixmGYRiGyYAFwwxTZEhxxf8qkgSGqObhgvfhLfcQl4Lug5NUhbv7h1bBqdf/w7kncui5N0A9fVUiwzAMwzCZsGCYYYoK7i4uBsWAE1Xhg95iqkRe4kVcvCmDyNoNbqXffaXleH75Mu5yYth6uKO0UI4X96KQIFetZhiGYRhGiQXDDFNUvAzApTA+6C1XHR7lPrQAlgZfwOVkwNClBqq+ry4mvHyZCDkR0hKicHbzSLRp6YuddzjVeoZhGIZhFFgwzDBFREqgP66mAPquHnDVVSVChjv+QXjCieFUowY+tIYQwaZNR3iayBG+she6LUpCv507MMyBdaNjGIb5f3t3AlBT9scB/Pu2SkkhURGRUkQo2cmS5W+NQcTYtxjLGGM3Y1+Hse/bYOxkHcNYBpFsEQpFiIqIil69+37/+14XLe8lvLbpfP7/Nz3nvl733XPeub977lkYJrXsm2dYGYd7J7Zhy96zuP08ASLTsqjZ6nsM7uaC4joPwZPw3H8X1q47gPhWqzHHs3gmUT6H+MgHCHkQiUTjcqhapSyMczs+4OIR+SAEDyITYVyuKqqUNf4PjfxPwMlf+mK7sgX69O+OBtZsptucpHgdjtAYA5SxLZkqUGYYhmEY5oNsaBlWIsZ/Jfq7VUD1nitx9b0JrEob4dX5DZjsXQ+uPf5AmMY7tRwebO6PJnVqw83NLeVRuy48Jh5HnPAKTbjIM5jXpTocGozA3jeVULWsSNiSnhLR55diYJOKsLCpDc9+/eBZpwIsHT2xyP+N8JocpozG+aUD0aSiBWxqe6JfP0/UqWAJR89FyK1d0j2CZTUncMcnoJljFbSdegyP/1MrA8vx6K/Z6OpUEg3m3uNLcd4iLVoW9iwQZhiGYRjtVC3DuqQI+53cjfTIpuPv5B/DCalEXPRhGmArJZG4JHX9M0pITS+Rbk2rRTIRH0GJpFSx3wGKUAibNEi8u5G8bA1Iat6QJhx9THIhPaNEClrbhWwLSci01kjacz9enZoQOIcaFhGTrOJwOpWSlHMSg2htF1sqJDGlWiP3UMouJVDgnIZURCyjisNPUU7vUrZSRNG/c1pTGZmMyrRbSjf+Ax/ufdhRmvmdI5mIRQToUePFj+lTiWcYhmEYJj/QeTBMsYF06M9TFJoo/PsjBd2ZwQe6EFGR9puEtIxiN7YlA1UwLKtJv95KFlIz4qKP0JBK+iQ2qUNT/d4KqZpwFH3UhxwNRCS1+Z72PksVrnCRtMrDgA/QLajv4fdCYg7goumojyP/OaVk8/1eSrtLq8iD31exRV/KyV3KGe/p1u8tqIRERuW8d9LT/Bo5vg+jI9M7kQN/ISVSNX2rH3rUZOkzFgwzDMMwTD6j+24SJlXRpps7yn8c4POBBOVrVoO5hPDu9nUhLT0FHoY9BseHFtKy9dHYTiqkp6OMweFxQ7E2RB8NJq/HpDrGwoaMlDGHMW7IatxNLoVOs+agg0Wqjyw2gZlZIYiUL3E3iP+7QnL2UiLm8DgMWX0XyaU6YdacDki7S2YwKySC8uVdBD3+r438N0CVYWsw538mePznCIzcHsEfjfyFC96IHjWqo8d2Qpe1/nhwaQpchXWOxZJs6HXEMAzDMEy2ytGzt6SEOYrxf5F7GS2kpPcG12884ENiMQrXqANti2YlXVuMKVsfA+V7YspgB2gJmXkKBC75Fdv4oFLq1B8/dy6V7gNzkCcmqZv2EuLj1D+znSIQS37dhsecFE79f0bnUumygJMjMUm9R4iPy5E9yllia3hPHgwncRQOTJuLf98J6fmEpIwDmg/eiqvX9uKXLi4o71QJ1vra+qlnHZcQg8jnz/E8Fx6RUbFIFPaDYRiGYQqabAuGuVd3cPLPVfht3jwsWr0Dp+/FQSmRpMySkJykfk0G8mvwv54IEklRpZarlkE/cTi+YgOCkqSo3L0fGhoJyZrEH8fy9YGQwwD1e/dF1fRRs/IFol4mq4NgfQNDfHtI83nxx5djfaAcMKiP3n2rZgjklS+i8DJZvUcwMMyJPcp5etV7o2dtfXCh27Bs/wshNZ8wqo3eP7RBeZ1OiqFA8G8tYG1pCcvceNj2x/58dlHCMAzDMLqi+6nVlJE4Pc8HQ2f74r6oLGrVd+UDhyhcPnUHRWpY48mZK3hZrBe46M3CL3zC3Z6O2tWn4ArZYsSp21jcQEPTcPx+9KrQGX+8ssfYczcwt7aW5mPemz09ULHrdrw0aIalwcfhUyZd7C8/BR97D6x4LEOrNU9xtH9xYUN2eYM9PSqi6/aXMGi2FMHHfZBxl3xg77ECj2WtsObpUWT7LuUKDsGz6qLqxAAYtt+I+we+RwlhS77z7k90LtkDe+NlaLbiMY4PKflVV5hvTo1EndZLcFf+6esoNrZDY4+qKKbDayKl/DXCb1zC9acJUAp/SlS4E7ZF7YEXm3KCYRiGKYjUPYd1hXtK+wY4UCGRmIrVHUO+YZ9G0b09M5IcZKpR9yBppTFCalovN7SlwiKQyLQzbY8VEtNJPDWMbCQgsZk37UsQEjWKJ9/vS5KYj/f16s2jBxpmpeDCF1NjPX6fJNY0+ESGEX+6F+9L35cUE0R6VG/eA8q4SxyFL25MevwxkFgPppzYpdySeMqHyqnysURP2p9pPuZxCdupU+GU2SSarYj8hgF08eQ/1Y2MVYNHPwzKE5tRy+XBpH0Y6VeSP6R9g5z472nK3+GDYdqen/OAYRiGYb6BDrtJcHiwuj8GrL+LJMuuWLFnLtrZfBpFZ1y7HZpYqf6cCBKrcimJachxzf863vOnZ2nlWqhVWEhOQ4nnN24iggMk5SuhUoZBeqkkXcNpv5iUAVphm9GzYT3Uq5f2Ub/tfPgnq2Zxs0VlB2EUVDZKunYafjEpQ8bCNvdEw3T7U69efbSd749kEkFqWxnZv0txCL1wAv+GvNY8kI17gdtnTsI/PEFISEcegSsnTyEw8ssnDpZVckAFCZ+jsUG4/uA/NfHwVzJCrUkbMau52aeWZeVL/D2+L+Ze1XGPXr1y6Lh4NYY7ynKka5AKX9fgzZv/zOTZDMMw+cb79++RmMhGhmRGd8Hw60OYMfMEYqgQ6oyYis6pp0hQEcmgp6c69YphWckxJS017gEuXY3iQ2oJytRwRWmNS7Al41HYE/41fEBdqrSW16RQPruCa+F8kCU2gYNbbTg6OMAhzaMSiineIJEPviUVXOFaQofXBRop8ezKNaTskgPcajum2x/+UakYFG8SQfwxqODqiuzdJQWuTmsK5wYeaFy9ESacT/9FicVRnzqo0aQ56jq3x5LgdDNbcOHY0LUGans0g6trH+yO/rJ5IcRFLWFRmP+A3BM8DGPBsJrUAUPXLUGXMtKPQary7UXM7DsZZ3UdRxrUwqC+daCDsX+f9ejRI/XF3rhx44QUJl9QJEHL6A6BEklJ7LubExRJmecElHxesaxgtNi7dy/s7e1x9uxZISUvUfD1iPBUCyX/guwu3joKt5R4vm8d9j/jw1SjxujpXTHjcsLvw/HoOR9QiQrDubazkJjKmwAEBPMfV2SEam7O0NzoS3gZo2rFFMHQuAgyazhNDr6LUNWfk9XEgOVrsG7durSP1T+hnrGcf6UEFvXdUU1712MdSUbw3VB1IC+rOQDL16TbH/6x+qd6SNklC9R3r4bs3aXXuOp3Ewn8xQC9D8HFy5FpW4cVj+Dv/xiqiS2UfN6cVw36Sy05CH6XX4IjQnKkP/xCvrCoikxQxJiPxJRxePWKXbF+IC7TFcvWDIS9+sJRhfD+1u/o/+NBfOH1xmdIULaVR8ZBpTp26tQpuLi4QCqVYtq0aUIqk5cpYwPxx9j2qFm1E1anuQh+h+M/1YWTU22MOpLA1xF3sKx9Vbh4jseOoMzWCWW+jhKxgX9gbPuaqNppNdJmxXH8VNcJTrVHISUrlqF9VRd4jt8BlhVMel26dMH//vc/NGvWDMuWLRNSc5kyFoF/jEX7mlXRaXWwkJji3fGfUNfJCbVHHUECHwbfWdYeVV08MX5HUKYrEn8LHQXDcTjz1wXEER/o1WgOj5IZ31Z+3R+B7wgi/RpoVN9ESP1EfvUSbqj7SDiilqu2eYOVSE5KVj+TyjJpFubFP3mCl3zwILZ0gGPxjPvDPT6G44EKkKQUPNrVR8bJAeIQfHgJJg7tDe+e/TF69jZcjk7XOvpF4vHkyUv+E4hh6eCIjLvE4fGx4whUECSlPNCuvubpCrgXAdj8y3Ts0bym9Rcohha9uqKikQSFbNqhV5syaQuD1AEdezWBlZ4EJk690LNxuv0xqAev72uimFQG83q90KXGF4buIikfIKkCPkKSPF2gXaCJUbzlPGwc54LCH+PhZIRuGoqh28L5UqI7kvI1Uc088+/Rt7hw4QJatWqFKlWq4OjRoyhRIt8OkywwEu9shLdbc8yP+h9WX/DF8EqpykdSEM4cC0BQCGBega8PpFUw+sg5LG/2GNObuKHPtntg32RdScSdjd5waz4fUf9bjQu+w5E2K87gWEAQQmCOlKwYjSPnlqPZ4+lo4tYH2+6xnGA+0dPTw/LlyzFs2DAMHz4cS5cuFbbkksQ72Ojthubzo/C/1RfgO7ySsEElCUFnjiEgpaLhYzMpqow+gnPLm+Hx9CZw67MN2VK8U7oOf6PkazSpqkzV4YDKDz9NGcd9JVPARCf16nP6DRZQaIaRYwoKmubCb+dj03I+9I/WgWMJtLubKR9yi6lo9z2kfYE2Bd2e7qp+P72Gv9HDDKOaFBQyrx7pqwaqlef/Xvo34h7T3gGVybhoTeozax1tXDaWPMrISK90e1oR9JWj2hS3abqr6hjpUcPfHmYcaKUIoXn19PnPxh9Dn38yfraEUDoypwfVMJOSSFaFJgToaFiVXJ7JMtb8oeC3Z/aXFPz2TFbM1i7xBA2xlvDHQ59ar3slJOZDOhtAl478Nv3evLiqUz//3ikPcfHm9PudzHLrC3FPae/4bvRdz4V0XodvqxIaGkpmZmZUsmRJevnypZDK5GWqJfMH2RmSbZ99FKGpICse08X9u2n3gUv0NM2XXkHhO73JxqgyjTiRj7/LeQZH0YcHkZ2hLfXZF6GxTlE8vkj7d++mA5eepq1/FeG009uGjCqPIJYVTHocx1GTJk1ILBbT4cOHhdQcxkXT4UF2ZGjbh/Zprmjo8cX9tHv3AbqUtqLhi/dO8rYxosojTpCui7duguHEUzTMRhXYyKjOnJCMwVHyZRpfhQ8ERUWoxcpwDV/uGNrYtjAfCIrIuMPmTD5kIp0cWpYk/OsM2myg10JqRsl0ZWJVdfBt2HErxQupHyVepLGOMhKJClHtWUHpgj2OIrZ4krnEhN/XRx/3Ne7EEKog5ffPfTHd/5roL/kKTVRdMIgMqePWDHvE79JYcpSJSFSoNs0KSrVHXAxd2fwjtbAtSWWdK5OFavYLmTNNua7zOQZy1vs91L2omCAuRj325uN1p7MrGOZx4VupS2n+4udjQMyXv9q/0uU8PvODUqmk+vXrq/f5wIEDQiqTt72mowPKkcyqJ+2N/opSzEXSjm4WpGc3nP6JE9KYr/P6KA0oJyOrnnvp67JiB3Wz0CO74f8QywomvbCwMDIyMqLixYvnSkPF66MDqJzMinrujf6K8yVHkTu68XGQHQ3XcUWTsf/A15AYo4hRyltJJBk7Ib75azW23lVAWs4LI3tYZ+ybIb+KSzfe82d7KRxca6GIkJyRFOXKleZ/n8BFPlXPKqGZCMbGKatxSGXpR8wr8WT7HGwI5venQm/8MqRy2oUvuAfYuuoIXujVRseOn7oOFG7ohbY2EsSf346d99L+YSWnUA9wUHCZdOoUGSNll6SQydLuEZRPsH3OBgQrpKjQ+xcMqfxpj5TRx7F622u02XgDD674YpSrahv/++ne4hMlOIWqQ7oCme1OblPGROB5Ar+DktIoVzabO65mN1XYp/754YluiK29sGLNANil6j8c5z8bfSedQqyQkhdt2bIF58+fR/fu3dG+fXshlcnLuEdbsfDPCFT09kGb9CN3FUFY2b0uqjs5wN7WHl3XP+NrmXTEJdHBxwvlHm5Rv08ernryOA6Pti7EnxEV4e3TJsMgakXQSnSvWx1ODvawte+K9c8yHmlxyQ7w8SqHh1tU78NyIj/LjoGTNjY2mD9/PmJiYjB+/HghNYdwj7B14Z+IqOgNnzYl0sWCCgSt7I661Z3gYG8L+67rkbF4i1Gygw+8yj3EFtX76LB4Z4hLv4q0Emo6m6qD1MiIiLT9GhMuYt6UbXgKS3w3eyo8NHQH5h5cwtVI/rckFqhRyybj4LuPJChdtTJK8i/gwoIRrHXclQTWVRxgJiYkvoiEMJuZGvf4T4yZchgxBlXxw+qZaG4qbPjg1VmcuZ4EiVUlOBZNdXj0qqJGZX0+v27jSkC8kKgix6lh5WGgrw/DRguFNA0k1qjiYAYxJeJFpDDlmxqHx3+OwZTDMTCo+gNWz2yO1LskLuWFNcfXY1j9UnwYLYb4czkmP4Vh5Q2gr2+IRgtDhcS8J/lusHqAo7iwI6rZ599gWPnmFWLVKwYS4t+8+RgX64YYxVvNx8afa6bqP5yI28v6Y9T+dAMe84iEhASMHTsWIpEI06dPF1KZvE2JJwf24kJiWTRvXT3jwF1pFQxZNxfuyQ9wL5xgaZdq+r9U9F1bo5llAs7s8sXzvFg48wPlExzYewGJZZujdfWM4zCkVYZg3Vx3JD+4h3CyhJ2ZxpyAa+tmsEw4g12+z9mFSb6T/QMnBw4ciDJlyqgH7l+/fl1IzX7KJwew90IiyjZvjYzFW4oqQ9ZhrnsyHtwLB1na8TGcsCk1fVe0bmaJhDO74KvDiuZzoVUWFUbrYYPhbMjh4f418BWabJOen8U8r66Yf9MIdSdux4quFhr/4JuAAKgnkijkDLcamU0ezB8HN3fUKSKG8u01+N/UftVk4N4TXWxlSL68HesCUualiru9DT7th2LPa/6qe9UuzGpSNMP+JN2/hzDV3MOmZiieJio3gKWFKphNQsTjCCFNRYRChoXUDbX0MiolSSMDuPfsAltZMi5vX4eUXYrD7W0+aD90D17zV0qrds1Ck9QB+NcQFYJhIfXe4GVUZvuTmziE+V/Bc44/dm6NUT8frnymlMciIugkVo9bgQvqMZ0KXNs0DStPBOFZnC4ngTFCnUmbMKNJsY9llZIf4g+fodj8MM1lZ56wYcMGREdHo0WLFihfvryQyuRtcfA7fx1JBk5w0RCAqUmSkSTn68XCfB3trOU1+jXg4iRD4tXzuPheSGO+TJwfzl9PgoGTi4ZgIYUkOQlyEqGwsxu0Z4ULnGSJuHr+IlhW5Cc5M3BSIpGoA2Iiwty5c4XU7Bfndx7Xkwzg5KLholtNguQkuWolKDi7OWt5jT5quDhBlngV53VY0egoGOZDPbcp2LdjPJrLDqJHpdKwtSuLUjYtsfCxC37acQ7Hf22YpsXzEzmuXrqRstiGoxtqZ5xoIi3TFujcojjEilD8feyO9rnnDBtj+rZF6Fb+HmY3sIZlmZKwqOGD0+Y9seLkeWzqaafxQNPbN4hXNe/p66eb3k0Eo8IpQe/79+9SkgQf7o6LCme+84aNp2Pbom4of282GlhbokxJC9TwOQ3znitw8vwm9LTTUrN9ERJaJ/nK0uRzBzOXcI9w9PgtKETGaOTZFhomH8nDEnG4vxUMChVDaafmGLrljnquatVxT7q3HcM9nGBlog89E09s1lVfBr3KGLb+d3haSdTlT4V77osf+y/B7c/cRctJSqXy4yjlAQMGqH8y+YAiHPcevoPYoizKammLUD4PxK1nSsic3OCm9eLVEGWtzSGKD8W9x3nvQi0/UITfw8N3YliULatlelElngfewjOlDE5ubvwR18KwLKzNRYgPvQeWFfmFEi+OjETHYQGot/ovbBzogvRtYxKL9pjx527s/r0XKgpBsri4G38eOoZlNc9ikOfPOPk6Jf1z+vbtq76Dt2fPHkREpG7gyy4KhN97iHdiC5TVXtEg8NYzKGVOcNNe0fDF2xrmoniE3nussxmWdBiGSFG27Uwcux+FJ1ePYvu2g7gYFo1nN/ZhZmcHpPTg1UBxF+cuRfIfSIqK7k1RXnsfCUFRtBvSA7YyBW7v2IgLaePSNIxdfLD95nNE3PkXvgfP4G5UNEKOL8Og2nwwLbwmA4k4JeBQJCNlErfUUkIRff3U04zJ8fRpNDiRDBX4/c+cMVx8tuPm8wjc+dcXB8/cRVR0CI4vG4TaGqZ/+yryp3gazUEkqwD3phWFxLxFcWsLtvnLIbbqjMFdLHVZCHOAAdqsi0ASH/iprqo1PpQckt7sw/ear/6+iqRsd3X/4Yof+w8r8fr0FPSZeQla1gfMcefOncP9+/dhZGSknlKNySe4GMS8VkJkVATGWr6MCf6XcEshQTkXN/DXZFpIULhIYYgoFi9jWAT2NbiYGLxWimBUxFhLvZgA/0u3oJCUg4ublfYuhZLCKFJYBIp9CZYV+UTscUwctgEJneZibnvN50VJmdro0Lkz2qfPe4k1Oi+YjbavVsJn6imk7sipjaWlJRo0aACO47B582YhNTtxiFGtEyEyQhHtFQ0u3VJAUs4FbtorGr54F4Fq3Hrsy5i8GAx/YICSdtVRy7Ua7C2NtX9ZBYo7B3DkjkK9JPL/2mtrOk/LoP5PmNK+JJShWzBjw4PPHAx9lLCtBtfqDihj+vl3F5kUhQkfb6haiN+keWNCQnwCSCRGcfNP86Uqn/ti95m3kJbvhdljagupn6FfArbVXFHdoQyysEtfQInnvrtx5q0U5XvNxpjaOn1z3VA+w44ZqxGoMEXT8RPQOo82Xuc9YpRoPR8bf6oBow/xMMXjyty+GH8ii00B2czX11f9s3Xr1ihUqJD6+Zfi4iMRcvU8zl4IRHjcf/gszsUjMuQqzp+9gMDwOJ1V6F9HyZ8Q+R9ikZYTQhKu+V1FHFS3LjNfDEjMv4eIfz/+WjF/yFP5wOMvpFOyQsupOeka/K7GAaruKpmuFCXm34OvKPiMYH2G84PcGTjp6emp/vmh7s5uypSKBtqLtx9Sirdb5guhifn3UBfvPNdn+Cspo3Fw4QYEJgPGDYdgUK0sBm9iS3j99hu6lo7HqakDsSgwk+bhL6Rna4fy+iJwz8MRnuYWdALCVYtmSMqicpWiKUlcCNb0H4NjRTphhe8ydMjl+/1cyBr0H3MMRTqtgO+yDnmw+4ECDzb64OcDL/jAbg6WDqrw2YslJrXCqDtlE6a7p+o/LA/GygEjsCeXRyypWsQPHTqkft6yZUv1zy+hjD6PpQOboKKFDWp79kM/zzqoYOkIz0X+0PVK1LmKr/POLx2IJhUtYFPbE/36eaJOBUs4ei6Cf259UJHQipiQgHhNxYh7Av8rj8FJq8LNTes9Pp4SCfHvQaqWnyJ5rvJJKy/mA08ktHglJMRrDGK5J/648piDtKobMs8KPi/fk7q1P69nBcPLpYGTqoYLlcuXLyMyMlL9PPuIhDtHCXw9obF044n/FTzmpKjq5qa9NwFPyX8/3pPqDkoRnQWxufA1iUPwub/w1+FtmD/wfxiw9SlEFi0x8/dBqPAFkZG4jBfW7J2D5vrnMaFNFyy4+Eo3V8AmjdHE1YDfzcv493Kq6SoSLsLvuhySsi3QzlUorJIyqN9nDg7/+yf6V07ddSK7fGhxUd2iVyekISlTH33mHMa/f/ZHjuzOF4lD4BpvtB52CPK6k7Frc3/YsUj4y+lVwQ8bFqPjx/7DBEX4NgwbtEE9O0duefDggfqh4ujoqP6ZVfLb6+BVzwOjdieg/aZbeBoeggcPL2FmjUj4/twTk0/nlY4g30h+G+u86sFj1G4ktN+EW0/DEfLgIS7NrIFI35/Rc/Lp3OnyIi2HcqWlUEY9QYSmQRjJtxAUwkFs6YTqFvwp4104wiI0dVaX4+mTKHCy0ihnnYdniMmr+cCTliuH0lIlop5EaBwPk3wrCCGcGJZO1ZGSFWHQnBVP8SSKg6x0OeTlrGAEuTRwUjXIWSaTqZ8fO3ZM/TP7pEyNK1VG4Ynmiga3gkLAiS3hVF012cI7hIdFQHPxfoIoTobS5az5d9URymkJh6ivhYREIikZlqxEjXvNoEOhX7/oQuKDfTTWvTQZGJSmRoMX07H7GRe0+FIxvn2prFRMRZssoED1AgdxdGVmQzKRmFO7dWFft+KaDsTfXUFtS6QsVNF6WTDl8bUXBIn06PRKGtWiPBnJSlIdn60U9O1ZVMBxFH1oINnJVIt9qMdL8mXClBrPC9Sw+mPO2LFjx8d9iYmJEVI/j4s+Sj6OBiSS2tD3e5+lmoSdo8hVHmQgEpNF38OZrDaZDRJ2UbeiUpLZZLYa5hfioumojyP/eaRk8/1eepZqtnkuchV5GIhIbNGXDufK+jPJFDChCsm0LebzegO14fdPYtWN1p7ZR1Nb2JHrpAsZ6x/5JfrZkT9uNaZSoC7WBCpw+cBLDqAJVWQkc55CmrOiDb/vErLqtpbO7JtKLexcadKFjGcC+aWfyVEqoxpTAzNdQTRrEmhXt6IkldmQj84ygkktOXAq1ZBJqeLIf7WsCMvRw98akp5IjxosyCQGSfyHhpaVkKzWTLqTxUDFwcFBXW8PHz5cSMk+yQETqIpMRs5Trmsol69pQxv+XCCxom5rz9C+qS3IznUSZSzecrr0syNfHmvQVJ1UNClyPhhW4ZIpMfkrltbR6i3dPfQbDe/oToN36GJFlTi6tqoX1TDTo0LmFcmxojkZF69G3Rb5UYwudztLEmhv/4pkVaII6YlTBT98hahvWorK2PWgzZE5vlNfII6O/NiM2gyaTXtuvkoV7DDfJo7OT6hJhiKhPPAPkWFNmnA+d9acmjx5snofVEswZxn3knz7liUpX5Ytuv5Jz9MVjvd7ulNRMUhWZw6F5OQVaMJO6lKED/6sh9BJnZz7OXqpvsDm39OiK/2Z8YOmrMYoq0NzcvSDfiL3G0OVpPr8iTY044lWEUYbOlqRTMQHisZ21GH2GYrS8EVW3JlJtfgTndOEAB0EYLwCmA+qE73fmEok1W9AC0Iz7oMibAN1tFKtniomY7sONPtMlIY6VUF3ZtbiL26cdLRsfwLt7FKED1KsaYhuMoJJJ/HUMLKRaAsSVd7Sji5FSSy1o1HnMlk7P9mfxlWWktRuFGX2stQ6dOigrrtVyzRnO7kfjakkJf0GCyhj8VZQ2IaOZKVaiVdsTHYdZtMZzRUNzazFXzA6TSCdFG9B7gTD+YU8hsICAyggMJResjqAyWsSb9JCd76CFIJhQER69kPo6EsNFUg28/T0VO9DvXr1hJTPS742hWro8xWfzJkmX8tYq8Vv8yQjPtiXVZ1EV3RY6X2WroOw5Gs0pYY+H8DwJ7vJ1zKe7OK3kacRf6Erq0qTcvSDpqIIpoWNCpOe82S6oukkqnhLT4OD6elbbUFiIvn95Egyk+a0TEMQ91UKYj7wFMELqVFhPX4fr2hsJVS8fUrBwU9Je1b40U+OMjJpvkxDwPE1WDCc3RJPDiFrPhjW2pIvP0M/VJCS2LQL7XgrpGki3FmQ2o6gs1kMhseOHauuu0uWLCmkZCcFBS9sRIX1+Dpfc0VDb58GU/DTtxkvygWJfj+Ro8yEmi/TcOH+DXKhz3A+olcMNlVd4FK1PIprmRaPYXKNvhNGbFiEDpaf+g8n3VuLQcN36XSZyqy4ffu2+qednZ365+fF4/jy9QiUq2aH6Y2+VdP3/FLiRdRLqBf30zeA4YcZNPKh+OPLsT7lg6J336oZ+rgpX0ThZcoHhcG3fFBlLG7tnIGhPbvCe+RK+KVeelPlzS3s+HUIevXoh3mn081AIrHH4Hk/wjlsOSasCcnYX1ViDCt7e1gZa+7on3R7KcavfYZaY+ei3+fnx8wVOZYPPGXsLeycMRQ9u3pj5Eq/NKugqry5tQO/DumFHv3mIWNWDMa8H50RtnwC1oRk7FspMbaCvb0VNGdFEm4vHY+1z2ph7Nx+WZiqlNGNRDw6uQzj+nujx4BfsDck/fK4CtzdPx8zpk9Xr8w5Y+F+3E3VGTY3B05+qLOjoqLUSzR/nhKxt3ZixtCe6Oo9Eiv9Uq+oq/IGt3b8iiG9eqDfvNNIW7wlsB88Dz86h2H5hDXIWLwlMLayh72VlpnIkm5j6fi1eFZrLOb2K6/bAfhCUMww+YM8ku74X6SLF7/ucelyCOVCw2k24ijqYH+qmKb/cAlqvTJEN7eqs0Aul5NEIlH/7dmzZwupnxG7m7qr+r+LDKnZsscabvUm0j9DyxIf5pNBq7Wki85PWabTFslY2t29BIn5z2HYbBk91lD2Ev8ZSmUlIJFBK1r7tR+Ui6YTP7lQ0SIlyMxITCJIyKqPL//Xhc1Rx2hUdeOUuwgSS+p3RFOn2GQK2eRFFYtWpn7bsz4mIf72JvK2MyW7XtsoVJeFLj/mA4+LPkE/uRSlIiXMyEjVtU1iRX18P+YERR0bRdWN+bLP54XEsh9pzooQ2uRVkYpW7kfbg7OcE3R7kzfZmdpRr22hOvz+s5bhzMXT5fnNydK4OJkZS/jvHl9n1ZhCAWkaPhX0/PIm6u+kx2/ny1ghd/r90adCyEWuJA8DMZl23aXxe/d+f08qLpZQOZ9T6nEhCY9C6ammhtW3W6kjH1Ub/m89ZXXkxrlz5z6eO86ePSukasNR9ImfyKVoESphZkRiEV+GrfrQp+IdRcdGVSdjser9JGTZ74jG8R7JIZvIq2JRqtxvO2W9eN+mTd52ZGrXi7bptKJJwYJhJl/hni4hdz0h6PuKh8jIk7Zl9cuXb7ylc+Oqp+k/LDZtTAtv6/ImknZRUVEf/+769euF1MzF+35PJfkKU6RXj+Y90LCfXDgtbqw6cUjIevCJnB0YqMsgLN6Xvi+pCvr1qN68Bxpu63EUvrgx6alOKtaD6cRX/T3+BLWnJ9nY96bd4cn06mBfKsMHdeIS3rRPNVhVfoeWtihB+tYtaeyMgdTQvgf9Ea3tilBBESdn03dO1lSl/VQ6GqHtdTxFOB2c2IYcrKuR1/zT9EzXxS3f5QOPvyjZ09OG7HvvpvDkV3Swbxn+gk5MJbz38SGTKiuWUosS+mTdcizNGNiQ7Hv8QdqzIoJOzv6OnKyrUPupRynzrDhIE9s4kHU1L5p/+pmGz/ctWDCcmfizP1KVsu1p9Z33FH/mB7KT8nWhtCKN/Dd9tPqeDvUtpb4gM/nf2rT5mYsDJ4ODgz/W33v37hVSNeOi91BPG3vqvTuckl8dpL5lJOrGF++UiobuLG1BJfStqeXYGTSwoT31+COa/2Zppog4SbO/cyLrKu1p6tEIIVUTBYUfnEhtHKypmtd8Oq3ziiaFSPUf/iAwTP4QexZLftmNe5pmZskCkb4zvp/dHy5ZnNI635DfxIKWjfDzmdiUW1bi4ui59ym2dMj+OfaePHkCa2tr9fM//vgD3t7e6ufaJeHcqCposvg+OD0LONa0US90kwbFI/zGLUQk6qHJklCcGGaVc/NAvtuFrhbdsNd0MI7fW4Gm39BFKuncKFRpshj3OT1YONaETcYPivjwG7gVkQi9JksQemIYrL7mgyY+wt1nZnAoX5jf/4PoU6EjNr20x9hzfvA85gGPtSUw68Re+GR1zkXlG4ScvQ6Fa2NU5t9Ssze4dfo6Crk0hK22FaW+RX7MB17io7t4ZuaAlKzogwodN+Gl/Vic8/PEMQ8PrC0xCyf2+mR5+kvlmxCcva6Aa+PK0J4Vt3D6eiG4NLTVuorg13uHXV0t0G2vKQYfv4cV35IRanEIvXAJEWYuqG9fNOP3mnuB2+cCEW9TB25lNfQJkEfgyrkQyKo0RLVSeWDeOMVz3A3Vg719cYiTzmN0FXcsui9C7Vm3cH68/adb+coILG1WASP+LYG+B+5gXRtjYYNKEi7+VA0Nl5bAnDun8WO6/i3cw434rsEgHHjGoXDFdpiwZjXGNjJPd+w43J1VF9V+eY+f/K5hpkvWjs3Dhw/VU6ypbN++HV5eXurnmiXi0d1nMHMoz5fFdzjYpwI6bnoJ+7Hn4Od5DB4ea1Fi1gns9amMrBVvJd6EnMV1hSsaa69o+OJ9GtcLuaChrbaVGb8dC4YZ5j+Ce7gWHWoNxuGXSoiM62OO32mMrZL9JwvV/MIVK6Ys/b1jxw507dpV/Vwr5SMscrfH6H8VMK3WDp1cigsbPqHIi9h19A7iJY74+fx1zHHT8dVL3CVsWHAYYZrmZubuwXfRHtzhK1/vIR4oo6H2Fckq47uJXsjQ1TkNJR4tcof96H+hMK2Gdp1ckOGTUiQu7jqKO/ESOP58HtfnuGVpFc7MvcD6NjYYcFSJ+n264tW+a2i++xQWNstkGfrc8p/OB96L9WhjMwBHlfXRp+sr7LvWHLtPLUQzXS2/rzNxuLRhAQ5rzgjc812EPXf4YNt7CDw0ZwQqfzcRXplnBE+Bq9PqovEvAUgwcMLYvy9jTv3UYVMsjg52Qcc1oVCYNMWii8fxQ6VUgSEXjg2damHgwRcQW/XAtqub8Z259mMZd2kDFhwOU6/q9+VEkFX+DlO9qgr/zop47PYqi247YmHitRNPtnf+tHhEzB/wtO2NoxWmwv/SFFRLd6i4kN/Q1GU83ozyg/+0mhnKHxcXgQfPAEtbLf3F5RcxtkYjrLFahGvHfLLcX/zp06coU6aM+vnGjRvRu3dv9fOseLG+DWwGHIWyfh90fbUP15rvxqmFzZDnindWqILhb6V6G/ZgD1088gpN+6arR/bgKMq3P9mq+g6Li1Pz3+9oma9S94KCgj5+ts/dZlNLPEYDrCQEkT41XRah4Taagu7OciOZ6pZ1mYH0VzbM+Zoz3W0S6dgAK3W/Z/2myzTe5lbcnUVuqjyTlKGBOvugyRQ0rSbJVPsqNuPLQlCOlYUv9d/OB15yEE2rKVPvq9isOf0elEdzgntKS9z1MhzfLD9ERuSZpf5n0bS6hb663yygRw0XPkz7/U++TlOcU44XREXoux3p3vP9YepnkdLfWnNXhNQ4errEnfig8tN+ftFDREae24T3yiqOHi5UzQcMktX8lW597KvA0fMN7chUUoq67dA0HZ5KAvlPrUVFinnQ0uAv7RMrp6D5jcjUtB7NvPZl5TcyMvLjZ161apWQmjXJQdOopkz1u2Iya/475dXinRU6aRkWqRaJZhgd0EFx1InsLNPZ8Rm58D/QtV4f7FO1HHhuxIWdPVE2iy0D3yo4OBgODg7q57t370bnzp3Vz7WKWYtWVoPwl6Ichp24i6Xu6W67cg+xqKkjfjybDMt+vghZ978MS3PGBR/Gxj+O4lp4HKTmjnDv1g/daplnfXSxPByXz9zJMMpfLfki5nefgbOF22HO2kHQ1LguklqgWlNn9Spg2sVgbSsrDPpLgXLDTuDuUnek/aQcHi5qCscfzyLZsh98Q9bhf5pGinMvELB1Of4y6oUJnbM2gjrxSD+Ub7cB0ZaDcOzBKjT/1jvb2SXP54MS8eGXceL4aVy++QBPXydBr2hZVG3yHbw7VMtCC1gijvQrj3YbomE56BgerGqe7m/nFXKEXz6DO5ozAhfnd8eMs4XRbs5aDNKcEbCo1hTOmWcEj0P49r7wGLgNT8w7YulfO9AvzVKkctxY1B5txp1EfKUh+OPv39G2ZOr3jMU/4z3QZcENSOtNwYEjk1BH03dGIOfz7syd9LMdZJUIUotqaO5sIfw7a5L+HQHHpkvwsHA37Hj6J75T7R93B3MauGA6TYL/uQkay7Ka4h4292qDUTcbYvneJfCyNxQ2ZCYBdzYPRseRl1F7+TGs717+i1Zle/78OSwtLdXP161bh379+qmfZ0niEfQr3w4boi0x6NgDrMqzFU0WqIJhhskvuKgdNKh2TapZ8ysf9X+iY/+1MSDyO/R7s2LqgRky237kq2mi8mwUFhamblVQPbZv3y6kaqe4PZ1cVa0Jeg3pt4cZ91URMo/q6ata6cqTzz/pWzk4erx3AFU2Lko1+8yidRuX0ViPMiTTK03tVwTpZqCdrgZuKW7TdFdVK5ceNfwtXQuYiiKE5tVTtZJJqLzPPxpGXSdQ6JE51KOGGUlFMqqS5cUs3tO1mfXJRD1AsREtSjVqPV/J9XyIo0PDKpGJVEyF7drSjwvX0oaVv5B3jaIkFulROa+t9OhzY3neX6OZ9U3U3029Rosof2ZFNgygk8szvVvB8dszK+sKfnv2DKPSgddbqIMxX3/JatIvN1M+xetD/chaz5aG/P1h2oVM5PDAyfDw8I/19x9//CGkZs37azOpvknKwNRGix5pafHOH1gwzOQrXMQKamVqSIaGX/cwKtGddmblbl6+kUD+v7iRsYgPfApVpTFnslDZ6lhERMTHynTTpk1CqnbJVyZSVT4YFhl2pK0ZluZOpItjHdWrnRWqPYuC0p0RuYgt5GkuIZMWKz8FFnEnaEgFKYmM3WnxfR2cInUVhCVfoYlV+SBMZEgdM35QSrw4lhxVqy0Vqk2z0nxQjmKubKYfW9hSybLOVNlCNatGZqtTpcZR1OHB5GDmRM62MhKJi1OPPRn/tiaK6Mu0aeo02q2rRTO+Va7nwyta20qfxKU60ubwT6d5LmIdtTHlA4BUwY5GXBQdHuxAZk7O6u5L4uI9KNOs4OLo0cV9tHrWOPLp603dvfuSz8TFtPfGy1wOMthsEl8kOZCm1uDLG//d897HX1rJb9C0WkZUqvPWTAPb9LjYYDp1Ooi/JMtE7E3+Nffp7TcUkPv373+sv3ft2iWkfh4XdZgGO5iRk7MtX1+LqXiPPeoZU7Th4h7RxX2radY4H+rr3Z28+/rQxMV76UYemev0szd5GCYvEVsOwdHXCUhI+LpHfPQ2dMnKnad84vU/E9F39mXEiYqgzsQNmN7IRNiSc/iLDOEZ1Mf4c0TGxindHqQyyNL1RlE+2Y45G4KhkFZA71+GoHKa+30cHmxdhSMv9FC7Y8dPA6oKN4RXWxtI4s9j+857QmIeIDKGccoHhSzjB8X2ORsQrJCiQu9fMCT1B1VG4/jqbXjdZiNuPLgC31Gu6tueImFplczIb6/A9/33oPSUrZjfsjTEyjcI8LuBVPP7Z/QuDEfneqOWY130mbUL11+pzov/IV+bDzBGq2m+OH5sOXpYfzpVis1dUcNGwv/uS0RHaxuaJcftFd+j/57SmLJ1PlqWFkP5JgB+N7TkRPxhDK9cGrb1emHhxWSUr9MEDWyTcHHFaHSu5QLvbeFfOQiMyXFSW1RzNOG/e28Rdj8cIWvHYvGD+pg8pxssvyDiEpvYwz2zGURUTJz413zbDCLv3r0TnqWtyzMlv40V3/fHntJTsHV+S5QWK/EmwA/ai/dwVC5ti3q9FuJicnnUadIAtkkXsWJ0Z9Ry8ca28DxQuoWgmGGYfIZ7vpe+t5GRSDV4oeVy+uIxFzqiVCqpePHi6paFMWPGCKmZeH+Y+qoGwei50++pVz9QhNPWLqVJIjKkaj/+Q68yNBhE05pWhUgktaUR6QbOxG7pQEYiERl12CykfAOdzW/7ng73tSAx9Mj999QLiygofGsXKi0RkWG1H+mfjB80FQWFLWhA/GUDVZ9yQ2PLcGzQ33QoIJISH+6kPnaGZNV5i/r2/avNHdR3DFRzl95Q/aL8Fq38YTwdeCy0/HIxdGXzj9TCtiSVda5MFnqqW7vONEXTRKe5IU/lQyrxB6kPX35Fxi1p1dPUvxNLQX8fooDIRHq4sw/ZGVpR5y2P+L/yijZ3MBZa91PyUH5rJf0w/gB9yAp6tZZa6YupVMfN9KkRmqOIdW3IVKwajPULZdYInb1Yy/CXUVDo/Pr8d1ZCpVr1IA9zU2q88HYWuzjlvP37939sGVbNOaxVbBD9fSiAIhMf0s4+dmRo1Zm2pFQ0QrcQvu5IqWjo1sofaPyBx/yRSPFqbSvSF5eijpvDP33/uAha18aU/17KqOYvN3P9+LBgmGHyI0UorW9fSj1CXlq6K23TtKRWDmrYsKG6Mm3Xrp2QkpkEOj3CjmQiI3KbcilllbS3QbR1kDMVERtRpZ5bKERTh0L5BRpjL+UrXReanm5BEdXa/qrVw2Su04WUb6CzIIx/q9MjyE7GB+luU+hSygeloK2DyLmImIwq9aQtGj9oap8LhhPoQK8SJDUpTdZFZWToNJL+Fm47Kh4uosYGqr7XVtTml1U028uRrNwX0E3hM3HPt9MAj7609NxzSlY8oHn1ZPyxrS6c0PKAPJUPH6SM2i8iLkTVxv6b9hZ2wgHqVUJKJqWtqajMkJxG/i2sdqmgh4sak4FqdhSrNvTLqtnk5WhF7gtufurjnvyUAv46QdfTLSiQHDiFqsv43ys79JuPwddjwfCXSjzWn6z4+kg1y4Jpo/l0K6vFKxfMnTtXXXfr6elRcrL2737CgV5UQmpCpa2LkszQiUb+LXTfUTykRY0N1H3urdr8Qqtme5GjlTst+FDR8JKfBtBfJ66nW5gnmQKnVFdfNJQdelI34z2+AQuGs4yjtyF/0cqJA6hbhzbUtqM3DZuxjQK+tL+LIo6eB1+hc2fO041Hbz9eOTFM1iXSzfnu6hYjkcyOBh3WvspPThkyZIi6QrW3txdSPuNtAC3zcuKDBhkVsShN5kZ6ZGLnQT6rLmpfLvvDlGyyjKvWyS/+RJWkfDBcZYKQ8g10GISpgq6AZV7kxAeqsiIWVNrciPRM7MjDZxVdzFLd8ZlgWFi5CiIpFXfxoV2plynlosh3oJ06CIPIgEo3m0IntQ2uVITRggb/3WD42/NBhaPov0dSNUMZWbVfTXfSBTjJAROoiqovvLQ4ufjsSrM0NRflSwPtVAEDv92gNDWbcpKyMs41/mAfshCLyLjlKkrTCJ2jWDD8pbjHi9VTBoqLNaMld/PI90mLvn37quvuqlWrCimaJFPAhCp8PSQiaXEX8tmVerlv1bSeA8lOdeHNbzco3YymnNQ2fVxq8XSwjwWJRcbUctXTXD+HsWA4C7iXl2hFPxcqYViCqrb0pkE+g6lbo3JkKBKRnk032pKVASf8ienckgHkblOYDEytya6CORWSFCa7jr8JLRUMkzVxfpOophFf8YgMqfq4c/xpPvctW7ZMXaFKpdJMWxfSS4y+TzcuX6M7j19/fi7cxL9pUGlVMOxGM+9mDIYdVMFwzV+FlG+QeIqmtmpEjb/7ja7o6jyWGE33b1yma3ce0+svaiX6XMtwIkXfv0HXgsIpVmM1lEARQVfoxoOXmbe85MVgOE/lA9HrC9OoYTEZWbRaTNc1jRRSv/c1CgqP1dzIkRBBQVdu0IOXWQwo5UE0v1EREheqRmP/zXQYVTZLpFNTW1Gjxt/RbzrLiP8yBT3c1JEsZRbUYUNYnm/wql+/vrru9vLyElI0U9fV14IoXHNFwxfvILpy4wFlvXjPp0ZFxFSo2ljK1eItYMHw5/Anid/djfigtyP97h/z6eqFi6bDA2xJKhJTya5/Zn6VnxhEa7vY8sGvKdUauYfuqyvSBAqc05CKiGVUcfipTEdhMswHXMwx8qmkml1ATKYN5tCNPNJQc+bMGXWFqnqoRidnC7k/jassJUgdaOyltJGMqpuEtURE+h4rhZT/is/3GdaJvBgM5yFxl+dSU3MZlWqxkK7kxImbP7/8PbIaGcqsqP3qnFtAh/l2CdfmUCNTfarY35cic7u5MwvMzc3V9faMGTOElOzHRf9NI6sZksyqPa1Of4sll7DZJD5HUgyNR6/DXyf/xA+1in1azlRcAi1H9UYNqRLRx3bg2GshPT3lCxz7sQuG736EUt7rcWBhJ9iqRzYbokrv7qitp0Donq04k6h+NcNop4zA7uEDsTokCSLz1pi7YQyq5ZE5zmvVqoVChQqpn4eEhKh/6pyeLezK60PEPUd4eNphywnhT/BSKUHZylWEFIbRDcW99ejVcRJuVpmBg3tGo2amw/t1IRZ+Mzuj2/JoNJp/GNsGOuhmaWgmWyg5BThhVY+kB5vRx3MKAp2mYNvidkizXkgeFBsbi+joaPVzd3d39c9sF+uHmZ27YXl0I8w/vA0DHfJG6WbB8GeZoGqbbnDnT8LpScrXRDVzCejdbVy/rWlOESViDo/DkNV3kVyqE2bN6ZBmpSSxiRnMComgfHkXQY/ZxDlMZhS4t3YQftjxBJzEGl5LV6O/bQ4tMZcFqkC4WbNm6ucXL15U/9Q9EzRu4goDxOHyv5fx6foxARf9rkMuKYsW7VyFtP8OpTLlTKskVQMOk6PeXcaMnqNwwnwEduweA9ePgXAcjo9rjr5bIoR/60o8AuZ1Rsfp9+A65xB2jXDOsPoik4cogjDDrQiq/7AN+1eOgEeDAThSuB827xwH13yQcR/qajMzM7i5uamfZ6v4AMzr3BHT77lizqFdGOGcdw4SC4a/haQEzIvxh5BTzTepEBJTUQRiya/b8JiTwqn/z+hcKt3h5uRITFKd4BIQH8dOdIx2iTcWoP/PxxBNerAftAZLOlvmuS9vmzZt1D8PHDig/ql7Etj0GgUvaxHCt8/E8psp82PGX/0d8/ZEonjr8RjVIB8vB6pJwn38fe4eOP5/T65eQOinKUGZbJeEq/OGYv6VZJQqFok/fuyHPn36qB89PZuiz2/n8FxuILxWF/gL3vW90HHSTVSZcRB7RtfMfI5ZJve9uYyA4ETcWu4NT58VCLYbg91/LUW7zy5LnTfs379f/bN169aQSLK5cUVxD+t7dcSkm1Uw4+AejM7+WyxfRuguwXyOIoZun9hOKxfOpbm/raI/T4XQW/l1muKsGsltRJ22Z1zWLO5wP/X0KqJC7rT4YcZO59zD36ihHggyV5pxJ693sy+g5E/p7OoJNKB7V+ozaRcFf+yjq6DIi5tp+si+1N17EE3ZciXVvLgKig7YRrNG9aMe3fvRuDUXsjRyXKu3/9JY50IkgoiMak4ivzzawTw6mg/V9fTU/c/u3bsnpOpe3LVV1KuGGekVMqeKjhXJ3Lg4Veu2iPxi8kEHvSxK2NufKlqVoCJ6YvUMBKpjqhqpLdE3pVJl7KjH5kjhlTrycWq1ajQ5r8wznNsS9lNPM7Fw7DU8RKbUbZfulrNM8J9KtYwLU/Ux/1Caovz2L/q5WR/anHvTSTBaKMJ20lgvT+rc04em/eFPUfnoNK5QKD72Fz569KiQml0SyH9qLTIuXJ3G/JNq7BXv7V8/U7M+m3NxtpQULBj+LI6en5pNnpWKkERiQuXr/I+69uhEjSsWJfOaTcnFXEIQl6BeBz6taJ8ilnZ3L0GqNekNmy0jTdPAJv4zVD03qsigFa19KSQyeQYXeYImNypFxmYWVFS1IAF/0dNkyUO+EomgI2NqUwlDUypuohrMxp8YxWbUbn04cVwknZzciEoaGFPxooVIop7Wqgi5/3b360YVc9F0aEBFkvHvIzZVzd2Yt4fS9OjRQ125Tp48WUjJLnKKCQukgIBACs3q8GVGq/i7K6htCT7wExej1suC+VMXk6PkV2hqTUMSG9hSU+/e1Lv3h4c3dXS1IJl+S1rDzhGMDqkCYFVdbWNjw5+3sjcSlV+ZSjUNxWRg25S8P5Zt/uHdkVwtZKTfcg3ldvFmwXCmOHq6bwA5FBKRuFhdGuMb9ml6ordnaKSDavUvPtiRVqIxfumClHhf+r4kf3IR6VG9eQ80BEIchS9uTHqqiditB9MJdj7PWxS3aUFjS6o2cCc9eJ9Ip4bZkARSqjTmKB36oSZV6bSILqiaARKu01RX/ZRW23bL6ehEN7JtMpmOPOQvjpJDaUkz1cpTItJvtpyef3F9w5eRrd+RlUS1cEIpar8u9OsC6hx09epVdQVraWn5RVOsMbkhgfb2r0hWJYqQnlg1R+iHFk8J6ZuWojJ2PWhzfhgO/x+QsL8nmYmF46/hITLtRjpshGYY6tChg7psLVmyREjJLgm0v6eZaraGDOU65SEi0267cv0CnAXDmVDcX0Eti/MBrcSKvHY8S9O0r5570accHyDxFZV+U1r2LO1W+b8jqaKUz2g+GLaoXIfq1q2b7lGHqlql3PrWb7I0128RMOlx9Op+CD1XR5+JdHKINUlEBlSjlQdVb7ci1YT7ifT3oNLqciAuZk5l60ym8x/njZbTxZ8qkZTfptd0GaUrIp+VfGcJeajKn0hK5b7f8xXB9Oclnp1BHT08qO0vp4SUb9epUyd1Jbdz504hhWEYhskrwsLCSCKRULly5ejdu3dCasGWP3p554rXODRjJk7EEArVGYGpnS3SDVgSQaanx/8XEFtWgqNqIN1HSjy7cg3hCtWMEQ5wq+0IBweHtI9KxaB4k8hHyxJUcHVFCZYTeYwYRW3tUEo1pkAZhaC7kVBSIgIDTfHTykH4NBtMMl7GvOVznI/+FA4Ytm4S6pmkbFGVg+gXr/j/SlCSf680ReRz3gVgVt+J6vKn7+iDdYs6If34y2+nwIOz+3H475PwfxgnpH273377DYaGhhg1ahRev9Y25yDDMAyT0/i4DwMGDADHcViyZMnHKTELOhaCaaF8vg/r9j8DJzJC457eqJhhoOV7hD96Do4Phws714ZzmkHsyQi+G6reJqs5AMvXrMO6dWkfq3+qB2M5/1KJBeq7V2PzSOZl7y7D/6ZC1bkbbj/8ii6Wqb42SXdw8+47/qJGCrv+MzDMMVVOKkJwNfA1lCJD1KhTE1mf5yAWpyf1xWx/PkAt7IpxG2ahaVFhk069QcCVe3xILIZJUd39AWtra0ybNg3Pnj3D6NGjhVSGYRgmt61duxb//PMPOnbsiLZt2wqpDAuGtYg78xcuxBFEshpo7lEy44GSX4d/IB8EifRRo1F9fGwMVIvHkycvoeR/y9LBEcUz/DKHx8eOI1Ch6grqgXb1U0/Po0R8+CXsXzMb44f1Q88ePdFv2CT8vi8QMcLE3kzOSgq8iKtvlRAZ1EP37nZIfV2kjLmCK6EcIKuCrr1qI01ORp+H310FX4aqoUGDtCVEOyUi949G/2W3kSgqhibTN2BCLUNhm47F/YtT/gmqvjwoosNgWEUVBHt7e2PTpk3Yt2+fkMowDMPklnv37mHMmDGoWrUqNm/eLKQyKiwY1kiBsDv3kED8ASpdDdU1zBmouHUSZ55wEOm54n9ty6Q9kFwUovjIVdUFokx5G8iE5I+4UOzZewlykqBsh+5o+nHe6XgcHl4ZpW3rodfCi0guXwdNGtgi6eIKjO5cCy7e2xDO1ubIYRwiLgXgEX/cpU5N0CR1qzAv8bI/bibxOV26PhpXkgqpKeLO/Yurqm0V66NB6Qy3FjTiHm7GUJ8tCEvmL6Ta/4Z1fHnInrsGSjzb9weOvlBdYYlgUqxYSrKOiEQi9R0Q1UIc3bp1w6FDh4QtDMMwTE5TrQzauHFjFC9eXF0fGxsbC1sYFRYMa8QhNjaODxf4A1TSCpZpYxyeAtf3+SI4WQTjxt3xXbl0gQ69R6KqC4RIiuLmJTIcZHnAemy6nAQUckX/IQ1TtSYmIzL0IeLM2mP5iQNYMLo/+gyeis2H5qO1iQKP9izCpjsaFvdgslE8Ll26hWT+wsWiphvKp8nqJARduopXShEMq7mm6yojR8CZS3irlKBk7QaompWINikIv/f7Eb7PlZBV6I0VK3sifdHSCS4Wwb5T4f3zQX7f+X/z5dSkaFZbrrNOX18fR48exdChQ+Hp6Yk1a9YIWxiGYZic4ufnh/r168PR0RFXrlxRd2Vj0mLBsEYSGBcxSjk4EgkyxMJv/sLqrXehkJaD18gesE5/FEXGMFa39kohk6mG2KWifILtczYgWCFFhd6/YEjl1O9ujFbTfHH82HL0SPWmYnNX1LDhoyKlaqU71jSco+TXcfFaHEhUCM5u1dP2+1VGwd//AX/pJIVd9Rp87qWiuA+/gOfgRPpwrqNaQvhzEnBpRh9MOfNafRGmfLIDveyKwsTEROePwkZmcOwwA6ejOKimfYCoCIqaZkfUDb78y7B48WL1SkfFdNz6zDAMw3yekZERpkyZgr/++kvdMsxkxIJhjaSoVNMZpvzRocgIRKSJPxNwcd4UbHsKWH43G1M9NNxqkFijioMZxJSIF5Ex6uAmBYfHf47BlMMxMKj6A1bPbA5TYUsKKaxcWqCZs0WafqmQh+NJJAeRoQOqVsrQ6YLJRtyjSwh4ouojUQmurulaT9+rBtYlg8Ql4OxSMe1FU1IwgkNV04mUQnlb1e8lIWTzj/hpR1jK9jSUeHV8HPrOu6rumsOXOnBJCXj79m22PBLkQhD8gZgPhotmb1WgWqq5c+fOwr8YhmGYnFKtWjUMHz4cUmmGpj1GwIJhLQq3HobBzobgHu7HGt8IPozlJT3H2Xle6Dr/JozqTsT2FV2heQlyA7j37AJbWTIub1+HgDeqtDjc3uaD9kP34HVFb6zaNQtNshSAJOH2yoXYG6WPqkMmoIcVy7Kc9NbfH7f5mFZSsgZcK6RtPU26eQlX3igh0qsClxrpLlLEInW/WSijcXnfJqz8uS1aTrwOU2sNraPys5g6ZBWC5WlC1JwjMsm2lmGGYRiGyetEqsmGhedMOorwQ5g6eDSW/RMJQ2sL6L16jGhZJbTqPwkzJ3SGw8eBb5rE4cryQeg7eQ+COTOUNHiLaLkVGnuPxq+/DkDtjFNMaKDEixM/onmH5XjZfBlO7BqYan5bJvvJcXJIRbRc9RQGbdYh/FBffLrBpET44iawG30WSsdxuHBtNmqlyZtYnBzTGJ6LAhFH+rCo3Qdz1y5Az8oaCk3iQfi4jsHfibn0VZTVxdQzG+Ftzi60GIZhmIKHBcNZkBh1D3fD30BsYoXytpYw/pJGNPkLPAh+hDi9UrCpUAamXxDMxvpNR/u203HfbT6O7h4B50yDbybvkePFvWBESkvDrnzxL5hnmGEYhmGYnMKC4TwqPmAeOrSZhNvV5+DwntGoWVjYwDAMwzAMw+gMuy+aBynurUevjpNws8oMHGSBcMH07jh+qusEp9qjcCRBSGMYhmEYRudYMJzXvLuMGT1H4YT5COzYPQauHwPhOBwf1xx9t0QI/2b+y5KCzuBYQBBCYI4Kn5+X7QtxeBGwGb9M34MwNlMfwzAMU8CxbhJ5ShKu/lIXDaffhqV7Z9Qv82kaFMWb2/jn8E1UWx6BYwPYPIH/ddyTSzjk/xSiMnXQxs0q7VR73+Bd2FEsnTIZC3Zex5tK4+F3fSZc2Gw7DMMwTAHGguG85N0B9CrbCX+8/DQzcRoiU3TbGYE/vzMUEhgma5SvrmLrrImYvjUYhc2ScOfOc1C1Kbgc8CucWTDMMAzDFGCsm0ReYtgBW15wUF2faHwoX7NA+D9OEbQS3etWh5ODPWztu2L9My0XRl9Eiejjq7HtdRtsvPEAV3xHwVUVAIvU/2cYhmGYAo21DDNMHvPu3GjUaLIIoTYjcSpoERp8mI5P7oelIzcgMFn4d2bExdBoxCz0TLPcdwru4UK424/BpSpTEHD5V1RjLcMMwzBMAcaCYYbJY+SnhqGSxwrEem7H413d8HHB7/gd8Hb4AX/LhX9nRmKJXtv9scA94+zGLBhmGIZhmE9YNwmGyVOUeB54C8+UMji5uSFNp5jC3bD1STSio7PweH5DYyDMMAzDMExaLBhmmDwlAf6XbkEhKQcXHc4iwTAMwzCMZqybBMPkJUlnMcKxGZbFeGL7453o+rGPBE8Rin+2/4vHWZkbWGQEe4/OqGuZ8XqXdZNgGIZhmE9YMMwweQgXOg8NHcbhSp0FCDk9GuVSx7Jxm9CuRB8cylKfYSsMOByKNS1Zn2GGYRiGyQwLhhkmD0k80AulO22H8ZATCF7mDi48DK8tysNKNaOE8jUe3n6Mt1mZbU0kg1l5R1hpWMqbC52PRg5jcdlxMi5fmcbmGWYYhmEKNBYMM0weEruxLSz6HUPxrquwrctTzB53FK4bz2B6XV3NL52A4JVeaDjsEGJMW2OJ32742LO5qxmGYZiCiwXDDJOHcA834rsGg3DgGYfCFdthwprVGNvI/NtHur7bhwHOP8A36gVi4pKgFL71Iok+TEqYw7zpDIRs7ZWSyDAMwzAFCAuGGSaP4eIi8OAZYGlrBWM2nQTDMAzDZCsWDDMMwzAMwzAFFptnmGEYhmEYhimwWDDMMAzDMAzDFFgsGGYYhmEYhmEKLBYMMwzDMAzDMAUWC4YZhmEYhmGYAosFwwzDMAzDMEyBxYJhhmEYhmEYpsBiwTDDMAzDMAxTYLFgmGEYhmEYhimwWDDMMAzDMAzDFFgsGGYYhmEYhmEKLBYMMwzDMAzDMAUWC4YZhmEYhmGYAosFwwzDMNkmDqEXTuDfkNdQCilpcC9w+8xJ+IcnCAnpyCNw5eQpBEYqhASGYRhG11gwzDAMky0UuDqtKZwbeKBx9UaYcD5RSP8gFkd96qBGk+ao69weS4I5IV3AhWND1xqo7dEMrq59sDtaYzjNMAzDfCMWDDMMw2SL17jqdxMJBND7EFy8HJm2dVjxCP7+j5HEb1e+CcD5QLmwQZAcBL/LL8ERITnSH34hrHWYYRgmO7BgmGEYJlsUQ4teXVHRSIJCNu3Qq02ZtBWu1AEdezWBlZ4EJk690LOxgbBBYFAPXt/XRDGpDOb1eqFLDT1hA8MwDKNLIuIJzxmGYRhdS0pCkp4etIWySn67kt8uFf6dHsdvB79dIvybYRiG0S0WDDMMwzAMwzAFFusmwTAMwzAMwxRYLBhmGIZhGIZhCiwWDDMMwzAMwzAFFguGGYZhGIZhmAKLBcMMwzAMwzBMgcWCYYZhGIZhGKbAYsEwwzAMwzAMU2CxYJhhGIZhGIYpsFgwzDAMwzAMwxRYLBhmGIZhGIZhCiwWDDMMwzAMwzAFFguGGYZhGIZhmAKLBcMMwzAMwzBMgcWCYYZhGIZhGKbAYsEwwzAMwzAMU2CxYJhhGIZhGIYpoID/A8B6zkpI4wNsAAAAAElFTkSuQmCC)\n",
        "\n"
      ]
    },
    {
      "cell_type": "markdown",
      "metadata": {
        "id": "o2OghkRe-kII"
      },
      "source": [
        "The Linear Regression Model is implemented using Gradient Descent Algorithm\n",
        "\n",
        "\n",
        "Cost function:\n",
        "$$J(\\theta_0,\\theta_1,...)=\\frac{1}{2m}\\sum_{i=1}^{m}(h_\\theta (x^{(i)})-y^{(i)})^2$$\n",
        "\n",
        "Gradient Descent Algorithm:\n",
        "$$n=0, \\theta[n]=0, x^{(0)}=0$$\n",
        "REPEAT {\n",
        "  $$\\theta[n+1] = \\theta[n]-\\frac{\\alpha}{m}\\sum_{i=1}^{m}(h_\\theta (x^{(i)})-y^{(i)})x^{(i)}$$\n",
        "} UNTIL $$J($$\n",
        "\n"
      ]
    },
    {
      "cell_type": "code",
      "execution_count": 64,
      "metadata": {
        "id": "w2VP9dVZQegd"
      },
      "outputs": [],
      "source": [
        "class LinearRegression:\n",
        "    \"\"\"\n",
        "    Parameters\n",
        "    ----------\n",
        "    eta : float\n",
        "        Learning rate\n",
        "    eps : float\n",
        "        Convergence criteria\n",
        "    n_iterations : int\n",
        "        No of passes over the training set\n",
        "   \n",
        "    Attributes\n",
        "    ----------\n",
        "    theta : theta/ after fitting the model\n",
        "    bias : bias / after fitting the model\n",
        "    cost : total error of the model after each iteration\n",
        "    \"\"\"\n",
        "\n",
        "    def __init__(self, eta, eps,  n_iterations):\n",
        "        self.eta = eta\n",
        "        self.eps = eps\n",
        "        self.n_iterations = n_iterations\n",
        "\n",
        "    def fit(self, x, y):\n",
        "        \"\"\"Fit the training data\n",
        "\n",
        "        Parameters\n",
        "        ----------\n",
        "        x : array-like, shape = [n_samples, n_features]\n",
        "            Training samples\n",
        "        y : array-like, shape = [n_samples, n_target_values]\n",
        "            Target values\n",
        "\n",
        "        Returns\n",
        "        -------\n",
        "        self : object\n",
        "        \"\"\"\n",
        "          \n",
        "        self.theta = np.zeros((x.shape[1], 1))\n",
        "        self.bias = 0\n",
        "        m = x.shape[0]\n",
        "        self.cost = []\n",
        "        self.cost.append(self.costfuntion(x,y))\n",
        "        print('initial cost: ',self.cost)\n",
        "    \n",
        "        for i in range(self.n_iterations):\n",
        "            y_pred = np.dot(x, self.theta)+self.bias\n",
        "            residuals = y_pred - y\n",
        "            gradient_vector = np.dot(x.T, residuals)\n",
        "            self.bias -= (self.eta / m) * np.sum(residuals)\n",
        "            self.theta -= (self.eta / m) * gradient_vector\n",
        "            new_cost = self.costfuntion(x,y)\n",
        "            cost_diff = self.cost[-1]-new_cost\n",
        "            self.cost.append(new_cost)\n",
        "            if (i%100 == 0):\n",
        "              print('itr:',i)\n",
        "              print('cost:', new_cost)\n",
        "              print('cost_diff',cost_diff)\n",
        "            if (cost_diff < self.eps):\n",
        "              print('itr:',i)\n",
        "              print('cost:', new_cost)\n",
        "              print('cost_diff',cost_diff)\n",
        "              break\n",
        "        return self\n",
        "\n",
        "    def costfuntion(self, x, y):\n",
        "      m = x.shape[0]\n",
        "      y_pred = np.dot(x, self.theta)+self.bias\n",
        "      residuals = y_pred - y\n",
        "      cost = np.sum((residuals ** 2)) / (2 * m)\n",
        "      return cost\n",
        "\n",
        "\n",
        "    def predict(self, x):\n",
        "        \"\"\" Predicts the value after the model has been trained.\n",
        "        Parameters\n",
        "        ----------\n",
        "        x : array-like, shape = [n_samples, n_features]\n",
        "            Test samples\n",
        "        Returns\n",
        "        -------\n",
        "        Predicted value\n",
        "        \"\"\"\n",
        "        return np.dot(x, self.theta)+self.bias"
      ]
    },
    {
      "cell_type": "markdown",
      "metadata": {
        "id": "dYTcxJ-oA-FI"
      },
      "source": [
        "First lets try traning the model with a low learning rate 0.000005, Convergence criteria 100 and  number of iterations 1000\n"
      ]
    },
    {
      "cell_type": "code",
      "execution_count": 65,
      "metadata": {
        "colab": {
          "base_uri": "https://localhost:8080/"
        },
        "id": "XyuK72cZBaRG",
        "outputId": "76d7bc4d-9046-49e6-8265-2961024b6acb"
      },
      "outputs": [
        {
          "output_type": "stream",
          "name": "stdout",
          "text": [
            "initial cost:  [2322818366.303193]\n",
            "itr: 0\n",
            "cost: 6.0738082505837625e+19\n",
            "cost_diff -6.073808250351481e+19\n",
            "itr: 0\n",
            "cost: 6.0738082505837625e+19\n",
            "cost_diff -6.073808250351481e+19\n"
          ]
        },
        {
          "output_type": "execute_result",
          "data": {
            "text/plain": [
              "<__main__.LinearRegression at 0x7ffb30a8fe50>"
            ]
          },
          "metadata": {},
          "execution_count": 65
        }
      ],
      "source": [
        "LR = LinearRegression(0.000005, 1000, 1000)\n",
        "LR.fit(x, y)"
      ]
    },
    {
      "cell_type": "markdown",
      "metadata": {
        "id": "C0HkCWTSBllu"
      },
      "source": [
        "The cost increase after the first iteration, the learning rate is too high.\n",
        "\n",
        "Now try with learning rate 0.00000005"
      ]
    },
    {
      "cell_type": "code",
      "execution_count": 66,
      "metadata": {
        "colab": {
          "base_uri": "https://localhost:8080/"
        },
        "id": "qAsMKBcOpiKF",
        "outputId": "16d8f553-f9cf-41d2-e8c3-017244b41df5"
      },
      "outputs": [
        {
          "output_type": "stream",
          "name": "stdout",
          "text": [
            "initial cost:  [2322818366.303193]\n",
            "itr: 0\n",
            "cost: 6067349026490269.0\n",
            "cost_diff -6067346703671903.0\n",
            "itr: 0\n",
            "cost: 6067349026490269.0\n",
            "cost_diff -6067346703671903.0\n"
          ]
        },
        {
          "output_type": "execute_result",
          "data": {
            "text/plain": [
              "<__main__.LinearRegression at 0x7ffb311dc910>"
            ]
          },
          "metadata": {},
          "execution_count": 66
        }
      ],
      "source": [
        "LR = LinearRegression(0.00000005, 1000, 1000)\n",
        "LR.fit(x, y)"
      ]
    },
    {
      "cell_type": "markdown",
      "metadata": {
        "id": "qk_donyuB3pP"
      },
      "source": [
        "The cost increase after the first iteration, the learning rate is still too high.\n",
        "\n",
        "Now try with learning rate 0.000000000005"
      ]
    },
    {
      "cell_type": "code",
      "execution_count": 67,
      "metadata": {
        "colab": {
          "base_uri": "https://localhost:8080/"
        },
        "id": "jHPp7E3AB8jc",
        "outputId": "693fc510-7c91-4c97-b8a6-4eb0f5adf896"
      },
      "outputs": [
        {
          "output_type": "stream",
          "name": "stdout",
          "text": [
            "initial cost:  [2322818366.303193]\n",
            "itr: 0\n",
            "cost: 1730875618.7026997\n",
            "cost_diff 591942747.6004934\n",
            "itr: 100\n",
            "cost: 562718274.2777449\n",
            "cost_diff 61750.265167593956\n",
            "itr: 200\n",
            "cost: 557305718.6319326\n",
            "cost_diff 47288.985241532326\n",
            "itr: 300\n",
            "cost: 553160423.5102154\n",
            "cost_diff 36220.160187006\n",
            "itr: 400\n",
            "cost: 549985105.4680915\n",
            "cost_diff 27747.925159573555\n",
            "itr: 500\n",
            "cost: 547552223.3031313\n",
            "cost_diff 21263.124204993248\n",
            "itr: 600\n",
            "cost: 545687616.6128525\n",
            "cost_diff 16299.508588433266\n",
            "itr: 700\n",
            "cost: 544257982.7264125\n",
            "cost_diff 12500.210938572884\n",
            "itr: 800\n",
            "cost: 543161291.5324272\n",
            "cost_diff 9592.08451795578\n",
            "itr: 900\n",
            "cost: 542319448.9761701\n",
            "cost_diff 7366.062466979027\n",
            "itr: 1000\n",
            "cost: 541672681.6911314\n",
            "cost_diff 5662.124744653702\n",
            "itr: 1100\n",
            "cost: 541175238.9889727\n",
            "cost_diff 4357.791806340218\n",
            "itr: 1200\n",
            "cost: 540792103.1572505\n",
            "cost_diff 3359.317651152611\n",
            "itr: 1300\n",
            "cost: 540496471.5171684\n",
            "cost_diff 2594.9489674568176\n",
            "itr: 1400\n",
            "cost: 540267829.1874216\n",
            "cost_diff 2009.765676856041\n",
            "itr: 1500\n",
            "cost: 540090473.9752268\n",
            "cost_diff 1561.7318774461746\n",
            "itr: 1600\n",
            "cost: 539952387.3260651\n",
            "cost_diff 1218.6732329130173\n",
            "itr: 1682\n",
            "cost: 539861933.7261072\n",
            "cost_diff 998.2306245565414\n"
          ]
        },
        {
          "output_type": "execute_result",
          "data": {
            "text/plain": [
              "<__main__.LinearRegression at 0x7ffb311dce90>"
            ]
          },
          "metadata": {},
          "execution_count": 67
        }
      ],
      "source": [
        "LR = LinearRegression(0.000000000005, 1000, 3000)\n",
        "LR.fit(x, y)"
      ]
    },
    {
      "cell_type": "markdown",
      "metadata": {
        "id": "OvLAnt6_OmlD"
      },
      "source": [
        "Plot the graph of cost over iteration"
      ]
    },
    {
      "cell_type": "code",
      "execution_count": 68,
      "metadata": {
        "colab": {
          "base_uri": "https://localhost:8080/",
          "height": 295
        },
        "id": "lXLKfZUTNOY_",
        "outputId": "9a3838e9-bf02-4d2e-ce1e-a0e2a88c060e"
      },
      "outputs": [
        {
          "output_type": "display_data",
          "data": {
            "text/plain": [
              "<Figure size 432x288 with 1 Axes>"
            ],
            "image/png": "[encoded data removed]"
          },
          "metadata": {
            "needs_background": "light"
          }
        }
      ],
      "source": [
        "plt.plot(range(len(LR.cost)), LR.cost)  \n",
        "plt.title(\"Cost over iteration\")\n",
        "plt.grid(axis=\"y\")\n",
        "plt.xlabel('iterations')\n",
        "plt.ylabel('Cost')\n",
        "plt.show()  "
      ]
    },
    {
      "cell_type": "markdown",
      "metadata": {
        "id": "MM5ZJqIoCRkT"
      },
      "source": [
        "The linear regression model is trained, now use the model to predict the Loan Amount"
      ]
    },
    {
      "cell_type": "code",
      "execution_count": 69,
      "metadata": {
        "colab": {
          "base_uri": "https://localhost:8080/"
        },
        "id": "bO8636V3-FZJ",
        "outputId": "24c0d6f2-2faa-45ef-eaa7-0e5bbae2efad"
      },
      "outputs": [
        {
          "output_type": "execute_result",
          "data": {
            "text/plain": [
              "array([[ 37731.93884044],\n",
              "       [109562.43743632],\n",
              "       [ 91476.8988952 ],\n",
              "       ...,\n",
              "       [ 73604.4917154 ],\n",
              "       [118475.58617777],\n",
              "       [ 35294.54477904]])"
            ]
          },
          "metadata": {},
          "execution_count": 69
        }
      ],
      "source": [
        "y_pred_LR = LR.predict(test_df)\n",
        "y_pred_LR"
      ]
    },
    {
      "cell_type": "markdown",
      "metadata": {
        "id": "uW4ZGP1jCi0U"
      },
      "source": [
        "# Regularized Linear Regression\n",
        "To prevent the overfitting of the Linear Regression model, we can use a Regularized Linear Regression model.\n",
        "\n",
        "It's a Linear Regression model with a extra Regularization Regression penalized term.\n",
        "\n",
        "The Regularized Gradient Descent Algorithm are represented as follow:\n",
        "![image.png](data:image/png;base64,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)\n",
        "\n"
      ]
    },
    {
      "cell_type": "markdown",
      "metadata": {
        "id": "sFcbuzdGIPUB"
      },
      "source": [
        "**Hypothesis Model:**\n",
        "$$h_\\theta(x)=\\theta_0+\\theta_1x_1+\\theta_2x_2+...$$\n",
        "\n",
        "**Cost function:**\n",
        "$$J(\\theta_0,\\theta_1,...)=\\frac{1}{2m}\\sum_{i=1}^{m}(h_\\theta (x^{(i)})-y^{(i)})^2$$\n",
        "\n",
        "**Gradient Descent Algorithm:**\n",
        "$$n=0, \\theta[n]=0, x_0=0$$\n",
        "Repeat until convergence {\n",
        "  $$\\theta[n+1] = \\theta[n]-\\frac{\\alpha}{m}\\sum_{i=1}^{m}(h_\\theta (x^{(i)})-y^{(i)})x^{(i)}$$\n",
        "}"
      ]
    },
    {
      "cell_type": "code",
      "execution_count": 70,
      "metadata": {
        "id": "D26oVW7QET0Q"
      },
      "outputs": [],
      "source": [
        "class RegularizedLinearRegression:\n",
        "    \"\"\"\n",
        "    Parameters\n",
        "    ----------\n",
        "    eta : float\n",
        "        Learning rate\n",
        "    eps : float\n",
        "        Convergence criteria\n",
        "    ld  : float\n",
        "        lambda (control the tradeoff)\n",
        "    n_iterations : int\n",
        "        No of passes over the training set\n",
        "   \n",
        "    Attributes\n",
        "    ----------\n",
        "    theta : theta/ after fitting the model\n",
        "    bias : bias / after fitting the model\n",
        "    cost : total error of the model after each iteration\n",
        "    \"\"\"\n",
        "\n",
        "    def __init__(self, eta, eps, ld,  n_iterations):\n",
        "        self.eta = eta\n",
        "        self.eps = eps\n",
        "        self.ld = ld\n",
        "        self.n_iterations = n_iterations\n",
        "\n",
        "    def fit(self, x, y):\n",
        "        \"\"\"Fit the training data\n",
        "\n",
        "        Parameters\n",
        "        ----------\n",
        "        x : array-like, shape = [n_samples, n_features]\n",
        "            Training samples\n",
        "        y : array-like, shape = [n_samples, n_target_values]\n",
        "            Target values\n",
        "\n",
        "        Returns\n",
        "        -------\n",
        "        self : object\n",
        "        \"\"\"\n",
        "          \n",
        "        self.theta = np.zeros((x.shape[1], 1))\n",
        "        self.bias = 0\n",
        "        m = x.shape[0]\n",
        "        self.cost = []\n",
        "        self.cost.append(self.costfuntion(x,y))\n",
        "        print('initial cost: ',self.cost)\n",
        "    \n",
        "        for i in range(self.n_iterations):\n",
        "            y_pred = np.dot(x, self.theta)+self.bias\n",
        "            residuals = y_pred - y\n",
        "            gradient_vector = np.dot(x.T, residuals)\n",
        "            self.bias = self.bias * (1 - self.ld * self.eta / m) - (self.eta / m) * np.sum(residuals)\n",
        "            self.theta = self.theta * (1 - self.ld * self.eta / m) - (self.eta / m) * gradient_vector\n",
        "            new_cost = self.costfuntion(x,y)\n",
        "            cost_diff = self.cost[-1]-new_cost\n",
        "            self.cost.append(new_cost)\n",
        "            if (i%100 == 0):\n",
        "              print('itr:',i)\n",
        "              print('cost:', new_cost)\n",
        "              print('cost_diff',cost_diff)\n",
        "            if (cost_diff < self.eps):\n",
        "              print('itr:',i)\n",
        "              print('cost:', new_cost)\n",
        "              print('cost_diff',cost_diff)\n",
        "              break\n",
        "        return self\n",
        "\n",
        "    def costfuntion(self, x, y):\n",
        "      m = x.shape[0]\n",
        "      y_pred = np.dot(x, self.theta)+self.bias\n",
        "      residuals = y_pred - y\n",
        "      cost = (np.sum((residuals ** 2)) + self.ld * np.sum((self.theta ** 2)) )/ (2 * m)\n",
        "      return cost\n",
        "\n",
        "\n",
        "    def predict(self, x):\n",
        "        \"\"\" Predicts the value after the model has been trained.\n",
        "        Parameters\n",
        "        ----------\n",
        "        x : array-like, shape = [n_samples, n_features]\n",
        "            Test samples\n",
        "        Returns\n",
        "        -------\n",
        "        Predicted value\n",
        "        \"\"\"\n",
        "        return np.dot(x, self.theta)+self.bias"
      ]
    },
    {
      "cell_type": "markdown",
      "metadata": {
        "id": "5uRNmFh0JIVc"
      },
      "source": [
        "Train the model with learning rate 0.000000000005, Convergence criteria 1000, lambda 1 and number of iterations 3000\n",
        "\n"
      ]
    },
    {
      "cell_type": "code",
      "execution_count": 71,
      "metadata": {
        "colab": {
          "base_uri": "https://localhost:8080/"
        },
        "id": "ukpN89MHHO9Q",
        "outputId": "c591ccf1-ba90-4b37-bab0-8b7c75a5c815"
      },
      "outputs": [
        {
          "output_type": "stream",
          "name": "stdout",
          "text": [
            "initial cost:  [2322818366.303193]\n",
            "itr: 0\n",
            "cost: 1730875618.7026997\n",
            "cost_diff 591942747.6004934\n",
            "itr: 100\n",
            "cost: 562718274.2777468\n",
            "cost_diff 61750.265167713165\n",
            "itr: 200\n",
            "cost: 557305718.6319348\n",
            "cost_diff 47288.985241651535\n",
            "itr: 300\n",
            "cost: 553160423.5102179\n",
            "cost_diff 36220.160187006\n",
            "itr: 400\n",
            "cost: 549985105.4680945\n",
            "cost_diff 27747.925159573555\n",
            "itr: 500\n",
            "cost: 547552223.3031346\n",
            "cost_diff 21263.124205112457\n",
            "itr: 600\n",
            "cost: 545687616.6128564\n",
            "cost_diff 16299.508588433266\n",
            "itr: 700\n",
            "cost: 544257982.726417\n",
            "cost_diff 12500.210938453674\n",
            "itr: 800\n",
            "cost: 543161291.5324318\n",
            "cost_diff 9592.08451807499\n",
            "itr: 900\n",
            "cost: 542319448.9761752\n",
            "cost_diff 7366.062466979027\n",
            "itr: 1000\n",
            "cost: 541672681.6911366\n",
            "cost_diff 5662.124744653702\n",
            "itr: 1100\n",
            "cost: 541175238.988978\n",
            "cost_diff 4357.791806459427\n",
            "itr: 1200\n",
            "cost: 540792103.1572559\n",
            "cost_diff 3359.3176513910294\n",
            "itr: 1300\n",
            "cost: 540496471.5171741\n",
            "cost_diff 2594.948967576027\n",
            "itr: 1400\n",
            "cost: 540267829.1874274\n",
            "cost_diff 2009.7656767368317\n",
            "itr: 1500\n",
            "cost: 540090473.9752327\n",
            "cost_diff 1561.7318773269653\n",
            "itr: 1600\n",
            "cost: 539952387.3260709\n",
            "cost_diff 1218.6732331514359\n",
            "itr: 1682\n",
            "cost: 539861933.7261132\n",
            "cost_diff 998.2306245565414\n"
          ]
        },
        {
          "output_type": "execute_result",
          "data": {
            "text/plain": [
              "<__main__.RegularizedLinearRegression at 0x7ffb305ef610>"
            ]
          },
          "metadata": {},
          "execution_count": 71
        }
      ],
      "source": [
        "RLR = RegularizedLinearRegression(0.000000000005, 1000, 1, 3000)\n",
        "RLR.fit(x, y)"
      ]
    },
    {
      "cell_type": "code",
      "execution_count": 72,
      "metadata": {
        "colab": {
          "base_uri": "https://localhost:8080/",
          "height": 295
        },
        "id": "pwuD4AqmO3jV",
        "outputId": "a1b03316-d58e-4aaf-ee98-d67772f52ae9"
      },
      "outputs": [
        {
          "output_type": "display_data",
          "data": {
            "text/plain": [
              "<Figure size 432x288 with 1 Axes>"
            ],
            "image/png": "[encoded data removed]"
          },
          "metadata": {
            "needs_background": "light"
          }
        }
      ],
      "source": [
        "plt.plot(range(len(RLR.cost)), RLR.cost)  \n",
        "plt.title(\"Cost over iteration\")\n",
        "plt.grid(axis=\"y\")\n",
        "plt.xlabel('iterations')\n",
        "plt.ylabel('Cost')\n",
        "plt.show()  "
      ]
    },
    {
      "cell_type": "markdown",
      "metadata": {
        "id": "1VEB2Dyp5WP-"
      },
      "source": [
        "The Regularized Linear Regression model is trained, now use the model to predict the Loan Amount"
      ]
    },
    {
      "cell_type": "code",
      "execution_count": 73,
      "metadata": {
        "colab": {
          "base_uri": "https://localhost:8080/"
        },
        "id": "u-PQ6i_j5Pbi",
        "outputId": "fa23151c-ce57-436f-a27a-9f56e35112bc"
      },
      "outputs": [
        {
          "output_type": "execute_result",
          "data": {
            "text/plain": [
              "array([[ 37731.93884044],\n",
              "       [109562.43743632],\n",
              "       [ 91476.8988952 ],\n",
              "       ...,\n",
              "       [ 73604.4917154 ],\n",
              "       [118475.58617777],\n",
              "       [ 35294.54477904]])"
            ]
          },
          "metadata": {},
          "execution_count": 73
        }
      ],
      "source": [
        "y_pred_RLR = RLR.predict(test_df)\n",
        "y_pred_RLR"
      ]
    },
    {
      "cell_type": "markdown",
      "metadata": {
        "id": "Zqe44oOdhpdo"
      },
      "source": [
        "#Deep Neural Network\n",
        "\n",
        "\n",
        "import the required package first"
      ]
    },
    {
      "cell_type": "code",
      "execution_count": 74,
      "metadata": {
        "id": "b5uWJZGuhkXA"
      },
      "outputs": [],
      "source": [
        "from pandas.core.common import standardize_mapping\n",
        "from sklearn import datasets, preprocessing\n",
        "from sklearn.model_selection import train_test_split\n",
        "from keras.models import Sequential\n",
        "from keras.layers import Dense,Dropout"
      ]
    },
    {
      "cell_type": "markdown",
      "metadata": {
        "id": "EBq9fjqWKxhT"
      },
      "source": [
        "Building DNN using keras\n",
        "\n",
        "The DNN model has two hidden layer\n",
        "\n",
        "Both hidden layer has 64 Neurons, activation function is 'relu'\n",
        "\n",
        "The configuretion of model:\n",
        "\n",
        "\n",
        "*   optimizer: adam\n",
        "*   loss function: mean square error (mse)\n",
        "\n",
        "\n",
        "Show the Mean Absolute Error and Mean Absolute Percentage Error of each epoch\n",
        "\n"
      ]
    },
    {
      "cell_type": "code",
      "execution_count": 75,
      "metadata": {
        "id": "UKY7ky2TLs_s"
      },
      "outputs": [],
      "source": [
        "def create_DNN():\n",
        "  DNN = Sequential()\n",
        "  DNN.add(Dense(64, input_dim=x.shape[1], activation='relu'))\n",
        "  DNN.add(Dense(64, activation='relu'))\n",
        "  DNN.add(Dense(1)) \n",
        "  DNN.compile(loss='mse', \n",
        "                optimizer='adam',\n",
        "                metrics=['mae','mape'])\n",
        "  return DNN"
      ]
    },
    {
      "cell_type": "code",
      "execution_count": 76,
      "metadata": {
        "colab": {
          "base_uri": "https://localhost:8080/"
        },
        "id": "BiQA1a7mUGdY",
        "outputId": "c794f623-a2a7-42b9-cbe7-2dce216d26d2"
      },
      "outputs": [
        {
          "output_type": "stream",
          "name": "stdout",
          "text": [
            "Epoch 1/40\n",
            "659/659 [==============================] - 2s 2ms/step - loss: 1106115584.0000 - mae: 23180.2949 - mape: 12153682657280.0000\n",
            "Epoch 2/40\n",
            "659/659 [==============================] - 1s 2ms/step - loss: 1092712192.0000 - mae: 23179.7344 - mape: 12080264511488.0000\n",
            "Epoch 3/40\n",
            "659/659 [==============================] - 1s 2ms/step - loss: 1081692800.0000 - mae: 23163.4668 - mape: 12030363828224.0000\n",
            "Epoch 4/40\n",
            "659/659 [==============================] - 1s 2ms/step - loss: 1080781312.0000 - mae: 23246.2051 - mape: 12009770844160.0000\n",
            "Epoch 5/40\n",
            "659/659 [==============================] - 1s 2ms/step - loss: 1085605120.0000 - mae: 23188.2363 - mape: 12024797986816.0000\n",
            "Epoch 6/40\n",
            "659/659 [==============================] - 1s 2ms/step - loss: 1084889728.0000 - mae: 23232.1855 - mape: 12022163963904.0000\n",
            "Epoch 7/40\n",
            "659/659 [==============================] - 1s 2ms/step - loss: 1083102464.0000 - mae: 23290.6074 - mape: 11965453828096.0000\n",
            "Epoch 8/40\n",
            "659/659 [==============================] - 1s 2ms/step - loss: 1081364224.0000 - mae: 23191.4688 - mape: 11997214146560.0000\n",
            "Epoch 9/40\n",
            "659/659 [==============================] - 1s 2ms/step - loss: 1083985792.0000 - mae: 23292.9551 - mape: 11981385891840.0000\n",
            "Epoch 10/40\n",
            "659/659 [==============================] - 1s 2ms/step - loss: 1083112320.0000 - mae: 23110.4844 - mape: 12045487439872.0000\n",
            "Epoch 11/40\n",
            "659/659 [==============================] - 1s 2ms/step - loss: 1079487360.0000 - mae: 23222.6074 - mape: 11976990261248.0000\n",
            "Epoch 12/40\n",
            "659/659 [==============================] - 1s 2ms/step - loss: 1078788864.0000 - mae: 23200.0020 - mape: 12000253968384.0000\n",
            "Epoch 13/40\n",
            "659/659 [==============================] - 1s 2ms/step - loss: 1078645632.0000 - mae: 23236.2734 - mape: 11989540667392.0000\n",
            "Epoch 14/40\n",
            "659/659 [==============================] - 1s 2ms/step - loss: 1078826112.0000 - mae: 23198.5176 - mape: 12014702297088.0000\n",
            "Epoch 15/40\n",
            "659/659 [==============================] - 1s 2ms/step - loss: 1079968128.0000 - mae: 23200.1816 - mape: 12011980193792.0000\n",
            "Epoch 16/40\n",
            "659/659 [==============================] - 1s 2ms/step - loss: 1079798272.0000 - mae: 23142.8340 - mape: 12017171693568.0000\n",
            "Epoch 17/40\n",
            "659/659 [==============================] - 1s 2ms/step - loss: 1080123008.0000 - mae: 23244.0156 - mape: 11988232044544.0000\n",
            "Epoch 18/40\n",
            "659/659 [==============================] - 1s 2ms/step - loss: 1080365824.0000 - mae: 23200.8555 - mape: 12033159331840.0000\n",
            "Epoch 19/40\n",
            "659/659 [==============================] - 1s 2ms/step - loss: 1079441920.0000 - mae: 23183.3867 - mape: 12012574736384.0000\n",
            "Epoch 20/40\n",
            "659/659 [==============================] - 1s 2ms/step - loss: 1079126272.0000 - mae: 23166.6875 - mape: 12002577612800.0000\n",
            "Epoch 21/40\n",
            "659/659 [==============================] - 1s 2ms/step - loss: 1076225408.0000 - mae: 23168.9453 - mape: 12006656573440.0000\n",
            "Epoch 22/40\n",
            "659/659 [==============================] - 1s 2ms/step - loss: 1076367744.0000 - mae: 23179.4629 - mape: 11990760161280.0000\n",
            "Epoch 23/40\n",
            "659/659 [==============================] - 1s 2ms/step - loss: 1077206784.0000 - mae: 23177.3770 - mape: 12009400696832.0000\n",
            "Epoch 24/40\n",
            "659/659 [==============================] - 1s 2ms/step - loss: 1076705280.0000 - mae: 23162.3789 - mape: 12003666034688.0000\n",
            "Epoch 25/40\n",
            "659/659 [==============================] - 1s 2ms/step - loss: 1075916416.0000 - mae: 23171.6875 - mape: 11990867116032.0000\n",
            "Epoch 26/40\n",
            "659/659 [==============================] - 1s 2ms/step - loss: 1076724608.0000 - mae: 23098.7305 - mape: 12010211246080.0000\n",
            "Epoch 27/40\n",
            "659/659 [==============================] - 1s 2ms/step - loss: 1072209280.0000 - mae: 23128.6016 - mape: 11983563784192.0000\n",
            "Epoch 28/40\n",
            "659/659 [==============================] - 1s 2ms/step - loss: 1078141312.0000 - mae: 23151.4180 - mape: 12016587636736.0000\n",
            "Epoch 29/40\n",
            "659/659 [==============================] - 1s 2ms/step - loss: 1073952128.0000 - mae: 23130.4961 - mape: 12008478998528.0000\n",
            "Epoch 30/40\n",
            "659/659 [==============================] - 1s 2ms/step - loss: 1078065152.0000 - mae: 23138.5762 - mape: 12009850535936.0000\n",
            "Epoch 31/40\n",
            "659/659 [==============================] - 1s 2ms/step - loss: 1075202688.0000 - mae: 23102.1504 - mape: 12014814494720.0000\n",
            "Epoch 32/40\n",
            "659/659 [==============================] - 1s 2ms/step - loss: 1072958592.0000 - mae: 23090.1641 - mape: 11997974364160.0000\n",
            "Epoch 33/40\n",
            "659/659 [==============================] - 1s 2ms/step - loss: 1076930432.0000 - mae: 23160.2930 - mape: 11999143526400.0000\n",
            "Epoch 34/40\n",
            "659/659 [==============================] - 1s 2ms/step - loss: 1074010112.0000 - mae: 23126.9355 - mape: 11998283694080.0000\n",
            "Epoch 35/40\n",
            "659/659 [==============================] - 1s 2ms/step - loss: 1076233856.0000 - mae: 23074.0586 - mape: 12009455222784.0000\n",
            "Epoch 36/40\n",
            "659/659 [==============================] - 1s 2ms/step - loss: 1072880768.0000 - mae: 23113.1387 - mape: 11995717828608.0000\n",
            "Epoch 37/40\n",
            "659/659 [==============================] - 1s 2ms/step - loss: 1073809152.0000 - mae: 23096.2031 - mape: 12011848073216.0000\n",
            "Epoch 38/40\n",
            "659/659 [==============================] - 1s 2ms/step - loss: 1072308096.0000 - mae: 23106.7852 - mape: 11991681859584.0000\n",
            "Epoch 39/40\n",
            "659/659 [==============================] - 1s 2ms/step - loss: 1073585664.0000 - mae: 23111.7207 - mape: 12001259552768.0000\n",
            "Epoch 40/40\n",
            "659/659 [==============================] - 2s 3ms/step - loss: 1076571008.0000 - mae: 23077.0605 - mape: 12024911233024.0000\n"
          ]
        },
        {
          "output_type": "execute_result",
          "data": {
            "text/plain": [
              "<keras.callbacks.History at 0x7ffab0ccf810>"
            ]
          },
          "metadata": {},
          "execution_count": 76
        }
      ],
      "source": [
        "DNN = create_DNN()\n",
        "\n",
        "DNN.fit(x, y,epochs=40,batch_size=40)"
      ]
    },
    {
      "cell_type": "markdown",
      "metadata": {
        "id": "1X1pBsTpt-hg"
      },
      "source": [
        "Predict with the trained DNN model"
      ]
    },
    {
      "cell_type": "code",
      "execution_count": 77,
      "metadata": {
        "colab": {
          "base_uri": "https://localhost:8080/"
        },
        "id": "qlnhWZrWt6eH",
        "outputId": "b13f2c48-62a6-4446-f49f-d1e9a1abc1fa"
      },
      "outputs": [
        {
          "output_type": "execute_result",
          "data": {
            "text/plain": [
              "array([[ 41272.73 ],\n",
              "       [102123.76 ],\n",
              "       [ 87198.58 ],\n",
              "       ...,\n",
              "       [ 72852.05 ],\n",
              "       [121445.445],\n",
              "       [ 37437.477]], dtype=float32)"
            ]
          },
          "metadata": {},
          "execution_count": 77
        }
      ],
      "source": [
        "y_pred_DNN = DNN.predict(test_df)\n",
        "y_pred_DNN"
      ]
    },
    {
      "cell_type": "markdown",
      "metadata": {
        "id": "VGMqiR2ek7St"
      },
      "source": [
        "##DNN2\n",
        "I make another approach of training the model.\n",
        "\n",
        "\n",
        "As the traning data set can split into two set, one is accepted loan (loan amount > 0), one is unaccepted loan (loan anount = 0), so we create an array \"loan_accepted\" to indicate that."
      ]
    },
    {
      "cell_type": "code",
      "execution_count": 78,
      "metadata": {
        "id": "e2LJmZ1wlj7i"
      },
      "outputs": [],
      "source": [
        "loan_acceptance = y.copy()\n",
        "loan_acceptance[loan_acceptance > 0] = 1"
      ]
    },
    {
      "cell_type": "markdown",
      "metadata": {
        "id": "1ydRn2Bks81B"
      },
      "source": [
        "We first build the model of predict loan accepted\n",
        "\n",
        "\n",
        "Standardize the dataset:"
      ]
    },
    {
      "cell_type": "code",
      "execution_count": 79,
      "metadata": {
        "id": "Wmdj4HVKr_um"
      },
      "outputs": [],
      "source": [
        "df = pd.concat([x, test_df], ignore_index=True)\n",
        "min_max_scaler = preprocessing.MinMaxScaler()\n",
        "df_st = min_max_scaler.fit_transform(df)\n",
        "x_std = df_st[:df_st.shape[0]-3000]\n",
        "test_std = df_st[df_st.shape[0]-3000:]"
      ]
    },
    {
      "cell_type": "markdown",
      "metadata": {
        "id": "bsgXSa2a53CE"
      },
      "source": [
        "Building DNN_acceptance using keras\n",
        "\n",
        "The model has two hidden layer\n",
        "\n",
        "Both hidden layer has 64 Neurons, activation function is 'relu'\n",
        "\n",
        "The output layer's activation function is 'sigmoid'\n",
        "\n",
        "The configuretion of model:\n",
        "\n",
        "\n",
        "*   optimizer: adam\n",
        "*   loss function: binary crossentropy\n",
        "\n",
        "\n",
        "Show the accuracy of each epoch"
      ]
    },
    {
      "cell_type": "code",
      "execution_count": 80,
      "metadata": {
        "colab": {
          "base_uri": "https://localhost:8080/"
        },
        "id": "JPeya5Mxpbu0",
        "outputId": "15f304bd-a559-4c91-d1b6-e52432f8c332"
      },
      "outputs": [
        {
          "output_type": "stream",
          "name": "stdout",
          "text": [
            "Epoch 1/40\n",
            "659/659 [==============================] - 2s 2ms/step - loss: 0.4214 - accuracy: 0.8316\n",
            "Epoch 2/40\n",
            "659/659 [==============================] - 1s 2ms/step - loss: 0.3555 - accuracy: 0.8825\n",
            "Epoch 3/40\n",
            "659/659 [==============================] - 1s 2ms/step - loss: 0.3402 - accuracy: 0.8890\n",
            "Epoch 4/40\n",
            "659/659 [==============================] - 1s 2ms/step - loss: 0.3309 - accuracy: 0.8930\n",
            "Epoch 5/40\n",
            "659/659 [==============================] - 1s 2ms/step - loss: 0.3232 - accuracy: 0.8959\n",
            "Epoch 6/40\n",
            "659/659 [==============================] - 1s 2ms/step - loss: 0.3148 - accuracy: 0.8984\n",
            "Epoch 7/40\n",
            "659/659 [==============================] - 1s 2ms/step - loss: 0.3075 - accuracy: 0.9009\n",
            "Epoch 8/40\n",
            "659/659 [==============================] - 1s 2ms/step - loss: 0.3026 - accuracy: 0.9017\n",
            "Epoch 9/40\n",
            "659/659 [==============================] - 1s 2ms/step - loss: 0.2987 - accuracy: 0.9026\n",
            "Epoch 10/40\n",
            "659/659 [==============================] - 1s 2ms/step - loss: 0.2955 - accuracy: 0.9029\n",
            "Epoch 11/40\n",
            "659/659 [==============================] - 1s 2ms/step - loss: 0.2934 - accuracy: 0.9032\n",
            "Epoch 12/40\n",
            "659/659 [==============================] - 1s 2ms/step - loss: 0.2903 - accuracy: 0.9037\n",
            "Epoch 13/40\n",
            "659/659 [==============================] - 1s 2ms/step - loss: 0.2877 - accuracy: 0.9052\n",
            "Epoch 14/40\n",
            "659/659 [==============================] - 1s 2ms/step - loss: 0.2844 - accuracy: 0.9056\n",
            "Epoch 15/40\n",
            "659/659 [==============================] - 1s 2ms/step - loss: 0.2837 - accuracy: 0.9056\n",
            "Epoch 16/40\n",
            "659/659 [==============================] - 1s 2ms/step - loss: 0.2811 - accuracy: 0.9062\n",
            "Epoch 17/40\n",
            "659/659 [==============================] - 1s 2ms/step - loss: 0.2814 - accuracy: 0.9058\n",
            "Epoch 18/40\n",
            "659/659 [==============================] - 1s 2ms/step - loss: 0.2785 - accuracy: 0.9067\n",
            "Epoch 19/40\n",
            "659/659 [==============================] - 1s 2ms/step - loss: 0.2774 - accuracy: 0.9073\n",
            "Epoch 20/40\n",
            "659/659 [==============================] - 1s 2ms/step - loss: 0.2743 - accuracy: 0.9088\n",
            "Epoch 21/40\n",
            "659/659 [==============================] - 1s 2ms/step - loss: 0.2730 - accuracy: 0.9083\n",
            "Epoch 22/40\n",
            "659/659 [==============================] - 1s 2ms/step - loss: 0.2710 - accuracy: 0.9091\n",
            "Epoch 23/40\n",
            "659/659 [==============================] - 1s 2ms/step - loss: 0.2696 - accuracy: 0.9089\n",
            "Epoch 24/40\n",
            "659/659 [==============================] - 1s 2ms/step - loss: 0.2696 - accuracy: 0.9087\n",
            "Epoch 25/40\n",
            "659/659 [==============================] - 1s 2ms/step - loss: 0.2672 - accuracy: 0.9095\n",
            "Epoch 26/40\n",
            "659/659 [==============================] - 1s 2ms/step - loss: 0.2655 - accuracy: 0.9096\n",
            "Epoch 27/40\n",
            "659/659 [==============================] - 1s 2ms/step - loss: 0.2641 - accuracy: 0.9105\n",
            "Epoch 28/40\n",
            "659/659 [==============================] - 1s 2ms/step - loss: 0.2645 - accuracy: 0.9099\n",
            "Epoch 29/40\n",
            "659/659 [==============================] - 1s 2ms/step - loss: 0.2624 - accuracy: 0.9104\n",
            "Epoch 30/40\n",
            "659/659 [==============================] - 1s 2ms/step - loss: 0.2606 - accuracy: 0.9112\n",
            "Epoch 31/40\n",
            "659/659 [==============================] - 1s 2ms/step - loss: 0.2590 - accuracy: 0.9117\n",
            "Epoch 32/40\n",
            "659/659 [==============================] - 1s 2ms/step - loss: 0.2594 - accuracy: 0.9102\n",
            "Epoch 33/40\n",
            "659/659 [==============================] - 1s 2ms/step - loss: 0.2565 - accuracy: 0.9115\n",
            "Epoch 34/40\n",
            "659/659 [==============================] - 1s 2ms/step - loss: 0.2563 - accuracy: 0.9122\n",
            "Epoch 35/40\n",
            "659/659 [==============================] - 1s 2ms/step - loss: 0.2530 - accuracy: 0.9128\n",
            "Epoch 36/40\n",
            "659/659 [==============================] - 1s 2ms/step - loss: 0.2540 - accuracy: 0.9110\n",
            "Epoch 37/40\n",
            "659/659 [==============================] - 1s 2ms/step - loss: 0.2530 - accuracy: 0.9121\n",
            "Epoch 38/40\n",
            "659/659 [==============================] - 1s 2ms/step - loss: 0.2526 - accuracy: 0.9116\n",
            "Epoch 39/40\n",
            "659/659 [==============================] - 1s 2ms/step - loss: 0.2496 - accuracy: 0.9131\n",
            "Epoch 40/40\n",
            "659/659 [==============================] - 1s 2ms/step - loss: 0.2489 - accuracy: 0.9124\n"
          ]
        },
        {
          "output_type": "execute_result",
          "data": {
            "text/plain": [
              "<keras.callbacks.History at 0x7ffaaf35b650>"
            ]
          },
          "metadata": {},
          "execution_count": 80
        }
      ],
      "source": [
        "DNN_acceptance = Sequential()\n",
        "DNN_acceptance.add(Dense(64, input_dim=x_std.shape[1], activation='relu'))\n",
        "DNN_acceptance.add(Dense(64, activation='relu'))\n",
        "DNN_acceptance.add(Dense(1, activation='sigmoid'))\n",
        "DNN_acceptance.compile(loss='binary_crossentropy', optimizer='adam', metrics=['accuracy'])\n",
        "\n",
        "DNN_acceptance.fit(x_std, loan_acceptance,epochs=40,batch_size=40)"
      ]
    },
    {
      "cell_type": "markdown",
      "metadata": {
        "id": "slV_NYhcAUiA"
      },
      "source": [
        "Predict the loan acceptance of the testing dataset"
      ]
    },
    {
      "cell_type": "code",
      "execution_count": 81,
      "metadata": {
        "colab": {
          "base_uri": "https://localhost:8080/"
        },
        "id": "i1FU2RNw-S0Y",
        "outputId": "a73168f1-4ee4-4b07-e3fc-279edd2bb4b4"
      },
      "outputs": [
        {
          "output_type": "execute_result",
          "data": {
            "text/plain": [
              "{0.0: 579, 1.0: 2421}"
            ]
          },
          "metadata": {},
          "execution_count": 81
        }
      ],
      "source": [
        "y_pred_acceptance = np.round_(DNN_acceptance.predict(test_std))\n",
        "unique, counts = np.unique(y_pred_acceptance, return_counts=True)\n",
        "dict(zip(unique, counts))"
      ]
    },
    {
      "cell_type": "markdown",
      "metadata": {
        "id": "aRLQWTSPAbc6"
      },
      "source": [
        "Build the DNN model (DNN2) of accepted loan customer's loan amount, the setting is same as the first DNN model."
      ]
    },
    {
      "cell_type": "code",
      "execution_count": 82,
      "metadata": {
        "id": "1eY8uBbkA6Bk"
      },
      "outputs": [],
      "source": [
        "DNN2 = create_DNN()"
      ]
    },
    {
      "cell_type": "markdown",
      "metadata": {
        "id": "XCCJHFCXDmK7"
      },
      "source": [
        "Get the accepted customer data from the traing dataset"
      ]
    },
    {
      "cell_type": "code",
      "execution_count": 83,
      "metadata": {
        "id": "fn_f8qbjCvp7"
      },
      "outputs": [],
      "source": [
        "x_accepted = train_df[train_df[\"Loan Amount\"] > 0]\n",
        "y_accepted = x_accepted.pop(\"Loan Amount\")\n",
        "y_accepted = y_accepted.values.reshape(len(y_accepted),1)"
      ]
    },
    {
      "cell_type": "markdown",
      "metadata": {
        "id": "x7mBr7kOD5hB"
      },
      "source": [
        "Train the DNN2 model"
      ]
    },
    {
      "cell_type": "code",
      "execution_count": 84,
      "metadata": {
        "colab": {
          "base_uri": "https://localhost:8080/"
        },
        "id": "9dRpFV0mCx3x",
        "outputId": "9c8c7f5c-e689-4231-b384-3090f7b8334d"
      },
      "outputs": [
        {
          "output_type": "stream",
          "name": "stdout",
          "text": [
            "Epoch 1/40\n",
            "482/482 [==============================] - 1s 2ms/step - loss: 191496608.0000 - mae: 6460.9194 - mape: 9.9444\n",
            "Epoch 2/40\n",
            "482/482 [==============================] - 1s 2ms/step - loss: 39581020.0000 - mae: 4259.4219 - mape: 6.4315\n",
            "Epoch 3/40\n",
            "482/482 [==============================] - 1s 2ms/step - loss: 40453548.0000 - mae: 4280.9473 - mape: 6.4485\n",
            "Epoch 4/40\n",
            "482/482 [==============================] - 1s 2ms/step - loss: 40178668.0000 - mae: 4284.0625 - mape: 6.4567\n",
            "Epoch 5/40\n",
            "482/482 [==============================] - 1s 2ms/step - loss: 39432888.0000 - mae: 4257.6860 - mape: 6.4348\n",
            "Epoch 6/40\n",
            "482/482 [==============================] - 1s 2ms/step - loss: 39323624.0000 - mae: 4238.0005 - mape: 6.3691\n",
            "Epoch 7/40\n",
            "482/482 [==============================] - 1s 2ms/step - loss: 40354720.0000 - mae: 4283.1035 - mape: 6.4584\n",
            "Epoch 8/40\n",
            "482/482 [==============================] - 1s 2ms/step - loss: 39436452.0000 - mae: 4257.4780 - mape: 6.4045\n",
            "Epoch 9/40\n",
            "482/482 [==============================] - 1s 2ms/step - loss: 39517800.0000 - mae: 4251.8306 - mape: 6.3887\n",
            "Epoch 10/40\n",
            "482/482 [==============================] - 1s 2ms/step - loss: 40169960.0000 - mae: 4282.1289 - mape: 6.4517\n",
            "Epoch 11/40\n",
            "482/482 [==============================] - 1s 2ms/step - loss: 39812856.0000 - mae: 4260.3159 - mape: 6.4015\n",
            "Epoch 12/40\n",
            "482/482 [==============================] - 1s 2ms/step - loss: 39897844.0000 - mae: 4251.1655 - mape: 6.3891\n",
            "Epoch 13/40\n",
            "482/482 [==============================] - 1s 2ms/step - loss: 39982188.0000 - mae: 4264.1733 - mape: 6.4013\n",
            "Epoch 14/40\n",
            "482/482 [==============================] - 1s 2ms/step - loss: 39710960.0000 - mae: 4266.7100 - mape: 6.3975\n",
            "Epoch 15/40\n",
            "482/482 [==============================] - 1s 2ms/step - loss: 39363640.0000 - mae: 4239.5078 - mape: 6.3550\n",
            "Epoch 16/40\n",
            "482/482 [==============================] - 1s 2ms/step - loss: 38963668.0000 - mae: 4234.9199 - mape: 6.3899\n",
            "Epoch 17/40\n",
            "482/482 [==============================] - 1s 2ms/step - loss: 39426836.0000 - mae: 4248.0171 - mape: 6.3580\n",
            "Epoch 18/40\n",
            "482/482 [==============================] - 1s 2ms/step - loss: 39350344.0000 - mae: 4231.7676 - mape: 6.3790\n",
            "Epoch 19/40\n",
            "482/482 [==============================] - 1s 2ms/step - loss: 38922580.0000 - mae: 4224.8828 - mape: 6.3487\n",
            "Epoch 20/40\n",
            "482/482 [==============================] - 1s 2ms/step - loss: 39020396.0000 - mae: 4219.2051 - mape: 6.3283\n",
            "Epoch 21/40\n",
            "482/482 [==============================] - 1s 2ms/step - loss: 39249304.0000 - mae: 4227.8784 - mape: 6.3584\n",
            "Epoch 22/40\n",
            "482/482 [==============================] - 1s 2ms/step - loss: 38882128.0000 - mae: 4223.3369 - mape: 6.3448\n",
            "Epoch 23/40\n",
            "482/482 [==============================] - 1s 2ms/step - loss: 38842648.0000 - mae: 4218.6523 - mape: 6.3530\n",
            "Epoch 24/40\n",
            "482/482 [==============================] - 1s 2ms/step - loss: 38983260.0000 - mae: 4233.9111 - mape: 6.3549\n",
            "Epoch 25/40\n",
            "482/482 [==============================] - 1s 2ms/step - loss: 38921416.0000 - mae: 4216.7266 - mape: 6.3503\n",
            "Epoch 26/40\n",
            "482/482 [==============================] - 1s 2ms/step - loss: 38848524.0000 - mae: 4223.3506 - mape: 6.3498\n",
            "Epoch 27/40\n",
            "482/482 [==============================] - 1s 2ms/step - loss: 38921252.0000 - mae: 4213.0093 - mape: 6.3374\n",
            "Epoch 28/40\n",
            "482/482 [==============================] - 1s 2ms/step - loss: 39254652.0000 - mae: 4245.8608 - mape: 6.4015\n",
            "Epoch 29/40\n",
            "482/482 [==============================] - 1s 2ms/step - loss: 38535752.0000 - mae: 4217.6250 - mape: 6.3418\n",
            "Epoch 30/40\n",
            "482/482 [==============================] - 1s 2ms/step - loss: 39188448.0000 - mae: 4231.1904 - mape: 6.3575\n",
            "Epoch 31/40\n",
            "482/482 [==============================] - 1s 2ms/step - loss: 39533884.0000 - mae: 4243.0605 - mape: 6.4156\n",
            "Epoch 32/40\n",
            "482/482 [==============================] - 1s 2ms/step - loss: 38649412.0000 - mae: 4216.0840 - mape: 6.3420\n",
            "Epoch 33/40\n",
            "482/482 [==============================] - 1s 2ms/step - loss: 38292032.0000 - mae: 4210.1860 - mape: 6.3185\n",
            "Epoch 34/40\n",
            "482/482 [==============================] - 1s 2ms/step - loss: 38732436.0000 - mae: 4210.5039 - mape: 6.3535\n",
            "Epoch 35/40\n",
            "482/482 [==============================] - 1s 2ms/step - loss: 38764780.0000 - mae: 4219.5586 - mape: 6.3400\n",
            "Epoch 36/40\n",
            "482/482 [==============================] - 1s 2ms/step - loss: 39381880.0000 - mae: 4235.5444 - mape: 6.3810\n",
            "Epoch 37/40\n",
            "482/482 [==============================] - 1s 2ms/step - loss: 39329588.0000 - mae: 4223.0400 - mape: 6.3632\n",
            "Epoch 38/40\n",
            "482/482 [==============================] - 1s 2ms/step - loss: 38570368.0000 - mae: 4220.4678 - mape: 6.3683\n",
            "Epoch 39/40\n",
            "482/482 [==============================] - 1s 2ms/step - loss: 38226260.0000 - mae: 4213.2212 - mape: 6.3307\n",
            "Epoch 40/40\n",
            "482/482 [==============================] - 1s 2ms/step - loss: 38421536.0000 - mae: 4221.3164 - mape: 6.3511\n"
          ]
        },
        {
          "output_type": "execute_result",
          "data": {
            "text/plain": [
              "<keras.callbacks.History at 0x7ffb3147d990>"
            ]
          },
          "metadata": {},
          "execution_count": 84
        }
      ],
      "source": [
        "DNN2.fit(x_accepted, y_accepted, epochs=40,batch_size=40)"
      ]
    },
    {
      "cell_type": "code",
      "execution_count": 85,
      "metadata": {
        "colab": {
          "base_uri": "https://localhost:8080/"
        },
        "id": "NnxD8-lOEJZP",
        "outputId": "6cbfccc1-d05b-41aa-a181-2bb94d33d2c7"
      },
      "outputs": [
        {
          "output_type": "execute_result",
          "data": {
            "text/plain": [
              "array([[ 48193.777],\n",
              "       [139812.69 ],\n",
              "       [117358.44 ],\n",
              "       ...,\n",
              "       [ 94814.92 ],\n",
              "       [     0.   ],\n",
              "       [     0.   ]], dtype=float32)"
            ]
          },
          "metadata": {},
          "execution_count": 85
        }
      ],
      "source": [
        "y_pred_DNN2 = DNN2.predict(test_df) * y_pred_acceptance\n",
        "y_pred_DNN2"
      ]
    },
    {
      "cell_type": "markdown",
      "metadata": {
        "id": "I_ikEVqIo3dd"
      },
      "source": [
        "#Performance evaluation and discussions \n",
        "\n",
        "\n",
        "First compare the Linear Regression (LR) and Regularized Linear Regression (RLR) model. The cost of this two model after traning are 539861934 and 539861934, it's very close. As RLR model cost function include an extra regularized cost, it can prevent overfitting of the model, so RLR is more prefer than LR. \n",
        "\n",
        "\n",
        "Then compare the two Deep Neural Network model - DNN, and the combination of DNN_acceptance and DNN2. DNN and DNN2 use the same model but different training data, as DNN use the all customers data and DNN2 only use the accepted customers data. We can see that all the mean square error (MSE), mean absolute error (MAE) and  mean absolute percentage error (MAPE) of DNN2 is much lower than DNN.\n",
        "\n",
        "| Model | MSE | MAE | MAPE         \n",
        "| ----- | ------: | ------: | -----:\n",
        "| DNN | 1072337856 | 23102.255 | 11997613654016.0000\n",
        "| DNN2 | 38637864  | 4224.297  | 6.3832\n",
        "\n",
        "Especially the MAPE, the diffence is 1879560981015 times. We can clearly see that use the only use the accepted customers data to predict the loan amount is much more acurrate. I think the reason is because the unaccepted customers account for arround a quarter of all, it quite a large amonnt, as their loan ammount are all 0, it makes DNN bias to them when training and the error become large. DNN2 only consider the accepted customers, the model will not bias the unaccepted customers. DNN2 require an acceptance prediction, so we hane DNN_acceptance, and the acurracy is 0.9129 which means the model is nice. As a result DNN2 is much better than DNN.\n",
        "\n",
        "\n",
        "Last we compare RLR and DNN2. As RLR's traing is not quite linear and have many outlier as it contain many unaccepted customers, the model will not acurrate. So I think that the predicted result of DNN2 (y_pred_DNN2) is the most acurrate.\n"
      ]
    },
    {
      "cell_type": "markdown",
      "source": [
        "Output the LR model presiction result to 20037676D_LR.csv"
      ],
      "metadata": {
        "id": "ljxcrXSR3IUH"
      }
    },
    {
      "cell_type": "code",
      "source": [
        "result_LR = pd.DataFrame( np.concatenate((test_ID.values.reshape(len(test_ID), 1) ,y_pred_LR),axis=1), columns = [ 'Customer_ID', 'Loan Amount' ])\n",
        "result_LR"
      ],
      "metadata": {
        "colab": {
          "base_uri": "https://localhost:8080/",
          "height": 424
        },
        "id": "WzdRSjBz3cO5",
        "outputId": "96b1115e-8a89-4040-a243-0d1fb7ae7955"
      },
      "execution_count": 86,
      "outputs": [
        {
          "output_type": "execute_result",
          "data": {
            "text/plain": [
              "     Customer_ID    Loan Amount\n",
              "0         C-6692    37731.93884\n",
              "1        C-25987  109562.437436\n",
              "2         C-5051   91476.898895\n",
              "3        C-12745   66413.294401\n",
              "4         C-8292   14139.847145\n",
              "...          ...            ...\n",
              "2995     C-11467   14565.559299\n",
              "2996     C-35487   88901.495783\n",
              "2997     C-23221   73604.491715\n",
              "2998     C-25999  118475.586178\n",
              "2999     C-41292   35294.544779\n",
              "\n",
              "[3000 rows x 2 columns]"
            ],
            "text/html": [
              "\n",
              "  <div id=\"df-407c6550-0229-4106-834e-e94d95c16fa0\">\n",
              "    <div class=\"colab-df-container\">\n",
              "      <div>\n",
              "<style scoped>\n",
              "    .dataframe tbody tr th:only-of-type {\n",
              "        vertical-align: middle;\n",
              "    }\n",
              "\n",
              "    .dataframe tbody tr th {\n",
              "        vertical-align: top;\n",
              "    }\n",
              "\n",
              "    .dataframe thead th {\n",
              "        text-align: right;\n",
              "    }\n",
              "</style>\n",
              "<table border=\"1\" class=\"dataframe\">\n",
              "  <thead>\n",
              "    <tr style=\"text-align: right;\">\n",
              "      <th></th>\n",
              "      <th>Customer_ID</th>\n",
              "      <th>Loan Amount</th>\n",
              "    </tr>\n",
              "  </thead>\n",
              "  <tbody>\n",
              "    <tr>\n",
              "      <th>0</th>\n",
              "      <td>C-6692</td>\n",
              "      <td>37731.93884</td>\n",
              "    </tr>\n",
              "    <tr>\n",
              "      <th>1</th>\n",
              "      <td>C-25987</td>\n",
              "      <td>109562.437436</td>\n",
              "    </tr>\n",
              "    <tr>\n",
              "      <th>2</th>\n",
              "      <td>C-5051</td>\n",
              "      <td>91476.898895</td>\n",
              "    </tr>\n",
              "    <tr>\n",
              "      <th>3</th>\n",
              "      <td>C-12745</td>\n",
              "      <td>66413.294401</td>\n",
              "    </tr>\n",
              "    <tr>\n",
              "      <th>4</th>\n",
              "      <td>C-8292</td>\n",
              "      <td>14139.847145</td>\n",
              "    </tr>\n",
              "    <tr>\n",
              "      <th>...</th>\n",
              "      <td>...</td>\n",
              "      <td>...</td>\n",
              "    </tr>\n",
              "    <tr>\n",
              "      <th>2995</th>\n",
              "      <td>C-11467</td>\n",
              "      <td>14565.559299</td>\n",
              "    </tr>\n",
              "    <tr>\n",
              "      <th>2996</th>\n",
              "      <td>C-35487</td>\n",
              "      <td>88901.495783</td>\n",
              "    </tr>\n",
              "    <tr>\n",
              "      <th>2997</th>\n",
              "      <td>C-23221</td>\n",
              "      <td>73604.491715</td>\n",
              "    </tr>\n",
              "    <tr>\n",
              "      <th>2998</th>\n",
              "      <td>C-25999</td>\n",
              "      <td>118475.586178</td>\n",
              "    </tr>\n",
              "    <tr>\n",
              "      <th>2999</th>\n",
              "      <td>C-41292</td>\n",
              "      <td>35294.544779</td>\n",
              "    </tr>\n",
              "  </tbody>\n",
              "</table>\n",
              "<p>3000 rows × 2 columns</p>\n",
              "</div>\n",
              "      <button class=\"colab-df-convert\" onclick=\"convertToInteractive('df-407c6550-0229-4106-834e-e94d95c16fa0')\"\n",
              "              title=\"Convert this dataframe to an interactive table.\"\n",
              "              style=\"display:none;\">\n",
              "        \n",
              "  <svg xmlns=\"http://www.w3.org/2000/svg\" height=\"24px\"viewBox=\"0 0 24 24\"\n",
              "       width=\"24px\">\n",
              "    <path d=\"M0 0h24v24H0V0z\" fill=\"none\"/>\n",
              "    <path d=\"M18.56 5.44l.94 2.06.94-2.06 2.06-.94-2.06-.94-.94-2.06-.94 2.06-2.06.94zm-11 1L8.5 8.5l.94-2.06 2.06-.94-2.06-.94L8.5 2.5l-.94 2.06-2.06.94zm10 10l.94 2.06.94-2.06 2.06-.94-2.06-.94-.94-2.06-.94 2.06-2.06.94z\"/><path d=\"M17.41 7.96l-1.37-1.37c-.4-.4-.92-.59-1.43-.59-.52 0-1.04.2-1.43.59L10.3 9.45l-7.72 7.72c-.78.78-.78 2.05 0 2.83L4 21.41c.39.39.9.59 1.41.59.51 0 1.02-.2 1.41-.59l7.78-7.78 2.81-2.81c.8-.78.8-2.07 0-2.86zM5.41 20L4 18.59l7.72-7.72 1.47 1.35L5.41 20z\"/>\n",
              "  </svg>\n",
              "      </button>\n",
              "      \n",
              "  <style>\n",
              "    .colab-df-container {\n",
              "      display:flex;\n",
              "      flex-wrap:wrap;\n",
              "      gap: 12px;\n",
              "    }\n",
              "\n",
              "    .colab-df-convert {\n",
              "      background-color: #E8F0FE;\n",
              "      border: none;\n",
              "      border-radius: 50%;\n",
              "      cursor: pointer;\n",
              "      display: none;\n",
              "      fill: #1967D2;\n",
              "      height: 32px;\n",
              "      padding: 0 0 0 0;\n",
              "      width: 32px;\n",
              "    }\n",
              "\n",
              "    .colab-df-convert:hover {\n",
              "      background-color: #E2EBFA;\n",
              "      box-shadow: 0px 1px 2px rgba(60, 64, 67, 0.3), 0px 1px 3px 1px rgba(60, 64, 67, 0.15);\n",
              "      fill: #174EA6;\n",
              "    }\n",
              "\n",
              "    [theme=dark] .colab-df-convert {\n",
              "      background-color: #3B4455;\n",
              "      fill: #D2E3FC;\n",
              "    }\n",
              "\n",
              "    [theme=dark] .colab-df-convert:hover {\n",
              "      background-color: #434B5C;\n",
              "      box-shadow: 0px 1px 3px 1px rgba(0, 0, 0, 0.15);\n",
              "      filter: drop-shadow(0px 1px 2px rgba(0, 0, 0, 0.3));\n",
              "      fill: #FFFFFF;\n",
              "    }\n",
              "  </style>\n",
              "\n",
              "      <script>\n",
              "        const buttonEl =\n",
              "          document.querySelector('#df-407c6550-0229-4106-834e-e94d95c16fa0 button.colab-df-convert');\n",
              "        buttonEl.style.display =\n",
              "          google.colab.kernel.accessAllowed ? 'block' : 'none';\n",
              "\n",
              "        async function convertToInteractive(key) {\n",
              "          const element = document.querySelector('#df-407c6550-0229-4106-834e-e94d95c16fa0');\n",
              "          const dataTable =\n",
              "            await google.colab.kernel.invokeFunction('convertToInteractive',\n",
              "                                                     [key], {});\n",
              "          if (!dataTable) return;\n",
              "\n",
              "          const docLinkHtml = 'Like what you see? Visit the ' +\n",
              "            '<a target=\"_blank\" href=https://colab.research.google.com/notebooks/data_table.ipynb>data table notebook</a>'\n",
              "            + ' to learn more about interactive tables.';\n",
              "          element.innerHTML = '';\n",
              "          dataTable['output_type'] = 'display_data';\n",
              "          await google.colab.output.renderOutput(dataTable, element);\n",
              "          const docLink = document.createElement('div');\n",
              "          docLink.innerHTML = docLinkHtml;\n",
              "          element.appendChild(docLink);\n",
              "        }\n",
              "      </script>\n",
              "    </div>\n",
              "  </div>\n",
              "  "
            ]
          },
          "metadata": {},
          "execution_count": 86
        }
      ]
    },
    {
      "cell_type": "code",
      "source": [
        "result_LR.to_csv('20037676D_LR.csv', index = False)"
      ],
      "metadata": {
        "id": "su9Im-O63j18"
      },
      "execution_count": 87,
      "outputs": []
    },
    {
      "cell_type": "markdown",
      "source": [
        "Output the RLR model presiction result to 20037676D_RLR.csv"
      ],
      "metadata": {
        "id": "MuPWSP033_PZ"
      }
    },
    {
      "cell_type": "code",
      "source": [
        "result_RLR = pd.DataFrame( np.concatenate((test_ID.values.reshape(len(test_ID), 1) ,y_pred_RLR),axis=1), columns = [ 'Customer_ID', 'Loan Amount' ])\n",
        "result_RLR"
      ],
      "metadata": {
        "colab": {
          "base_uri": "https://localhost:8080/",
          "height": 424
        },
        "id": "X6elR7yA3lTM",
        "outputId": "3227fed8-7d9b-4b0a-8d5f-1ef58c6b6087"
      },
      "execution_count": 88,
      "outputs": [
        {
          "output_type": "execute_result",
          "data": {
            "text/plain": [
              "     Customer_ID    Loan Amount\n",
              "0         C-6692    37731.93884\n",
              "1        C-25987  109562.437436\n",
              "2         C-5051   91476.898895\n",
              "3        C-12745   66413.294401\n",
              "4         C-8292   14139.847145\n",
              "...          ...            ...\n",
              "2995     C-11467   14565.559299\n",
              "2996     C-35487   88901.495783\n",
              "2997     C-23221   73604.491715\n",
              "2998     C-25999  118475.586178\n",
              "2999     C-41292   35294.544779\n",
              "\n",
              "[3000 rows x 2 columns]"
            ],
            "text/html": [
              "\n",
              "  <div id=\"df-7cbda912-faff-4f40-851e-dd064614b0c0\">\n",
              "    <div class=\"colab-df-container\">\n",
              "      <div>\n",
              "<style scoped>\n",
              "    .dataframe tbody tr th:only-of-type {\n",
              "        vertical-align: middle;\n",
              "    }\n",
              "\n",
              "    .dataframe tbody tr th {\n",
              "        vertical-align: top;\n",
              "    }\n",
              "\n",
              "    .dataframe thead th {\n",
              "        text-align: right;\n",
              "    }\n",
              "</style>\n",
              "<table border=\"1\" class=\"dataframe\">\n",
              "  <thead>\n",
              "    <tr style=\"text-align: right;\">\n",
              "      <th></th>\n",
              "      <th>Customer_ID</th>\n",
              "      <th>Loan Amount</th>\n",
              "    </tr>\n",
              "  </thead>\n",
              "  <tbody>\n",
              "    <tr>\n",
              "      <th>0</th>\n",
              "      <td>C-6692</td>\n",
              "      <td>37731.93884</td>\n",
              "    </tr>\n",
              "    <tr>\n",
              "      <th>1</th>\n",
              "      <td>C-25987</td>\n",
              "      <td>109562.437436</td>\n",
              "    </tr>\n",
              "    <tr>\n",
              "      <th>2</th>\n",
              "      <td>C-5051</td>\n",
              "      <td>91476.898895</td>\n",
              "    </tr>\n",
              "    <tr>\n",
              "      <th>3</th>\n",
              "      <td>C-12745</td>\n",
              "      <td>66413.294401</td>\n",
              "    </tr>\n",
              "    <tr>\n",
              "      <th>4</th>\n",
              "      <td>C-8292</td>\n",
              "      <td>14139.847145</td>\n",
              "    </tr>\n",
              "    <tr>\n",
              "      <th>...</th>\n",
              "      <td>...</td>\n",
              "      <td>...</td>\n",
              "    </tr>\n",
              "    <tr>\n",
              "      <th>2995</th>\n",
              "      <td>C-11467</td>\n",
              "      <td>14565.559299</td>\n",
              "    </tr>\n",
              "    <tr>\n",
              "      <th>2996</th>\n",
              "      <td>C-35487</td>\n",
              "      <td>88901.495783</td>\n",
              "    </tr>\n",
              "    <tr>\n",
              "      <th>2997</th>\n",
              "      <td>C-23221</td>\n",
              "      <td>73604.491715</td>\n",
              "    </tr>\n",
              "    <tr>\n",
              "      <th>2998</th>\n",
              "      <td>C-25999</td>\n",
              "      <td>118475.586178</td>\n",
              "    </tr>\n",
              "    <tr>\n",
              "      <th>2999</th>\n",
              "      <td>C-41292</td>\n",
              "      <td>35294.544779</td>\n",
              "    </tr>\n",
              "  </tbody>\n",
              "</table>\n",
              "<p>3000 rows × 2 columns</p>\n",
              "</div>\n",
              "      <button class=\"colab-df-convert\" onclick=\"convertToInteractive('df-7cbda912-faff-4f40-851e-dd064614b0c0')\"\n",
              "              title=\"Convert this dataframe to an interactive table.\"\n",
              "              style=\"display:none;\">\n",
              "        \n",
              "  <svg xmlns=\"http://www.w3.org/2000/svg\" height=\"24px\"viewBox=\"0 0 24 24\"\n",
              "       width=\"24px\">\n",
              "    <path d=\"M0 0h24v24H0V0z\" fill=\"none\"/>\n",
              "    <path d=\"M18.56 5.44l.94 2.06.94-2.06 2.06-.94-2.06-.94-.94-2.06-.94 2.06-2.06.94zm-11 1L8.5 8.5l.94-2.06 2.06-.94-2.06-.94L8.5 2.5l-.94 2.06-2.06.94zm10 10l.94 2.06.94-2.06 2.06-.94-2.06-.94-.94-2.06-.94 2.06-2.06.94z\"/><path d=\"M17.41 7.96l-1.37-1.37c-.4-.4-.92-.59-1.43-.59-.52 0-1.04.2-1.43.59L10.3 9.45l-7.72 7.72c-.78.78-.78 2.05 0 2.83L4 21.41c.39.39.9.59 1.41.59.51 0 1.02-.2 1.41-.59l7.78-7.78 2.81-2.81c.8-.78.8-2.07 0-2.86zM5.41 20L4 18.59l7.72-7.72 1.47 1.35L5.41 20z\"/>\n",
              "  </svg>\n",
              "      </button>\n",
              "      \n",
              "  <style>\n",
              "    .colab-df-container {\n",
              "      display:flex;\n",
              "      flex-wrap:wrap;\n",
              "      gap: 12px;\n",
              "    }\n",
              "\n",
              "    .colab-df-convert {\n",
              "      background-color: #E8F0FE;\n",
              "      border: none;\n",
              "      border-radius: 50%;\n",
              "      cursor: pointer;\n",
              "      display: none;\n",
              "      fill: #1967D2;\n",
              "      height: 32px;\n",
              "      padding: 0 0 0 0;\n",
              "      width: 32px;\n",
              "    }\n",
              "\n",
              "    .colab-df-convert:hover {\n",
              "      background-color: #E2EBFA;\n",
              "      box-shadow: 0px 1px 2px rgba(60, 64, 67, 0.3), 0px 1px 3px 1px rgba(60, 64, 67, 0.15);\n",
              "      fill: #174EA6;\n",
              "    }\n",
              "\n",
              "    [theme=dark] .colab-df-convert {\n",
              "      background-color: #3B4455;\n",
              "      fill: #D2E3FC;\n",
              "    }\n",
              "\n",
              "    [theme=dark] .colab-df-convert:hover {\n",
              "      background-color: #434B5C;\n",
              "      box-shadow: 0px 1px 3px 1px rgba(0, 0, 0, 0.15);\n",
              "      filter: drop-shadow(0px 1px 2px rgba(0, 0, 0, 0.3));\n",
              "      fill: #FFFFFF;\n",
              "    }\n",
              "  </style>\n",
              "\n",
              "      <script>\n",
              "        const buttonEl =\n",
              "          document.querySelector('#df-7cbda912-faff-4f40-851e-dd064614b0c0 button.colab-df-convert');\n",
              "        buttonEl.style.display =\n",
              "          google.colab.kernel.accessAllowed ? 'block' : 'none';\n",
              "\n",
              "        async function convertToInteractive(key) {\n",
              "          const element = document.querySelector('#df-7cbda912-faff-4f40-851e-dd064614b0c0');\n",
              "          const dataTable =\n",
              "            await google.colab.kernel.invokeFunction('convertToInteractive',\n",
              "                                                     [key], {});\n",
              "          if (!dataTable) return;\n",
              "\n",
              "          const docLinkHtml = 'Like what you see? Visit the ' +\n",
              "            '<a target=\"_blank\" href=https://colab.research.google.com/notebooks/data_table.ipynb>data table notebook</a>'\n",
              "            + ' to learn more about interactive tables.';\n",
              "          element.innerHTML = '';\n",
              "          dataTable['output_type'] = 'display_data';\n",
              "          await google.colab.output.renderOutput(dataTable, element);\n",
              "          const docLink = document.createElement('div');\n",
              "          docLink.innerHTML = docLinkHtml;\n",
              "          element.appendChild(docLink);\n",
              "        }\n",
              "      </script>\n",
              "    </div>\n",
              "  </div>\n",
              "  "
            ]
          },
          "metadata": {},
          "execution_count": 88
        }
      ]
    },
    {
      "cell_type": "code",
      "source": [
        "result_RLR.to_csv('20037676D_RLR.csv', index = False)"
      ],
      "metadata": {
        "id": "PB1i2SC54GBD"
      },
      "execution_count": 89,
      "outputs": []
    },
    {
      "cell_type": "markdown",
      "source": [
        "Output the DNN model presiction result to 20037676D_DNN.csv"
      ],
      "metadata": {
        "id": "76-Ov4d_4H9E"
      }
    },
    {
      "cell_type": "code",
      "source": [
        "result_DNN = pd.DataFrame( np.concatenate((test_ID.values.reshape(len(test_ID), 1) ,y_pred_DNN),axis=1), columns = [ 'Customer_ID', 'Loan Amount' ])\n",
        "result_DNN"
      ],
      "metadata": {
        "colab": {
          "base_uri": "https://localhost:8080/",
          "height": 424
        },
        "id": "-1DRZGhm4MZC",
        "outputId": "eedcb29a-1b1c-4912-f96e-28360dda6cd6"
      },
      "execution_count": 90,
      "outputs": [
        {
          "output_type": "execute_result",
          "data": {
            "text/plain": [
              "     Customer_ID    Loan Amount\n",
              "0         C-6692   41272.730469\n",
              "1        C-25987  102123.757812\n",
              "2         C-5051   87198.578125\n",
              "3        C-12745   67945.992188\n",
              "4         C-8292   14385.511719\n",
              "...          ...            ...\n",
              "2995     C-11467   14243.973633\n",
              "2996     C-35487   84990.265625\n",
              "2997     C-23221   72852.046875\n",
              "2998     C-25999  121445.445312\n",
              "2999     C-41292   37437.476562\n",
              "\n",
              "[3000 rows x 2 columns]"
            ],
            "text/html": [
              "\n",
              "  <div id=\"df-a6553e3b-0980-41b7-bc67-2a580b98b864\">\n",
              "    <div class=\"colab-df-container\">\n",
              "      <div>\n",
              "<style scoped>\n",
              "    .dataframe tbody tr th:only-of-type {\n",
              "        vertical-align: middle;\n",
              "    }\n",
              "\n",
              "    .dataframe tbody tr th {\n",
              "        vertical-align: top;\n",
              "    }\n",
              "\n",
              "    .dataframe thead th {\n",
              "        text-align: right;\n",
              "    }\n",
              "</style>\n",
              "<table border=\"1\" class=\"dataframe\">\n",
              "  <thead>\n",
              "    <tr style=\"text-align: right;\">\n",
              "      <th></th>\n",
              "      <th>Customer_ID</th>\n",
              "      <th>Loan Amount</th>\n",
              "    </tr>\n",
              "  </thead>\n",
              "  <tbody>\n",
              "    <tr>\n",
              "      <th>0</th>\n",
              "      <td>C-6692</td>\n",
              "      <td>41272.730469</td>\n",
              "    </tr>\n",
              "    <tr>\n",
              "      <th>1</th>\n",
              "      <td>C-25987</td>\n",
              "      <td>102123.757812</td>\n",
              "    </tr>\n",
              "    <tr>\n",
              "      <th>2</th>\n",
              "      <td>C-5051</td>\n",
              "      <td>87198.578125</td>\n",
              "    </tr>\n",
              "    <tr>\n",
              "      <th>3</th>\n",
              "      <td>C-12745</td>\n",
              "      <td>67945.992188</td>\n",
              "    </tr>\n",
              "    <tr>\n",
              "      <th>4</th>\n",
              "      <td>C-8292</td>\n",
              "      <td>14385.511719</td>\n",
              "    </tr>\n",
              "    <tr>\n",
              "      <th>...</th>\n",
              "      <td>...</td>\n",
              "      <td>...</td>\n",
              "    </tr>\n",
              "    <tr>\n",
              "      <th>2995</th>\n",
              "      <td>C-11467</td>\n",
              "      <td>14243.973633</td>\n",
              "    </tr>\n",
              "    <tr>\n",
              "      <th>2996</th>\n",
              "      <td>C-35487</td>\n",
              "      <td>84990.265625</td>\n",
              "    </tr>\n",
              "    <tr>\n",
              "      <th>2997</th>\n",
              "      <td>C-23221</td>\n",
              "      <td>72852.046875</td>\n",
              "    </tr>\n",
              "    <tr>\n",
              "      <th>2998</th>\n",
              "      <td>C-25999</td>\n",
              "      <td>121445.445312</td>\n",
              "    </tr>\n",
              "    <tr>\n",
              "      <th>2999</th>\n",
              "      <td>C-41292</td>\n",
              "      <td>37437.476562</td>\n",
              "    </tr>\n",
              "  </tbody>\n",
              "</table>\n",
              "<p>3000 rows × 2 columns</p>\n",
              "</div>\n",
              "      <button class=\"colab-df-convert\" onclick=\"convertToInteractive('df-a6553e3b-0980-41b7-bc67-2a580b98b864')\"\n",
              "              title=\"Convert this dataframe to an interactive table.\"\n",
              "              style=\"display:none;\">\n",
              "        \n",
              "  <svg xmlns=\"http://www.w3.org/2000/svg\" height=\"24px\"viewBox=\"0 0 24 24\"\n",
              "       width=\"24px\">\n",
              "    <path d=\"M0 0h24v24H0V0z\" fill=\"none\"/>\n",
              "    <path d=\"M18.56 5.44l.94 2.06.94-2.06 2.06-.94-2.06-.94-.94-2.06-.94 2.06-2.06.94zm-11 1L8.5 8.5l.94-2.06 2.06-.94-2.06-.94L8.5 2.5l-.94 2.06-2.06.94zm10 10l.94 2.06.94-2.06 2.06-.94-2.06-.94-.94-2.06-.94 2.06-2.06.94z\"/><path d=\"M17.41 7.96l-1.37-1.37c-.4-.4-.92-.59-1.43-.59-.52 0-1.04.2-1.43.59L10.3 9.45l-7.72 7.72c-.78.78-.78 2.05 0 2.83L4 21.41c.39.39.9.59 1.41.59.51 0 1.02-.2 1.41-.59l7.78-7.78 2.81-2.81c.8-.78.8-2.07 0-2.86zM5.41 20L4 18.59l7.72-7.72 1.47 1.35L5.41 20z\"/>\n",
              "  </svg>\n",
              "      </button>\n",
              "      \n",
              "  <style>\n",
              "    .colab-df-container {\n",
              "      display:flex;\n",
              "      flex-wrap:wrap;\n",
              "      gap: 12px;\n",
              "    }\n",
              "\n",
              "    .colab-df-convert {\n",
              "      background-color: #E8F0FE;\n",
              "      border: none;\n",
              "      border-radius: 50%;\n",
              "      cursor: pointer;\n",
              "      display: none;\n",
              "      fill: #1967D2;\n",
              "      height: 32px;\n",
              "      padding: 0 0 0 0;\n",
              "      width: 32px;\n",
              "    }\n",
              "\n",
              "    .colab-df-convert:hover {\n",
              "      background-color: #E2EBFA;\n",
              "      box-shadow: 0px 1px 2px rgba(60, 64, 67, 0.3), 0px 1px 3px 1px rgba(60, 64, 67, 0.15);\n",
              "      fill: #174EA6;\n",
              "    }\n",
              "\n",
              "    [theme=dark] .colab-df-convert {\n",
              "      background-color: #3B4455;\n",
              "      fill: #D2E3FC;\n",
              "    }\n",
              "\n",
              "    [theme=dark] .colab-df-convert:hover {\n",
              "      background-color: #434B5C;\n",
              "      box-shadow: 0px 1px 3px 1px rgba(0, 0, 0, 0.15);\n",
              "      filter: drop-shadow(0px 1px 2px rgba(0, 0, 0, 0.3));\n",
              "      fill: #FFFFFF;\n",
              "    }\n",
              "  </style>\n",
              "\n",
              "      <script>\n",
              "        const buttonEl =\n",
              "          document.querySelector('#df-a6553e3b-0980-41b7-bc67-2a580b98b864 button.colab-df-convert');\n",
              "        buttonEl.style.display =\n",
              "          google.colab.kernel.accessAllowed ? 'block' : 'none';\n",
              "\n",
              "        async function convertToInteractive(key) {\n",
              "          const element = document.querySelector('#df-a6553e3b-0980-41b7-bc67-2a580b98b864');\n",
              "          const dataTable =\n",
              "            await google.colab.kernel.invokeFunction('convertToInteractive',\n",
              "                                                     [key], {});\n",
              "          if (!dataTable) return;\n",
              "\n",
              "          const docLinkHtml = 'Like what you see? Visit the ' +\n",
              "            '<a target=\"_blank\" href=https://colab.research.google.com/notebooks/data_table.ipynb>data table notebook</a>'\n",
              "            + ' to learn more about interactive tables.';\n",
              "          element.innerHTML = '';\n",
              "          dataTable['output_type'] = 'display_data';\n",
              "          await google.colab.output.renderOutput(dataTable, element);\n",
              "          const docLink = document.createElement('div');\n",
              "          docLink.innerHTML = docLinkHtml;\n",
              "          element.appendChild(docLink);\n",
              "        }\n",
              "      </script>\n",
              "    </div>\n",
              "  </div>\n",
              "  "
            ]
          },
          "metadata": {},
          "execution_count": 90
        }
      ]
    },
    {
      "cell_type": "code",
      "source": [
        "result_DNN.to_csv('20037676D_DNN.csv', index = False)"
      ],
      "metadata": {
        "id": "rIF0NjSA4Pec"
      },
      "execution_count": 91,
      "outputs": []
    },
    {
      "cell_type": "markdown",
      "source": [
        "Output the DNN2 model presiction result to 20037676D_DNN2.csv"
      ],
      "metadata": {
        "id": "jYoBeTrA4UGq"
      }
    },
    {
      "cell_type": "code",
      "execution_count": 92,
      "metadata": {
        "colab": {
          "base_uri": "https://localhost:8080/",
          "height": 424
        },
        "id": "5Tzks06wwAc4",
        "outputId": "54ce71d6-c1d0-4368-d81b-11cc6ea2635c"
      },
      "outputs": [
        {
          "output_type": "execute_result",
          "data": {
            "text/plain": [
              "     Customer_ID    Loan Amount\n",
              "0         C-6692   48193.777344\n",
              "1        C-25987    139812.6875\n",
              "2         C-5051    117358.4375\n",
              "3        C-12745   84812.882812\n",
              "4         C-8292   17965.021484\n",
              "...          ...            ...\n",
              "2995     C-11467   18655.712891\n",
              "2996     C-35487  113613.335938\n",
              "2997     C-23221   94814.921875\n",
              "2998     C-25999            0.0\n",
              "2999     C-41292            0.0\n",
              "\n",
              "[3000 rows x 2 columns]"
            ],
            "text/html": [
              "\n",
              "  <div id=\"df-a68de78b-0b85-4316-9aff-89e5885e3d9f\">\n",
              "    <div class=\"colab-df-container\">\n",
              "      <div>\n",
              "<style scoped>\n",
              "    .dataframe tbody tr th:only-of-type {\n",
              "        vertical-align: middle;\n",
              "    }\n",
              "\n",
              "    .dataframe tbody tr th {\n",
              "        vertical-align: top;\n",
              "    }\n",
              "\n",
              "    .dataframe thead th {\n",
              "        text-align: right;\n",
              "    }\n",
              "</style>\n",
              "<table border=\"1\" class=\"dataframe\">\n",
              "  <thead>\n",
              "    <tr style=\"text-align: right;\">\n",
              "      <th></th>\n",
              "      <th>Customer_ID</th>\n",
              "      <th>Loan Amount</th>\n",
              "    </tr>\n",
              "  </thead>\n",
              "  <tbody>\n",
              "    <tr>\n",
              "      <th>0</th>\n",
              "      <td>C-6692</td>\n",
              "      <td>48193.777344</td>\n",
              "    </tr>\n",
              "    <tr>\n",
              "      <th>1</th>\n",
              "      <td>C-25987</td>\n",
              "      <td>139812.6875</td>\n",
              "    </tr>\n",
              "    <tr>\n",
              "      <th>2</th>\n",
              "      <td>C-5051</td>\n",
              "      <td>117358.4375</td>\n",
              "    </tr>\n",
              "    <tr>\n",
              "      <th>3</th>\n",
              "      <td>C-12745</td>\n",
              "      <td>84812.882812</td>\n",
              "    </tr>\n",
              "    <tr>\n",
              "      <th>4</th>\n",
              "      <td>C-8292</td>\n",
              "      <td>17965.021484</td>\n",
              "    </tr>\n",
              "    <tr>\n",
              "      <th>...</th>\n",
              "      <td>...</td>\n",
              "      <td>...</td>\n",
              "    </tr>\n",
              "    <tr>\n",
              "      <th>2995</th>\n",
              "      <td>C-11467</td>\n",
              "      <td>18655.712891</td>\n",
              "    </tr>\n",
              "    <tr>\n",
              "      <th>2996</th>\n",
              "      <td>C-35487</td>\n",
              "      <td>113613.335938</td>\n",
              "    </tr>\n",
              "    <tr>\n",
              "      <th>2997</th>\n",
              "      <td>C-23221</td>\n",
              "      <td>94814.921875</td>\n",
              "    </tr>\n",
              "    <tr>\n",
              "      <th>2998</th>\n",
              "      <td>C-25999</td>\n",
              "      <td>0.0</td>\n",
              "    </tr>\n",
              "    <tr>\n",
              "      <th>2999</th>\n",
              "      <td>C-41292</td>\n",
              "      <td>0.0</td>\n",
              "    </tr>\n",
              "  </tbody>\n",
              "</table>\n",
              "<p>3000 rows × 2 columns</p>\n",
              "</div>\n",
              "      <button class=\"colab-df-convert\" onclick=\"convertToInteractive('df-a68de78b-0b85-4316-9aff-89e5885e3d9f')\"\n",
              "              title=\"Convert this dataframe to an interactive table.\"\n",
              "              style=\"display:none;\">\n",
              "        \n",
              "  <svg xmlns=\"http://www.w3.org/2000/svg\" height=\"24px\"viewBox=\"0 0 24 24\"\n",
              "       width=\"24px\">\n",
              "    <path d=\"M0 0h24v24H0V0z\" fill=\"none\"/>\n",
              "    <path d=\"M18.56 5.44l.94 2.06.94-2.06 2.06-.94-2.06-.94-.94-2.06-.94 2.06-2.06.94zm-11 1L8.5 8.5l.94-2.06 2.06-.94-2.06-.94L8.5 2.5l-.94 2.06-2.06.94zm10 10l.94 2.06.94-2.06 2.06-.94-2.06-.94-.94-2.06-.94 2.06-2.06.94z\"/><path d=\"M17.41 7.96l-1.37-1.37c-.4-.4-.92-.59-1.43-.59-.52 0-1.04.2-1.43.59L10.3 9.45l-7.72 7.72c-.78.78-.78 2.05 0 2.83L4 21.41c.39.39.9.59 1.41.59.51 0 1.02-.2 1.41-.59l7.78-7.78 2.81-2.81c.8-.78.8-2.07 0-2.86zM5.41 20L4 18.59l7.72-7.72 1.47 1.35L5.41 20z\"/>\n",
              "  </svg>\n",
              "      </button>\n",
              "      \n",
              "  <style>\n",
              "    .colab-df-container {\n",
              "      display:flex;\n",
              "      flex-wrap:wrap;\n",
              "      gap: 12px;\n",
              "    }\n",
              "\n",
              "    .colab-df-convert {\n",
              "      background-color: #E8F0FE;\n",
              "      border: none;\n",
              "      border-radius: 50%;\n",
              "      cursor: pointer;\n",
              "      display: none;\n",
              "      fill: #1967D2;\n",
              "      height: 32px;\n",
              "      padding: 0 0 0 0;\n",
              "      width: 32px;\n",
              "    }\n",
              "\n",
              "    .colab-df-convert:hover {\n",
              "      background-color: #E2EBFA;\n",
              "      box-shadow: 0px 1px 2px rgba(60, 64, 67, 0.3), 0px 1px 3px 1px rgba(60, 64, 67, 0.15);\n",
              "      fill: #174EA6;\n",
              "    }\n",
              "\n",
              "    [theme=dark] .colab-df-convert {\n",
              "      background-color: #3B4455;\n",
              "      fill: #D2E3FC;\n",
              "    }\n",
              "\n",
              "    [theme=dark] .colab-df-convert:hover {\n",
              "      background-color: #434B5C;\n",
              "      box-shadow: 0px 1px 3px 1px rgba(0, 0, 0, 0.15);\n",
              "      filter: drop-shadow(0px 1px 2px rgba(0, 0, 0, 0.3));\n",
              "      fill: #FFFFFF;\n",
              "    }\n",
              "  </style>\n",
              "\n",
              "      <script>\n",
              "        const buttonEl =\n",
              "          document.querySelector('#df-a68de78b-0b85-4316-9aff-89e5885e3d9f button.colab-df-convert');\n",
              "        buttonEl.style.display =\n",
              "          google.colab.kernel.accessAllowed ? 'block' : 'none';\n",
              "\n",
              "        async function convertToInteractive(key) {\n",
              "          const element = document.querySelector('#df-a68de78b-0b85-4316-9aff-89e5885e3d9f');\n",
              "          const dataTable =\n",
              "            await google.colab.kernel.invokeFunction('convertToInteractive',\n",
              "                                                     [key], {});\n",
              "          if (!dataTable) return;\n",
              "\n",
              "          const docLinkHtml = 'Like what you see? Visit the ' +\n",
              "            '<a target=\"_blank\" href=https://colab.research.google.com/notebooks/data_table.ipynb>data table notebook</a>'\n",
              "            + ' to learn more about interactive tables.';\n",
              "          element.innerHTML = '';\n",
              "          dataTable['output_type'] = 'display_data';\n",
              "          await google.colab.output.renderOutput(dataTable, element);\n",
              "          const docLink = document.createElement('div');\n",
              "          docLink.innerHTML = docLinkHtml;\n",
              "          element.appendChild(docLink);\n",
              "        }\n",
              "      </script>\n",
              "    </div>\n",
              "  </div>\n",
              "  "
            ]
          },
          "metadata": {},
          "execution_count": 92
        }
      ],
      "source": [
        "result_DNN2 = pd.DataFrame( np.concatenate((test_ID.values.reshape(len(test_ID), 1) ,y_pred_DNN2),axis=1), columns = [ 'Customer_ID', 'Loan Amount' ])\n",
        "result_DNN2"
      ]
    },
    {
      "cell_type": "code",
      "execution_count": 93,
      "metadata": {
        "id": "ItAxva4j7_Nf"
      },
      "outputs": [],
      "source": [
        "result_DNN2.to_csv('20037676D_DNN2.csv', index = False)"
      ]
    },
    {
      "cell_type": "markdown",
      "metadata": {
        "id": "9y1FkeAIUKKp"
      },
      "source": [
        "#Summary\n",
        "\n",
        "We have built 4 model - Linear Regression, Regularized Linear Regression, Deep Neural Network and a special DNN model which separate as two parts. And we found that the last model has the least error and is most accurate."
      ]
    },
    {
      "cell_type": "markdown",
      "metadata": {
        "id": "7e3_FGt7KZQJ"
      },
      "source": [
        "# Future work \n",
        "The idea of DNN2 can be also implement by regression model. The acceptance prediction can implemented by Logistic Regression and the accepted customers' loan amount prediction just use Linear Regression. This model can be include in the furtue work."
      ]
    },
    {
      "cell_type": "markdown",
      "metadata": {
        "id": "LJ3GjC_fKrJv"
      },
      "source": [
        "#Reference\n",
        "\n",
        "\n",
        "*   API reference — pandas 1.4.2 documentation https://pandas.pydata.org/docs/reference/index.html\n",
        "*   NumPy Reference — NumPy v1.22 Manual https://numpy.org/doc/stable/reference/index.html\n",
        "*   Keras API reference https://keras.io/api/\n",
        "\n"
      ]
    }
  ],
  "metadata": {
    "colab": {
      "collapsed_sections": [],
      "name": "Big data project.ipynb",
      "provenance": []
    },
    "kernelspec": {
      "display_name": "Python 3",
      "name": "python3"
    },
    "language_info": {
      "name": "python"
    }
  },
  "nbformat": 4,
  "nbformat_minor": 0
}